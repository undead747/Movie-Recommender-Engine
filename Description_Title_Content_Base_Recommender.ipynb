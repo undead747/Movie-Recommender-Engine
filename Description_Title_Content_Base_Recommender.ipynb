{
 "cells": [
  {
   "cell_type": "code",
   "execution_count": 2,
   "metadata": {},
   "outputs": [],
   "source": [
    "import os \n",
    "import nltk\n",
    "import os\n",
    "import string\n",
    "import numpy as np\n",
    "import copy\n",
    "import pandas as pd\n",
    "import pickle\n",
    "import re\n",
    "import math\n",
    "\n",
    "from collections import Counter\n",
    "# Lemmatize with POS Tag\n",
    "from sklearn.metrics.pairwise import linear_kernel\n",
    "\n"
   ]
  },
  {
   "cell_type": "code",
   "execution_count": 3,
   "metadata": {},
   "outputs": [],
   "source": [
    "f = open('Store_Description_contentBased.pckl', 'rb')\n",
    "tf_idf,indices = pickle.load(f)\n",
    "f.close()"
   ]
  },
  {
   "cell_type": "code",
   "execution_count": 4,
   "metadata": {},
   "outputs": [],
   "source": [
    "D = np.load('tf_idf_vector_matrix.npy') # load"
   ]
  },
  {
   "cell_type": "markdown",
   "metadata": {},
   "source": [
    "## Import Data"
   ]
  },
  {
   "cell_type": "code",
   "execution_count": 6,
   "metadata": {},
   "outputs": [],
   "source": [
    "md = pd.read_csv('../the-movies-dataset/movies_metadata_merge_tmvdb.csv')"
   ]
  },
  {
   "cell_type": "markdown",
   "metadata": {},
   "source": [
    "## Matching Score with movie tf_idf value"
   ]
  },
  {
   "cell_type": "code",
   "execution_count": 7,
   "metadata": {},
   "outputs": [],
   "source": [
    "def get_movie_query(title):\n",
    "    idx = indices[title]\n",
    "    tokens = []\n",
    "    \n",
    "    for i in tf_idf:\n",
    "        if i[0] == idx: tokens.append(i[1])\n",
    "    \n",
    "    return tokens "
   ]
  },
  {
   "cell_type": "code",
   "execution_count": 8,
   "metadata": {},
   "outputs": [],
   "source": [
    "def matching_score_ver1(title):\n",
    "    tokens = get_movie_query(title)\n",
    "    \n",
    "    query_weights = {}\n",
    "    \n",
    "    for key in tf_idf:\n",
    "        if key[1] in tokens:\n",
    "            try:\n",
    "                query_weights[key[0]] += tf_idf[key]\n",
    "            except:\n",
    "                query_weights[key[0]] = tf_idf[key]\n",
    "   \n",
    "    query_weights = sorted(query_weights.items(), key=lambda x: x[1], reverse = True)\n",
    "    # x[1] is matching score value\n",
    "    \n",
    "    print(\"\")\n",
    "    \n",
    "    return query_weights[1:10]"
   ]
  },
  {
   "cell_type": "code",
   "execution_count": 9,
   "metadata": {},
   "outputs": [
    {
     "name": "stdout",
     "output_type": "stream",
     "text": [
      "\n"
     ]
    },
    {
     "data": {
      "text/plain": [
       "[(7931, 0.9648405846944212),\n",
       " (8227, 0.9437619594662455),\n",
       " (7760, 0.8632398290551863),\n",
       " (524, 0.7817081006616236),\n",
       " (2341, 0.778908307175292),\n",
       " (1113, 0.7550854622596759),\n",
       " (7565, 0.713537500133866),\n",
       " (6144, 0.6581826358297194),\n",
       " (2579, 0.6538831528555861)]"
      ]
     },
     "execution_count": 9,
     "metadata": {},
     "output_type": "execute_result"
    }
   ],
   "source": [
    "matching_score_ver1(\"The Dark Knight\")"
   ]
  },
  {
   "cell_type": "markdown",
   "metadata": {},
   "source": [
    "## Cosine similarity with Movie vector "
   ]
  },
  {
   "cell_type": "code",
   "execution_count": 10,
   "metadata": {},
   "outputs": [],
   "source": [
    "# hàm tính đố tương đồng giữa 2 vector \n",
    "def cosine_sim_calculate(a,b):\n",
    "    cos_sim = np.dot(a,b)/(np.linalg.norm(a)*np.linalg.norm(b))\n",
    "    return cos_sim"
   ]
  },
  {
   "cell_type": "code",
   "execution_count": 11,
   "metadata": {},
   "outputs": [],
   "source": [
    "def cosine_similarity_ver2(k,title):\n",
    "    idx = indices[title]\n",
    "    d_cosines = []\n",
    "    \n",
    "    for d in D:\n",
    "        d_cosines.append(cosine_sim_calculate(D[idx],d))\n",
    "    \n",
    "    out = np.array(d_cosines).argsort()[::-1]\n",
    "    print(\"\")\n",
    "    \n",
    "    return out[1:k]"
   ]
  },
  {
   "cell_type": "code",
   "execution_count": 12,
   "metadata": {},
   "outputs": [
    {
     "name": "stdout",
     "output_type": "stream",
     "text": [
      "\n"
     ]
    },
    {
     "data": {
      "text/plain": [
       "array([7931, 8165,  132, 8227, 6144, 2579, 1113,  524, 7901, 7565])"
      ]
     },
     "execution_count": 12,
     "metadata": {},
     "output_type": "execute_result"
    }
   ],
   "source": [
    "cosine_similarity_ver2(11,\"The Dark Knight\")"
   ]
  }
 ],
 "metadata": {
  "kernelspec": {
   "display_name": "Python 3",
   "language": "python",
   "name": "python3"
  },
  "language_info": {
   "codemirror_mode": {
    "name": "ipython",
    "version": 3
   },
   "file_extension": ".py",
   "mimetype": "text/x-python",
   "name": "python",
   "nbconvert_exporter": "python",
   "pygments_lexer": "ipython3",
   "version": "3.6.8"
  }
 },
 "nbformat": 4,
 "nbformat_minor": 2
}
