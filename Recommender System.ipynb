{
 "cells": [
  {
   "cell_type": "markdown",
   "metadata": {},
   "source": [
    "# MOVIE RECOMMENDER ENGINE"
   ]
  },
  {
   "cell_type": "markdown",
   "metadata": {},
   "source": [
    "## Library"
   ]
  },
  {
   "cell_type": "code",
   "execution_count": 1,
   "metadata": {},
   "outputs": [],
   "source": [
    "%matplotlib inline\n",
    "import ast\n",
    "import pandas as pd\n",
    "import numpy as np\n",
    "import matplotlib.pyplot as plt\n",
    "import pickle\n",
    "import seaborn as sns\n",
    "import operator\n",
    "\n",
    "\n",
    "from IPython.display import Image, HTML, display\n",
    "from scipy import stats\n",
    "from ast import literal_eval\n",
    "from sklearn.feature_extraction.text import TfidfVectorizer, CountVectorizer\n",
    "from sklearn.metrics.pairwise import linear_kernel, cosine_similarity\n",
    "from nltk.stem.snowball import SnowballStemmer\n",
    "from nltk.stem.wordnet import WordNetLemmatizer\n",
    "from nltk.corpus import wordnet\n",
    "from surprise.model_selection import cross_validate\n",
    "from surprise import Reader, SVD, Dataset\n",
    "\n",
    "\n",
    "import warnings; warnings.simplefilter('ignore')"
   ]
  },
  {
   "cell_type": "code",
   "execution_count": null,
   "metadata": {},
   "outputs": [],
   "source": []
  },
  {
   "cell_type": "markdown",
   "metadata": {},
   "source": [
    "## LOAD DataFrame"
   ]
  },
  {
   "cell_type": "code",
   "execution_count": 2,
   "metadata": {},
   "outputs": [],
   "source": [
    "md = pd.read_csv('../the-movies-dataset/movies_metadata_equal_ratings.csv')\n",
    "train = pd.read_csv('../the-movies-dataset/ratings_train.csv')\n",
    "Yhat = np.load('tf_idf_pred_rating.npy')"
   ]
  },
  {
   "cell_type": "code",
   "execution_count": 3,
   "metadata": {},
   "outputs": [],
   "source": [
    "N = len(md)"
   ]
  },
  {
   "cell_type": "code",
   "execution_count": 4,
   "metadata": {},
   "outputs": [
    {
     "name": "stdout",
     "output_type": "stream",
     "text": [
      "<class 'pandas.core.frame.DataFrame'>\n",
      "RangeIndex: 9025 entries, 0 to 9024\n",
      "Data columns (total 26 columns):\n",
      "adult                    9025 non-null bool\n",
      "belongs_to_collection    1670 non-null object\n",
      "budget                   9025 non-null int64\n",
      "genres                   9025 non-null object\n",
      "homepage                 1954 non-null object\n",
      "id                       9025 non-null int64\n",
      "imdb_id                  9025 non-null object\n",
      "original_language        9025 non-null object\n",
      "original_title           9025 non-null object\n",
      "overview                 9013 non-null object\n",
      "popularity               9025 non-null float64\n",
      "poster_path              9022 non-null object\n",
      "production_companies     9025 non-null object\n",
      "production_countries     9025 non-null object\n",
      "release_date             9025 non-null object\n",
      "revenue                  9025 non-null float64\n",
      "runtime                  9025 non-null float64\n",
      "spoken_languages         9025 non-null object\n",
      "status                   9023 non-null object\n",
      "tagline                  6983 non-null object\n",
      "title                    9025 non-null object\n",
      "video                    9025 non-null bool\n",
      "vote_average             9025 non-null float64\n",
      "vote_count               9025 non-null float64\n",
      "description              9013 non-null object\n",
      "year                     9025 non-null int64\n",
      "dtypes: bool(2), float64(5), int64(3), object(16)\n",
      "memory usage: 1.7+ MB\n"
     ]
    }
   ],
   "source": [
    "md.info()"
   ]
  },
  {
   "cell_type": "code",
   "execution_count": 5,
   "metadata": {},
   "outputs": [
    {
     "data": {
      "text/html": [
       "<div>\n",
       "<style scoped>\n",
       "    .dataframe tbody tr th:only-of-type {\n",
       "        vertical-align: middle;\n",
       "    }\n",
       "\n",
       "    .dataframe tbody tr th {\n",
       "        vertical-align: top;\n",
       "    }\n",
       "\n",
       "    .dataframe thead th {\n",
       "        text-align: right;\n",
       "    }\n",
       "</style>\n",
       "<table border=\"1\" class=\"dataframe\">\n",
       "  <thead>\n",
       "    <tr style=\"text-align: right;\">\n",
       "      <th></th>\n",
       "      <th>0</th>\n",
       "      <th>1</th>\n",
       "      <th>2</th>\n",
       "      <th>3</th>\n",
       "      <th>4</th>\n",
       "    </tr>\n",
       "  </thead>\n",
       "  <tbody>\n",
       "    <tr>\n",
       "      <th>adult</th>\n",
       "      <td>False</td>\n",
       "      <td>False</td>\n",
       "      <td>False</td>\n",
       "      <td>False</td>\n",
       "      <td>False</td>\n",
       "    </tr>\n",
       "    <tr>\n",
       "      <th>belongs_to_collection</th>\n",
       "      <td>{'id': 10194, 'name': 'Toy Story Collection', ...</td>\n",
       "      <td>NaN</td>\n",
       "      <td>{'id': 119050, 'name': 'Grumpy Old Men Collect...</td>\n",
       "      <td>NaN</td>\n",
       "      <td>{'id': 96871, 'name': 'Father of the Bride Col...</td>\n",
       "    </tr>\n",
       "    <tr>\n",
       "      <th>budget</th>\n",
       "      <td>30000000</td>\n",
       "      <td>65000000</td>\n",
       "      <td>0</td>\n",
       "      <td>16000000</td>\n",
       "      <td>0</td>\n",
       "    </tr>\n",
       "    <tr>\n",
       "      <th>genres</th>\n",
       "      <td>['Animation', 'Comedy', 'Family']</td>\n",
       "      <td>['Adventure', 'Fantasy', 'Family']</td>\n",
       "      <td>['Romance', 'Comedy']</td>\n",
       "      <td>['Comedy', 'Drama', 'Romance']</td>\n",
       "      <td>['Comedy']</td>\n",
       "    </tr>\n",
       "    <tr>\n",
       "      <th>homepage</th>\n",
       "      <td>http://toystory.disney.com/toy-story</td>\n",
       "      <td>NaN</td>\n",
       "      <td>NaN</td>\n",
       "      <td>NaN</td>\n",
       "      <td>NaN</td>\n",
       "    </tr>\n",
       "    <tr>\n",
       "      <th>id</th>\n",
       "      <td>862</td>\n",
       "      <td>8844</td>\n",
       "      <td>15602</td>\n",
       "      <td>31357</td>\n",
       "      <td>11862</td>\n",
       "    </tr>\n",
       "    <tr>\n",
       "      <th>imdb_id</th>\n",
       "      <td>tt0114709</td>\n",
       "      <td>tt0113497</td>\n",
       "      <td>tt0113228</td>\n",
       "      <td>tt0114885</td>\n",
       "      <td>tt0113041</td>\n",
       "    </tr>\n",
       "    <tr>\n",
       "      <th>original_language</th>\n",
       "      <td>en</td>\n",
       "      <td>en</td>\n",
       "      <td>en</td>\n",
       "      <td>en</td>\n",
       "      <td>en</td>\n",
       "    </tr>\n",
       "    <tr>\n",
       "      <th>original_title</th>\n",
       "      <td>Toy Story</td>\n",
       "      <td>Jumanji</td>\n",
       "      <td>Grumpier Old Men</td>\n",
       "      <td>Waiting to Exhale</td>\n",
       "      <td>Father of the Bride Part II</td>\n",
       "    </tr>\n",
       "    <tr>\n",
       "      <th>overview</th>\n",
       "      <td>Led by Woody, Andy's toys live happily in his ...</td>\n",
       "      <td>When siblings Judy and Peter discover an encha...</td>\n",
       "      <td>A family wedding reignites the ancient feud be...</td>\n",
       "      <td>Cheated on, mistreated and stepped on, the wom...</td>\n",
       "      <td>Just when George Banks has recovered from his ...</td>\n",
       "    </tr>\n",
       "    <tr>\n",
       "      <th>popularity</th>\n",
       "      <td>21.9469</td>\n",
       "      <td>17.0155</td>\n",
       "      <td>11.7129</td>\n",
       "      <td>3.85949</td>\n",
       "      <td>8.38752</td>\n",
       "    </tr>\n",
       "    <tr>\n",
       "      <th>poster_path</th>\n",
       "      <td>&lt;img src='http://image.tmdb.org/t/p/w185//rhIR...</td>\n",
       "      <td>&lt;img src='http://image.tmdb.org/t/p/w185//vzmL...</td>\n",
       "      <td>&lt;img src='http://image.tmdb.org/t/p/w185//6ksm...</td>\n",
       "      <td>&lt;img src='http://image.tmdb.org/t/p/w185//16XO...</td>\n",
       "      <td>&lt;img src='http://image.tmdb.org/t/p/w185//e64s...</td>\n",
       "    </tr>\n",
       "    <tr>\n",
       "      <th>production_companies</th>\n",
       "      <td>[{'name': 'Pixar Animation Studios', 'id': 3}]</td>\n",
       "      <td>[{'name': 'TriStar Pictures', 'id': 559}, {'na...</td>\n",
       "      <td>[{'name': 'Warner Bros.', 'id': 6194}, {'name'...</td>\n",
       "      <td>[{'name': 'Twentieth Century Fox Film Corporat...</td>\n",
       "      <td>[{'name': 'Sandollar Productions', 'id': 5842}...</td>\n",
       "    </tr>\n",
       "    <tr>\n",
       "      <th>production_countries</th>\n",
       "      <td>[{'iso_3166_1': 'US', 'name': 'United States o...</td>\n",
       "      <td>[{'iso_3166_1': 'US', 'name': 'United States o...</td>\n",
       "      <td>[{'iso_3166_1': 'US', 'name': 'United States o...</td>\n",
       "      <td>[{'iso_3166_1': 'US', 'name': 'United States o...</td>\n",
       "      <td>[{'iso_3166_1': 'US', 'name': 'United States o...</td>\n",
       "    </tr>\n",
       "    <tr>\n",
       "      <th>release_date</th>\n",
       "      <td>1995-10-30</td>\n",
       "      <td>1995-12-15</td>\n",
       "      <td>1995-12-22</td>\n",
       "      <td>1995-12-22</td>\n",
       "      <td>1995-02-10</td>\n",
       "    </tr>\n",
       "    <tr>\n",
       "      <th>revenue</th>\n",
       "      <td>3.73554e+08</td>\n",
       "      <td>2.62797e+08</td>\n",
       "      <td>0</td>\n",
       "      <td>8.14522e+07</td>\n",
       "      <td>7.65789e+07</td>\n",
       "    </tr>\n",
       "    <tr>\n",
       "      <th>runtime</th>\n",
       "      <td>81</td>\n",
       "      <td>104</td>\n",
       "      <td>101</td>\n",
       "      <td>127</td>\n",
       "      <td>106</td>\n",
       "    </tr>\n",
       "    <tr>\n",
       "      <th>spoken_languages</th>\n",
       "      <td>[{'iso_639_1': 'en', 'name': 'English'}]</td>\n",
       "      <td>[{'iso_639_1': 'en', 'name': 'English'}, {'iso...</td>\n",
       "      <td>[{'iso_639_1': 'en', 'name': 'English'}]</td>\n",
       "      <td>[{'iso_639_1': 'en', 'name': 'English'}]</td>\n",
       "      <td>[{'iso_639_1': 'en', 'name': 'English'}]</td>\n",
       "    </tr>\n",
       "    <tr>\n",
       "      <th>status</th>\n",
       "      <td>Released</td>\n",
       "      <td>Released</td>\n",
       "      <td>Released</td>\n",
       "      <td>Released</td>\n",
       "      <td>Released</td>\n",
       "    </tr>\n",
       "    <tr>\n",
       "      <th>tagline</th>\n",
       "      <td>NaN</td>\n",
       "      <td>Roll the dice and unleash the excitement!</td>\n",
       "      <td>Still Yelling. Still Fighting. Still Ready for...</td>\n",
       "      <td>Friends are the people who let you be yourself...</td>\n",
       "      <td>Just When His World Is Back To Normal... He's ...</td>\n",
       "    </tr>\n",
       "  </tbody>\n",
       "</table>\n",
       "</div>"
      ],
      "text/plain": [
       "                                                                       0  \\\n",
       "adult                                                              False   \n",
       "belongs_to_collection  {'id': 10194, 'name': 'Toy Story Collection', ...   \n",
       "budget                                                          30000000   \n",
       "genres                                 ['Animation', 'Comedy', 'Family']   \n",
       "homepage                            http://toystory.disney.com/toy-story   \n",
       "id                                                                   862   \n",
       "imdb_id                                                        tt0114709   \n",
       "original_language                                                     en   \n",
       "original_title                                                 Toy Story   \n",
       "overview               Led by Woody, Andy's toys live happily in his ...   \n",
       "popularity                                                       21.9469   \n",
       "poster_path            <img src='http://image.tmdb.org/t/p/w185//rhIR...   \n",
       "production_companies      [{'name': 'Pixar Animation Studios', 'id': 3}]   \n",
       "production_countries   [{'iso_3166_1': 'US', 'name': 'United States o...   \n",
       "release_date                                                  1995-10-30   \n",
       "revenue                                                      3.73554e+08   \n",
       "runtime                                                               81   \n",
       "spoken_languages                [{'iso_639_1': 'en', 'name': 'English'}]   \n",
       "status                                                          Released   \n",
       "tagline                                                              NaN   \n",
       "\n",
       "                                                                       1  \\\n",
       "adult                                                              False   \n",
       "belongs_to_collection                                                NaN   \n",
       "budget                                                          65000000   \n",
       "genres                                ['Adventure', 'Fantasy', 'Family']   \n",
       "homepage                                                             NaN   \n",
       "id                                                                  8844   \n",
       "imdb_id                                                        tt0113497   \n",
       "original_language                                                     en   \n",
       "original_title                                                   Jumanji   \n",
       "overview               When siblings Judy and Peter discover an encha...   \n",
       "popularity                                                       17.0155   \n",
       "poster_path            <img src='http://image.tmdb.org/t/p/w185//vzmL...   \n",
       "production_companies   [{'name': 'TriStar Pictures', 'id': 559}, {'na...   \n",
       "production_countries   [{'iso_3166_1': 'US', 'name': 'United States o...   \n",
       "release_date                                                  1995-12-15   \n",
       "revenue                                                      2.62797e+08   \n",
       "runtime                                                              104   \n",
       "spoken_languages       [{'iso_639_1': 'en', 'name': 'English'}, {'iso...   \n",
       "status                                                          Released   \n",
       "tagline                        Roll the dice and unleash the excitement!   \n",
       "\n",
       "                                                                       2  \\\n",
       "adult                                                              False   \n",
       "belongs_to_collection  {'id': 119050, 'name': 'Grumpy Old Men Collect...   \n",
       "budget                                                                 0   \n",
       "genres                                             ['Romance', 'Comedy']   \n",
       "homepage                                                             NaN   \n",
       "id                                                                 15602   \n",
       "imdb_id                                                        tt0113228   \n",
       "original_language                                                     en   \n",
       "original_title                                          Grumpier Old Men   \n",
       "overview               A family wedding reignites the ancient feud be...   \n",
       "popularity                                                       11.7129   \n",
       "poster_path            <img src='http://image.tmdb.org/t/p/w185//6ksm...   \n",
       "production_companies   [{'name': 'Warner Bros.', 'id': 6194}, {'name'...   \n",
       "production_countries   [{'iso_3166_1': 'US', 'name': 'United States o...   \n",
       "release_date                                                  1995-12-22   \n",
       "revenue                                                                0   \n",
       "runtime                                                              101   \n",
       "spoken_languages                [{'iso_639_1': 'en', 'name': 'English'}]   \n",
       "status                                                          Released   \n",
       "tagline                Still Yelling. Still Fighting. Still Ready for...   \n",
       "\n",
       "                                                                       3  \\\n",
       "adult                                                              False   \n",
       "belongs_to_collection                                                NaN   \n",
       "budget                                                          16000000   \n",
       "genres                                    ['Comedy', 'Drama', 'Romance']   \n",
       "homepage                                                             NaN   \n",
       "id                                                                 31357   \n",
       "imdb_id                                                        tt0114885   \n",
       "original_language                                                     en   \n",
       "original_title                                         Waiting to Exhale   \n",
       "overview               Cheated on, mistreated and stepped on, the wom...   \n",
       "popularity                                                       3.85949   \n",
       "poster_path            <img src='http://image.tmdb.org/t/p/w185//16XO...   \n",
       "production_companies   [{'name': 'Twentieth Century Fox Film Corporat...   \n",
       "production_countries   [{'iso_3166_1': 'US', 'name': 'United States o...   \n",
       "release_date                                                  1995-12-22   \n",
       "revenue                                                      8.14522e+07   \n",
       "runtime                                                              127   \n",
       "spoken_languages                [{'iso_639_1': 'en', 'name': 'English'}]   \n",
       "status                                                          Released   \n",
       "tagline                Friends are the people who let you be yourself...   \n",
       "\n",
       "                                                                       4  \n",
       "adult                                                              False  \n",
       "belongs_to_collection  {'id': 96871, 'name': 'Father of the Bride Col...  \n",
       "budget                                                                 0  \n",
       "genres                                                        ['Comedy']  \n",
       "homepage                                                             NaN  \n",
       "id                                                                 11862  \n",
       "imdb_id                                                        tt0113041  \n",
       "original_language                                                     en  \n",
       "original_title                               Father of the Bride Part II  \n",
       "overview               Just when George Banks has recovered from his ...  \n",
       "popularity                                                       8.38752  \n",
       "poster_path            <img src='http://image.tmdb.org/t/p/w185//e64s...  \n",
       "production_companies   [{'name': 'Sandollar Productions', 'id': 5842}...  \n",
       "production_countries   [{'iso_3166_1': 'US', 'name': 'United States o...  \n",
       "release_date                                                  1995-02-10  \n",
       "revenue                                                      7.65789e+07  \n",
       "runtime                                                              106  \n",
       "spoken_languages                [{'iso_639_1': 'en', 'name': 'English'}]  \n",
       "status                                                          Released  \n",
       "tagline                Just When His World Is Back To Normal... He's ...  "
      ]
     },
     "execution_count": 5,
     "metadata": {},
     "output_type": "execute_result"
    }
   ],
   "source": [
    "md.head().transpose()[:20]"
   ]
  },
  {
   "cell_type": "code",
   "execution_count": 6,
   "metadata": {},
   "outputs": [],
   "source": [
    "md['genres'] = md['genres'].apply(ast.literal_eval)"
   ]
  },
  {
   "cell_type": "markdown",
   "metadata": {},
   "source": [
    "## Demographic Filtering - Weighted Rating"
   ]
  },
  {
   "cell_type": "code",
   "execution_count": 7,
   "metadata": {},
   "outputs": [],
   "source": [
    "# IMDB Top Movies Chart Fomula : \n",
    "# WR = (v/(v+m).R) + (m/(v+m).C)\n",
    "# v : số  lượng người bình chọn cho 1 bộ phim \n",
    "# m : số lượng bình chọn cần thiếu để được xét vào list - Một phim phải \n",
    "# có lượng vote > 95% các phim khác trong list\n",
    "# R : rating  "
   ]
  },
  {
   "cell_type": "code",
   "execution_count": 8,
   "metadata": {},
   "outputs": [],
   "source": [
    "vote_counts = md[md['vote_count'].notnull()]['vote_count']"
   ]
  },
  {
   "cell_type": "code",
   "execution_count": 9,
   "metadata": {},
   "outputs": [],
   "source": [
    "vote_averages = md[md['vote_average'].notnull()]['vote_average']"
   ]
  },
  {
   "cell_type": "code",
   "execution_count": 10,
   "metadata": {},
   "outputs": [],
   "source": [
    "# mean() function can be used to calculate \n",
    "# mean/average of a given list of numbers\n",
    "\n",
    "C = vote_averages.mean()"
   ]
  },
  {
   "cell_type": "code",
   "execution_count": 11,
   "metadata": {},
   "outputs": [
    {
     "data": {
      "text/plain": [
       "6.362227146814405"
      ]
     },
     "execution_count": 11,
     "metadata": {},
     "output_type": "execute_result"
    }
   ],
   "source": [
    "# rating trung binh tren toan tap dataset\n",
    "C"
   ]
  },
  {
   "cell_type": "code",
   "execution_count": 12,
   "metadata": {},
   "outputs": [],
   "source": [
    "# Tính phân vị - tìm giá trị m sao cho 95% giá trị trong list bé hơn m\n",
    "# 5% còn lại lớn hơn nó \n",
    "m = vote_counts.quantile(0.95)"
   ]
  },
  {
   "cell_type": "code",
   "execution_count": 13,
   "metadata": {},
   "outputs": [
    {
     "data": {
      "text/plain": [
       "2085.599999999995"
      ]
     },
     "execution_count": 13,
     "metadata": {},
     "output_type": "execute_result"
    }
   ],
   "source": [
    "m"
   ]
  },
  {
   "cell_type": "code",
   "execution_count": 14,
   "metadata": {},
   "outputs": [],
   "source": [
    "qualified = md[(md['vote_count'] >= m) & (md['vote_count'].notnull()) \n",
    "            & (md['vote_average'].notnull())]"
   ]
  },
  {
   "cell_type": "code",
   "execution_count": 15,
   "metadata": {},
   "outputs": [],
   "source": [
    "qualified = qualified[['poster_path','title','year','vote_count','vote_average','genres']]"
   ]
  },
  {
   "cell_type": "code",
   "execution_count": 16,
   "metadata": {},
   "outputs": [
    {
     "data": {
      "text/plain": [
       "(452, 6)"
      ]
     },
     "execution_count": 16,
     "metadata": {},
     "output_type": "execute_result"
    }
   ],
   "source": [
    "qualified.shape"
   ]
  },
  {
   "cell_type": "code",
   "execution_count": 17,
   "metadata": {},
   "outputs": [],
   "source": [
    "# sumary : một phim cần phải đạt trên 434 votes để  được xét \n",
    "#        : điểm rating trung bình là 5.2 \n",
    "#        : có 2274 phim đạt yêu cầu "
   ]
  },
  {
   "cell_type": "code",
   "execution_count": 18,
   "metadata": {},
   "outputs": [],
   "source": [
    "def weighted_rating(x,m,C):\n",
    "    v = x['vote_count']\n",
    "    R = x['vote_average']\n",
    "    \n",
    "    return (v/(m+v) * R) + (m/(m+v) * C)"
   ]
  },
  {
   "cell_type": "code",
   "execution_count": 19,
   "metadata": {},
   "outputs": [],
   "source": [
    "qualified['wr'] = qualified.apply(lambda x: weighted_rating(x,m,C), axis=1)"
   ]
  },
  {
   "cell_type": "code",
   "execution_count": 20,
   "metadata": {},
   "outputs": [],
   "source": [
    "# ascending : tăng dần \n",
    "\n",
    "qualified = qualified.sort_values('wr', ascending = False)"
   ]
  },
  {
   "cell_type": "code",
   "execution_count": 21,
   "metadata": {},
   "outputs": [
    {
     "data": {
      "text/html": [
       "<table border=\"1\" class=\"dataframe\">\n",
       "  <thead>\n",
       "    <tr style=\"text-align: right;\">\n",
       "      <th></th>\n",
       "      <th>poster_path</th>\n",
       "      <th>title</th>\n",
       "      <th>year</th>\n",
       "      <th>vote_count</th>\n",
       "      <th>vote_average</th>\n",
       "      <th>genres</th>\n",
       "      <th>wr</th>\n",
       "    </tr>\n",
       "  </thead>\n",
       "  <tbody>\n",
       "    <tr>\n",
       "      <th>284</th>\n",
       "      <td><img src='http://image.tmdb.org/t/p/w185//9O7gLzmreU0nGkIB6K3BsJbzvNv.jpg' style='height:100px;'></td>\n",
       "      <td>The Shawshank Redemption</td>\n",
       "      <td>1994</td>\n",
       "      <td>8358.0</td>\n",
       "      <td>8.5</td>\n",
       "      <td>[Drama, Crime]</td>\n",
       "      <td>8.073084</td>\n",
       "    </tr>\n",
       "    <tr>\n",
       "      <th>6873</th>\n",
       "      <td><img src='http://image.tmdb.org/t/p/w185//1hRoyzDtpgMU7Dz4JF22RANzQO7.jpg' style='height:100px;'></td>\n",
       "      <td>The Dark Knight</td>\n",
       "      <td>2008</td>\n",
       "      <td>12269.0</td>\n",
       "      <td>8.3</td>\n",
       "      <td>[Drama, Action, Crime, Thriller]</td>\n",
       "      <td>8.018458</td>\n",
       "    </tr>\n",
       "    <tr>\n",
       "      <th>2369</th>\n",
       "      <td><img src='http://image.tmdb.org/t/p/w185//adw6Lq9FiC9zjYEpOqfq03ituwp.jpg' style='height:100px;'></td>\n",
       "      <td>Fight Club</td>\n",
       "      <td>1999</td>\n",
       "      <td>9678.0</td>\n",
       "      <td>8.3</td>\n",
       "      <td>[Drama]</td>\n",
       "      <td>7.956447</td>\n",
       "    </tr>\n",
       "    <tr>\n",
       "      <th>692</th>\n",
       "      <td><img src='http://image.tmdb.org/t/p/w185//rPdtLWNsZmAtoZl9PK7S2wE3qiS.jpg' style='height:100px;'></td>\n",
       "      <td>The Godfather</td>\n",
       "      <td>1972</td>\n",
       "      <td>6024.0</td>\n",
       "      <td>8.5</td>\n",
       "      <td>[Drama, Crime]</td>\n",
       "      <td>7.950215</td>\n",
       "    </tr>\n",
       "    <tr>\n",
       "      <th>266</th>\n",
       "      <td><img src='http://image.tmdb.org/t/p/w185//dM2w364MScsjFf8pfMbaWUcWrR.jpg' style='height:100px;'></td>\n",
       "      <td>Pulp Fiction</td>\n",
       "      <td>1994</td>\n",
       "      <td>8670.0</td>\n",
       "      <td>8.3</td>\n",
       "      <td>[Thriller, Crime]</td>\n",
       "      <td>7.924250</td>\n",
       "    </tr>\n",
       "    <tr>\n",
       "      <th>7526</th>\n",
       "      <td><img src='http://image.tmdb.org/t/p/w185//qmDpIHrmpJINaRKAfWQfftjCdyi.jpg' style='height:100px;'></td>\n",
       "      <td>Inception</td>\n",
       "      <td>2010</td>\n",
       "      <td>14075.0</td>\n",
       "      <td>8.1</td>\n",
       "      <td>[Action, Thriller, Science Fiction, Mystery, Adventure]</td>\n",
       "      <td>7.875732</td>\n",
       "    </tr>\n",
       "    <tr>\n",
       "      <th>8472</th>\n",
       "      <td><img src='http://image.tmdb.org/t/p/w185//nBNZadXqJSdt05SHLqgT0HuC5Gm.jpg' style='height:100px;'></td>\n",
       "      <td>Interstellar</td>\n",
       "      <td>2014</td>\n",
       "      <td>11187.0</td>\n",
       "      <td>8.1</td>\n",
       "      <td>[Adventure, Drama, Science Fiction]</td>\n",
       "      <td>7.826934</td>\n",
       "    </tr>\n",
       "    <tr>\n",
       "      <th>321</th>\n",
       "      <td><img src='http://image.tmdb.org/t/p/w185//yE5d3BUhE8hCnkMUJOo1QDoOGNz.jpg' style='height:100px;'></td>\n",
       "      <td>Forrest Gump</td>\n",
       "      <td>1994</td>\n",
       "      <td>8147.0</td>\n",
       "      <td>8.2</td>\n",
       "      <td>[Comedy, Drama, Romance]</td>\n",
       "      <td>7.825427</td>\n",
       "    </tr>\n",
       "    <tr>\n",
       "      <th>5009</th>\n",
       "      <td><img src='http://image.tmdb.org/t/p/w185//uexxR7Kw1qYbZk0RYaF9Rx5ykbj.jpg' style='height:100px;'></td>\n",
       "      <td>The Lord of the Rings: The Return of the King</td>\n",
       "      <td>2003</td>\n",
       "      <td>8226.0</td>\n",
       "      <td>8.1</td>\n",
       "      <td>[Adventure, Fantasy, Action]</td>\n",
       "      <td>7.748522</td>\n",
       "    </tr>\n",
       "    <tr>\n",
       "      <th>949</th>\n",
       "      <td><img src='http://image.tmdb.org/t/p/w185//6u1fYtxG5eqjhtCPDx04pJphQRW.jpg' style='height:100px;'></td>\n",
       "      <td>The Empire Strikes Back</td>\n",
       "      <td>1980</td>\n",
       "      <td>5998.0</td>\n",
       "      <td>8.2</td>\n",
       "      <td>[Adventure, Action, Science Fiction]</td>\n",
       "      <td>7.725848</td>\n",
       "    </tr>\n",
       "  </tbody>\n",
       "</table>"
      ],
      "text/plain": [
       "<IPython.core.display.HTML object>"
      ]
     },
     "execution_count": 21,
     "metadata": {},
     "output_type": "execute_result"
    }
   ],
   "source": [
    "\n",
    "HTML(qualified.head(10).to_html(escape = False))"
   ]
  },
  {
   "cell_type": "code",
   "execution_count": 22,
   "metadata": {},
   "outputs": [],
   "source": [
    "s = md.apply(lambda x: pd.Series(x['genres']),axis=1).stack().reset_index(level=1, drop=True)\n",
    "s.name = 'genre'\n",
    "gen_md = md.drop('genres', axis=1).join(s)"
   ]
  },
  {
   "cell_type": "code",
   "execution_count": 23,
   "metadata": {},
   "outputs": [
    {
     "name": "stdout",
     "output_type": "stream",
     "text": [
      "<class 'pandas.core.frame.DataFrame'>\n",
      "Int64Index: 22321 entries, 0 to 9024\n",
      "Data columns (total 26 columns):\n",
      "adult                    22321 non-null bool\n",
      "belongs_to_collection    4553 non-null object\n",
      "budget                   22321 non-null int64\n",
      "homepage                 4957 non-null object\n",
      "id                       22321 non-null int64\n",
      "imdb_id                  22321 non-null object\n",
      "original_language        22321 non-null object\n",
      "original_title           22321 non-null object\n",
      "overview                 22298 non-null object\n",
      "popularity               22321 non-null float64\n",
      "poster_path              22314 non-null object\n",
      "production_companies     22321 non-null object\n",
      "production_countries     22321 non-null object\n",
      "release_date             22321 non-null object\n",
      "revenue                  22321 non-null float64\n",
      "runtime                  22321 non-null float64\n",
      "spoken_languages         22321 non-null object\n",
      "status                   22317 non-null object\n",
      "tagline                  17830 non-null object\n",
      "title                    22321 non-null object\n",
      "video                    22321 non-null bool\n",
      "vote_average             22321 non-null float64\n",
      "vote_count               22321 non-null float64\n",
      "description              22298 non-null object\n",
      "year                     22321 non-null int64\n",
      "genre                    22286 non-null object\n",
      "dtypes: bool(2), float64(5), int64(3), object(16)\n",
      "memory usage: 4.3+ MB\n"
     ]
    }
   ],
   "source": [
    "gen_md.info()"
   ]
  },
  {
   "cell_type": "markdown",
   "metadata": {},
   "source": [
    "### Filter By Genre"
   ]
  },
  {
   "cell_type": "code",
   "execution_count": 24,
   "metadata": {},
   "outputs": [],
   "source": [
    "def build_chart(genre, percentile):\n",
    "    df = gen_md[gen_md['genre'] == genre]\n",
    "    vote_counts = df[df['vote_count'].notnull()]['vote_count'].astype('int')\n",
    "    vote_averages = df[df['vote_average'].notnull()]['vote_average'].astype('int')\n",
    "    \n",
    "    C = vote_averages.mean()\n",
    "    m = vote_counts.quantile(percentile)\n",
    "    \n",
    "    qualified = df[(df['vote_count'] >= m) & (df['vote_count'].notnull()) & (df['vote_average'].notnull())]\n",
    "    qualified = qualified[['poster_path','title','year','vote_count','vote_average','genre']]\n",
    "    \n",
    "    qualified['vote_count'] = qualified['vote_count'].astype('int')\n",
    "    \n",
    "    qualified['wr'] = qualified.apply(lambda x: weighted_rating(x,m,C), axis=1)\n",
    "    \n",
    "    qualified = qualified.sort_values('wr', ascending= False)\n",
    "    \n",
    "    return qualified\n",
    "\n"
   ]
  },
  {
   "cell_type": "code",
   "execution_count": 25,
   "metadata": {},
   "outputs": [],
   "source": [
    "pop_gen = pd.DataFrame(gen_md['genre'].value_counts()).reset_index()\n",
    "pop_gen.column = ['genre','movies']"
   ]
  },
  {
   "cell_type": "code",
   "execution_count": 26,
   "metadata": {},
   "outputs": [
    {
     "data": {
      "text/plain": [
       "(20,)"
      ]
     },
     "execution_count": 26,
     "metadata": {},
     "output_type": "execute_result"
    }
   ],
   "source": [
    "list_genre =  pop_gen['index']\n",
    "list_genre.shape"
   ]
  },
  {
   "cell_type": "code",
   "execution_count": 27,
   "metadata": {},
   "outputs": [
    {
     "data": {
      "text/html": [
       "<table border=\"1\" class=\"dataframe\">\n",
       "  <thead>\n",
       "    <tr style=\"text-align: right;\">\n",
       "      <th></th>\n",
       "      <th>poster_path</th>\n",
       "      <th>title</th>\n",
       "      <th>year</th>\n",
       "      <th>vote_count</th>\n",
       "      <th>vote_average</th>\n",
       "      <th>genre</th>\n",
       "      <th>wr</th>\n",
       "    </tr>\n",
       "  </thead>\n",
       "  <tbody>\n",
       "    <tr>\n",
       "      <th>284</th>\n",
       "      <td><img src='http://image.tmdb.org/t/p/w185//9O7gLzmreU0nGkIB6K3BsJbzvNv.jpg' style='height:100px;'></td>\n",
       "      <td>The Shawshank Redemption</td>\n",
       "      <td>1994</td>\n",
       "      <td>8358</td>\n",
       "      <td>8.5</td>\n",
       "      <td>Drama</td>\n",
       "      <td>8.285582</td>\n",
       "    </tr>\n",
       "    <tr>\n",
       "      <th>692</th>\n",
       "      <td><img src='http://image.tmdb.org/t/p/w185//rPdtLWNsZmAtoZl9PK7S2wE3qiS.jpg' style='height:100px;'></td>\n",
       "      <td>The Godfather</td>\n",
       "      <td>1972</td>\n",
       "      <td>6024</td>\n",
       "      <td>8.5</td>\n",
       "      <td>Drama</td>\n",
       "      <td>8.212499</td>\n",
       "    </tr>\n",
       "    <tr>\n",
       "      <th>6873</th>\n",
       "      <td><img src='http://image.tmdb.org/t/p/w185//1hRoyzDtpgMU7Dz4JF22RANzQO7.jpg' style='height:100px;'></td>\n",
       "      <td>The Dark Knight</td>\n",
       "      <td>2008</td>\n",
       "      <td>12269</td>\n",
       "      <td>8.3</td>\n",
       "      <td>Drama</td>\n",
       "      <td>8.162215</td>\n",
       "    </tr>\n",
       "    <tr>\n",
       "      <th>2369</th>\n",
       "      <td><img src='http://image.tmdb.org/t/p/w185//adw6Lq9FiC9zjYEpOqfq03ituwp.jpg' style='height:100px;'></td>\n",
       "      <td>Fight Club</td>\n",
       "      <td>1999</td>\n",
       "      <td>9678</td>\n",
       "      <td>8.3</td>\n",
       "      <td>Drama</td>\n",
       "      <td>8.128220</td>\n",
       "    </tr>\n",
       "    <tr>\n",
       "      <th>321</th>\n",
       "      <td><img src='http://image.tmdb.org/t/p/w185//yE5d3BUhE8hCnkMUJOo1QDoOGNz.jpg' style='height:100px;'></td>\n",
       "      <td>Forrest Gump</td>\n",
       "      <td>1994</td>\n",
       "      <td>8147</td>\n",
       "      <td>8.2</td>\n",
       "      <td>Drama</td>\n",
       "      <td>8.008085</td>\n",
       "    </tr>\n",
       "    <tr>\n",
       "      <th>8472</th>\n",
       "      <td><img src='http://image.tmdb.org/t/p/w185//nBNZadXqJSdt05SHLqgT0HuC5Gm.jpg' style='height:100px;'></td>\n",
       "      <td>Interstellar</td>\n",
       "      <td>2014</td>\n",
       "      <td>11187</td>\n",
       "      <td>8.1</td>\n",
       "      <td>Drama</td>\n",
       "      <td>7.963518</td>\n",
       "    </tr>\n",
       "    <tr>\n",
       "      <th>472</th>\n",
       "      <td><img src='http://image.tmdb.org/t/p/w185//yPisjyLweCl1tbgwgtzBCNCBle.jpg' style='height:100px;'></td>\n",
       "      <td>Schindler's List</td>\n",
       "      <td>1993</td>\n",
       "      <td>4436</td>\n",
       "      <td>8.3</td>\n",
       "      <td>Drama</td>\n",
       "      <td>7.957018</td>\n",
       "    </tr>\n",
       "    <tr>\n",
       "      <th>8551</th>\n",
       "      <td><img src='http://image.tmdb.org/t/p/w185//lIv1QinFqz4dlp5U4lQ6HaiskOZ.jpg' style='height:100px;'></td>\n",
       "      <td>Whiplash</td>\n",
       "      <td>2014</td>\n",
       "      <td>4376</td>\n",
       "      <td>8.3</td>\n",
       "      <td>Drama</td>\n",
       "      <td>7.953060</td>\n",
       "    </tr>\n",
       "    <tr>\n",
       "      <th>7935</th>\n",
       "      <td><img src='http://image.tmdb.org/t/p/w185//4mFsNQwbD0F237Tx7gAPotd0nbJ.jpg' style='height:100px;'></td>\n",
       "      <td>The Intouchables</td>\n",
       "      <td>2011</td>\n",
       "      <td>5410</td>\n",
       "      <td>8.2</td>\n",
       "      <td>Drama</td>\n",
       "      <td>7.923822</td>\n",
       "    </tr>\n",
       "    <tr>\n",
       "      <th>1835</th>\n",
       "      <td><img src='http://image.tmdb.org/t/p/w185//f7DImXDebOs148U4uPjI61iDvaK.jpg' style='height:100px;'></td>\n",
       "      <td>Life Is Beautiful</td>\n",
       "      <td>1997</td>\n",
       "      <td>3643</td>\n",
       "      <td>8.3</td>\n",
       "      <td>Drama</td>\n",
       "      <td>7.896127</td>\n",
       "    </tr>\n",
       "  </tbody>\n",
       "</table>"
      ],
      "text/plain": [
       "<IPython.core.display.HTML object>"
      ]
     },
     "execution_count": 27,
     "metadata": {},
     "output_type": "execute_result"
    }
   ],
   "source": [
    "HTML(build_chart(list_genre.loc[0],0.9).head(10).to_html(escape = False))"
   ]
  },
  {
   "cell_type": "markdown",
   "metadata": {},
   "source": [
    "## Movie Description Based Recommender"
   ]
  },
  {
   "cell_type": "code",
   "execution_count": 28,
   "metadata": {},
   "outputs": [],
   "source": [
    "def graph_result(result):\n",
    "    md_graph = md[['poster_path','title','description','year','vote_count','vote_average']].copy()\n",
    "    list_result_dataframe = []\n",
    "     \n",
    "    for i in result:\n",
    "         list_result_dataframe.append(md_graph.iloc[i]) \n",
    "\n",
    "    list_result_dataframe = pd.DataFrame(list_result_dataframe)                \n",
    "    return HTML(list_result_dataframe.to_html(escape = False))"
   ]
  },
  {
   "cell_type": "markdown",
   "metadata": {},
   "source": [
    "### Content-Based By Title And Description Using Sklearn"
   ]
  },
  {
   "cell_type": "code",
   "execution_count": 29,
   "metadata": {},
   "outputs": [],
   "source": [
    "md.description = md['description'].fillna('')"
   ]
  },
  {
   "cell_type": "code",
   "execution_count": 30,
   "metadata": {},
   "outputs": [],
   "source": [
    "tf = TfidfVectorizer(analyzer='word',ngram_range=(1,2),min_df=0, stop_words='english')\n",
    "tfidf_matrix = tf.fit_transform(md['description'])"
   ]
  },
  {
   "cell_type": "code",
   "execution_count": 31,
   "metadata": {},
   "outputs": [
    {
     "data": {
      "text/plain": [
       "(9025, 266476)"
      ]
     },
     "execution_count": 31,
     "metadata": {},
     "output_type": "execute_result"
    }
   ],
   "source": [
    "tfidf_matrix.shape\n",
    "# có 9099 vector tương ướng với 9099 overview,\n",
    "# mỗi vector có 268124 chiều "
   ]
  },
  {
   "cell_type": "code",
   "execution_count": 32,
   "metadata": {},
   "outputs": [],
   "source": [
    "cosine_sim = linear_kernel(tfidf_matrix, tfidf_matrix)\n",
    "# Compute the cosine similarity matrix"
   ]
  },
  {
   "cell_type": "code",
   "execution_count": 33,
   "metadata": {},
   "outputs": [
    {
     "data": {
      "text/plain": [
       "array([1.        , 0.00679441, 0.        , ..., 0.        , 0.        ,\n",
       "       0.00478805])"
      ]
     },
     "execution_count": 33,
     "metadata": {},
     "output_type": "execute_result"
    }
   ],
   "source": [
    "cosine_sim[0]"
   ]
  },
  {
   "cell_type": "code",
   "execution_count": 34,
   "metadata": {},
   "outputs": [
    {
     "data": {
      "text/plain": [
       "array([0.00679441, 1.        , 0.01528831, ..., 0.        , 0.        ,\n",
       "       0.00368484])"
      ]
     },
     "execution_count": 34,
     "metadata": {},
     "output_type": "execute_result"
    }
   ],
   "source": [
    "cosine_sim[1]"
   ]
  },
  {
   "cell_type": "code",
   "execution_count": 35,
   "metadata": {},
   "outputs": [],
   "source": [
    "md = md.reset_index()\n",
    "titles = md['title']\n",
    "indices = pd.Series(md.index, index=md['title'])"
   ]
  },
  {
   "cell_type": "code",
   "execution_count": 36,
   "metadata": {},
   "outputs": [
    {
     "data": {
      "text/plain": [
       "title\n",
       "Toy Story                                                0\n",
       "Jumanji                                                  1\n",
       "Grumpier Old Men                                         2\n",
       "Waiting to Exhale                                        3\n",
       "Father of the Bride Part II                              4\n",
       "                                                      ... \n",
       "Sharknado 4: The 4th Awakens                          9020\n",
       "The Last Brickmaker in America                        9021\n",
       "Rustom                                                9022\n",
       "Mohenjo Daro                                          9023\n",
       "The Beatles: Eight Days a Week - The Touring Years    9024\n",
       "Length: 9025, dtype: int64"
      ]
     },
     "execution_count": 36,
     "metadata": {},
     "output_type": "execute_result"
    }
   ],
   "source": [
    "indices"
   ]
  },
  {
   "cell_type": "code",
   "execution_count": 37,
   "metadata": {},
   "outputs": [
    {
     "data": {
      "text/html": [
       "<div>\n",
       "<style scoped>\n",
       "    .dataframe tbody tr th:only-of-type {\n",
       "        vertical-align: middle;\n",
       "    }\n",
       "\n",
       "    .dataframe tbody tr th {\n",
       "        vertical-align: top;\n",
       "    }\n",
       "\n",
       "    .dataframe thead th {\n",
       "        text-align: right;\n",
       "    }\n",
       "</style>\n",
       "<table border=\"1\" class=\"dataframe\">\n",
       "  <thead>\n",
       "    <tr style=\"text-align: right;\">\n",
       "      <th></th>\n",
       "      <th>index</th>\n",
       "      <th>adult</th>\n",
       "      <th>belongs_to_collection</th>\n",
       "      <th>budget</th>\n",
       "      <th>genres</th>\n",
       "      <th>homepage</th>\n",
       "      <th>id</th>\n",
       "      <th>imdb_id</th>\n",
       "      <th>original_language</th>\n",
       "      <th>original_title</th>\n",
       "      <th>...</th>\n",
       "      <th>runtime</th>\n",
       "      <th>spoken_languages</th>\n",
       "      <th>status</th>\n",
       "      <th>tagline</th>\n",
       "      <th>title</th>\n",
       "      <th>video</th>\n",
       "      <th>vote_average</th>\n",
       "      <th>vote_count</th>\n",
       "      <th>description</th>\n",
       "      <th>year</th>\n",
       "    </tr>\n",
       "  </thead>\n",
       "  <tbody>\n",
       "    <tr>\n",
       "      <th>1707</th>\n",
       "      <td>1707</td>\n",
       "      <td>False</td>\n",
       "      <td>NaN</td>\n",
       "      <td>60000000</td>\n",
       "      <td>[Thriller]</td>\n",
       "      <td>NaN</td>\n",
       "      <td>9320</td>\n",
       "      <td>tt0118661</td>\n",
       "      <td>en</td>\n",
       "      <td>The Avengers</td>\n",
       "      <td>...</td>\n",
       "      <td>89.0</td>\n",
       "      <td>[{'iso_639_1': 'en', 'name': 'English'}]</td>\n",
       "      <td>Released</td>\n",
       "      <td>Saving the World in Style.</td>\n",
       "      <td>The Avengers</td>\n",
       "      <td>False</td>\n",
       "      <td>4.4</td>\n",
       "      <td>205.0</td>\n",
       "      <td>British Ministry agent John Steed, under direc...</td>\n",
       "      <td>1998</td>\n",
       "    </tr>\n",
       "    <tr>\n",
       "      <th>7839</th>\n",
       "      <td>7839</td>\n",
       "      <td>False</td>\n",
       "      <td>{'id': 86311, 'name': 'The Avengers Collection...</td>\n",
       "      <td>220000000</td>\n",
       "      <td>[Science Fiction, Action, Adventure]</td>\n",
       "      <td>http://marvel.com/avengers_movie/</td>\n",
       "      <td>24428</td>\n",
       "      <td>tt0848228</td>\n",
       "      <td>en</td>\n",
       "      <td>The Avengers</td>\n",
       "      <td>...</td>\n",
       "      <td>143.0</td>\n",
       "      <td>[{'iso_639_1': 'en', 'name': 'English'}]</td>\n",
       "      <td>Released</td>\n",
       "      <td>Some assembly required.</td>\n",
       "      <td>The Avengers</td>\n",
       "      <td>False</td>\n",
       "      <td>7.4</td>\n",
       "      <td>12000.0</td>\n",
       "      <td>When an unexpected enemy emerges and threatens...</td>\n",
       "      <td>2012</td>\n",
       "    </tr>\n",
       "  </tbody>\n",
       "</table>\n",
       "<p>2 rows × 27 columns</p>\n",
       "</div>"
      ],
      "text/plain": [
       "      index  adult                              belongs_to_collection  \\\n",
       "1707   1707  False                                                NaN   \n",
       "7839   7839  False  {'id': 86311, 'name': 'The Avengers Collection...   \n",
       "\n",
       "         budget                                genres  \\\n",
       "1707   60000000                            [Thriller]   \n",
       "7839  220000000  [Science Fiction, Action, Adventure]   \n",
       "\n",
       "                               homepage     id    imdb_id original_language  \\\n",
       "1707                                NaN   9320  tt0118661                en   \n",
       "7839  http://marvel.com/avengers_movie/  24428  tt0848228                en   \n",
       "\n",
       "     original_title  ... runtime                          spoken_languages  \\\n",
       "1707   The Avengers  ...    89.0  [{'iso_639_1': 'en', 'name': 'English'}]   \n",
       "7839   The Avengers  ...   143.0  [{'iso_639_1': 'en', 'name': 'English'}]   \n",
       "\n",
       "        status                     tagline         title  video  vote_average  \\\n",
       "1707  Released  Saving the World in Style.  The Avengers  False           4.4   \n",
       "7839  Released     Some assembly required.  The Avengers  False           7.4   \n",
       "\n",
       "      vote_count                                        description  year  \n",
       "1707       205.0  British Ministry agent John Steed, under direc...  1998  \n",
       "7839     12000.0  When an unexpected enemy emerges and threatens...  2012  \n",
       "\n",
       "[2 rows x 27 columns]"
      ]
     },
     "execution_count": 37,
     "metadata": {},
     "output_type": "execute_result"
    }
   ],
   "source": [
    "md[md['title'] == \"The Avengers\" ]"
   ]
  },
  {
   "cell_type": "code",
   "execution_count": 38,
   "metadata": {},
   "outputs": [],
   "source": [
    "def get_recommendations(k,title):\n",
    "    # Get the index of the movie that matches the title\n",
    "    idx = []\n",
    "    idx.append(indices[title])\n",
    "    result = {}\n",
    "    \n",
    "    for i in idx:\n",
    "                # Get the pairwsie similarity scores of all movies with that movie\n",
    "                sim_scores = list(enumerate(cosine_sim[i]))\n",
    "\n",
    "                # Sort the movies based on the similarity scores\n",
    "                sim_scores = sorted(sim_scores, key=lambda x: x[1], reverse=True)\n",
    "\n",
    "                # Get the scores of the 10 most similar movies\n",
    "                #(element number 0 is the movie it self)\n",
    "                sim_scores = sim_scores[1:11]\n",
    "\n",
    "                movie_indices = [k[0] for k in sim_scores]\n",
    "                result[i,title] = movie_indices[:k]\n",
    "                \n",
    "    return result    "
   ]
  },
  {
   "cell_type": "code",
   "execution_count": 39,
   "metadata": {},
   "outputs": [
    {
     "name": "stdout",
     "output_type": "stream",
     "text": [
      "6873  -  The Dark Knight\n"
     ]
    },
    {
     "data": {
      "text/html": [
       "<table border=\"1\" class=\"dataframe\">\n",
       "  <thead>\n",
       "    <tr style=\"text-align: right;\">\n",
       "      <th></th>\n",
       "      <th>poster_path</th>\n",
       "      <th>title</th>\n",
       "      <th>description</th>\n",
       "      <th>year</th>\n",
       "      <th>vote_count</th>\n",
       "      <th>vote_average</th>\n",
       "    </tr>\n",
       "  </thead>\n",
       "  <tbody>\n",
       "    <tr>\n",
       "      <th>7901</th>\n",
       "      <td><img src='http://image.tmdb.org/t/p/w185//dEYnvnUfXrqvqeRSqvIEtmzhoA8.jpg' style='height:100px;'></td>\n",
       "      <td>The Dark Knight Rises</td>\n",
       "      <td>Following the death of District Attorney Harvey Dent, Batman assumes responsibility for Dent's crimes to protect the late attorney's reputation and is subsequently hunted by the Gotham City Police Department. Eight years later, Batman encounters the mysterious Selina Kyle and the villainous Bane, a new terrorist leader who overwhelms Gotham's finest. The Dark Knight resurfaces to protect a city that has branded him an enemy.The Legend Ends</td>\n",
       "      <td>2012</td>\n",
       "      <td>9263.0</td>\n",
       "      <td>7.6</td>\n",
       "    </tr>\n",
       "    <tr>\n",
       "      <th>132</th>\n",
       "      <td><img src='http://image.tmdb.org/t/p/w185//eTMrHEhlFPHNxpqGwpGGTdAa0xV.jpg' style='height:100px;'></td>\n",
       "      <td>Batman Forever</td>\n",
       "      <td>The Dark Knight of Gotham City confronts a dastardly duo: Two-Face and the Riddler. Formerly District Attorney Harvey Dent, Two-Face believes Batman caused the courtroom accident which left him disfigured on one side. And Edward Nygma, computer-genius and former employee of millionaire Bruce Wayne, is out to get the philanthropist; as The Riddler. Former circus acrobat Dick Grayson, his family killed by Two-Face, becomes Wayne's ward and Batman's new partner Robin.Courage now, truth always...</td>\n",
       "      <td>1995</td>\n",
       "      <td>1529.0</td>\n",
       "      <td>5.2</td>\n",
       "    </tr>\n",
       "    <tr>\n",
       "      <th>1113</th>\n",
       "      <td><img src='http://image.tmdb.org/t/p/w185//jX5THE1yW3zTdeD9dupcIyQvKiG.jpg' style='height:100px;'></td>\n",
       "      <td>Batman Returns</td>\n",
       "      <td>Having defeated the Joker, Batman now faces the Penguin - a warped and deformed individual who is intent on being accepted into Gotham society. Crooked businessman Max Schreck is coerced into helping him become Mayor of Gotham and they both attempt to expose Batman in a different light. Selina Kyle, Max's secretary, is thrown from the top of a building and is transformed into Catwoman - a mysterious figure who has the same personality disorder as Batman. Batman must attempt to clear his name, all the time deciding just what must be done with the Catwoman.The Bat, the Cat, the Penguin.</td>\n",
       "      <td>1992</td>\n",
       "      <td>1706.0</td>\n",
       "      <td>6.6</td>\n",
       "    </tr>\n",
       "    <tr>\n",
       "      <th>8196</th>\n",
       "      <td><img src='http://image.tmdb.org/t/p/w185//wPeorCnD9MRR2S9Dzh4OpIgNLiv.jpg' style='height:100px;'></td>\n",
       "      <td>Batman: The Dark Knight Returns, Part 2</td>\n",
       "      <td>Batman has stopped the reign of terror that The Mutants had cast upon his city.  Now an old foe wants a reunion and the government wants The Man of Steel to put a stop to Batman.Justice Returns... Vengeance Returns... Redemption Comes to Gotham.</td>\n",
       "      <td>2013</td>\n",
       "      <td>426.0</td>\n",
       "      <td>7.9</td>\n",
       "    </tr>\n",
       "    <tr>\n",
       "      <th>7537</th>\n",
       "      <td><img src='http://image.tmdb.org/t/p/w185//78kjgspmLLOm2Glgpzqo9cS4GpI.jpg' style='height:100px;'></td>\n",
       "      <td>Batman: Under the Red Hood</td>\n",
       "      <td>Batman faces his ultimate challenge as the mysterious Red Hood takes Gotham City by firestorm. One part vigilante, one part criminal kingpin, Red Hood begins cleaning up Gotham with the efficiency of Batman, but without following the same ethical code.Dare to Look Beneath the Hood.</td>\n",
       "      <td>2010</td>\n",
       "      <td>459.0</td>\n",
       "      <td>7.6</td>\n",
       "    </tr>\n",
       "    <tr>\n",
       "      <th>524</th>\n",
       "      <td><img src='http://image.tmdb.org/t/p/w185//kBf3g9crrADGMc2AMAMlLBgSm2h.jpg' style='height:100px;'></td>\n",
       "      <td>Batman</td>\n",
       "      <td>The Dark Knight of Gotham City begins his war on crime with his first major enemy being the clownishly homicidal Joker, who has seized control of Gotham's underworld.Have you ever danced with the devil in the pale moonlight?</td>\n",
       "      <td>1989</td>\n",
       "      <td>2145.0</td>\n",
       "      <td>7.0</td>\n",
       "    </tr>\n",
       "    <tr>\n",
       "      <th>7871</th>\n",
       "      <td><img src='http://image.tmdb.org/t/p/w185//bI1YVuhBN6Vws1GP9Mf01DyhC2s.jpg' style='height:100px;'></td>\n",
       "      <td>Batman: Year One</td>\n",
       "      <td>Two men come to Gotham City: Bruce Wayne after years abroad feeding his lifelong obsession for justice and Jim Gordon after being too honest a cop with the wrong people elsewhere. After learning painful lessons about the city's corruption on its streets and police department respectively, this pair learn how to fight back their own way. With that, Gotham's evildoers from top to bottom are terrorized by the mysterious Batman and the equally heroic Gordon is assigned to catch him by comrades who both hate and fear him themselves. In the ensuing manhunt, both find much in common as the seeds of an unexpected friendship are laid with additional friends and rivals helping to start the legend.A merciless crime turns a man into an outlaw.</td>\n",
       "      <td>2011</td>\n",
       "      <td>255.0</td>\n",
       "      <td>7.1</td>\n",
       "    </tr>\n",
       "    <tr>\n",
       "      <th>2578</th>\n",
       "      <td><img src='http://image.tmdb.org/t/p/w185//l4jaQjkgznu2Rz05X18f24UjPNW.jpg' style='height:100px;'></td>\n",
       "      <td>Batman: Mask of the Phantasm</td>\n",
       "      <td>An old flame of Bruce Wayne's strolls into town, re-heating up the romance between the two. At the same time, a mass murderer with an axe for one hand begins systematically eliminating Gotham's crime bosses. Due to the person's dark appearance, he is mistaken for Batman. Now on the run, Batman must solve the mystery and deal with the romance between him and Andrea Beaumont.The Dark Knight fights to save Gotham city from its deadliest enemy.</td>\n",
       "      <td>1993</td>\n",
       "      <td>218.0</td>\n",
       "      <td>7.4</td>\n",
       "    </tr>\n",
       "    <tr>\n",
       "      <th>2695</th>\n",
       "      <td><img src='http://image.tmdb.org/t/p/w185//9bmXpKDJv2kdtD4QNexErjGTIOz.jpg' style='height:100px;'></td>\n",
       "      <td>JFK</td>\n",
       "      <td>New Orleans District Attorney Jim Garrison discovers there's more to the Kennedy assassination than the official story.The story that won’t go away.</td>\n",
       "      <td>1991</td>\n",
       "      <td>513.0</td>\n",
       "      <td>7.5</td>\n",
       "    </tr>\n",
       "    <tr>\n",
       "      <th>8134</th>\n",
       "      <td><img src='http://image.tmdb.org/t/p/w185//mFPD2YsdaWAzjuxF7ItGmsEFpdY.jpg' style='height:100px;'></td>\n",
       "      <td>Batman: The Dark Knight Returns, Part 1</td>\n",
       "      <td>Batman has not been seen for ten years. A new breed of criminal ravages Gotham City, forcing 55-year-old Bruce Wayne back into the cape and cowl. But, does he still have what it takes to fight crime in a new era?Old heroes never die. They just get darker.</td>\n",
       "      <td>2012</td>\n",
       "      <td>410.0</td>\n",
       "      <td>7.7</td>\n",
       "    </tr>\n",
       "  </tbody>\n",
       "</table>"
      ],
      "text/plain": [
       "<IPython.core.display.HTML object>"
      ]
     },
     "metadata": {},
     "output_type": "display_data"
    },
    {
     "name": "stdout",
     "output_type": "stream",
     "text": [
      "-------------------------------\n"
     ]
    }
   ],
   "source": [
    "result = get_recommendations(10,'The Dark Knight')\n",
    "html = \"\"\n",
    "\n",
    "for i in result:\n",
    "        print(i[0],\" - \",i[1])\n",
    "        display(graph_result(result[i]))\n",
    "        print(\"-------------------------------\")   "
   ]
  },
  {
   "cell_type": "markdown",
   "metadata": {},
   "source": [
    "### Content-Based By Title And Description From Scatch"
   ]
  },
  {
   "cell_type": "code",
   "execution_count": 40,
   "metadata": {},
   "outputs": [
    {
     "name": "stdout",
     "output_type": "stream",
     "text": [
      "\n",
      "\n",
      "\n"
     ]
    },
    {
     "data": {
      "text/plain": [
       "array([7901, 8134,  132, 8196, 6125, 2578, 1113,  524, 7871, 7537])"
      ]
     },
     "execution_count": 40,
     "metadata": {},
     "output_type": "execute_result"
    }
   ],
   "source": [
    "from ipynb.fs.full.Description_Title_Content_Base_Recommender import cosine_similarity_ver2\n",
    "cosine_similarity_ver2(11,\"The Dark Knight\")"
   ]
  },
  {
   "cell_type": "code",
   "execution_count": 41,
   "metadata": {
    "scrolled": false
   },
   "outputs": [
    {
     "name": "stdout",
     "output_type": "stream",
     "text": [
      "\n"
     ]
    },
    {
     "data": {
      "text/html": [
       "<table border=\"1\" class=\"dataframe\">\n",
       "  <thead>\n",
       "    <tr style=\"text-align: right;\">\n",
       "      <th></th>\n",
       "      <th>poster_path</th>\n",
       "      <th>title</th>\n",
       "      <th>description</th>\n",
       "      <th>year</th>\n",
       "      <th>vote_count</th>\n",
       "      <th>vote_average</th>\n",
       "    </tr>\n",
       "  </thead>\n",
       "  <tbody>\n",
       "    <tr>\n",
       "      <th>7901</th>\n",
       "      <td><img src='http://image.tmdb.org/t/p/w185//dEYnvnUfXrqvqeRSqvIEtmzhoA8.jpg' style='height:100px;'></td>\n",
       "      <td>The Dark Knight Rises</td>\n",
       "      <td>Following the death of District Attorney Harvey Dent, Batman assumes responsibility for Dent's crimes to protect the late attorney's reputation and is subsequently hunted by the Gotham City Police Department. Eight years later, Batman encounters the mysterious Selina Kyle and the villainous Bane, a new terrorist leader who overwhelms Gotham's finest. The Dark Knight resurfaces to protect a city that has branded him an enemy.The Legend Ends</td>\n",
       "      <td>2012</td>\n",
       "      <td>9263.0</td>\n",
       "      <td>7.6</td>\n",
       "    </tr>\n",
       "    <tr>\n",
       "      <th>8134</th>\n",
       "      <td><img src='http://image.tmdb.org/t/p/w185//mFPD2YsdaWAzjuxF7ItGmsEFpdY.jpg' style='height:100px;'></td>\n",
       "      <td>Batman: The Dark Knight Returns, Part 1</td>\n",
       "      <td>Batman has not been seen for ten years. A new breed of criminal ravages Gotham City, forcing 55-year-old Bruce Wayne back into the cape and cowl. But, does he still have what it takes to fight crime in a new era?Old heroes never die. They just get darker.</td>\n",
       "      <td>2012</td>\n",
       "      <td>410.0</td>\n",
       "      <td>7.7</td>\n",
       "    </tr>\n",
       "    <tr>\n",
       "      <th>132</th>\n",
       "      <td><img src='http://image.tmdb.org/t/p/w185//eTMrHEhlFPHNxpqGwpGGTdAa0xV.jpg' style='height:100px;'></td>\n",
       "      <td>Batman Forever</td>\n",
       "      <td>The Dark Knight of Gotham City confronts a dastardly duo: Two-Face and the Riddler. Formerly District Attorney Harvey Dent, Two-Face believes Batman caused the courtroom accident which left him disfigured on one side. And Edward Nygma, computer-genius and former employee of millionaire Bruce Wayne, is out to get the philanthropist; as The Riddler. Former circus acrobat Dick Grayson, his family killed by Two-Face, becomes Wayne's ward and Batman's new partner Robin.Courage now, truth always...</td>\n",
       "      <td>1995</td>\n",
       "      <td>1529.0</td>\n",
       "      <td>5.2</td>\n",
       "    </tr>\n",
       "    <tr>\n",
       "      <th>8196</th>\n",
       "      <td><img src='http://image.tmdb.org/t/p/w185//wPeorCnD9MRR2S9Dzh4OpIgNLiv.jpg' style='height:100px;'></td>\n",
       "      <td>Batman: The Dark Knight Returns, Part 2</td>\n",
       "      <td>Batman has stopped the reign of terror that The Mutants had cast upon his city.  Now an old foe wants a reunion and the government wants The Man of Steel to put a stop to Batman.Justice Returns... Vengeance Returns... Redemption Comes to Gotham.</td>\n",
       "      <td>2013</td>\n",
       "      <td>426.0</td>\n",
       "      <td>7.9</td>\n",
       "    </tr>\n",
       "    <tr>\n",
       "      <th>6125</th>\n",
       "      <td><img src='http://image.tmdb.org/t/p/w185//dr6x4GyyegBWtinPBzipY02J2lV.jpg' style='height:100px;'></td>\n",
       "      <td>Batman Begins</td>\n",
       "      <td>Driven by tragedy, billionaire Bruce Wayne dedicates his life to uncovering and defeating the corruption that plagues his home, Gotham City.  Unable to work within the system, he instead creates a new identity, a symbol of fear for the criminal underworld - The Batman.Evil fears the knight.</td>\n",
       "      <td>2005</td>\n",
       "      <td>7511.0</td>\n",
       "      <td>7.5</td>\n",
       "    </tr>\n",
       "    <tr>\n",
       "      <th>2578</th>\n",
       "      <td><img src='http://image.tmdb.org/t/p/w185//l4jaQjkgznu2Rz05X18f24UjPNW.jpg' style='height:100px;'></td>\n",
       "      <td>Batman: Mask of the Phantasm</td>\n",
       "      <td>An old flame of Bruce Wayne's strolls into town, re-heating up the romance between the two. At the same time, a mass murderer with an axe for one hand begins systematically eliminating Gotham's crime bosses. Due to the person's dark appearance, he is mistaken for Batman. Now on the run, Batman must solve the mystery and deal with the romance between him and Andrea Beaumont.The Dark Knight fights to save Gotham city from its deadliest enemy.</td>\n",
       "      <td>1993</td>\n",
       "      <td>218.0</td>\n",
       "      <td>7.4</td>\n",
       "    </tr>\n",
       "    <tr>\n",
       "      <th>1113</th>\n",
       "      <td><img src='http://image.tmdb.org/t/p/w185//jX5THE1yW3zTdeD9dupcIyQvKiG.jpg' style='height:100px;'></td>\n",
       "      <td>Batman Returns</td>\n",
       "      <td>Having defeated the Joker, Batman now faces the Penguin - a warped and deformed individual who is intent on being accepted into Gotham society. Crooked businessman Max Schreck is coerced into helping him become Mayor of Gotham and they both attempt to expose Batman in a different light. Selina Kyle, Max's secretary, is thrown from the top of a building and is transformed into Catwoman - a mysterious figure who has the same personality disorder as Batman. Batman must attempt to clear his name, all the time deciding just what must be done with the Catwoman.The Bat, the Cat, the Penguin.</td>\n",
       "      <td>1992</td>\n",
       "      <td>1706.0</td>\n",
       "      <td>6.6</td>\n",
       "    </tr>\n",
       "    <tr>\n",
       "      <th>524</th>\n",
       "      <td><img src='http://image.tmdb.org/t/p/w185//kBf3g9crrADGMc2AMAMlLBgSm2h.jpg' style='height:100px;'></td>\n",
       "      <td>Batman</td>\n",
       "      <td>The Dark Knight of Gotham City begins his war on crime with his first major enemy being the clownishly homicidal Joker, who has seized control of Gotham's underworld.Have you ever danced with the devil in the pale moonlight?</td>\n",
       "      <td>1989</td>\n",
       "      <td>2145.0</td>\n",
       "      <td>7.0</td>\n",
       "    </tr>\n",
       "    <tr>\n",
       "      <th>7871</th>\n",
       "      <td><img src='http://image.tmdb.org/t/p/w185//bI1YVuhBN6Vws1GP9Mf01DyhC2s.jpg' style='height:100px;'></td>\n",
       "      <td>Batman: Year One</td>\n",
       "      <td>Two men come to Gotham City: Bruce Wayne after years abroad feeding his lifelong obsession for justice and Jim Gordon after being too honest a cop with the wrong people elsewhere. After learning painful lessons about the city's corruption on its streets and police department respectively, this pair learn how to fight back their own way. With that, Gotham's evildoers from top to bottom are terrorized by the mysterious Batman and the equally heroic Gordon is assigned to catch him by comrades who both hate and fear him themselves. In the ensuing manhunt, both find much in common as the seeds of an unexpected friendship are laid with additional friends and rivals helping to start the legend.A merciless crime turns a man into an outlaw.</td>\n",
       "      <td>2011</td>\n",
       "      <td>255.0</td>\n",
       "      <td>7.1</td>\n",
       "    </tr>\n",
       "    <tr>\n",
       "      <th>7537</th>\n",
       "      <td><img src='http://image.tmdb.org/t/p/w185//78kjgspmLLOm2Glgpzqo9cS4GpI.jpg' style='height:100px;'></td>\n",
       "      <td>Batman: Under the Red Hood</td>\n",
       "      <td>Batman faces his ultimate challenge as the mysterious Red Hood takes Gotham City by firestorm. One part vigilante, one part criminal kingpin, Red Hood begins cleaning up Gotham with the efficiency of Batman, but without following the same ethical code.Dare to Look Beneath the Hood.</td>\n",
       "      <td>2010</td>\n",
       "      <td>459.0</td>\n",
       "      <td>7.6</td>\n",
       "    </tr>\n",
       "  </tbody>\n",
       "</table>"
      ],
      "text/plain": [
       "<IPython.core.display.HTML object>"
      ]
     },
     "execution_count": 41,
     "metadata": {},
     "output_type": "execute_result"
    }
   ],
   "source": [
    "graph_result(list(cosine_similarity_ver2(11,\"The Dark Knight\")))"
   ]
  },
  {
   "cell_type": "markdown",
   "metadata": {},
   "source": [
    "### User Vector"
   ]
  },
  {
   "cell_type": "code",
   "execution_count": 42,
   "metadata": {},
   "outputs": [],
   "source": [
    "ratings_train = train[['userId','id','rating','movieIndex']]\n",
    "ratings_matrix = ratings_train.values"
   ]
  },
  {
   "cell_type": "code",
   "execution_count": 43,
   "metadata": {},
   "outputs": [],
   "source": [
    "# this fuction return movie_index in meta_data_dataset and ratings of user  \n",
    "def get_items_rated_by_user(rate_matrix, user_id):\n",
    "    y = rate_matrix[:,0] # get all the value in user_id column\n",
    "    # get list of user_id index in y which value equal input \n",
    "    # user_id\n",
    "    ids = np.where(y == user_id)[0]\n",
    "    # get list movie_id matching user_id \n",
    "    item_ids = rate_matrix[ids, 3]\n",
    "    item_ids = [int(i) for i in item_ids]\n",
    "    \n",
    "    scores = rate_matrix[ids,2]\n",
    "    return (item_ids, scores)"
   ]
  },
  {
   "cell_type": "code",
   "execution_count": 44,
   "metadata": {},
   "outputs": [],
   "source": [
    "def get_list_movie_have_not_rated(rate_matrix, userId,movie_count):\n",
    "    user_rated, score = get_items_rated_by_user(rate_matrix,userId)\n",
    "    result = []\n",
    "    for i in range(movie_count):\n",
    "         if i not in user_rated: result.append(i)\n",
    "    return (userId, result)            "
   ]
  },
  {
   "cell_type": "code",
   "execution_count": 45,
   "metadata": {},
   "outputs": [],
   "source": [
    "def get_pred_rating(rate_matrix, userId,movie_count):\n",
    "    userId, list_not_rate =  get_list_movie_have_not_rated(rate_matrix, userId,movie_count)\n",
    "    result = {}\n",
    "    for i in list_not_rate:\n",
    "        result[i] = Yhat[i, userId]\n",
    "    \n",
    "    result = sorted(result.items(), key=operator.itemgetter(1),reverse=True)\n",
    "    list_movie = []\n",
    "    for i in result:\n",
    "        list_movie.append(i[0])\n",
    "    return list_movie"
   ]
  },
  {
   "cell_type": "code",
   "execution_count": 46,
   "metadata": {
    "scrolled": false
   },
   "outputs": [],
   "source": [
    "#result,score = get_items_rated_by_user(ratings_matrix,2)\n",
    "#display(graph_result(result))"
   ]
  },
  {
   "cell_type": "code",
   "execution_count": 47,
   "metadata": {
    "scrolled": false
   },
   "outputs": [
    {
     "data": {
      "text/html": [
       "<table border=\"1\" class=\"dataframe\">\n",
       "  <thead>\n",
       "    <tr style=\"text-align: right;\">\n",
       "      <th></th>\n",
       "      <th>poster_path</th>\n",
       "      <th>title</th>\n",
       "      <th>description</th>\n",
       "      <th>year</th>\n",
       "      <th>vote_count</th>\n",
       "      <th>vote_average</th>\n",
       "    </tr>\n",
       "  </thead>\n",
       "  <tbody>\n",
       "    <tr>\n",
       "      <th>5713</th>\n",
       "      <td><img src='http://image.tmdb.org/t/p/w185//3Bn0tc1BsheZwUQtvl10wTgQ16J.jpg' style='height:100px;'></td>\n",
       "      <td>A Charlie Brown Christmas</td>\n",
       "      <td>When Charlie Brown complains about the overwhelming materialism that he sees amongst everyone during the Christmas season, Lucy suggests that he become director of the school Christmas pageant. Charlie Brown accepts, but is a frustrating struggle. When an attempt to restore the proper spirit with a forlorn little fir Christmas tree fails, he needs Linus' help to learn the meaning of Christmas.That's what Christmas is all about, Charlie Brown!</td>\n",
       "      <td>1965</td>\n",
       "      <td>156.0</td>\n",
       "      <td>7.5</td>\n",
       "    </tr>\n",
       "    <tr>\n",
       "      <th>3030</th>\n",
       "      <td><img src='http://image.tmdb.org/t/p/w185//nayrAf0D4uVV4RUGM57ZI9aFf59.jpg' style='height:100px;'></td>\n",
       "      <td>The Five Senses</td>\n",
       "      <td>Three sets of tenants in a live/work building have daily lives and/or current stories acutely involving one or more of the five senses.</td>\n",
       "      <td>1999</td>\n",
       "      <td>8.0</td>\n",
       "      <td>6.6</td>\n",
       "    </tr>\n",
       "    <tr>\n",
       "      <th>4400</th>\n",
       "      <td><img src='http://image.tmdb.org/t/p/w185//vBof7r0eQlEJHosYncGXg893d63.jpg' style='height:100px;'></td>\n",
       "      <td>Black Christmas</td>\n",
       "      <td>A sorority house is terrorized by a stranger who makes frightening phone calls and then murders the sorority sisters during Christmas break.If this movie doesn’t make your skin crawl, it’s on too tight!</td>\n",
       "      <td>1974</td>\n",
       "      <td>133.0</td>\n",
       "      <td>6.8</td>\n",
       "    </tr>\n",
       "    <tr>\n",
       "      <th>6634</th>\n",
       "      <td><img src='http://image.tmdb.org/t/p/w185//oj7NVRtP2Z9w6Ub9rrGJwQncjUP.jpg' style='height:100px;'></td>\n",
       "      <td>How the Grinch Stole Christmas!</td>\n",
       "      <td>Bitter and hateful, the Grinch is irritated at the thought of the nearby village having a happy time celebrating Christmas. So disguised as Santa Claus, with his dog made to look like a reindeer, he raids the village to steal all the Christmas things. The village is sure to have a sad Christmas this year.You're a mean one, Mr. Grinch</td>\n",
       "      <td>1966</td>\n",
       "      <td>364.0</td>\n",
       "      <td>7.2</td>\n",
       "    </tr>\n",
       "    <tr>\n",
       "      <th>1642</th>\n",
       "      <td><img src='http://image.tmdb.org/t/p/w185//icq0kvyDWNSnrGtU3dAminCGCpP.jpg' style='height:100px;'></td>\n",
       "      <td>One Magic Christmas</td>\n",
       "      <td>Ginny Grainger, a young mother, rediscovers the joy and beauty of Christmas, thanks to the unshakable faith of her six-year-old daughter Abbie and Gideon, Ginny's very own guardian angel.</td>\n",
       "      <td>1985</td>\n",
       "      <td>15.0</td>\n",
       "      <td>5.7</td>\n",
       "    </tr>\n",
       "    <tr>\n",
       "      <th>6563</th>\n",
       "      <td><img src='http://image.tmdb.org/t/p/w185//awKDTSKyQnskzB0DZfORBPzhCE5.jpg' style='height:100px;'></td>\n",
       "      <td>Black Christmas</td>\n",
       "      <td>An escaped maniac returns to his childhood home on Christmas Eve, which is now a sorority house, and begins to murder the sorority sisters one by one. A remake of the 1974 horror movie, Black Christmas (1974).This holiday season, the slay ride begins.</td>\n",
       "      <td>2006</td>\n",
       "      <td>119.0</td>\n",
       "      <td>4.8</td>\n",
       "    </tr>\n",
       "    <tr>\n",
       "      <th>8955</th>\n",
       "      <td><img src='http://image.tmdb.org/t/p/w185//3CMBgEte4pEapn2deugsfz2hjAL.jpg' style='height:100px;'></td>\n",
       "      <td>A Very Murray Christmas</td>\n",
       "      <td>Bill Murray worries no one will show up to his TV show due to a massive snowstorm in New York City. Through luck and perseverance, guests arrive at Gotham’s Carlyle Hotel to help him — dancing and singing in holiday spirit.We wish you a Murray Christmas.</td>\n",
       "      <td>2015</td>\n",
       "      <td>149.0</td>\n",
       "      <td>5.2</td>\n",
       "    </tr>\n",
       "    <tr>\n",
       "      <th>1639</th>\n",
       "      <td><img src='http://image.tmdb.org/t/p/w185//fe4nLJkDNXhyuMnrZ60MfoSpPes.jpg' style='height:100px;'></td>\n",
       "      <td>The Muppet Christmas Carol</td>\n",
       "      <td>A retelling of the classic Dickens tale of Ebenezer Scrooge, miser extraordinaire. He is held accountable for his dastardly ways during night-time visitations by the Ghosts of Christmas Past, Present, and future.</td>\n",
       "      <td>1992</td>\n",
       "      <td>217.0</td>\n",
       "      <td>7.2</td>\n",
       "    </tr>\n",
       "    <tr>\n",
       "      <th>8196</th>\n",
       "      <td><img src='http://image.tmdb.org/t/p/w185//wPeorCnD9MRR2S9Dzh4OpIgNLiv.jpg' style='height:100px;'></td>\n",
       "      <td>Batman: The Dark Knight Returns, Part 2</td>\n",
       "      <td>Batman has stopped the reign of terror that The Mutants had cast upon his city.  Now an old foe wants a reunion and the government wants The Man of Steel to put a stop to Batman.Justice Returns... Vengeance Returns... Redemption Comes to Gotham.</td>\n",
       "      <td>2013</td>\n",
       "      <td>426.0</td>\n",
       "      <td>7.9</td>\n",
       "    </tr>\n",
       "    <tr>\n",
       "      <th>7537</th>\n",
       "      <td><img src='http://image.tmdb.org/t/p/w185//78kjgspmLLOm2Glgpzqo9cS4GpI.jpg' style='height:100px;'></td>\n",
       "      <td>Batman: Under the Red Hood</td>\n",
       "      <td>Batman faces his ultimate challenge as the mysterious Red Hood takes Gotham City by firestorm. One part vigilante, one part criminal kingpin, Red Hood begins cleaning up Gotham with the efficiency of Batman, but without following the same ethical code.Dare to Look Beneath the Hood.</td>\n",
       "      <td>2010</td>\n",
       "      <td>459.0</td>\n",
       "      <td>7.6</td>\n",
       "    </tr>\n",
       "  </tbody>\n",
       "</table>"
      ],
      "text/plain": [
       "<IPython.core.display.HTML object>"
      ]
     },
     "execution_count": 47,
     "metadata": {},
     "output_type": "execute_result"
    }
   ],
   "source": [
    "result = get_pred_rating(ratings_matrix,1,N)\n",
    "graph_result(result[0:10])"
   ]
  },
  {
   "cell_type": "markdown",
   "metadata": {},
   "source": [
    "## Metadata Based Recommender"
   ]
  },
  {
   "cell_type": "markdown",
   "metadata": {},
   "source": [
    "### Merging cast crew keyword data into main dataframe"
   ]
  },
  {
   "cell_type": "code",
   "execution_count": 48,
   "metadata": {},
   "outputs": [],
   "source": [
    "smd =  pd.read_csv('../the-movies-dataset/movies_metadata_merge_crew_keywords.csv')\n",
    "graph = smd[['poster_path','title','year','vote_count','vote_average','genres']]"
   ]
  },
  {
   "cell_type": "markdown",
   "metadata": {},
   "source": [
    "### Using Sklearn Library"
   ]
  },
  {
   "cell_type": "code",
   "execution_count": 49,
   "metadata": {},
   "outputs": [
    {
     "data": {
      "text/html": [
       "<table border=\"1\" class=\"dataframe\">\n",
       "  <thead>\n",
       "    <tr style=\"text-align: right;\">\n",
       "      <th></th>\n",
       "      <th>poster_path</th>\n",
       "      <th>title</th>\n",
       "      <th>description</th>\n",
       "      <th>year</th>\n",
       "      <th>vote_count</th>\n",
       "      <th>vote_average</th>\n",
       "    </tr>\n",
       "  </thead>\n",
       "  <tbody>\n",
       "    <tr>\n",
       "      <th>7901</th>\n",
       "      <td><img src='http://image.tmdb.org/t/p/w185//dEYnvnUfXrqvqeRSqvIEtmzhoA8.jpg' style='height:100px;'></td>\n",
       "      <td>The Dark Knight Rises</td>\n",
       "      <td>Following the death of District Attorney Harvey Dent, Batman assumes responsibility for Dent's crimes to protect the late attorney's reputation and is subsequently hunted by the Gotham City Police Department. Eight years later, Batman encounters the mysterious Selina Kyle and the villainous Bane, a new terrorist leader who overwhelms Gotham's finest. The Dark Knight resurfaces to protect a city that has branded him an enemy.The Legend Ends</td>\n",
       "      <td>2012</td>\n",
       "      <td>9263.0</td>\n",
       "      <td>7.6</td>\n",
       "    </tr>\n",
       "    <tr>\n",
       "      <th>6125</th>\n",
       "      <td><img src='http://image.tmdb.org/t/p/w185//dr6x4GyyegBWtinPBzipY02J2lV.jpg' style='height:100px;'></td>\n",
       "      <td>Batman Begins</td>\n",
       "      <td>Driven by tragedy, billionaire Bruce Wayne dedicates his life to uncovering and defeating the corruption that plagues his home, Gotham City.  Unable to work within the system, he instead creates a new identity, a symbol of fear for the criminal underworld - The Batman.Evil fears the knight.</td>\n",
       "      <td>2005</td>\n",
       "      <td>7511.0</td>\n",
       "      <td>7.5</td>\n",
       "    </tr>\n",
       "    <tr>\n",
       "      <th>6518</th>\n",
       "      <td><img src='http://image.tmdb.org/t/p/w185//5MXyQfz8xUP3dIFPTubhTsbFY6N.jpg' style='height:100px;'></td>\n",
       "      <td>The Prestige</td>\n",
       "      <td>A mysterious story of two magicians whose intense rivalry leads them on a life-long battle for supremacy -- full of obsession, deceit and jealousy with dangerous and deadly consequences.Are You Watching Closely?</td>\n",
       "      <td>2006</td>\n",
       "      <td>4510.0</td>\n",
       "      <td>8.0</td>\n",
       "    </tr>\n",
       "    <tr>\n",
       "      <th>2064</th>\n",
       "      <td><img src='http://image.tmdb.org/t/p/w185//uoWnnSlUIWjqUXxfIej3ucAxg7J.jpg' style='height:100px;'></td>\n",
       "      <td>Following</td>\n",
       "      <td>A struggling, unemployed young writer takes to following strangers around the streets of London, ostensibly to find inspiration for his new novel.</td>\n",
       "      <td>1998</td>\n",
       "      <td>363.0</td>\n",
       "      <td>7.2</td>\n",
       "    </tr>\n",
       "    <tr>\n",
       "      <th>7526</th>\n",
       "      <td><img src='http://image.tmdb.org/t/p/w185//qmDpIHrmpJINaRKAfWQfftjCdyi.jpg' style='height:100px;'></td>\n",
       "      <td>Inception</td>\n",
       "      <td>Cobb, a skilled thief who commits corporate espionage by infiltrating the subconscious of his targets is offered a chance to regain his old life as payment for a task considered to be impossible: \"inception\", the implantation of another person's idea into a target's subconscious.Your mind is the scene of the crime.</td>\n",
       "      <td>2010</td>\n",
       "      <td>14075.0</td>\n",
       "      <td>8.1</td>\n",
       "    </tr>\n",
       "    <tr>\n",
       "      <th>4099</th>\n",
       "      <td><img src='http://image.tmdb.org/t/p/w185//zb0D3vfjcPFvuyHp1mFPOIcYJWH.jpg' style='height:100px;'></td>\n",
       "      <td>Insomnia</td>\n",
       "      <td>Two Los Angeles homicide detectives are dispatched to a northern town where the sun doesn't set to investigate the methodical murder of a local teen.A tough cop. A brilliant killer. An unspeakable crime.</td>\n",
       "      <td>2002</td>\n",
       "      <td>1181.0</td>\n",
       "      <td>6.8</td>\n",
       "    </tr>\n",
       "    <tr>\n",
       "      <th>3360</th>\n",
       "      <td><img src='http://image.tmdb.org/t/p/w185//fQMSaP88cf1nz4qwuNEEFtazuDM.jpg' style='height:100px;'></td>\n",
       "      <td>Memento</td>\n",
       "      <td>Suffering short-term memory loss after a head injury, Leonard Shelby embarks on a grim quest to find the lowlife who murdered his wife in this gritty, complex thriller that packs more knots than a hangman's noose. To carry out his plan, Shelby snaps Polaroids of people and places, jotting down contextual notes on the backs of photos to aid in his search and jog his memory. He even tattoos his own body in a desperate bid to remember.Some memories are best forgotten.</td>\n",
       "      <td>2000</td>\n",
       "      <td>4168.0</td>\n",
       "      <td>8.1</td>\n",
       "    </tr>\n",
       "    <tr>\n",
       "      <th>8472</th>\n",
       "      <td><img src='http://image.tmdb.org/t/p/w185//nBNZadXqJSdt05SHLqgT0HuC5Gm.jpg' style='height:100px;'></td>\n",
       "      <td>Interstellar</td>\n",
       "      <td>Interstellar chronicles the adventures of a group of explorers who make use of a newly discovered wormhole to surpass the limitations on human space travel and conquer the vast distances involved in an interstellar voyage.Mankind was born on Earth. It was never meant to die here.</td>\n",
       "      <td>2014</td>\n",
       "      <td>11187.0</td>\n",
       "      <td>8.1</td>\n",
       "    </tr>\n",
       "    <tr>\n",
       "      <th>7537</th>\n",
       "      <td><img src='http://image.tmdb.org/t/p/w185//78kjgspmLLOm2Glgpzqo9cS4GpI.jpg' style='height:100px;'></td>\n",
       "      <td>Batman: Under the Red Hood</td>\n",
       "      <td>Batman faces his ultimate challenge as the mysterious Red Hood takes Gotham City by firestorm. One part vigilante, one part criminal kingpin, Red Hood begins cleaning up Gotham with the efficiency of Batman, but without following the same ethical code.Dare to Look Beneath the Hood.</td>\n",
       "      <td>2010</td>\n",
       "      <td>459.0</td>\n",
       "      <td>7.6</td>\n",
       "    </tr>\n",
       "    <tr>\n",
       "      <th>1113</th>\n",
       "      <td><img src='http://image.tmdb.org/t/p/w185//jX5THE1yW3zTdeD9dupcIyQvKiG.jpg' style='height:100px;'></td>\n",
       "      <td>Batman Returns</td>\n",
       "      <td>Having defeated the Joker, Batman now faces the Penguin - a warped and deformed individual who is intent on being accepted into Gotham society. Crooked businessman Max Schreck is coerced into helping him become Mayor of Gotham and they both attempt to expose Batman in a different light. Selina Kyle, Max's secretary, is thrown from the top of a building and is transformed into Catwoman - a mysterious figure who has the same personality disorder as Batman. Batman must attempt to clear his name, all the time deciding just what must be done with the Catwoman.The Bat, the Cat, the Penguin.</td>\n",
       "      <td>1992</td>\n",
       "      <td>1706.0</td>\n",
       "      <td>6.6</td>\n",
       "    </tr>\n",
       "  </tbody>\n",
       "</table>"
      ],
      "text/plain": [
       "<IPython.core.display.HTML object>"
      ]
     },
     "execution_count": 49,
     "metadata": {},
     "output_type": "execute_result"
    }
   ],
   "source": [
    "from ipynb.fs.full.Cast_Director_Gernes_Content_Base_Recommender import  get_recommendations\n",
    "result = get_recommendations(\"The Dark Knight\",11)\n",
    "for i in result:\n",
    "    list_movie_result = result[i] \n",
    "graph_result(list_movie_result)    "
   ]
  },
  {
   "cell_type": "markdown",
   "metadata": {},
   "source": [
    "### From Scatch"
   ]
  },
  {
   "cell_type": "code",
   "execution_count": 50,
   "metadata": {},
   "outputs": [],
   "source": [
    "from ipynb.fs.full.Cast_Director_Gernes_Content_Base_Recommender import  get_recommendations_ver2"
   ]
  },
  {
   "cell_type": "code",
   "execution_count": 51,
   "metadata": {
    "scrolled": false
   },
   "outputs": [
    {
     "data": {
      "text/html": [
       "<table border=\"1\" class=\"dataframe\">\n",
       "  <thead>\n",
       "    <tr style=\"text-align: right;\">\n",
       "      <th></th>\n",
       "      <th>poster_path</th>\n",
       "      <th>title</th>\n",
       "      <th>description</th>\n",
       "      <th>year</th>\n",
       "      <th>vote_count</th>\n",
       "      <th>vote_average</th>\n",
       "    </tr>\n",
       "  </thead>\n",
       "  <tbody>\n",
       "    <tr>\n",
       "      <th>7901</th>\n",
       "      <td><img src='http://image.tmdb.org/t/p/w185//dEYnvnUfXrqvqeRSqvIEtmzhoA8.jpg' style='height:100px;'></td>\n",
       "      <td>The Dark Knight Rises</td>\n",
       "      <td>Following the death of District Attorney Harvey Dent, Batman assumes responsibility for Dent's crimes to protect the late attorney's reputation and is subsequently hunted by the Gotham City Police Department. Eight years later, Batman encounters the mysterious Selina Kyle and the villainous Bane, a new terrorist leader who overwhelms Gotham's finest. The Dark Knight resurfaces to protect a city that has branded him an enemy.The Legend Ends</td>\n",
       "      <td>2012</td>\n",
       "      <td>9263.0</td>\n",
       "      <td>7.6</td>\n",
       "    </tr>\n",
       "    <tr>\n",
       "      <th>6125</th>\n",
       "      <td><img src='http://image.tmdb.org/t/p/w185//dr6x4GyyegBWtinPBzipY02J2lV.jpg' style='height:100px;'></td>\n",
       "      <td>Batman Begins</td>\n",
       "      <td>Driven by tragedy, billionaire Bruce Wayne dedicates his life to uncovering and defeating the corruption that plagues his home, Gotham City.  Unable to work within the system, he instead creates a new identity, a symbol of fear for the criminal underworld - The Batman.Evil fears the knight.</td>\n",
       "      <td>2005</td>\n",
       "      <td>7511.0</td>\n",
       "      <td>7.5</td>\n",
       "    </tr>\n",
       "    <tr>\n",
       "      <th>6518</th>\n",
       "      <td><img src='http://image.tmdb.org/t/p/w185//5MXyQfz8xUP3dIFPTubhTsbFY6N.jpg' style='height:100px;'></td>\n",
       "      <td>The Prestige</td>\n",
       "      <td>A mysterious story of two magicians whose intense rivalry leads them on a life-long battle for supremacy -- full of obsession, deceit and jealousy with dangerous and deadly consequences.Are You Watching Closely?</td>\n",
       "      <td>2006</td>\n",
       "      <td>4510.0</td>\n",
       "      <td>8.0</td>\n",
       "    </tr>\n",
       "    <tr>\n",
       "      <th>2064</th>\n",
       "      <td><img src='http://image.tmdb.org/t/p/w185//uoWnnSlUIWjqUXxfIej3ucAxg7J.jpg' style='height:100px;'></td>\n",
       "      <td>Following</td>\n",
       "      <td>A struggling, unemployed young writer takes to following strangers around the streets of London, ostensibly to find inspiration for his new novel.</td>\n",
       "      <td>1998</td>\n",
       "      <td>363.0</td>\n",
       "      <td>7.2</td>\n",
       "    </tr>\n",
       "    <tr>\n",
       "      <th>7526</th>\n",
       "      <td><img src='http://image.tmdb.org/t/p/w185//qmDpIHrmpJINaRKAfWQfftjCdyi.jpg' style='height:100px;'></td>\n",
       "      <td>Inception</td>\n",
       "      <td>Cobb, a skilled thief who commits corporate espionage by infiltrating the subconscious of his targets is offered a chance to regain his old life as payment for a task considered to be impossible: \"inception\", the implantation of another person's idea into a target's subconscious.Your mind is the scene of the crime.</td>\n",
       "      <td>2010</td>\n",
       "      <td>14075.0</td>\n",
       "      <td>8.1</td>\n",
       "    </tr>\n",
       "    <tr>\n",
       "      <th>4099</th>\n",
       "      <td><img src='http://image.tmdb.org/t/p/w185//zb0D3vfjcPFvuyHp1mFPOIcYJWH.jpg' style='height:100px;'></td>\n",
       "      <td>Insomnia</td>\n",
       "      <td>Two Los Angeles homicide detectives are dispatched to a northern town where the sun doesn't set to investigate the methodical murder of a local teen.A tough cop. A brilliant killer. An unspeakable crime.</td>\n",
       "      <td>2002</td>\n",
       "      <td>1181.0</td>\n",
       "      <td>6.8</td>\n",
       "    </tr>\n",
       "    <tr>\n",
       "      <th>3360</th>\n",
       "      <td><img src='http://image.tmdb.org/t/p/w185//fQMSaP88cf1nz4qwuNEEFtazuDM.jpg' style='height:100px;'></td>\n",
       "      <td>Memento</td>\n",
       "      <td>Suffering short-term memory loss after a head injury, Leonard Shelby embarks on a grim quest to find the lowlife who murdered his wife in this gritty, complex thriller that packs more knots than a hangman's noose. To carry out his plan, Shelby snaps Polaroids of people and places, jotting down contextual notes on the backs of photos to aid in his search and jog his memory. He even tattoos his own body in a desperate bid to remember.Some memories are best forgotten.</td>\n",
       "      <td>2000</td>\n",
       "      <td>4168.0</td>\n",
       "      <td>8.1</td>\n",
       "    </tr>\n",
       "    <tr>\n",
       "      <th>8472</th>\n",
       "      <td><img src='http://image.tmdb.org/t/p/w185//nBNZadXqJSdt05SHLqgT0HuC5Gm.jpg' style='height:100px;'></td>\n",
       "      <td>Interstellar</td>\n",
       "      <td>Interstellar chronicles the adventures of a group of explorers who make use of a newly discovered wormhole to surpass the limitations on human space travel and conquer the vast distances involved in an interstellar voyage.Mankind was born on Earth. It was never meant to die here.</td>\n",
       "      <td>2014</td>\n",
       "      <td>11187.0</td>\n",
       "      <td>8.1</td>\n",
       "    </tr>\n",
       "    <tr>\n",
       "      <th>7537</th>\n",
       "      <td><img src='http://image.tmdb.org/t/p/w185//78kjgspmLLOm2Glgpzqo9cS4GpI.jpg' style='height:100px;'></td>\n",
       "      <td>Batman: Under the Red Hood</td>\n",
       "      <td>Batman faces his ultimate challenge as the mysterious Red Hood takes Gotham City by firestorm. One part vigilante, one part criminal kingpin, Red Hood begins cleaning up Gotham with the efficiency of Batman, but without following the same ethical code.Dare to Look Beneath the Hood.</td>\n",
       "      <td>2010</td>\n",
       "      <td>459.0</td>\n",
       "      <td>7.6</td>\n",
       "    </tr>\n",
       "    <tr>\n",
       "      <th>1113</th>\n",
       "      <td><img src='http://image.tmdb.org/t/p/w185//jX5THE1yW3zTdeD9dupcIyQvKiG.jpg' style='height:100px;'></td>\n",
       "      <td>Batman Returns</td>\n",
       "      <td>Having defeated the Joker, Batman now faces the Penguin - a warped and deformed individual who is intent on being accepted into Gotham society. Crooked businessman Max Schreck is coerced into helping him become Mayor of Gotham and they both attempt to expose Batman in a different light. Selina Kyle, Max's secretary, is thrown from the top of a building and is transformed into Catwoman - a mysterious figure who has the same personality disorder as Batman. Batman must attempt to clear his name, all the time deciding just what must be done with the Catwoman.The Bat, the Cat, the Penguin.</td>\n",
       "      <td>1992</td>\n",
       "      <td>1706.0</td>\n",
       "      <td>6.6</td>\n",
       "    </tr>\n",
       "  </tbody>\n",
       "</table>"
      ],
      "text/plain": [
       "<IPython.core.display.HTML object>"
      ]
     },
     "execution_count": 51,
     "metadata": {},
     "output_type": "execute_result"
    }
   ],
   "source": [
    "result = get_recommendations_ver2(\"The Dark Knight\",11)\n",
    "for i in result:\n",
    "    list_movie_result = result[i] \n",
    "graph_result(list_movie_result)    "
   ]
  },
  {
   "cell_type": "markdown",
   "metadata": {},
   "source": [
    "## Collaborative Filtering "
   ]
  },
  {
   "cell_type": "code",
   "execution_count": null,
   "metadata": {},
   "outputs": [],
   "source": []
  }
 ],
 "metadata": {
  "kernelspec": {
   "display_name": "Python 3",
   "language": "python",
   "name": "python3"
  },
  "language_info": {
   "codemirror_mode": {
    "name": "ipython",
    "version": 3
   },
   "file_extension": ".py",
   "mimetype": "text/x-python",
   "name": "python",
   "nbconvert_exporter": "python",
   "pygments_lexer": "ipython3",
   "version": "3.6.8"
  }
 },
 "nbformat": 4,
 "nbformat_minor": 2
}
