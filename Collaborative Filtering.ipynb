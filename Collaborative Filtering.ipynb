{
 "cells": [
  {
   "cell_type": "markdown",
   "metadata": {},
   "source": [
    "## Library"
   ]
  },
  {
   "cell_type": "code",
   "execution_count": 53,
   "metadata": {},
   "outputs": [],
   "source": [
    "import pandas as pd\n",
    "import numpy as np\n",
    "import pickle\n",
    "import operator\n",
    "\n",
    "\n",
    "from collections import Counter\n",
    "from surprise.model_selection import cross_validate\n",
    "from surprise import KNNBasic\n",
    "from surprise import Reader, SVD, Dataset \n",
    "from scipy import sparse\n",
    "from sklearn.metrics.pairwise import cosine_similarity"
   ]
  },
  {
   "cell_type": "markdown",
   "metadata": {},
   "source": [
    "## Loading Data"
   ]
  },
  {
   "cell_type": "code",
   "execution_count": 2,
   "metadata": {},
   "outputs": [],
   "source": [
    "smd = pd.read_csv('../the-movies-dataset/movies_metadata_equal_ratings.csv')\n",
    "ratings = pd.read_csv('../the-movies-dataset/ratings_equal_movies_metadata.csv')\n",
    "train = pd.read_csv('../the-movies-dataset/ratings_train.csv')\n",
    "test = pd.read_csv('../the-movies-dataset/ratings_test.csv')"
   ]
  },
  {
   "cell_type": "code",
   "execution_count": 3,
   "metadata": {},
   "outputs": [
    {
     "data": {
      "text/plain": [
       "(9025, 26)"
      ]
     },
     "execution_count": 3,
     "metadata": {},
     "output_type": "execute_result"
    }
   ],
   "source": [
    "smd.shape"
   ]
  },
  {
   "cell_type": "code",
   "execution_count": 60,
   "metadata": {},
   "outputs": [],
   "source": [
    "N = smd.shape[0]"
   ]
  },
  {
   "cell_type": "code",
   "execution_count": 4,
   "metadata": {},
   "outputs": [
    {
     "data": {
      "text/html": [
       "<div>\n",
       "<style scoped>\n",
       "    .dataframe tbody tr th:only-of-type {\n",
       "        vertical-align: middle;\n",
       "    }\n",
       "\n",
       "    .dataframe tbody tr th {\n",
       "        vertical-align: top;\n",
       "    }\n",
       "\n",
       "    .dataframe thead th {\n",
       "        text-align: right;\n",
       "    }\n",
       "</style>\n",
       "<table border=\"1\" class=\"dataframe\">\n",
       "  <thead>\n",
       "    <tr style=\"text-align: right;\">\n",
       "      <th></th>\n",
       "      <th>userId</th>\n",
       "      <th>id</th>\n",
       "      <th>rating</th>\n",
       "      <th>movieId</th>\n",
       "      <th>timestamp</th>\n",
       "      <th>movieIndex</th>\n",
       "    </tr>\n",
       "  </thead>\n",
       "  <tbody>\n",
       "    <tr>\n",
       "      <th>0</th>\n",
       "      <td>0</td>\n",
       "      <td>152.0</td>\n",
       "      <td>2.5</td>\n",
       "      <td>1371</td>\n",
       "      <td>1260759135</td>\n",
       "      <td>1107</td>\n",
       "    </tr>\n",
       "    <tr>\n",
       "      <th>1</th>\n",
       "      <td>0</td>\n",
       "      <td>9909.0</td>\n",
       "      <td>2.5</td>\n",
       "      <td>31</td>\n",
       "      <td>1260759144</td>\n",
       "      <td>30</td>\n",
       "    </tr>\n",
       "    <tr>\n",
       "      <th>2</th>\n",
       "      <td>0</td>\n",
       "      <td>847.0</td>\n",
       "      <td>2.0</td>\n",
       "      <td>2193</td>\n",
       "      <td>1260759198</td>\n",
       "      <td>1739</td>\n",
       "    </tr>\n",
       "    <tr>\n",
       "      <th>3</th>\n",
       "      <td>0</td>\n",
       "      <td>9426.0</td>\n",
       "      <td>2.5</td>\n",
       "      <td>2455</td>\n",
       "      <td>1260759113</td>\n",
       "      <td>1958</td>\n",
       "    </tr>\n",
       "    <tr>\n",
       "      <th>4</th>\n",
       "      <td>0</td>\n",
       "      <td>6114.0</td>\n",
       "      <td>3.5</td>\n",
       "      <td>1339</td>\n",
       "      <td>1260759125</td>\n",
       "      <td>1079</td>\n",
       "    </tr>\n",
       "    <tr>\n",
       "      <th>...</th>\n",
       "      <td>...</td>\n",
       "      <td>...</td>\n",
       "      <td>...</td>\n",
       "      <td>...</td>\n",
       "      <td>...</td>\n",
       "      <td>...</td>\n",
       "    </tr>\n",
       "    <tr>\n",
       "      <th>99805</th>\n",
       "      <td>670</td>\n",
       "      <td>786.0</td>\n",
       "      <td>2.0</td>\n",
       "      <td>3897</td>\n",
       "      <td>1063503718</td>\n",
       "      <td>3108</td>\n",
       "    </tr>\n",
       "    <tr>\n",
       "      <th>99806</th>\n",
       "      <td>670</td>\n",
       "      <td>7443.0</td>\n",
       "      <td>4.0</td>\n",
       "      <td>3751</td>\n",
       "      <td>1065111939</td>\n",
       "      <td>2995</td>\n",
       "    </tr>\n",
       "    <tr>\n",
       "      <th>99807</th>\n",
       "      <td>670</td>\n",
       "      <td>1891.0</td>\n",
       "      <td>5.0</td>\n",
       "      <td>1196</td>\n",
       "      <td>1064890635</td>\n",
       "      <td>949</td>\n",
       "    </tr>\n",
       "    <tr>\n",
       "      <th>99808</th>\n",
       "      <td>670</td>\n",
       "      <td>279.0</td>\n",
       "      <td>4.0</td>\n",
       "      <td>1225</td>\n",
       "      <td>1065149143</td>\n",
       "      <td>977</td>\n",
       "    </tr>\n",
       "    <tr>\n",
       "      <th>99809</th>\n",
       "      <td>670</td>\n",
       "      <td>5503.0</td>\n",
       "      <td>4.0</td>\n",
       "      <td>457</td>\n",
       "      <td>1065149159</td>\n",
       "      <td>406</td>\n",
       "    </tr>\n",
       "  </tbody>\n",
       "</table>\n",
       "<p>99810 rows × 6 columns</p>\n",
       "</div>"
      ],
      "text/plain": [
       "       userId      id  rating  movieId   timestamp  movieIndex\n",
       "0           0   152.0     2.5     1371  1260759135        1107\n",
       "1           0  9909.0     2.5       31  1260759144          30\n",
       "2           0   847.0     2.0     2193  1260759198        1739\n",
       "3           0  9426.0     2.5     2455  1260759113        1958\n",
       "4           0  6114.0     3.5     1339  1260759125        1079\n",
       "...       ...     ...     ...      ...         ...         ...\n",
       "99805     670   786.0     2.0     3897  1063503718        3108\n",
       "99806     670  7443.0     4.0     3751  1065111939        2995\n",
       "99807     670  1891.0     5.0     1196  1064890635         949\n",
       "99808     670   279.0     4.0     1225  1065149143         977\n",
       "99809     670  5503.0     4.0      457  1065149159         406\n",
       "\n",
       "[99810 rows x 6 columns]"
      ]
     },
     "execution_count": 4,
     "metadata": {},
     "output_type": "execute_result"
    }
   ],
   "source": [
    "ratings"
   ]
  },
  {
   "cell_type": "markdown",
   "metadata": {},
   "source": [
    "## Collaborative Filter Using Suprise Framework "
   ]
  },
  {
   "cell_type": "code",
   "execution_count": 5,
   "metadata": {},
   "outputs": [],
   "source": [
    "#sim_options = {'name': 'cosine',\n",
    "#               'user_based': True  # compute  similarities between items\n",
    "#               }\n",
    "#algo = KNNBasic(sim_options=sim_options)"
   ]
  },
  {
   "cell_type": "code",
   "execution_count": 6,
   "metadata": {},
   "outputs": [],
   "source": [
    "reader = Reader()\n",
    "algo = SVD()"
   ]
  },
  {
   "cell_type": "code",
   "execution_count": 7,
   "metadata": {},
   "outputs": [
    {
     "name": "stdout",
     "output_type": "stream",
     "text": [
      "Evaluating RMSE, MAE of algorithm SVD on 5 split(s).\n",
      "\n",
      "                  Fold 1  Fold 2  Fold 3  Fold 4  Fold 5  Mean    Std     \n",
      "RMSE (testset)    0.9116  0.9054  0.9020  0.8970  0.9119  0.9056  0.0057  \n",
      "MAE (testset)     0.6975  0.6985  0.6964  0.6946  0.7042  0.6982  0.0033  \n",
      "Fit time          7.11    5.82    5.47    5.31    5.23    5.79    0.69    \n",
      "Test time         0.42    0.19    0.30    0.22    0.33    0.29    0.08    \n"
     ]
    },
    {
     "data": {
      "text/plain": [
       "{'test_rmse': array([0.91163727, 0.90537413, 0.90199026, 0.89701741, 0.91187766]),\n",
       " 'test_mae': array([0.69745081, 0.69850584, 0.69636692, 0.69462958, 0.70421301]),\n",
       " 'fit_time': (7.111264944076538,\n",
       "  5.820726156234741,\n",
       "  5.472599267959595,\n",
       "  5.313228368759155,\n",
       "  5.233631134033203),\n",
       " 'test_time': (0.4241001605987549,\n",
       "  0.19103026390075684,\n",
       "  0.30051350593566895,\n",
       "  0.2176826000213623,\n",
       "  0.3325223922729492)}"
      ]
     },
     "execution_count": 7,
     "metadata": {},
     "output_type": "execute_result"
    }
   ],
   "source": [
    "train_subject = Dataset.load_from_df(train[['userId', 'movieIndex', 'rating']], reader)\n",
    "cross_validate(algo, train_subject, measures=['RMSE', 'MAE'], cv=5, verbose=True)"
   ]
  },
  {
   "cell_type": "code",
   "execution_count": 8,
   "metadata": {},
   "outputs": [
    {
     "data": {
      "text/html": [
       "<div>\n",
       "<style scoped>\n",
       "    .dataframe tbody tr th:only-of-type {\n",
       "        vertical-align: middle;\n",
       "    }\n",
       "\n",
       "    .dataframe tbody tr th {\n",
       "        vertical-align: top;\n",
       "    }\n",
       "\n",
       "    .dataframe thead th {\n",
       "        text-align: right;\n",
       "    }\n",
       "</style>\n",
       "<table border=\"1\" class=\"dataframe\">\n",
       "  <thead>\n",
       "    <tr style=\"text-align: right;\">\n",
       "      <th></th>\n",
       "      <th>userId</th>\n",
       "      <th>id</th>\n",
       "      <th>rating</th>\n",
       "      <th>movieId</th>\n",
       "      <th>timestamp</th>\n",
       "      <th>movieIndex</th>\n",
       "    </tr>\n",
       "  </thead>\n",
       "  <tbody>\n",
       "    <tr>\n",
       "      <th>0</th>\n",
       "      <td>0</td>\n",
       "      <td>36819.0</td>\n",
       "      <td>1.0</td>\n",
       "      <td>2968</td>\n",
       "      <td>1260759200</td>\n",
       "      <td>2375</td>\n",
       "    </tr>\n",
       "    <tr>\n",
       "      <th>1</th>\n",
       "      <td>0</td>\n",
       "      <td>9426.0</td>\n",
       "      <td>2.5</td>\n",
       "      <td>2455</td>\n",
       "      <td>1260759113</td>\n",
       "      <td>1958</td>\n",
       "    </tr>\n",
       "    <tr>\n",
       "      <th>2</th>\n",
       "      <td>0</td>\n",
       "      <td>152.0</td>\n",
       "      <td>2.5</td>\n",
       "      <td>1371</td>\n",
       "      <td>1260759135</td>\n",
       "      <td>1107</td>\n",
       "    </tr>\n",
       "    <tr>\n",
       "      <th>3</th>\n",
       "      <td>0</td>\n",
       "      <td>1598.0</td>\n",
       "      <td>2.0</td>\n",
       "      <td>1343</td>\n",
       "      <td>1260759131</td>\n",
       "      <td>1083</td>\n",
       "    </tr>\n",
       "    <tr>\n",
       "      <th>4</th>\n",
       "      <td>0</td>\n",
       "      <td>665.0</td>\n",
       "      <td>2.0</td>\n",
       "      <td>1287</td>\n",
       "      <td>1260759187</td>\n",
       "      <td>1037</td>\n",
       "    </tr>\n",
       "    <tr>\n",
       "      <th>...</th>\n",
       "      <td>...</td>\n",
       "      <td>...</td>\n",
       "      <td>...</td>\n",
       "      <td>...</td>\n",
       "      <td>...</td>\n",
       "      <td>...</td>\n",
       "    </tr>\n",
       "    <tr>\n",
       "      <th>79843</th>\n",
       "      <td>670</td>\n",
       "      <td>161.0</td>\n",
       "      <td>4.5</td>\n",
       "      <td>4963</td>\n",
       "      <td>1065111855</td>\n",
       "      <td>3838</td>\n",
       "    </tr>\n",
       "    <tr>\n",
       "      <th>79844</th>\n",
       "      <td>670</td>\n",
       "      <td>9377.0</td>\n",
       "      <td>4.0</td>\n",
       "      <td>2918</td>\n",
       "      <td>1065149106</td>\n",
       "      <td>2335</td>\n",
       "    </tr>\n",
       "    <tr>\n",
       "      <th>79845</th>\n",
       "      <td>670</td>\n",
       "      <td>134.0</td>\n",
       "      <td>4.0</td>\n",
       "      <td>4027</td>\n",
       "      <td>1063500993</td>\n",
       "      <td>3223</td>\n",
       "    </tr>\n",
       "    <tr>\n",
       "      <th>79846</th>\n",
       "      <td>670</td>\n",
       "      <td>165.0</td>\n",
       "      <td>3.5</td>\n",
       "      <td>2011</td>\n",
       "      <td>1063500873</td>\n",
       "      <td>1569</td>\n",
       "    </tr>\n",
       "    <tr>\n",
       "      <th>79847</th>\n",
       "      <td>670</td>\n",
       "      <td>531.0</td>\n",
       "      <td>5.0</td>\n",
       "      <td>1148</td>\n",
       "      <td>1064891021</td>\n",
       "      <td>912</td>\n",
       "    </tr>\n",
       "  </tbody>\n",
       "</table>\n",
       "<p>79848 rows × 6 columns</p>\n",
       "</div>"
      ],
      "text/plain": [
       "       userId       id  rating  movieId   timestamp  movieIndex\n",
       "0           0  36819.0     1.0     2968  1260759200        2375\n",
       "1           0   9426.0     2.5     2455  1260759113        1958\n",
       "2           0    152.0     2.5     1371  1260759135        1107\n",
       "3           0   1598.0     2.0     1343  1260759131        1083\n",
       "4           0    665.0     2.0     1287  1260759187        1037\n",
       "...       ...      ...     ...      ...         ...         ...\n",
       "79843     670    161.0     4.5     4963  1065111855        3838\n",
       "79844     670   9377.0     4.0     2918  1065149106        2335\n",
       "79845     670    134.0     4.0     4027  1063500993        3223\n",
       "79846     670    165.0     3.5     2011  1063500873        1569\n",
       "79847     670    531.0     5.0     1148  1064891021         912\n",
       "\n",
       "[79848 rows x 6 columns]"
      ]
     },
     "execution_count": 8,
     "metadata": {},
     "output_type": "execute_result"
    }
   ],
   "source": [
    "train"
   ]
  },
  {
   "cell_type": "code",
   "execution_count": 9,
   "metadata": {},
   "outputs": [
    {
     "data": {
      "text/plain": [
       "<surprise.prediction_algorithms.matrix_factorization.SVD at 0x7f859af04c50>"
      ]
     },
     "execution_count": 9,
     "metadata": {},
     "output_type": "execute_result"
    }
   ],
   "source": [
    "trainSet = train_subject.build_full_trainset()\n",
    "algo.fit(trainSet)"
   ]
  },
  {
   "cell_type": "code",
   "execution_count": 10,
   "metadata": {},
   "outputs": [],
   "source": [
    "#testSet = trainSet.build_anti_testset()\n",
    "#predictions = algo.test(testSet)"
   ]
  },
  {
   "cell_type": "code",
   "execution_count": 40,
   "metadata": {},
   "outputs": [],
   "source": [
    "#predict_rating_result = []\n",
    "#for index, row in test.iterrows():\n",
    "#    predict_rating_result.append(algo.predict(row.userId, row.movieIndex, 3).est)"
   ]
  },
  {
   "cell_type": "code",
   "execution_count": 99,
   "metadata": {},
   "outputs": [],
   "source": [
    "predict_rating_result = {}\n",
    "for index, row in test.iterrows():\n",
    "    predict_rating_result[row.userId,row.movieIndex] = algo.predict(row.userId, row.movieIndex, 3).est"
   ]
  },
  {
   "cell_type": "code",
   "execution_count": 45,
   "metadata": {},
   "outputs": [
    {
     "data": {
      "text/plain": [
       "19962"
      ]
     },
     "execution_count": 45,
     "metadata": {},
     "output_type": "execute_result"
    }
   ],
   "source": [
    "len(predict_rating_result)"
   ]
  },
  {
   "cell_type": "code",
   "execution_count": 48,
   "metadata": {},
   "outputs": [
    {
     "data": {
      "text/html": [
       "<div>\n",
       "<style scoped>\n",
       "    .dataframe tbody tr th:only-of-type {\n",
       "        vertical-align: middle;\n",
       "    }\n",
       "\n",
       "    .dataframe tbody tr th {\n",
       "        vertical-align: top;\n",
       "    }\n",
       "\n",
       "    .dataframe thead th {\n",
       "        text-align: right;\n",
       "    }\n",
       "</style>\n",
       "<table border=\"1\" class=\"dataframe\">\n",
       "  <thead>\n",
       "    <tr style=\"text-align: right;\">\n",
       "      <th></th>\n",
       "      <th>userId</th>\n",
       "      <th>id</th>\n",
       "      <th>rating</th>\n",
       "      <th>movieId</th>\n",
       "      <th>timestamp</th>\n",
       "      <th>movieIndex</th>\n",
       "      <th>pred</th>\n",
       "    </tr>\n",
       "  </thead>\n",
       "  <tbody>\n",
       "    <tr>\n",
       "      <th>0</th>\n",
       "      <td>0</td>\n",
       "      <td>9909.0</td>\n",
       "      <td>2.5</td>\n",
       "      <td>31</td>\n",
       "      <td>1260759144</td>\n",
       "      <td>30</td>\n",
       "      <td>2.572320</td>\n",
       "    </tr>\n",
       "    <tr>\n",
       "      <th>1</th>\n",
       "      <td>0</td>\n",
       "      <td>847.0</td>\n",
       "      <td>2.0</td>\n",
       "      <td>2193</td>\n",
       "      <td>1260759198</td>\n",
       "      <td>1739</td>\n",
       "      <td>2.378862</td>\n",
       "    </tr>\n",
       "    <tr>\n",
       "      <th>2</th>\n",
       "      <td>0</td>\n",
       "      <td>97.0</td>\n",
       "      <td>4.0</td>\n",
       "      <td>2105</td>\n",
       "      <td>1260759139</td>\n",
       "      <td>1661</td>\n",
       "      <td>2.665476</td>\n",
       "    </tr>\n",
       "    <tr>\n",
       "      <th>3</th>\n",
       "      <td>0</td>\n",
       "      <td>11216.0</td>\n",
       "      <td>4.0</td>\n",
       "      <td>1172</td>\n",
       "      <td>1260759205</td>\n",
       "      <td>927</td>\n",
       "      <td>3.691603</td>\n",
       "    </tr>\n",
       "    <tr>\n",
       "      <th>4</th>\n",
       "      <td>0</td>\n",
       "      <td>1103.0</td>\n",
       "      <td>2.0</td>\n",
       "      <td>1129</td>\n",
       "      <td>1260759185</td>\n",
       "      <td>903</td>\n",
       "      <td>2.550290</td>\n",
       "    </tr>\n",
       "    <tr>\n",
       "      <th>...</th>\n",
       "      <td>...</td>\n",
       "      <td>...</td>\n",
       "      <td>...</td>\n",
       "      <td>...</td>\n",
       "      <td>...</td>\n",
       "      <td>...</td>\n",
       "      <td>...</td>\n",
       "    </tr>\n",
       "    <tr>\n",
       "      <th>19957</th>\n",
       "      <td>670</td>\n",
       "      <td>11310.0</td>\n",
       "      <td>2.5</td>\n",
       "      <td>432</td>\n",
       "      <td>1063503739</td>\n",
       "      <td>381</td>\n",
       "      <td>2.823411</td>\n",
       "    </tr>\n",
       "    <tr>\n",
       "      <th>19958</th>\n",
       "      <td>670</td>\n",
       "      <td>712.0</td>\n",
       "      <td>3.0</td>\n",
       "      <td>357</td>\n",
       "      <td>1063503998</td>\n",
       "      <td>322</td>\n",
       "      <td>3.827776</td>\n",
       "    </tr>\n",
       "    <tr>\n",
       "      <th>19959</th>\n",
       "      <td>670</td>\n",
       "      <td>630.0</td>\n",
       "      <td>4.0</td>\n",
       "      <td>919</td>\n",
       "      <td>1065149458</td>\n",
       "      <td>737</td>\n",
       "      <td>4.050632</td>\n",
       "    </tr>\n",
       "    <tr>\n",
       "      <th>19960</th>\n",
       "      <td>670</td>\n",
       "      <td>687.0</td>\n",
       "      <td>4.0</td>\n",
       "      <td>36</td>\n",
       "      <td>1065149314</td>\n",
       "      <td>34</td>\n",
       "      <td>3.834403</td>\n",
       "    </tr>\n",
       "    <tr>\n",
       "      <th>19961</th>\n",
       "      <td>670</td>\n",
       "      <td>530.0</td>\n",
       "      <td>3.0</td>\n",
       "      <td>1223</td>\n",
       "      <td>1064891236</td>\n",
       "      <td>975</td>\n",
       "      <td>3.994494</td>\n",
       "    </tr>\n",
       "  </tbody>\n",
       "</table>\n",
       "<p>19962 rows × 7 columns</p>\n",
       "</div>"
      ],
      "text/plain": [
       "       userId       id  rating  movieId   timestamp  movieIndex      pred\n",
       "0           0   9909.0     2.5       31  1260759144          30  2.572320\n",
       "1           0    847.0     2.0     2193  1260759198        1739  2.378862\n",
       "2           0     97.0     4.0     2105  1260759139        1661  2.665476\n",
       "3           0  11216.0     4.0     1172  1260759205         927  3.691603\n",
       "4           0   1103.0     2.0     1129  1260759185         903  2.550290\n",
       "...       ...      ...     ...      ...         ...         ...       ...\n",
       "19957     670  11310.0     2.5      432  1063503739         381  2.823411\n",
       "19958     670    712.0     3.0      357  1063503998         322  3.827776\n",
       "19959     670    630.0     4.0      919  1065149458         737  4.050632\n",
       "19960     670    687.0     4.0       36  1065149314          34  3.834403\n",
       "19961     670    530.0     3.0     1223  1064891236         975  3.994494\n",
       "\n",
       "[19962 rows x 7 columns]"
      ]
     },
     "execution_count": 48,
     "metadata": {},
     "output_type": "execute_result"
    }
   ],
   "source": [
    "test['pred'] = predict_rating_result.values()    \n",
    "test"
   ]
  },
  {
   "cell_type": "code",
   "execution_count": 14,
   "metadata": {},
   "outputs": [
    {
     "data": {
      "text/plain": [
       "(19962, 7)"
      ]
     },
     "execution_count": 14,
     "metadata": {},
     "output_type": "execute_result"
    }
   ],
   "source": [
    "test.shape"
   ]
  },
  {
   "cell_type": "code",
   "execution_count": 49,
   "metadata": {},
   "outputs": [
    {
     "data": {
      "text/plain": [
       "0.8959977537790521"
      ]
     },
     "execution_count": 49,
     "metadata": {},
     "output_type": "execute_result"
    }
   ],
   "source": [
    "se = 0\n",
    "for index, row in test.iterrows():\n",
    "    e = row.rating - row.pred\n",
    "    se += e*e\n",
    "np.sqrt(se/test.shape[0])    "
   ]
  },
  {
   "cell_type": "markdown",
   "metadata": {},
   "source": [
    "## Predict Movie Have Not Rated Yet"
   ]
  },
  {
   "cell_type": "code",
   "execution_count": 63,
   "metadata": {},
   "outputs": [],
   "source": [
    "train_matrix = train[['userId','movieIndex']].values"
   ]
  },
  {
   "cell_type": "code",
   "execution_count": 133,
   "metadata": {},
   "outputs": [],
   "source": [
    "def pred_movies_not_in_train(rate_matrix):\n",
    "    users = rate_matrix[:,0]\n",
    "    result = {}\n",
    "    n_users = int(np.max(rate_matrix[:, 0])) + 1\n",
    "    for i in range(n_users):\n",
    "        result[i] = []\n",
    "        ids = np.where(users == i)[0].astype(np.int32)\n",
    "        item_ids = rate_matrix[ids,1]\n",
    "        for j in range(N):\n",
    "            if j not in item_ids: result[i].append(j)\n",
    "    \n",
    "    return result            "
   ]
  },
  {
   "cell_type": "code",
   "execution_count": 134,
   "metadata": {},
   "outputs": [],
   "source": [
    "result = pred_movies_not_in_train(train_matrix)"
   ]
  },
  {
   "cell_type": "code",
   "execution_count": 136,
   "metadata": {},
   "outputs": [
    {
     "data": {
      "text/plain": [
       "(9010, 671)"
      ]
     },
     "execution_count": 136,
     "metadata": {},
     "output_type": "execute_result"
    }
   ],
   "source": [
    "len(result[0]),len(result)"
   ]
  },
  {
   "cell_type": "code",
   "execution_count": 137,
   "metadata": {},
   "outputs": [],
   "source": [
    "predict_rating_result = {}\n",
    "for user in result:\n",
    "    for j in result[user]:\n",
    "        predict_rating_result[user,j] = algo.predict(user, j, 3).est"
   ]
  },
  {
   "cell_type": "code",
   "execution_count": 140,
   "metadata": {},
   "outputs": [
    {
     "data": {
      "text/plain": [
       "9010"
      ]
     },
     "execution_count": 140,
     "metadata": {},
     "output_type": "execute_result"
    }
   ],
   "source": [
    "user0 = {}\n",
    "for i in predict_rating_result:\n",
    "    if i[0] == 0: user0[i[1]] = predict_rating_result[i] \n",
    "len(user0)   "
   ]
  },
  {
   "cell_type": "code",
   "execution_count": 56,
   "metadata": {},
   "outputs": [],
   "source": [
    "def collaborative_fillter_recommender(userId,predict_rating_result):\n",
    "    result = {}\n",
    "    list_movie = []\n",
    "    for i in predict_rating_result:\n",
    "        if i[0] == userId:\n",
    "            result[i[1]] = predict_rating_result[i]\n",
    "    result = sorted(result.items(), key=operator.itemgetter(1),reverse=True)\n",
    "    for i in result:\n",
    "        list_movie.append(i[0])\n",
    "    return list_movie       "
   ]
  },
  {
   "cell_type": "code",
   "execution_count": 57,
   "metadata": {},
   "outputs": [
    {
     "data": {
      "text/plain": [
       "[927.0, 1661.0, 30.0, 903.0, 1739.0]"
      ]
     },
     "execution_count": 57,
     "metadata": {},
     "output_type": "execute_result"
    }
   ],
   "source": [
    "collaborative_fillter_recommender(0,predict_rating_result)"
   ]
  },
  {
   "cell_type": "code",
   "execution_count": 141,
   "metadata": {},
   "outputs": [],
   "source": [
    "f = open('predict_rating_result.pckl', 'wb')\n",
    "pickle.dump(predict_rating_result, f)\n",
    "\n",
    "f.close()"
   ]
  },
  {
   "cell_type": "code",
   "execution_count": null,
   "metadata": {},
   "outputs": [],
   "source": []
  }
 ],
 "metadata": {
  "kernelspec": {
   "display_name": "Python 3",
   "language": "python",
   "name": "python3"
  },
  "language_info": {
   "codemirror_mode": {
    "name": "ipython",
    "version": 3
   },
   "file_extension": ".py",
   "mimetype": "text/x-python",
   "name": "python",
   "nbconvert_exporter": "python",
   "pygments_lexer": "ipython3",
   "version": "3.6.8"
  }
 },
 "nbformat": 4,
 "nbformat_minor": 2
}
