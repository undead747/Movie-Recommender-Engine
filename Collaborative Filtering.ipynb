{
 "cells": [
  {
   "cell_type": "markdown",
   "metadata": {},
   "source": [
    "## Library"
   ]
  },
  {
   "cell_type": "code",
   "execution_count": 74,
   "metadata": {},
   "outputs": [],
   "source": [
    "import pandas as pd\n",
    "import numpy as np\n",
    "\n",
    "from collections import Counter\n",
    "from surprise.model_selection import cross_validate\n",
    "from surprise import KNNBasic\n",
    "from surprise import Reader, SVD, Dataset \n",
    "from scipy import sparse\n",
    "from sklearn.metrics.pairwise import cosine_similarity"
   ]
  },
  {
   "cell_type": "markdown",
   "metadata": {},
   "source": [
    "## Loading Data"
   ]
  },
  {
   "cell_type": "code",
   "execution_count": 2,
   "metadata": {},
   "outputs": [],
   "source": [
    "smd = pd.read_csv('../the-movies-dataset/movies_metadata_merge_crew_keywords.csv')\n",
    "id_map = pd.read_csv('../the-movies-dataset/links_small.csv')[['movieId','tmdbId']]"
   ]
  },
  {
   "cell_type": "code",
   "execution_count": 3,
   "metadata": {},
   "outputs": [
    {
     "data": {
      "text/plain": [
       "416437"
      ]
     },
     "execution_count": 3,
     "metadata": {},
     "output_type": "execute_result"
    }
   ],
   "source": [
    "smd.id.max()"
   ]
  },
  {
   "cell_type": "code",
   "execution_count": 4,
   "metadata": {},
   "outputs": [],
   "source": [
    "titles = smd['title']"
   ]
  },
  {
   "cell_type": "code",
   "execution_count": 5,
   "metadata": {},
   "outputs": [],
   "source": [
    "def convert_int(x):\n",
    "    try:\n",
    "        return int(x)\n",
    "    except:\n",
    "        return np.nan"
   ]
  },
  {
   "cell_type": "code",
   "execution_count": 6,
   "metadata": {},
   "outputs": [],
   "source": [
    "id_map['tmdbId'] = id_map['tmdbId'].apply(convert_int)\n",
    "id_map.columns = ['movieId','id']"
   ]
  },
  {
   "cell_type": "code",
   "execution_count": 7,
   "metadata": {},
   "outputs": [
    {
     "data": {
      "text/html": [
       "<div>\n",
       "<style scoped>\n",
       "    .dataframe tbody tr th:only-of-type {\n",
       "        vertical-align: middle;\n",
       "    }\n",
       "\n",
       "    .dataframe tbody tr th {\n",
       "        vertical-align: top;\n",
       "    }\n",
       "\n",
       "    .dataframe thead th {\n",
       "        text-align: right;\n",
       "    }\n",
       "</style>\n",
       "<table border=\"1\" class=\"dataframe\">\n",
       "  <thead>\n",
       "    <tr style=\"text-align: right;\">\n",
       "      <th></th>\n",
       "      <th>movieId</th>\n",
       "      <th>id</th>\n",
       "    </tr>\n",
       "    <tr>\n",
       "      <th>title</th>\n",
       "      <th></th>\n",
       "      <th></th>\n",
       "    </tr>\n",
       "  </thead>\n",
       "  <tbody>\n",
       "    <tr>\n",
       "      <td>Toy Story</td>\n",
       "      <td>1</td>\n",
       "      <td>862.0</td>\n",
       "    </tr>\n",
       "    <tr>\n",
       "      <td>Jumanji</td>\n",
       "      <td>2</td>\n",
       "      <td>8844.0</td>\n",
       "    </tr>\n",
       "    <tr>\n",
       "      <td>Grumpier Old Men</td>\n",
       "      <td>3</td>\n",
       "      <td>15602.0</td>\n",
       "    </tr>\n",
       "    <tr>\n",
       "      <td>Waiting to Exhale</td>\n",
       "      <td>4</td>\n",
       "      <td>31357.0</td>\n",
       "    </tr>\n",
       "    <tr>\n",
       "      <td>Father of the Bride Part II</td>\n",
       "      <td>5</td>\n",
       "      <td>11862.0</td>\n",
       "    </tr>\n",
       "    <tr>\n",
       "      <td>...</td>\n",
       "      <td>...</td>\n",
       "      <td>...</td>\n",
       "    </tr>\n",
       "    <tr>\n",
       "      <td>The Last Brickmaker in America</td>\n",
       "      <td>161944</td>\n",
       "      <td>159550.0</td>\n",
       "    </tr>\n",
       "    <tr>\n",
       "      <td>Rustom</td>\n",
       "      <td>162542</td>\n",
       "      <td>392572.0</td>\n",
       "    </tr>\n",
       "    <tr>\n",
       "      <td>Mohenjo Daro</td>\n",
       "      <td>162672</td>\n",
       "      <td>402672.0</td>\n",
       "    </tr>\n",
       "    <tr>\n",
       "      <td>Shin Godzilla</td>\n",
       "      <td>163056</td>\n",
       "      <td>315011.0</td>\n",
       "    </tr>\n",
       "    <tr>\n",
       "      <td>The Beatles: Eight Days a Week - The Touring Years</td>\n",
       "      <td>163949</td>\n",
       "      <td>391698.0</td>\n",
       "    </tr>\n",
       "  </tbody>\n",
       "</table>\n",
       "<p>9219 rows × 2 columns</p>\n",
       "</div>"
      ],
      "text/plain": [
       "                                                    movieId        id\n",
       "title                                                                \n",
       "Toy Story                                                 1     862.0\n",
       "Jumanji                                                   2    8844.0\n",
       "Grumpier Old Men                                          3   15602.0\n",
       "Waiting to Exhale                                         4   31357.0\n",
       "Father of the Bride Part II                               5   11862.0\n",
       "...                                                     ...       ...\n",
       "The Last Brickmaker in America                       161944  159550.0\n",
       "Rustom                                               162542  392572.0\n",
       "Mohenjo Daro                                         162672  402672.0\n",
       "Shin Godzilla                                        163056  315011.0\n",
       "The Beatles: Eight Days a Week - The Touring Years   163949  391698.0\n",
       "\n",
       "[9219 rows x 2 columns]"
      ]
     },
     "execution_count": 7,
     "metadata": {},
     "output_type": "execute_result"
    }
   ],
   "source": [
    "id_map = id_map.merge(smd[['title','id']], on='id').set_index('title')\n",
    "id_map"
   ]
  },
  {
   "cell_type": "code",
   "execution_count": 8,
   "metadata": {},
   "outputs": [
    {
     "data": {
      "text/html": [
       "<div>\n",
       "<style scoped>\n",
       "    .dataframe tbody tr th:only-of-type {\n",
       "        vertical-align: middle;\n",
       "    }\n",
       "\n",
       "    .dataframe tbody tr th {\n",
       "        vertical-align: top;\n",
       "    }\n",
       "\n",
       "    .dataframe thead th {\n",
       "        text-align: right;\n",
       "    }\n",
       "</style>\n",
       "<table border=\"1\" class=\"dataframe\">\n",
       "  <thead>\n",
       "    <tr style=\"text-align: right;\">\n",
       "      <th></th>\n",
       "      <th>movieId</th>\n",
       "    </tr>\n",
       "    <tr>\n",
       "      <th>id</th>\n",
       "      <th></th>\n",
       "    </tr>\n",
       "  </thead>\n",
       "  <tbody>\n",
       "    <tr>\n",
       "      <td>862.0</td>\n",
       "      <td>1</td>\n",
       "    </tr>\n",
       "    <tr>\n",
       "      <td>8844.0</td>\n",
       "      <td>2</td>\n",
       "    </tr>\n",
       "    <tr>\n",
       "      <td>15602.0</td>\n",
       "      <td>3</td>\n",
       "    </tr>\n",
       "    <tr>\n",
       "      <td>31357.0</td>\n",
       "      <td>4</td>\n",
       "    </tr>\n",
       "    <tr>\n",
       "      <td>11862.0</td>\n",
       "      <td>5</td>\n",
       "    </tr>\n",
       "    <tr>\n",
       "      <td>...</td>\n",
       "      <td>...</td>\n",
       "    </tr>\n",
       "    <tr>\n",
       "      <td>159550.0</td>\n",
       "      <td>161944</td>\n",
       "    </tr>\n",
       "    <tr>\n",
       "      <td>392572.0</td>\n",
       "      <td>162542</td>\n",
       "    </tr>\n",
       "    <tr>\n",
       "      <td>402672.0</td>\n",
       "      <td>162672</td>\n",
       "    </tr>\n",
       "    <tr>\n",
       "      <td>315011.0</td>\n",
       "      <td>163056</td>\n",
       "    </tr>\n",
       "    <tr>\n",
       "      <td>391698.0</td>\n",
       "      <td>163949</td>\n",
       "    </tr>\n",
       "  </tbody>\n",
       "</table>\n",
       "<p>9219 rows × 1 columns</p>\n",
       "</div>"
      ],
      "text/plain": [
       "          movieId\n",
       "id               \n",
       "862.0           1\n",
       "8844.0          2\n",
       "15602.0         3\n",
       "31357.0         4\n",
       "11862.0         5\n",
       "...           ...\n",
       "159550.0   161944\n",
       "392572.0   162542\n",
       "402672.0   162672\n",
       "315011.0   163056\n",
       "391698.0   163949\n",
       "\n",
       "[9219 rows x 1 columns]"
      ]
     },
     "execution_count": 8,
     "metadata": {},
     "output_type": "execute_result"
    }
   ],
   "source": [
    "indicase_map = id_map.set_index('id')\n",
    "indicase_map"
   ]
  },
  {
   "cell_type": "markdown",
   "metadata": {},
   "source": [
    "## Collaborative Filter Using Suprise Framework "
   ]
  },
  {
   "cell_type": "code",
   "execution_count": 123,
   "metadata": {},
   "outputs": [],
   "source": [
    "reader = Reader()\n",
    "algo = SVD()"
   ]
  },
  {
   "cell_type": "code",
   "execution_count": 124,
   "metadata": {},
   "outputs": [],
   "source": [
    "ratings = pd.read_csv('../the-movies-dataset/ratings_small.csv')\n",
    "data = Dataset.load_from_df(ratings[['userId', 'movieId', 'rating']], reader)\n",
    "cross_validate(algo, data, measures=['RMSE', 'MAE'], cv=5, verbose=True)"
   ]
  },
  {
   "cell_type": "code",
   "execution_count": 129,
   "metadata": {},
   "outputs": [
    {
     "data": {
      "text/plain": [
       "<surprise.prediction_algorithms.matrix_factorization.SVD at 0x7f7172bb9e80>"
      ]
     },
     "execution_count": 129,
     "metadata": {},
     "output_type": "execute_result"
    }
   ],
   "source": [
    "trainset = data.build_full_trainset()\n",
    "algo.fit(trainset)"
   ]
  },
  {
   "cell_type": "code",
   "execution_count": 130,
   "metadata": {},
   "outputs": [],
   "source": [
    "n_users = ratings.userId.unique().shape[0]\n",
    "n_items = ratings.movieId.unique().shape[0]"
   ]
  },
  {
   "cell_type": "code",
   "execution_count": 131,
   "metadata": {},
   "outputs": [
    {
     "data": {
      "text/plain": [
       "Prediction(uid=1, iid=318, r_ui=3, est=3.639681348906029, details={'was_impossible': False})"
      ]
     },
     "execution_count": 131,
     "metadata": {},
     "output_type": "execute_result"
    }
   ],
   "source": [
    "algo.predict(1,318,3)"
   ]
  },
  {
   "cell_type": "code",
   "execution_count": 132,
   "metadata": {},
   "outputs": [
    {
     "data": {
      "text/plain": [
       "[((1, 50), 3.775946000580255),\n",
       " ((1, 1267), 3.6642868026149666),\n",
       " ((1, 1276), 3.6446566317977287),\n",
       " ((1, 318), 3.639681348906029),\n",
       " ((1, 2064), 3.635444318292605),\n",
       " ((1, 1203), 3.6354103169277487),\n",
       " ((1, 898), 3.629742612695806),\n",
       " ((1, 2571), 3.624740808694967),\n",
       " ((1, 2395), 3.619470337707355),\n",
       " ((1, 1136), 3.6136200804940355)]"
      ]
     },
     "execution_count": 132,
     "metadata": {},
     "output_type": "execute_result"
    }
   ],
   "source": [
    "import operator\n",
    "result = {}\n",
    "for i in range(n_items):\n",
    "    result[1,i] = algo.predict(1,i,3).est\n",
    "\n",
    "result = sorted(result.items(), key = operator.itemgetter(1))\n",
    "result = result[-10:]\n",
    "result = list(reversed(result))\n",
    "result"
   ]
  },
  {
   "cell_type": "markdown",
   "metadata": {},
   "source": [
    "## Hibrid "
   ]
  },
  {
   "cell_type": "code",
   "execution_count": 14,
   "metadata": {},
   "outputs": [],
   "source": [
    "from ipynb.fs.full.Cast_Director_Gernes_Content_Base_Recommender import  get_recommendations as module2_recommender"
   ]
  },
  {
   "cell_type": "code",
   "execution_count": 134,
   "metadata": {},
   "outputs": [
    {
     "data": {
      "text/html": [
       "<div>\n",
       "<style scoped>\n",
       "    .dataframe tbody tr th:only-of-type {\n",
       "        vertical-align: middle;\n",
       "    }\n",
       "\n",
       "    .dataframe tbody tr th {\n",
       "        vertical-align: top;\n",
       "    }\n",
       "\n",
       "    .dataframe thead th {\n",
       "        text-align: right;\n",
       "    }\n",
       "</style>\n",
       "<table border=\"1\" class=\"dataframe\">\n",
       "  <thead>\n",
       "    <tr style=\"text-align: right;\">\n",
       "      <th></th>\n",
       "      <th>movieId</th>\n",
       "      <th>id</th>\n",
       "    </tr>\n",
       "  </thead>\n",
       "  <tbody>\n",
       "    <tr>\n",
       "      <td>0</td>\n",
       "      <td>1</td>\n",
       "      <td>862.0</td>\n",
       "    </tr>\n",
       "    <tr>\n",
       "      <td>1</td>\n",
       "      <td>2</td>\n",
       "      <td>8844.0</td>\n",
       "    </tr>\n",
       "    <tr>\n",
       "      <td>2</td>\n",
       "      <td>3</td>\n",
       "      <td>15602.0</td>\n",
       "    </tr>\n",
       "    <tr>\n",
       "      <td>3</td>\n",
       "      <td>4</td>\n",
       "      <td>31357.0</td>\n",
       "    </tr>\n",
       "    <tr>\n",
       "      <td>4</td>\n",
       "      <td>5</td>\n",
       "      <td>11862.0</td>\n",
       "    </tr>\n",
       "    <tr>\n",
       "      <td>...</td>\n",
       "      <td>...</td>\n",
       "      <td>...</td>\n",
       "    </tr>\n",
       "    <tr>\n",
       "      <td>9120</td>\n",
       "      <td>162672</td>\n",
       "      <td>402672.0</td>\n",
       "    </tr>\n",
       "    <tr>\n",
       "      <td>9121</td>\n",
       "      <td>163056</td>\n",
       "      <td>315011.0</td>\n",
       "    </tr>\n",
       "    <tr>\n",
       "      <td>9122</td>\n",
       "      <td>163949</td>\n",
       "      <td>391698.0</td>\n",
       "    </tr>\n",
       "    <tr>\n",
       "      <td>9123</td>\n",
       "      <td>164977</td>\n",
       "      <td>137608.0</td>\n",
       "    </tr>\n",
       "    <tr>\n",
       "      <td>9124</td>\n",
       "      <td>164979</td>\n",
       "      <td>410803.0</td>\n",
       "    </tr>\n",
       "  </tbody>\n",
       "</table>\n",
       "<p>9125 rows × 2 columns</p>\n",
       "</div>"
      ],
      "text/plain": [
       "      movieId        id\n",
       "0           1     862.0\n",
       "1           2    8844.0\n",
       "2           3   15602.0\n",
       "3           4   31357.0\n",
       "4           5   11862.0\n",
       "...       ...       ...\n",
       "9120   162672  402672.0\n",
       "9121   163056  315011.0\n",
       "9122   163949  391698.0\n",
       "9123   164977  137608.0\n",
       "9124   164979  410803.0\n",
       "\n",
       "[9125 rows x 2 columns]"
      ]
     },
     "execution_count": 134,
     "metadata": {},
     "output_type": "execute_result"
    }
   ],
   "source": [
    "id_map = pd.read_csv('../the-movies-dataset/links_small.csv')[['movieId', 'tmdbId']]\n",
    "id_map['tmdbId'] = id_map['tmdbId'].apply(convert_int)\n",
    "id_map.columns = ['movieId', 'id']\n",
    "id_map"
   ]
  },
  {
   "cell_type": "code",
   "execution_count": 135,
   "metadata": {},
   "outputs": [
    {
     "data": {
      "text/plain": [
       "9113"
      ]
     },
     "execution_count": 135,
     "metadata": {},
     "output_type": "execute_result"
    }
   ],
   "source": [
    "len(id_map.id.unique())"
   ]
  },
  {
   "cell_type": "code",
   "execution_count": 136,
   "metadata": {},
   "outputs": [
    {
     "data": {
      "text/plain": [
       "9066"
      ]
     },
     "execution_count": 136,
     "metadata": {},
     "output_type": "execute_result"
    }
   ],
   "source": [
    "check_id = ratings[ratings['movieId'].notnull()]['movieId'].astype('int')\n",
    "check_id = check_id.unique()\n",
    "\n",
    "list_movie_id = list(id_map.movieId.astype('int'))\n",
    "count = []\n",
    "\n",
    "for i in check_id:\n",
    "    if i in list_movie_id: count.append(i)\n",
    "len(count)        "
   ]
  },
  {
   "cell_type": "code",
   "execution_count": 137,
   "metadata": {},
   "outputs": [
    {
     "data": {
      "text/plain": [
       "9066"
      ]
     },
     "execution_count": 137,
     "metadata": {},
     "output_type": "execute_result"
    }
   ],
   "source": [
    "len(check_id)"
   ]
  },
  {
   "cell_type": "code",
   "execution_count": 138,
   "metadata": {},
   "outputs": [
    {
     "data": {
      "text/plain": [
       "(9219, 2)"
      ]
     },
     "execution_count": 138,
     "metadata": {},
     "output_type": "execute_result"
    }
   ],
   "source": [
    "id_map = id_map.merge(smd[['title', 'id']], on='id').set_index('title')\n",
    "id_map.shape"
   ]
  },
  {
   "cell_type": "code",
   "execution_count": 139,
   "metadata": {},
   "outputs": [
    {
     "data": {
      "text/html": [
       "<div>\n",
       "<style scoped>\n",
       "    .dataframe tbody tr th:only-of-type {\n",
       "        vertical-align: middle;\n",
       "    }\n",
       "\n",
       "    .dataframe tbody tr th {\n",
       "        vertical-align: top;\n",
       "    }\n",
       "\n",
       "    .dataframe thead th {\n",
       "        text-align: right;\n",
       "    }\n",
       "</style>\n",
       "<table border=\"1\" class=\"dataframe\">\n",
       "  <thead>\n",
       "    <tr style=\"text-align: right;\">\n",
       "      <th></th>\n",
       "      <th>movieId</th>\n",
       "    </tr>\n",
       "    <tr>\n",
       "      <th>id</th>\n",
       "      <th></th>\n",
       "    </tr>\n",
       "  </thead>\n",
       "  <tbody>\n",
       "    <tr>\n",
       "      <td>862.0</td>\n",
       "      <td>1</td>\n",
       "    </tr>\n",
       "    <tr>\n",
       "      <td>8844.0</td>\n",
       "      <td>2</td>\n",
       "    </tr>\n",
       "    <tr>\n",
       "      <td>15602.0</td>\n",
       "      <td>3</td>\n",
       "    </tr>\n",
       "    <tr>\n",
       "      <td>31357.0</td>\n",
       "      <td>4</td>\n",
       "    </tr>\n",
       "    <tr>\n",
       "      <td>11862.0</td>\n",
       "      <td>5</td>\n",
       "    </tr>\n",
       "    <tr>\n",
       "      <td>...</td>\n",
       "      <td>...</td>\n",
       "    </tr>\n",
       "    <tr>\n",
       "      <td>159550.0</td>\n",
       "      <td>161944</td>\n",
       "    </tr>\n",
       "    <tr>\n",
       "      <td>392572.0</td>\n",
       "      <td>162542</td>\n",
       "    </tr>\n",
       "    <tr>\n",
       "      <td>402672.0</td>\n",
       "      <td>162672</td>\n",
       "    </tr>\n",
       "    <tr>\n",
       "      <td>315011.0</td>\n",
       "      <td>163056</td>\n",
       "    </tr>\n",
       "    <tr>\n",
       "      <td>391698.0</td>\n",
       "      <td>163949</td>\n",
       "    </tr>\n",
       "  </tbody>\n",
       "</table>\n",
       "<p>9219 rows × 1 columns</p>\n",
       "</div>"
      ],
      "text/plain": [
       "          movieId\n",
       "id               \n",
       "862.0           1\n",
       "8844.0          2\n",
       "15602.0         3\n",
       "31357.0         4\n",
       "11862.0         5\n",
       "...           ...\n",
       "159550.0   161944\n",
       "392572.0   162542\n",
       "402672.0   162672\n",
       "315011.0   163056\n",
       "391698.0   163949\n",
       "\n",
       "[9219 rows x 1 columns]"
      ]
     },
     "execution_count": 139,
     "metadata": {},
     "output_type": "execute_result"
    }
   ],
   "source": [
    "# make a column become a index column \n",
    "indices_map = id_map.set_index('id')\n",
    "indices_map"
   ]
  },
  {
   "cell_type": "code",
   "execution_count": 140,
   "metadata": {},
   "outputs": [],
   "source": [
    "userId = 1\n",
    "title = 'Avatar'"
   ]
  },
  {
   "cell_type": "code",
   "execution_count": 141,
   "metadata": {},
   "outputs": [
    {
     "data": {
      "text/plain": [
       "19995.0"
      ]
     },
     "execution_count": 141,
     "metadata": {},
     "output_type": "execute_result"
    }
   ],
   "source": [
    "tmdbId = id_map.loc[title]['id']\n",
    "tmdbId"
   ]
  },
  {
   "cell_type": "code",
   "execution_count": 142,
   "metadata": {},
   "outputs": [],
   "source": [
    "movie_id = id_map.loc[title]['movieId']"
   ]
  },
  {
   "cell_type": "code",
   "execution_count": 143,
   "metadata": {},
   "outputs": [],
   "source": [
    "result = module2_recommender(title,26)"
   ]
  },
  {
   "cell_type": "code",
   "execution_count": 144,
   "metadata": {},
   "outputs": [
    {
     "name": "stdout",
     "output_type": "stream",
     "text": [
      "Aliens\n",
      "Terminator 2: Judgment Day\n",
      "The Terminator\n",
      "The Abyss\n",
      "Piranha Part Two: The Spawning\n",
      "True Lies\n",
      "Titanic\n",
      "Star Trek Into Darkness\n",
      "Dungeons & Dragons\n",
      "Jupiter Ascending\n",
      "Small Soldiers\n",
      "Dragonball Evolution\n",
      "Sinbad and the Eye of the Tiger\n",
      "Hercules in New York\n",
      "Beastmaster 2: Through the Portal of Time\n",
      "Man of Steel\n",
      "Return from Witch Mountain\n",
      "Hawk the Slayer\n",
      "Superman II\n",
      "X-Men: Days of Future Past\n",
      "Teenage Mutant Ninja Turtles III\n",
      "Star Wars: The Clone Wars\n",
      "Escape to Witch Mountain\n",
      "Darby O'Gill and the Little People\n",
      "Fantastic Planet\n"
     ]
    }
   ],
   "source": [
    "for i in result:\n",
    "    movie_indices = list(result[i])\n",
    "\n",
    "for i in movie_indices:\n",
    "    print(titles[i]) "
   ]
  },
  {
   "cell_type": "code",
   "execution_count": 145,
   "metadata": {
    "scrolled": true
   },
   "outputs": [
    {
     "data": {
      "text/html": [
       "<div>\n",
       "<style scoped>\n",
       "    .dataframe tbody tr th:only-of-type {\n",
       "        vertical-align: middle;\n",
       "    }\n",
       "\n",
       "    .dataframe tbody tr th {\n",
       "        vertical-align: top;\n",
       "    }\n",
       "\n",
       "    .dataframe thead th {\n",
       "        text-align: right;\n",
       "    }\n",
       "</style>\n",
       "<table border=\"1\" class=\"dataframe\">\n",
       "  <thead>\n",
       "    <tr style=\"text-align: right;\">\n",
       "      <th></th>\n",
       "      <th>title</th>\n",
       "      <th>vote_count</th>\n",
       "      <th>vote_average</th>\n",
       "      <th>year</th>\n",
       "      <th>id</th>\n",
       "      <th>est</th>\n",
       "    </tr>\n",
       "  </thead>\n",
       "  <tbody>\n",
       "    <tr>\n",
       "      <td>1011</td>\n",
       "      <td>The Terminator</td>\n",
       "      <td>4208.0</td>\n",
       "      <td>7.4</td>\n",
       "      <td>1984</td>\n",
       "      <td>218</td>\n",
       "      <td>3.233280</td>\n",
       "    </tr>\n",
       "    <tr>\n",
       "      <td>974</td>\n",
       "      <td>Aliens</td>\n",
       "      <td>3282.0</td>\n",
       "      <td>7.7</td>\n",
       "      <td>1986</td>\n",
       "      <td>679</td>\n",
       "      <td>3.120768</td>\n",
       "    </tr>\n",
       "    <tr>\n",
       "      <td>8658</td>\n",
       "      <td>X-Men: Days of Future Past</td>\n",
       "      <td>6155.0</td>\n",
       "      <td>7.5</td>\n",
       "      <td>2014</td>\n",
       "      <td>127585</td>\n",
       "      <td>3.033041</td>\n",
       "    </tr>\n",
       "    <tr>\n",
       "      <td>522</td>\n",
       "      <td>Terminator 2: Judgment Day</td>\n",
       "      <td>4274.0</td>\n",
       "      <td>7.7</td>\n",
       "      <td>1991</td>\n",
       "      <td>280</td>\n",
       "      <td>3.032750</td>\n",
       "    </tr>\n",
       "    <tr>\n",
       "      <td>1621</td>\n",
       "      <td>Darby O'Gill and the Little People</td>\n",
       "      <td>35.0</td>\n",
       "      <td>6.7</td>\n",
       "      <td>1959</td>\n",
       "      <td>18887</td>\n",
       "      <td>2.930777</td>\n",
       "    </tr>\n",
       "    <tr>\n",
       "      <td>1668</td>\n",
       "      <td>Return from Witch Mountain</td>\n",
       "      <td>38.0</td>\n",
       "      <td>5.6</td>\n",
       "      <td>1978</td>\n",
       "      <td>14822</td>\n",
       "      <td>2.928221</td>\n",
       "    </tr>\n",
       "    <tr>\n",
       "      <td>8401</td>\n",
       "      <td>Star Trek Into Darkness</td>\n",
       "      <td>4479.0</td>\n",
       "      <td>7.4</td>\n",
       "      <td>2013</td>\n",
       "      <td>54138</td>\n",
       "      <td>2.912751</td>\n",
       "    </tr>\n",
       "    <tr>\n",
       "      <td>922</td>\n",
       "      <td>The Abyss</td>\n",
       "      <td>822.0</td>\n",
       "      <td>7.1</td>\n",
       "      <td>1989</td>\n",
       "      <td>2756</td>\n",
       "      <td>2.835549</td>\n",
       "    </tr>\n",
       "    <tr>\n",
       "      <td>2014</td>\n",
       "      <td>Fantastic Planet</td>\n",
       "      <td>140.0</td>\n",
       "      <td>7.6</td>\n",
       "      <td>1973</td>\n",
       "      <td>16306</td>\n",
       "      <td>2.789065</td>\n",
       "    </tr>\n",
       "    <tr>\n",
       "      <td>7088</td>\n",
       "      <td>Star Wars: The Clone Wars</td>\n",
       "      <td>434.0</td>\n",
       "      <td>5.8</td>\n",
       "      <td>2008</td>\n",
       "      <td>12180</td>\n",
       "      <td>2.746440</td>\n",
       "    </tr>\n",
       "  </tbody>\n",
       "</table>\n",
       "</div>"
      ],
      "text/plain": [
       "                                   title  vote_count  vote_average  year  \\\n",
       "1011                      The Terminator      4208.0           7.4  1984   \n",
       "974                               Aliens      3282.0           7.7  1986   \n",
       "8658          X-Men: Days of Future Past      6155.0           7.5  2014   \n",
       "522           Terminator 2: Judgment Day      4274.0           7.7  1991   \n",
       "1621  Darby O'Gill and the Little People        35.0           6.7  1959   \n",
       "1668          Return from Witch Mountain        38.0           5.6  1978   \n",
       "8401             Star Trek Into Darkness      4479.0           7.4  2013   \n",
       "922                            The Abyss       822.0           7.1  1989   \n",
       "2014                    Fantastic Planet       140.0           7.6  1973   \n",
       "7088           Star Wars: The Clone Wars       434.0           5.8  2008   \n",
       "\n",
       "          id       est  \n",
       "1011     218  3.233280  \n",
       "974      679  3.120768  \n",
       "8658  127585  3.033041  \n",
       "522      280  3.032750  \n",
       "1621   18887  2.930777  \n",
       "1668   14822  2.928221  \n",
       "8401   54138  2.912751  \n",
       "922     2756  2.835549  \n",
       "2014   16306  2.789065  \n",
       "7088   12180  2.746440  "
      ]
     },
     "execution_count": 145,
     "metadata": {},
     "output_type": "execute_result"
    }
   ],
   "source": [
    "movies = smd.iloc[movie_indices][['title','vote_count','vote_average','year','id']]\n",
    "movies['est'] = movies['id'].apply(lambda x: algo.predict(userId,indices_map.loc[x]['movieId']).est)\n",
    "movies = movies.sort_values('est', ascending = False)\n",
    "\n",
    "movies.head(10)"
   ]
  },
  {
   "cell_type": "markdown",
   "metadata": {},
   "source": [
    "## From scatch"
   ]
  },
  {
   "cell_type": "code",
   "execution_count": 28,
   "metadata": {},
   "outputs": [],
   "source": [
    "# hàm tính đố tương đồng giữa 2 vector \n",
    "def cosine_sim_calculate(a,b):\n",
    "    cos_sim = np.dot(a,b)/(np.linalg.norm(a)*np.linalg.norm(b))\n",
    "    return cos_sim"
   ]
  },
  {
   "cell_type": "code",
   "execution_count": 29,
   "metadata": {},
   "outputs": [
    {
     "data": {
      "text/plain": [
       "8658    127585\n",
       "1011       218\n",
       "974        679\n",
       "8401     54138\n",
       "1668     14822\n",
       "1376       597\n",
       "3060     11940\n",
       "2132      8536\n",
       "1621     18887\n",
       "522        280\n",
       "922       2756\n",
       "7265     14164\n",
       "2014     16306\n",
       "344      36955\n",
       "6084     27549\n",
       "4966      5227\n",
       "4347     31646\n",
       "4017     25628\n",
       "7088     12180\n",
       "831      14821\n",
       "8419     49521\n",
       "8724     76757\n",
       "2761      1499\n",
       "1500     11551\n",
       "3216     11849\n",
       "Name: id, dtype: int64"
      ]
     },
     "execution_count": 29,
     "metadata": {},
     "output_type": "execute_result"
    }
   ],
   "source": [
    "movies = movies[['title','vote_count','vote_average','year','id']]\n",
    "movies['id']"
   ]
  },
  {
   "cell_type": "code",
   "execution_count": 30,
   "metadata": {},
   "outputs": [],
   "source": [
    "# the shape attribute describe the len base on the dimention value input\n",
    "# o mean rows of the matrix and 1 mean columns of the matrix\n",
    "n_users = ratings.userId.unique().shape[0]\n",
    "n_items = ratings.movieId.unique().shape[0]\n",
    "\n",
    "n_items_table = ratings.movieId.unique()\n",
    "n_items_table = list(n_items_table)\n"
   ]
  },
  {
   "cell_type": "code",
   "execution_count": 31,
   "metadata": {},
   "outputs": [],
   "source": [
    "check_movieId = list(ratings.movieId)\n",
    "index_of_movieId =  Counter(check_movieId)"
   ]
  },
  {
   "cell_type": "code",
   "execution_count": 32,
   "metadata": {},
   "outputs": [
    {
     "data": {
      "text/plain": [
       "dict_values([42, 42, 33, 48, 46, 48, 46, 46, 52, 39, 47, 46, 46, 47, 36, 42, 53, 47, 43, 62, 122, 86, 120, 201, 201, 51, 87, 228, 26, 200, 129, 80, 142, 43, 102, 48, 113, 22, 109, 52, 78, 13, 125, 51, 62, 73, 39, 27, 110, 324, 90, 17, 70, 38, 101, 115, 70, 341, 122, 200, 157, 67, 20, 34, 180, 19, 16, 73, 110, 213, 33, 80, 274, 53, 60, 153, 86, 78, 46, 244, 10, 125, 11, 90, 50, 41, 129, 126, 215, 237, 202, 196, 304, 42, 53, 45, 32, 43, 13, 311, 39, 176, 150, 124, 27, 163, 217, 44, 40, 28, 190, 164, 44, 191, 23, 18, 29, 21, 147, 193, 22, 220, 202, 8, 41, 69, 134, 58, 122, 176, 106, 46, 84, 2, 73, 4, 11, 121, 1, 148, 49, 93, 70, 291, 14, 114, 198, 32, 106, 55, 90, 95, 9, 146, 71, 66, 33, 200, 69, 66, 62, 117, 9, 10, 55, 78, 18, 22, 49, 21, 151, 148, 89, 132, 160, 28, 71, 145, 15, 234, 220, 125, 121, 112, 131, 127, 77, 94, 104, 100, 80, 158, 22, 24, 101, 112, 165, 226, 74, 64, 61, 82, 147, 24, 87, 7, 15, 19, 82, 47, 72, 65, 64, 90, 108, 27, 51, 67, 40, 56, 39, 6, 113, 42, 69, 119, 36, 117, 38, 90, 39, 47, 51, 15, 34, 34, 30, 12, 9, 17, 76, 42, 46, 51, 78, 41, 1, 38, 3, 32, 35, 52, 7, 51, 15, 23, 98, 35, 28, 26, 15, 46, 38, 104, 78, 47, 8, 76, 44, 11, 28, 18, 65, 17, 14, 23, 12, 27, 138, 75, 3, 112, 62, 36, 18, 51, 22, 106, 30, 107, 75, 10, 10, 16, 9, 4, 3, 104, 133, 19, 108, 24, 15, 29, 48, 6, 21, 11, 49, 29, 37, 13, 6, 52, 10, 57, 29, 10, 9, 59, 94, 158, 35, 175, 147, 68, 80, 144, 135, 89, 106, 71, 137, 70, 99, 123, 64, 35, 43, 105, 60, 106, 111, 126, 125, 66, 85, 65, 99, 88, 45, 44, 96, 53, 174, 55, 47, 39, 130, 114, 30, 51, 38, 48, 81, 61, 41, 50, 52, 85, 55, 45, 45, 57, 65, 32, 47, 48, 49, 42, 51, 42, 49, 23, 44, 118, 58, 132, 51, 65, 46, 66, 65, 21, 59, 48, 47, 57, 54, 19, 28, 57, 259, 63, 80, 42, 46, 79, 26, 99, 36, 37, 188, 33, 84, 58, 70, 247, 95, 6, 48, 43, 28, 145, 50, 48, 25, 33, 61, 36, 15, 62, 218, 69, 123, 91, 75, 39, 45, 58, 49, 67, 13, 25, 54, 70, 43, 196, 43, 44, 65, 36, 52, 50, 49, 64, 59, 125, 76, 157, 13, 27, 76, 99, 107, 67, 25, 103, 161, 39, 114, 95, 26, 73, 132, 49, 18, 130, 105, 125, 200, 23, 82, 115, 27, 10, 99, 55, 46, 111, 10, 45, 103, 33, 26, 80, 62, 105, 16, 3, 1, 3, 6, 5, 104, 224, 135, 58, 13, 37, 25, 16, 92, 26, 28, 13, 40, 89, 31, 121, 36, 32, 35, 51, 21, 3, 8, 74, 2, 20, 28, 12, 45, 23, 6, 39, 6, 21, 25, 11, 24, 43, 6, 21, 16, 30, 27, 48, 10, 8, 60, 85, 44, 57, 10, 10, 32, 2, 13, 84, 8, 11, 9, 12, 111, 17, 10, 3, 23, 15, 38, 48, 1, 24, 4, 22, 29, 26, 45, 25, 50, 39, 52, 17, 120, 11, 5, 10, 22, 39, 11, 29, 7, 1, 3, 6, 1, 24, 127, 5, 26, 4, 15, 29, 27, 18, 1, 6, 9, 20, 14, 34, 4, 6, 27, 10, 11, 1, 1, 3, 5, 30, 31, 51, 57, 44, 35, 38, 42, 28, 93, 22, 61, 36, 45, 42, 33, 34, 8, 8, 35, 20, 45, 15, 27, 65, 30, 81, 20, 29, 107, 56, 104, 82, 31, 88, 92, 38, 101, 38, 10, 22, 93, 17, 27, 7, 21, 43, 6, 8, 63, 33, 63, 26, 26, 48, 23, 18, 44, 35, 55, 2, 18, 42, 25, 24, 13, 34, 61, 41, 107, 32, 31, 22, 14, 3, 56, 67, 18, 9, 37, 59, 49, 32, 4, 61, 26, 18, 12, 70, 15, 30, 9, 31, 168, 17, 5, 21, 6, 22, 105, 39, 59, 24, 35, 72, 2, 14, 76, 13, 8, 64, 92, 87, 33, 27, 117, 26, 68, 39, 38, 16, 72, 22, 29, 26, 30, 42, 56, 53, 56, 36, 50, 27, 19, 33, 17, 16, 31, 19, 9, 15, 40, 74, 29, 20, 62, 74, 80, 16, 19, 38, 26, 14, 50, 51, 63, 54, 95, 19, 39, 20, 76, 30, 21, 49, 14, 57, 49, 40, 19, 23, 21, 32, 13, 12, 20, 15, 75, 55, 51, 17, 13, 66, 18, 80, 73, 29, 20, 39, 23, 35, 9, 3, 2, 6, 45, 107, 118, 3, 2, 23, 47, 52, 83, 19, 44, 70, 97, 10, 14, 17, 30, 60, 6, 84, 62, 72, 12, 16, 32, 49, 57, 15, 51, 7, 10, 19, 22, 2, 15, 4, 9, 26, 23, 9, 12, 2, 3, 8, 28, 31, 6, 14, 7, 4, 29, 13, 40, 29, 22, 39, 31, 31, 40, 15, 55, 26, 99, 94, 13, 6, 33, 12, 41, 23, 22, 36, 42, 36, 58, 23, 36, 21, 36, 15, 14, 33, 21, 15, 28, 64, 23, 16, 48, 23, 7, 11, 11, 23, 35, 22, 13, 68, 31, 43, 19, 22, 10, 13, 31, 18, 51, 74, 5, 6, 11, 9, 4, 50, 35, 4, 9, 20, 79, 24, 41, 79, 3, 15, 64, 3, 22, 75, 47, 36, 7, 86, 63, 21, 43, 13, 34, 11, 16, 22, 39, 6, 25, 15, 32, 7, 17, 42, 7, 53, 31, 11, 28, 21, 2, 58, 17, 17, 38, 13, 45, 14, 3, 2, 31, 9, 58, 24, 9, 52, 36, 20, 23, 32, 19, 4, 12, 12, 3, 21, 57, 25, 25, 35, 6, 8, 13, 13, 5, 29, 12, 74, 48, 12, 12, 8, 14, 8, 27, 22, 27, 6, 26, 23, 11, 35, 1, 2, 20, 18, 44, 29, 42, 2, 28, 45, 59, 10, 32, 53, 13, 32, 62, 24, 10, 88, 11, 43, 45, 38, 11, 19, 53, 24, 51, 18, 9, 22, 54, 29, 30, 11, 7, 5, 4, 6, 37, 10, 3, 12, 6, 22, 23, 18, 24, 10, 56, 7, 23, 27, 16, 23, 7, 43, 53, 21, 14, 37, 5, 2, 15, 1, 4, 30, 12, 2, 35, 20, 2, 21, 8, 23, 59, 3, 3, 17, 2, 43, 17, 23, 79, 18, 12, 16, 23, 10, 5, 4, 16, 62, 14, 20, 5, 20, 11, 22, 11, 11, 9, 21, 96, 15, 4, 18, 10, 8, 8, 4, 11, 9, 1, 1, 51, 11, 8, 33, 8, 2, 30, 8, 3, 10, 37, 11, 14, 30, 17, 37, 71, 10, 32, 3, 28, 1, 13, 20, 33, 17, 29, 35, 40, 55, 9, 13, 3, 2, 3, 6, 19, 3, 19, 7, 1, 24, 5, 40, 14, 23, 31, 14, 7, 44, 6, 5, 2, 2, 8, 10, 18, 26, 5, 2, 49, 5, 6, 8, 1, 31, 3, 5, 37, 46, 19, 14, 39, 11, 20, 4, 23, 26, 4, 10, 10, 12, 13, 69, 10, 1, 8, 49, 29, 27, 10, 59, 10, 1, 8, 1, 11, 6, 6, 16, 3, 12, 63, 22, 5, 6, 26, 22, 7, 3, 11, 16, 10, 8, 3, 19, 11, 5, 8, 3, 1, 6, 52, 26, 6, 17, 2, 1, 100, 12, 21, 19, 2, 49, 16, 4, 5, 45, 12, 54, 8, 23, 5, 2, 6, 19, 11, 2, 3, 12, 15, 63, 22, 2, 24, 13, 5, 6, 31, 16, 3, 42, 35, 3, 34, 27, 35, 15, 8, 2, 51, 16, 69, 2, 1, 14, 15, 28, 2, 32, 2, 3, 28, 16, 23, 21, 6, 9, 3, 16, 81, 82, 11, 22, 3, 23, 1, 2, 24, 16, 38, 141, 1, 10, 10, 14, 17, 3, 5, 22, 21, 13, 5, 20, 2, 4, 51, 13, 14, 1, 2, 10, 54, 27, 11, 34, 30, 19, 2, 10, 5, 33, 3, 2, 13, 5, 2, 3, 5, 6, 11, 55, 15, 16, 13, 1, 48, 9, 29, 16, 21, 17, 9, 13, 7, 8, 28, 17, 23, 28, 32, 3, 3, 4, 11, 7, 4, 3, 6, 5, 3, 81, 25, 15, 37, 37, 5, 5, 5, 13, 17, 34, 17, 74, 13, 40, 22, 11, 18, 12, 20, 2, 4, 45, 19, 33, 21, 126, 37, 35, 2, 34, 6, 4, 5, 8, 2, 4, 6, 17, 32, 14, 8, 14, 29, 34, 25, 24, 25, 34, 7, 40, 9, 15, 22, 4, 40, 10, 7, 18, 31, 13, 21, 19, 29, 10, 27, 59, 24, 4, 40, 28, 37, 1, 25, 14, 5, 21, 35, 22, 25, 7, 10, 21, 59, 18, 19, 13, 76, 16, 17, 18, 40, 33, 6, 12, 9, 52, 43, 52, 61, 13, 13, 4, 59, 5, 42, 20, 59, 14, 11, 6, 23, 24, 25, 8, 12, 25, 31, 38, 37, 3, 44, 9, 31, 21, 12, 9, 22, 49, 8, 42, 72, 2, 7, 26, 19, 18, 38, 11, 22, 5, 75, 31, 1, 24, 33, 12, 6, 17, 76, 18, 19, 13, 1, 26, 3, 22, 19, 30, 2, 5, 13, 3, 52, 17, 14, 11, 10, 17, 30, 4, 2, 12, 2, 8, 1, 5, 16, 9, 3, 4, 14, 10, 59, 7, 28, 17, 1, 51, 13, 5, 61, 44, 9, 6, 2, 26, 4, 12, 53, 7, 6, 2, 3, 9, 3, 5, 13, 37, 6, 26, 23, 17, 67, 40, 6, 51, 1, 7, 4, 10, 33, 30, 6, 1, 4, 29, 8, 12, 6, 6, 8, 6, 12, 5, 9, 26, 4, 1, 43, 5, 1, 18, 34, 6, 40, 21, 11, 13, 4, 1, 1, 8, 8, 1, 19, 8, 10, 12, 24, 9, 8, 14, 5, 3, 8, 21, 1, 12, 6, 28, 3, 12, 10, 8, 9, 11, 1, 22, 14, 3, 24, 1, 1, 1, 8, 16, 46, 3, 3, 2, 3, 6, 7, 3, 1, 4, 7, 15, 1, 1, 7, 26, 9, 5, 16, 4, 1, 10, 4, 5, 14, 4, 3, 13, 3, 7, 6, 4, 13, 5, 3, 16, 26, 2, 13, 2, 3, 1, 20, 5, 9, 1, 4, 20, 1, 10, 19, 1, 4, 19, 9, 2, 7, 25, 11, 7, 8, 44, 6, 1, 1, 1, 2, 1, 8, 1, 4, 3, 3, 2, 2, 4, 5, 15, 3, 12, 21, 20, 4, 5, 10, 11, 16, 16, 14, 3, 5, 2, 3, 1, 1, 10, 10, 11, 1, 3, 22, 29, 16, 25, 9, 7, 1, 3, 11, 1, 4, 13, 6, 4, 35, 43, 5, 1, 6, 17, 6, 6, 9, 2, 1, 7, 24, 7, 6, 5, 26, 7, 8, 5, 15, 5, 28, 25, 8, 2, 37, 2, 2, 3, 3, 3, 7, 2, 10, 1, 13, 21, 26, 3, 32, 3, 10, 3, 12, 9, 3, 10, 6, 13, 6, 7, 1, 6, 31, 29, 3, 13, 17, 6, 18, 7, 3, 3, 8, 2, 2, 3, 1, 2, 4, 7, 1, 6, 1, 25, 5, 5, 24, 4, 2, 2, 2, 4, 2, 8, 3, 4, 7, 12, 7, 2, 1, 4, 5, 3, 3, 3, 9, 1, 3, 1, 2, 6, 10, 2, 3, 3, 1, 5, 1, 9, 1, 2, 2, 1, 3, 1, 2, 1, 2, 1, 1, 2, 1, 1, 1, 2, 1, 1, 1, 88, 4, 4, 40, 24, 40, 10, 21, 11, 23, 21, 26, 16, 40, 30, 10, 16, 11, 27, 12, 21, 1, 11, 4, 7, 22, 13, 20, 8, 3, 7, 18, 13, 3, 14, 10, 14, 2, 4, 4, 1, 1, 3, 3, 1, 3, 4, 2, 6, 17, 6, 5, 22, 3, 3, 8, 3, 2, 4, 6, 13, 4, 3, 23, 12, 4, 5, 3, 6, 9, 1, 7, 9, 4, 4, 2, 13, 15, 10, 26, 6, 4, 2, 8, 2, 5, 4, 10, 3, 6, 2, 4, 4, 3, 3, 3, 3, 3, 15, 7, 4, 4, 4, 1, 29, 4, 8, 17, 4, 6, 5, 11, 7, 1, 20, 19, 3, 28, 2, 15, 53, 20, 26, 19, 15, 26, 18, 16, 17, 12, 21, 23, 47, 18, 62, 27, 34, 22, 18, 14, 28, 52, 25, 13, 22, 11, 9, 61, 14, 45, 6, 10, 17, 8, 48, 19, 16, 8, 4, 13, 6, 4, 10, 5, 12, 20, 20, 3, 22, 18, 1, 7, 8, 10, 14, 8, 6, 2, 25, 10, 11, 9, 21, 13, 10, 25, 14, 23, 9, 11, 16, 7, 6, 5, 31, 4, 21, 23, 15, 5, 17, 6, 16, 24, 9, 5, 3, 14, 6, 9, 1, 9, 37, 44, 23, 8, 5, 29, 18, 17, 26, 31, 30, 1, 27, 50, 4, 21, 37, 17, 49, 16, 26, 68, 27, 40, 28, 11, 6, 8, 8, 28, 5, 22, 17, 20, 33, 17, 37, 34, 18, 28, 35, 7, 38, 13, 2, 37, 32, 25, 20, 19, 2, 12, 28, 9, 25, 42, 31, 28, 20, 20, 4, 5, 7, 2, 3, 10, 4, 3, 4, 14, 2, 3, 2, 1, 28, 5, 1, 23, 6, 8, 4, 15, 5, 57, 14, 20, 21, 11, 21, 19, 23, 22, 34, 31, 9, 9, 14, 5, 44, 64, 25, 9, 9, 18, 14, 28, 17, 31, 10, 12, 18, 19, 24, 4, 20, 7, 25, 16, 9, 13, 1, 13, 34, 35, 60, 4, 18, 19, 4, 3, 7, 22, 16, 17, 19, 26, 34, 7, 11, 12, 22, 20, 12, 23, 13, 5, 14, 10, 2, 8, 6, 20, 12, 45, 10, 14, 42, 34, 30, 13, 8, 10, 23, 12, 9, 5, 9, 10, 2, 8, 17, 9, 6, 19, 12, 14, 31, 45, 23, 6, 6, 10, 14, 19, 31, 28, 11, 17, 20, 1, 15, 30, 8, 14, 4, 8, 2, 23, 4, 13, 16, 6, 11, 13, 14, 7, 13, 4, 24, 14, 3, 5, 3, 3, 4, 6, 7, 2, 8, 13, 20, 9, 2, 5, 14, 2, 1, 5, 8, 5, 3, 1, 3, 2, 6, 10, 5, 6, 1, 2, 2, 24, 7, 5, 26, 15, 10, 2, 2, 6, 1, 1, 6, 1, 1, 6, 10, 27, 37, 10, 10, 2, 6, 1, 3, 5, 3, 4, 9, 2, 4, 2, 4, 4, 17, 16, 7, 5, 6, 8, 3, 2, 1, 7, 1, 2, 7, 3, 8, 4, 3, 9, 3, 1, 14, 2, 4, 3, 2, 4, 6, 7, 1, 27, 1, 10, 4, 3, 2, 7, 20, 1, 29, 2, 2, 13, 20, 16, 11, 2, 5, 4, 3, 5, 10, 10, 3, 33, 22, 13, 1, 18, 10, 37, 9, 5, 19, 4, 15, 11, 10, 12, 5, 2, 22, 27, 13, 23, 10, 19, 13, 11, 33, 60, 9, 18, 9, 21, 11, 30, 30, 2, 7, 5, 9, 5, 5, 23, 16, 1, 4, 71, 26, 15, 3, 12, 63, 2, 7, 2, 16, 11, 6, 17, 1, 6, 9, 4, 11, 8, 6, 17, 17, 10, 26, 29, 3, 1, 13, 4, 6, 10, 15, 4, 14, 15, 3, 2, 32, 17, 4, 25, 20, 1, 15, 5, 16, 20, 7, 3, 5, 4, 3, 1, 6, 32, 26, 17, 19, 3, 13, 22, 14, 25, 17, 19, 9, 9, 11, 18, 18, 6, 8, 8, 15, 8, 13, 25, 16, 13, 20, 5, 4, 4, 3, 8, 1, 4, 14, 3, 36, 8, 19, 13, 22, 21, 19, 5, 6, 38, 5, 19, 4, 5, 20, 15, 8, 9, 15, 9, 3, 10, 8, 6, 7, 13, 6, 8, 3, 4, 10, 38, 24, 19, 28, 31, 6, 3, 5, 22, 7, 3, 8, 6, 9, 16, 10, 11, 3, 6, 5, 18, 8, 22, 14, 35, 19, 6, 19, 5, 20, 2, 18, 6, 7, 17, 4, 7, 17, 37, 6, 30, 35, 10, 19, 9, 3, 12, 4, 4, 2, 18, 8, 4, 21, 7, 4, 5, 14, 37, 17, 29, 21, 20, 11, 8, 10, 16, 19, 27, 38, 1, 3, 3, 4, 5, 13, 6, 3, 14, 9, 18, 12, 6, 13, 5, 4, 21, 7, 17, 23, 14, 9, 6, 22, 16, 18, 17, 6, 29, 2, 17, 11, 9, 15, 20, 12, 16, 35, 19, 12, 4, 13, 8, 2, 11, 4, 2, 10, 8, 36, 4, 4, 13, 11, 1, 7, 3, 4, 1, 8, 9, 3, 1, 3, 20, 12, 2, 9, 7, 14, 10, 6, 3, 10, 9, 7, 2, 4, 11, 12, 6, 3, 1, 4, 11, 5, 5, 7, 6, 4, 3, 6, 4, 1, 4, 3, 1, 21, 4, 1, 1, 5, 1, 9, 3, 1, 1, 1, 1, 3, 4, 2, 5, 9, 5, 2, 3, 2, 1, 7, 6, 2, 2, 2, 8, 7, 4, 5, 4, 7, 7, 5, 1, 3, 4, 1, 16, 3, 3, 1, 1, 3, 16, 1, 2, 3, 3, 1, 1, 4, 4, 6, 5, 1, 1, 3, 10, 1, 8, 3, 1, 2, 2, 1, 5, 6, 1, 4, 1, 3, 2, 1, 2, 2, 2, 4, 5, 1, 4, 1, 1, 1, 4, 5, 3, 1, 2, 2, 1, 1, 1, 15, 1, 1, 3, 1, 1, 2, 1, 9, 2, 1, 4, 1, 4, 1, 2, 2, 3, 1, 1, 6, 1, 3, 2, 1, 7, 2, 1, 3, 6, 2, 5, 4, 2, 5, 5, 2, 3, 6, 5, 2, 25, 22, 24, 20, 31, 57, 23, 11, 13, 17, 8, 8, 10, 4, 1, 3, 11, 6, 1, 3, 32, 2, 3, 8, 5, 4, 3, 2, 11, 1, 6, 2, 4, 5, 2, 1, 6, 3, 5, 12, 8, 13, 13, 5, 30, 9, 9, 19, 11, 10, 17, 13, 29, 14, 5, 9, 11, 41, 23, 6, 8, 21, 4, 42, 5, 7, 29, 8, 10, 10, 37, 4, 11, 21, 26, 3, 13, 5, 8, 1, 5, 3, 8, 1, 6, 5, 1, 4, 3, 1, 1, 1, 1, 3, 5, 6, 1, 1, 1, 1, 1, 2, 4, 2, 1, 1, 1, 16, 2, 1, 10, 15, 6, 7, 3, 1, 26, 14, 27, 3, 2, 15, 15, 2, 7, 11, 3, 16, 21, 19, 22, 5, 2, 4, 3, 2, 1, 1, 2, 24, 2, 1, 4, 1, 1, 3, 5, 4, 3, 1, 3, 7, 8, 6, 2, 20, 4, 8, 14, 29, 18, 10, 6, 2, 9, 21, 11, 21, 21, 3, 5, 8, 9, 22, 31, 5, 5, 27, 29, 7, 1, 9, 13, 19, 14, 12, 6, 5, 5, 27, 11, 2, 14, 3, 5, 22, 11, 20, 7, 10, 3, 11, 8, 4, 11, 7, 18, 12, 2, 2, 1, 1, 3, 2, 8, 4, 5, 7, 1, 2, 13, 2, 1, 3, 6, 8, 1, 8, 20, 5, 4, 2, 6, 15, 4, 24, 4, 1, 1, 7, 9, 1, 4, 18, 8, 2, 10, 13, 1, 2, 13, 2, 14, 4, 7, 5, 6, 8, 1, 1, 8, 4, 2, 19, 1, 3, 2, 6, 1, 6, 1, 3, 2, 1, 5, 1, 3, 9, 2, 3, 6, 8, 3, 5, 11, 13, 7, 2, 1, 14, 5, 7, 14, 5, 1, 6, 4, 1, 2, 7, 6, 7, 2, 7, 6, 10, 1, 4, 2, 4, 1, 17, 1, 1, 4, 5, 2, 2, 3, 2, 2, 1, 16, 3, 1, 2, 4, 1, 11, 4, 6, 8, 2, 6, 8, 7, 2, 4, 6, 4, 4, 2, 5, 6, 1, 2, 3, 1, 2, 2, 6, 1, 1, 4, 3, 2, 14, 2, 5, 14, 22, 2, 3, 5, 4, 4, 2, 8, 4, 11, 1, 12, 1, 3, 6, 1, 3, 3, 3, 2, 6, 8, 6, 5, 1, 1, 11, 24, 11, 10, 4, 2, 8, 6, 9, 5, 22, 2, 3, 5, 6, 4, 3, 14, 8, 3, 6, 1, 2, 9, 16, 4, 5, 2, 15, 12, 6, 5, 8, 8, 11, 3, 9, 6, 4, 2, 2, 2, 11, 2, 1, 1, 5, 12, 5, 3, 6, 27, 8, 9, 3, 22, 1, 1, 13, 1, 2, 1, 1, 4, 18, 7, 4, 1, 2, 20, 14, 18, 4, 7, 7, 5, 10, 7, 9, 10, 11, 5, 1, 21, 9, 11, 5, 8, 4, 4, 8, 11, 6, 1, 1, 8, 2, 19, 5, 2, 6, 3, 1, 13, 11, 33, 2, 9, 5, 2, 3, 14, 5, 2, 4, 6, 3, 7, 4, 2, 1, 4, 7, 1, 14, 4, 1, 2, 1, 2, 2, 1, 2, 15, 6, 5, 5, 1, 2, 3, 2, 3, 4, 2, 6, 10, 6, 2, 4, 2, 9, 2, 4, 2, 1, 1, 3, 6, 7, 2, 4, 2, 1, 1, 12, 2, 21, 1, 6, 8, 1, 2, 1, 3, 3, 2, 3, 2, 3, 3, 4, 2, 1, 4, 4, 1, 1, 1, 2, 6, 1, 3, 1, 1, 1, 1, 1, 7, 16, 11, 18, 4, 3, 24, 9, 6, 2, 4, 3, 4, 4, 3, 4, 6, 13, 12, 9, 12, 16, 14, 4, 2, 4, 25, 9, 11, 7, 8, 1, 2, 1, 5, 4, 10, 19, 12, 10, 11, 5, 1, 15, 1, 1, 5, 1, 15, 7, 9, 2, 2, 23, 2, 6, 17, 10, 12, 7, 18, 18, 12, 4, 22, 3, 8, 13, 10, 8, 2, 10, 12, 9, 24, 22, 21, 8, 8, 2, 2, 2, 4, 20, 18, 14, 5, 15, 7, 3, 6, 8, 11, 10, 8, 2, 8, 5, 4, 8, 3, 2, 14, 20, 11, 1, 15, 7, 1, 16, 5, 17, 14, 6, 21, 2, 23, 3, 4, 10, 4, 2, 4, 14, 17, 10, 12, 14, 14, 12, 2, 7, 1, 6, 5, 26, 13, 27, 19, 8, 3, 4, 4, 4, 4, 10, 8, 3, 6, 32, 4, 3, 4, 10, 5, 3, 2, 2, 6, 1, 3, 22, 3, 2, 9, 4, 3, 2, 3, 3, 7, 7, 1, 3, 3, 3, 2, 5, 5, 2, 3, 5, 2, 4, 4, 3, 2, 23, 2, 4, 15, 1, 2, 10, 5, 8, 3, 3, 13, 5, 3, 1, 1, 1, 10, 3, 10, 6, 1, 8, 6, 1, 1, 3, 1, 1, 1, 5, 15, 8, 15, 7, 1, 2, 4, 11, 1, 12, 3, 3, 10, 2, 6, 13, 5, 1, 4, 6, 9, 1, 3, 12, 3, 3, 2, 6, 7, 7, 2, 7, 8, 2, 7, 7, 2, 4, 3, 2, 5, 5, 4, 1, 1, 1, 3, 1, 1, 3, 3, 4, 4, 10, 3, 8, 18, 1, 1, 2, 1, 5, 2, 1, 2, 2, 2, 2, 2, 1, 1, 2, 3, 3, 3, 2, 1, 21, 1, 1, 4, 1, 2, 9, 2, 2, 1, 2, 1, 1, 1, 5, 3, 7, 5, 2, 14, 8, 3, 18, 1, 7, 12, 3, 1, 5, 2, 9, 1, 4, 2, 1, 2, 6, 7, 2, 2, 10, 7, 8, 1, 11, 8, 1, 9, 4, 7, 2, 2, 9, 5, 1, 2, 1, 4, 2, 2, 2, 1, 1, 2, 5, 3, 6, 5, 2, 2, 3, 1, 4, 1, 8, 2, 14, 6, 8, 4, 9, 12, 4, 6, 1, 8, 2, 2, 3, 2, 1, 4, 6, 3, 4, 5, 1, 3, 4, 3, 6, 1, 3, 4, 2, 1, 11, 13, 3, 1, 1, 2, 1, 3, 1, 2, 6, 2, 3, 2, 5, 10, 1, 2, 3, 1, 1, 1, 1, 1, 1, 4, 7, 4, 3, 1, 6, 1, 19, 2, 1, 8, 2, 3, 3, 1, 1, 5, 4, 2, 3, 2, 4, 2, 4, 4, 2, 2, 1, 6, 6, 2, 2, 1, 3, 2, 3, 5, 3, 6, 5, 3, 2, 4, 1, 3, 1, 3, 5, 13, 2, 4, 2, 2, 1, 2, 3, 1, 1, 1, 1, 1, 1, 1, 1, 1, 1, 1, 1, 2, 7, 3, 4, 2, 1, 4, 2, 5, 3, 5, 1, 4, 2, 3, 3, 6, 11, 5, 1, 3, 7, 4, 1, 1, 3, 4, 1, 2, 1, 2, 1, 6, 2, 2, 1, 3, 2, 4, 2, 1, 2, 2, 1, 1, 1, 1, 1, 5, 1, 1, 1, 1, 1, 1, 1, 1, 1, 10, 9, 7, 12, 3, 10, 3, 12, 15, 10, 11, 9, 1, 4, 2, 15, 4, 2, 7, 1, 3, 2, 2, 1, 1, 3, 1, 10, 3, 6, 11, 27, 13, 5, 5, 4, 4, 4, 5, 2, 4, 3, 3, 7, 5, 6, 1, 2, 15, 4, 12, 11, 11, 5, 49, 6, 8, 1, 16, 7, 2, 1, 13, 4, 1, 3, 2, 6, 5, 2, 3, 1, 1, 7, 1, 1, 1, 1, 2, 5, 6, 2, 2, 2, 1, 1, 1, 2, 5, 1, 3, 1, 1, 1, 1, 1, 2, 2, 1, 1, 11, 2, 1, 1, 3, 1, 1, 2, 3, 1, 2, 1, 2, 4, 13, 10, 30, 14, 18, 5, 3, 4, 14, 3, 12, 5, 5, 6, 4, 17, 9, 10, 6, 6, 5, 1, 6, 5, 9, 15, 1, 5, 16, 16, 7, 12, 3, 6, 14, 7, 9, 2, 3, 5, 1, 9, 4, 26, 1, 7, 8, 2, 4, 3, 1, 4, 2, 3, 1, 2, 1, 6, 2, 15, 13, 5, 14, 4, 5, 6, 4, 2, 3, 1, 4, 6, 7, 2, 10, 3, 2, 3, 2, 31, 5, 1, 1, 3, 15, 1, 6, 4, 4, 12, 5, 2, 7, 2, 5, 3, 5, 3, 5, 2, 5, 9, 4, 6, 2, 11, 5, 4, 2, 4, 2, 29, 5, 2, 3, 5, 3, 11, 15, 2, 5, 3, 5, 2, 5, 4, 4, 6, 1, 6, 3, 1, 1, 4, 2, 3, 2, 3, 1, 1, 1, 2, 3, 2, 2, 1, 8, 1, 1, 14, 3, 5, 3, 4, 3, 2, 4, 1, 1, 4, 3, 2, 2, 2, 2, 1, 8, 2, 8, 1, 16, 8, 1, 1, 1, 10, 8, 19, 5, 4, 10, 12, 8, 7, 21, 5, 20, 1, 3, 2, 6, 13, 9, 5, 7, 17, 9, 19, 12, 4, 1, 1, 4, 5, 14, 9, 13, 4, 4, 8, 9, 7, 11, 12, 3, 8, 25, 1, 1, 8, 15, 4, 4, 2, 7, 4, 5, 14, 6, 3, 2, 3, 5, 10, 17, 4, 3, 10, 11, 7, 6, 7, 4, 4, 3, 1, 7, 10, 12, 4, 11, 3, 4, 3, 11, 2, 3, 18, 2, 2, 11, 5, 4, 3, 3, 3, 3, 7, 7, 1, 2, 5, 2, 5, 7, 5, 3, 4, 11, 8, 6, 7, 22, 2, 6, 15, 4, 7, 7, 4, 4, 6, 2, 1, 3, 10, 2, 1, 1, 1, 3, 10, 3, 1, 2, 1, 3, 2, 12, 1, 1, 6, 5, 1, 1, 1, 1, 1, 5, 4, 2, 8, 13, 12, 12, 19, 16, 6, 7, 8, 22, 3, 7, 3, 12, 3, 11, 3, 5, 4, 3, 5, 7, 14, 1, 4, 7, 4, 3, 12, 2, 3, 2, 4, 4, 2, 3, 5, 3, 7, 1, 21, 8, 1, 3, 9, 10, 11, 5, 10, 13, 4, 3, 5, 9, 5, 5, 3, 4, 3, 6, 3, 4, 12, 3, 3, 1, 14, 13, 13, 2, 4, 1, 7, 21, 16, 16, 3, 11, 10, 1, 5, 24, 23, 17, 8, 2, 3, 5, 6, 5, 6, 22, 5, 4, 3, 5, 4, 2, 2, 9, 11, 7, 6, 9, 4, 6, 2, 2, 13, 5, 2, 2, 5, 9, 1, 1, 3, 5, 2, 14, 6, 2, 6, 4, 4, 1, 2, 1, 7, 7, 13, 9, 14, 8, 8, 7, 9, 14, 8, 5, 3, 9, 6, 2, 1, 12, 2, 5, 3, 10, 6, 6, 3, 3, 11, 3, 5, 3, 5, 1, 8, 5, 6, 1, 1, 3, 2, 5, 10, 4, 2, 1, 5, 5, 7, 3, 5, 2, 11, 4, 8, 3, 4, 1, 2, 1, 1, 4, 2, 1, 1, 1, 3, 1, 1, 1, 1, 3, 1, 4, 3, 6, 1, 3, 4, 6, 5, 3, 1, 10, 1, 2, 1, 1, 5, 7, 9, 3, 1, 7, 1, 11, 3, 1, 7, 11, 3, 11, 6, 8, 3, 12, 18, 6, 6, 3, 3, 2, 3, 1, 2, 1, 17, 4, 4, 2, 3, 1, 1, 1, 1, 8, 10, 5, 1, 7, 4, 1, 3, 6, 15, 3, 1, 9, 1, 5, 1, 2, 3, 2, 9, 4, 7, 7, 3, 3, 21, 19, 5, 3, 4, 3, 2, 3, 8, 5, 2, 3, 3, 1, 4, 3, 7, 5, 2, 4, 3, 1, 1, 2, 2, 3, 7, 1, 3, 1, 3, 7, 3, 11, 6, 3, 2, 1, 2, 3, 1, 1, 1, 1, 3, 2, 1, 1, 2, 1, 1, 4, 6, 6, 1, 12, 14, 4, 14, 14, 7, 5, 1, 2, 7, 5, 1, 1, 3, 3, 3, 1, 1, 3, 2, 1, 1, 4, 2, 1, 2, 2, 1, 2, 3, 1, 2, 3, 5, 5, 2, 3, 2, 2, 4, 1, 2, 2, 3, 4, 1, 1, 1, 1, 1, 1, 2, 2, 3, 1, 3, 1, 2, 1, 1, 3, 2, 1, 1, 2, 2, 1, 4, 1, 1, 1, 3, 2, 4, 1, 2, 1, 1, 1, 3, 1, 11, 1, 5, 4, 2, 4, 2, 3, 1, 1, 1, 12, 4, 3, 5, 7, 4, 3, 7, 6, 5, 3, 4, 8, 1, 2, 8, 2, 4, 4, 2, 5, 5, 3, 6, 8, 1, 4, 1, 2, 2, 7, 10, 1, 6, 8, 11, 1, 1, 1, 4, 1, 4, 4, 6, 2, 2, 1, 2, 4, 5, 2, 1, 2, 3, 2, 4, 1, 1, 9, 1, 1, 1, 5, 1, 5, 9, 2, 1, 7, 12, 12, 3, 3, 6, 1, 10, 13, 7, 8, 3, 14, 1, 1, 9, 4, 1, 2, 6, 8, 2, 2, 6, 1, 1, 3, 2, 4, 3, 6, 1, 2, 1, 2, 2, 2, 1, 2, 4, 1, 2, 1, 4, 2, 5, 5, 1, 3, 1, 1, 7, 2, 2, 1, 1, 3, 1, 1, 4, 5, 5, 10, 4, 4, 6, 6, 1, 6, 6, 3, 1, 3, 4, 5, 5, 4, 6, 4, 2, 2, 4, 1, 2, 3, 2, 2, 7, 2, 3, 8, 11, 8, 4, 1, 9, 12, 7, 2, 1, 8, 9, 6, 7, 3, 2, 8, 2, 3, 2, 3, 5, 4, 4, 10, 1, 1, 2, 6, 10, 1, 1, 1, 1, 1, 1, 1, 2, 1, 1, 3, 1, 2, 1, 3, 1, 3, 2, 7, 2, 3, 7, 1, 1, 2, 3, 1, 3, 1, 2, 5, 1, 2, 4, 1, 2, 8, 2, 2, 4, 3, 6, 3, 3, 2, 3, 1, 1, 1, 1, 5, 1, 4, 2, 1, 1, 5, 4, 1, 5, 2, 8, 1, 9, 3, 1, 1, 4, 1, 5, 4, 5, 1, 1, 1, 1, 1, 2, 7, 1, 3, 6, 2, 6, 4, 5, 1, 2, 1, 6, 7, 7, 1, 2, 4, 1, 5, 1, 2, 2, 3, 1, 2, 1, 3, 2, 2, 4, 5, 1, 3, 6, 5, 6, 7, 5, 2, 5, 5, 7, 4, 8, 1, 1, 1, 6, 4, 2, 1, 2, 1, 1, 1, 1, 4, 4, 9, 2, 4, 4, 11, 12, 1, 6, 1, 5, 5, 2, 5, 3, 3, 7, 3, 4, 2, 1, 2, 5, 1, 5, 3, 6, 2, 1, 4, 4, 4, 2, 1, 4, 4, 4, 2, 4, 3, 1, 1, 1, 4, 2, 1, 2, 3, 2, 4, 4, 6, 3, 7, 2, 9, 1, 2, 6, 2, 5, 2, 2, 4, 3, 10, 1, 2, 3, 2, 1, 1, 1, 1, 2, 1, 4, 3, 4, 1, 2, 3, 1, 2, 1, 2, 9, 3, 4, 5, 4, 1, 2, 4, 4, 1, 1, 3, 1, 2, 2, 1, 2, 1, 1, 1, 1, 3, 1, 2, 3, 1, 2, 1, 1, 2, 6, 3, 2, 1, 3, 2, 1, 2, 3, 2, 1, 6, 1, 1, 1, 5, 1, 4, 6, 1, 5, 2, 7, 1, 1, 3, 4, 1, 7, 2, 2, 1, 4, 2, 3, 3, 2, 1, 4, 4, 1, 2, 2, 4, 1, 2, 5, 4, 1, 3, 1, 1, 4, 1, 1, 3, 2, 3, 2, 1, 2, 2, 1, 2, 2, 2, 2, 4, 2, 3, 3, 1, 5, 1, 5, 5, 2, 1, 4, 2, 2, 18, 1, 2, 1, 5, 3, 9, 7, 4, 3, 4, 4, 10, 1, 3, 4, 1, 1, 5, 3, 1, 4, 1, 2, 3, 2, 2, 3, 4, 1, 12, 6, 11, 10, 3, 4, 7, 6, 2, 9, 2, 3, 2, 1, 1, 1, 2, 2, 2, 5, 5, 4, 4, 7, 1, 10, 2, 2, 3, 2, 4, 1, 2, 3, 2, 3, 3, 3, 3, 13, 1, 5, 2, 11, 5, 8, 10, 1, 5, 2, 3, 3, 6, 3, 3, 2, 3, 10, 3, 1, 3, 4, 5, 6, 5, 5, 1, 1, 3, 17, 4, 2, 6, 4, 5, 1, 1, 1, 3, 2, 5, 2, 5, 2, 2, 2, 2, 5, 8, 2, 1, 8, 12, 4, 3, 3, 3, 4, 2, 6, 1, 1, 2, 2, 2, 2, 4, 1, 3, 3, 1, 6, 2, 2, 4, 3, 2, 1, 2, 2, 4, 2, 3, 2, 1, 1, 3, 7, 1, 2, 2, 4, 9, 3, 2, 6, 6, 9, 9, 2, 3, 3, 9, 3, 1, 1, 1, 2, 2, 2, 10, 2, 1, 3, 4, 6, 1, 5, 2, 2, 4, 9, 5, 2, 5, 3, 1, 3, 1, 15, 3, 6, 2, 1, 4, 2, 3, 2, 3, 4, 5, 5, 4, 2, 1, 4, 2, 6, 1, 4, 7, 4, 6, 11, 5, 3, 4, 2, 4, 1, 1, 6, 1, 1, 3, 4, 5, 5, 3, 2, 1, 1, 2, 3, 10, 1, 1, 3, 4, 1, 1, 4, 2, 2, 3, 3, 3, 1, 1, 10, 2, 3, 2, 3, 1, 1, 2, 2, 5, 3, 1, 2, 4, 5, 1, 1, 1, 1, 1, 2, 2, 1, 1, 4, 1, 2, 1, 2, 2, 1, 1, 4, 1, 1, 1, 1, 1, 1, 1, 1, 1, 1, 4, 9, 3, 1, 1, 2, 1, 2, 1, 1, 1, 1, 2, 2, 1, 1, 1, 2, 1, 2, 1, 3, 2, 2, 1, 1, 2, 3, 1, 1, 1, 1, 2, 1, 1, 1, 2, 6, 1, 2, 1, 2, 1, 1, 1, 1, 1, 1, 4, 3, 1, 1, 1, 2, 4, 1, 1, 5, 1, 3, 1, 1, 2, 1, 1, 1, 1, 1, 1, 2, 1, 1, 1, 1, 1, 1, 1, 2, 1, 1, 1, 2, 1, 1, 1, 1, 1, 1, 1, 1, 1, 1, 3, 1, 1, 1, 1, 1, 1, 1, 1, 1, 1, 1, 1, 1, 1, 1, 1, 1, 1, 1, 1, 2, 1, 1, 1, 1, 1, 1, 1, 1, 1, 5, 2, 5, 3, 3, 9, 1, 1, 10, 1, 8, 3, 3, 2, 2, 5, 13, 9, 4, 3, 5, 6, 2, 3, 5, 2, 1, 2, 2, 1, 3, 2, 1, 4, 1, 3, 2, 1, 1, 4, 5, 2, 1, 5, 3, 1, 4, 1, 2, 1, 1, 1, 1, 1, 1, 1, 1, 2, 2, 1, 3, 2, 1, 1, 2, 1, 1, 2, 1, 4, 2, 2, 4, 1, 1, 4, 1, 2, 2, 6, 6, 2, 5, 4, 1, 2, 9, 3, 3, 2, 2, 4, 1, 1, 3, 2, 4, 2, 1, 2, 2, 1, 1, 1, 3, 5, 3, 4, 2, 1, 2, 2, 2, 7, 5, 1, 4, 4, 3, 4, 5, 1, 1, 1, 4, 1, 1, 1, 1, 2, 1, 1, 1, 1, 1, 1, 1, 1, 1, 2, 3, 2, 1, 1, 4, 4, 3, 2, 2, 7, 3, 3, 3, 1, 2, 4, 11, 3, 7, 4, 2, 1, 5, 4, 4, 4, 5, 5, 3, 2, 2, 3, 4, 11, 1, 1, 4, 5, 1, 1, 2, 2, 1, 2, 2, 2, 1, 2, 4, 5, 2, 3, 2, 1, 1, 3, 4, 3, 6, 1, 5, 1, 1, 2, 2, 1, 5, 3, 5, 1, 5, 1, 3, 1, 3, 2, 1, 2, 2, 1, 1, 2, 4, 1, 1, 2, 2, 2, 2, 3, 3, 1, 2, 1, 2, 2, 5, 1, 2, 3, 1, 1, 1, 5, 4, 1, 5, 2, 1, 4, 2, 2, 4, 2, 1, 1, 3, 4, 4, 2, 3, 4, 6, 2, 1, 2, 1, 2, 1, 2, 2, 2, 2, 2, 3, 2, 2, 2, 4, 7, 1, 1, 1, 1, 3, 2, 2, 1, 1, 6, 1, 4, 1, 2, 1, 1, 5, 1, 3, 1, 2, 1, 1, 2, 1, 1, 1, 1, 1, 1, 1, 1, 4, 1, 2, 2, 2, 2, 1, 2, 2, 1, 2, 1, 4, 2, 1, 1, 1, 1, 1, 3, 1, 1, 1, 1, 1, 1, 2, 1, 1, 1, 2, 3, 1, 1, 3, 4, 1, 1, 1, 1, 1, 1, 1, 1, 1, 1, 2, 1, 1, 1, 1, 1, 1, 1, 3, 1, 4, 1, 1, 1, 1, 4, 1, 1, 1, 1, 1, 2, 1, 1, 1, 1, 1, 1, 1, 1, 1, 1, 1, 1, 1, 1, 1, 1, 1, 1, 1, 1, 1, 1, 1, 1, 1, 1, 2, 1, 1, 5, 2, 2, 3, 6, 5, 5, 5, 3, 4, 10, 4, 1, 2, 8, 3, 1, 1, 3, 3, 1, 8, 1, 1, 7, 1, 6, 1, 2, 2, 3, 9, 1, 1, 5, 2, 2, 1, 2, 3, 1, 7, 2, 4, 1, 4, 1, 5, 3, 4, 2, 1, 6, 4, 4, 3, 3, 4, 6, 1, 2, 1, 1, 1, 1, 1, 2, 3, 2, 1, 2, 2, 1, 1, 2, 1, 1, 1, 1, 3, 1, 4, 1, 1, 3, 1, 1, 1, 1, 3, 1, 1, 1, 2, 1, 2, 5, 2, 2, 2, 2, 3, 2, 1, 1, 4, 4, 2, 1, 1, 3, 1, 1, 1, 1, 2, 1, 1, 2, 2, 1, 2, 1, 3, 7, 1, 2, 1, 4, 1, 2, 2, 3, 1, 2, 1, 3, 2, 1, 2, 3, 1, 1, 1, 1, 1, 2, 1, 1, 1, 1, 4, 1, 1, 1, 1, 1, 1, 3, 4, 3, 5, 3, 2, 6, 2, 3, 2, 2, 1, 1, 4, 2, 8, 1, 1, 3, 1, 1, 4, 1, 1, 2, 1, 5, 1, 1, 3, 1, 1, 1, 1, 1, 1, 1, 1, 1, 1, 1, 1, 2, 1, 6, 1, 1, 1, 3, 1, 1, 1, 3, 1, 6, 1, 4, 2, 4, 1, 6, 5, 1, 2, 1, 3, 1, 3, 1, 3, 1, 1, 1, 1, 2, 1, 2, 1, 4, 2, 2, 1, 2, 1, 9, 1, 1, 2, 2, 2, 1, 4, 1, 1, 1, 1, 1, 2, 4, 2, 2, 1, 1, 1, 1, 2, 1, 2, 1, 3, 1, 1, 2, 1, 2, 3, 2, 4, 3, 2, 2, 1, 1, 2, 1, 5, 2, 1, 3, 1, 1, 1, 1, 2, 10, 6, 2, 5, 4, 3, 5, 4, 2, 4, 3, 4, 4, 3, 1, 2, 4, 2, 9, 4, 1, 1, 5, 1, 4, 4, 2, 2, 2, 3, 1, 2, 1, 5, 3, 1, 1, 4, 1, 4, 1, 1, 1, 1, 2, 4, 4, 1, 4, 1, 1, 1, 1, 2, 1, 1, 3, 1, 2, 2, 1, 3, 5, 1, 2, 3, 1, 1, 4, 2, 2, 2, 3, 1, 3, 3, 1, 2, 2, 1, 2, 1, 1, 1, 1, 2, 2, 1, 2, 2, 5, 3, 1, 1, 1, 1, 1, 1, 1, 6, 1, 2, 1, 1, 2, 1, 4, 1, 1, 1, 1, 6, 1, 2, 2, 3, 7, 3, 1, 2, 1, 3, 1, 5, 1, 1, 3, 1, 1, 2, 2, 1, 1, 5, 1, 2, 1, 1, 1, 1, 3, 1, 1, 2, 3, 2, 1, 1, 1, 1, 1, 2, 3, 1, 2, 1, 3, 3, 3, 3, 3, 3, 3, 1, 4, 2, 1, 4, 4, 1, 1, 1, 4, 1, 1, 2, 1, 1, 2, 2, 1, 4, 1, 4, 1, 1, 3, 3, 4, 1, 2, 2, 2, 1, 4, 1, 1, 1, 3, 1, 3, 2, 4, 1, 1, 3, 1, 4, 1, 1, 1, 1, 2, 1, 2, 3, 1, 1, 2, 1, 1, 1, 3, 1, 1, 3, 1, 1, 1, 2, 2, 1, 1, 1, 1, 6, 1, 5, 1, 1, 1, 2, 1, 1, 3, 1, 2, 3, 2, 9, 6, 5, 4, 5, 2, 2, 4, 2, 2, 2, 1, 1, 1, 2, 3, 5, 2, 5, 1, 1, 1, 3, 3, 1, 5, 2, 2, 1, 1, 5, 4, 2, 3, 3, 4, 2, 1, 3, 5, 3, 1, 3, 1, 1, 1, 3, 1, 1, 1, 1, 1, 1, 3, 3, 2, 1, 1, 1, 1, 2, 1, 1, 1, 1, 1, 2, 3, 1, 1, 3, 1, 2, 1, 1, 1, 1, 1, 1, 1, 1, 1, 2, 1, 1, 2, 1, 1, 1, 4, 1, 1, 2, 2, 1, 3, 1, 1, 1, 3, 1, 2, 1, 1, 1, 1, 1, 2, 2, 1, 2, 1, 1, 2, 2, 1, 4, 2, 2, 1, 1, 2, 1, 2, 1, 3, 1, 3, 2, 2, 3, 1, 2, 2, 1, 3, 2, 1, 2, 1, 1, 5, 1, 1, 1, 3, 2, 7, 6, 1, 3, 3, 1, 2, 1, 1, 2, 6, 2, 5, 1, 5, 4, 1, 1, 2, 1, 1, 3, 2, 5, 2, 3, 7, 2, 2, 4, 1, 2, 1, 1, 1, 1, 1, 2, 1, 1, 3, 1, 1, 1, 1, 1, 1, 1, 2, 1, 1, 1, 3, 1, 1, 1, 1, 1, 1, 1, 1, 1, 1, 1, 1, 3, 2, 2, 1, 1, 1, 3, 1, 1, 1, 1, 1, 2, 3, 1, 1, 3, 1, 1, 1, 1, 2, 1, 6, 7, 1, 4, 2, 2, 3, 1, 1, 3, 1, 1, 1, 2, 2, 1, 3, 2, 3, 3, 1, 2, 2, 1, 3, 1, 1, 1, 3, 3, 1, 4, 2, 4, 2, 2, 2, 2, 1, 2, 1, 1, 1, 1, 1, 2, 1, 2, 1, 1, 1, 2, 1, 1, 1, 2, 3, 2, 1, 1, 3, 2, 1, 1, 1, 1, 8, 1, 1, 2, 2, 1, 2, 3, 1, 1, 2, 1, 5, 1, 2, 2, 3, 2, 1, 1, 3, 1, 1, 1, 4, 3, 1, 1, 1, 1, 1, 1, 1, 1, 1, 1, 6, 10, 3, 1, 3, 2, 4, 2, 2, 1, 2, 5, 2, 1, 1, 2, 2, 3, 4, 5, 1, 3, 2, 2, 6, 1, 1, 2, 5, 1, 1, 1, 1, 3, 2, 2, 2, 1, 2, 3, 3, 2, 2, 1, 3, 2, 1, 2, 2, 2, 2, 2, 2, 4, 1, 2, 3, 1, 1, 2, 1, 2, 2, 1, 1, 2, 1, 2, 2, 1, 1, 1, 1, 1, 3, 1, 2, 2, 3, 1, 3, 3, 1, 2, 1, 1, 1, 2, 2, 1, 3, 2, 1, 2, 1, 1, 1, 1, 5, 1, 2, 1, 1, 1, 1, 2, 4, 2, 1, 1, 1, 1, 4, 1, 1, 1, 2, 3, 1, 1, 1, 2, 1, 1, 1, 1, 2, 4, 1, 2, 1, 3, 1, 1, 1, 1, 4, 2, 5, 2, 6, 2, 2, 3, 2, 1, 1, 1, 2, 2, 2, 1, 1, 2, 1, 2, 1, 2, 1, 1, 1, 2, 2, 2, 2, 1, 2, 3, 1, 1, 2, 1, 1, 1, 1, 2, 1, 1, 1, 1, 1, 1, 1, 1, 1, 4, 1, 1, 1, 1, 1, 2, 1, 1, 1, 1, 1, 2, 1, 1, 1, 3, 1, 1, 1, 1, 1, 2, 2, 1, 1, 1, 1, 1, 1, 1, 1, 1, 1, 2, 1, 1, 2, 3, 2, 1, 1, 1, 1, 1, 3, 3, 2, 1, 2, 1, 2, 1, 3, 3, 2, 1, 1, 1, 1, 1, 1, 1, 2, 4, 1, 1, 2, 1, 1, 1, 3, 1, 1, 1, 1, 1, 1, 2, 1, 1, 1, 1, 1, 1, 1, 1, 1, 1, 2, 1, 1, 1, 1, 1, 1, 1, 1, 1, 1, 1, 1, 1, 1, 1, 1, 1, 4, 1, 1, 1, 1, 1, 2, 1, 1, 1, 1, 2, 3, 2, 2, 1, 1, 4, 1, 1, 3, 2, 1, 3, 2, 2, 2, 3, 2, 2, 1, 1, 2, 1, 1, 1, 1, 1, 1, 1, 1, 1, 1, 1, 1, 1, 2, 2, 1, 2, 2, 1, 2, 2, 2, 1, 1, 1, 3, 1, 4, 2, 1, 1, 2, 1, 1, 3, 3, 3, 2, 3, 1, 1, 1, 1, 2, 1, 1, 2, 2, 1, 1, 2, 1, 2, 1, 1, 1, 2, 1, 1, 1, 1, 1, 1, 1, 1, 1, 1, 1, 1, 1, 1, 1, 2, 1, 1, 1, 1, 1, 1, 1, 1, 1, 1, 1, 1, 1, 1, 1, 1, 1, 1, 1, 3, 2, 3, 3, 2, 1, 1, 1, 1, 1, 1, 2, 1, 2, 1, 1, 1, 1, 3, 1, 3, 1, 2, 1, 1, 1, 1, 1, 1, 1, 1, 1, 5, 2, 4, 2, 2, 1, 2, 3, 1, 1, 2, 2, 1, 2, 1, 1, 1, 1, 1, 1, 1, 1, 2, 1, 1, 1, 1, 1, 2, 2, 1, 1, 3, 1, 2, 2, 1, 1, 3, 1, 2, 1, 2, 2, 1, 1, 1, 2, 2, 3, 1, 1, 1, 1, 1, 1, 2, 1, 1, 1, 1, 1, 2, 2, 2, 1, 2, 1, 1, 3, 1, 2, 4, 1, 1, 3, 1, 2, 1, 3, 3, 1, 2, 2, 1, 1, 2, 1, 1, 2, 2, 1, 2, 2, 2, 2, 2, 3, 1, 3, 1, 1, 1, 1, 1, 1, 1, 1, 1, 1, 1, 1, 1, 1, 1, 1, 2, 2, 3, 1, 2, 1, 2, 1, 1, 1, 1, 1, 1, 1, 1, 1, 2, 3, 1, 1, 2, 1, 1, 1, 2, 2, 2, 2, 1, 2, 2, 2, 1, 1, 2, 1, 1, 2, 1, 1, 1, 1, 3, 1, 2, 2, 2, 2, 1, 2, 3, 2, 1, 3, 2, 1, 2, 3, 2, 1, 1, 1, 1, 1, 2, 2, 1, 1, 1, 1, 3, 1, 1, 1, 1, 1, 1, 1, 2, 3, 1, 2, 2, 4, 1, 2, 1, 3, 2, 1, 1, 2, 3, 2, 1, 1, 1, 1, 1, 1, 1, 1, 1, 1, 1, 2, 2, 1, 1, 1, 1, 1, 1, 1, 1, 1, 1, 1, 1, 1, 1, 2, 1, 1, 1, 1, 1, 1, 1, 1, 1, 1, 1, 1, 1, 1, 1, 1, 1, 1, 2, 1, 1, 1, 1, 1, 2, 2, 2, 1, 1, 1, 1, 1, 1, 1, 1, 1, 1, 1, 1, 1, 1, 1, 1, 1, 1, 1, 1, 1, 1, 1, 1, 1, 1, 2, 1, 1, 1, 1, 1, 1, 1, 1, 1, 1, 1, 1, 1, 1, 1, 1, 1, 1, 1, 1, 1, 1, 2, 2, 1, 1, 2, 1, 1, 1, 1, 1, 1, 1, 1, 1, 1, 1, 2, 1, 1, 1, 2, 2, 1, 1, 1, 1, 1, 1, 1, 1, 1, 1, 1, 1, 1, 1, 1, 1, 1, 1, 1, 1, 1, 1, 1, 1, 1, 1, 1, 1, 1, 1, 1, 1, 1, 1, 1, 1, 1, 1, 1, 1, 1, 1, 1, 1, 1, 1, 1, 1, 1, 1, 1, 1, 1, 1, 1, 1, 1, 1, 1, 1, 1, 1, 1, 1, 1, 1, 1, 1, 1, 1, 1, 1, 1, 1, 1, 1, 1, 1, 1, 1, 1, 1, 1, 1, 1, 1, 1, 2, 1, 1, 1, 1, 2, 1, 1, 1, 1, 1, 1, 1, 1, 1, 1, 1, 1, 1, 1, 1, 1, 1, 1, 1, 1, 1, 1, 1, 1, 1, 1, 1, 1, 1, 1, 1, 1, 1, 2, 1, 2, 1, 1, 1, 1, 1, 1, 1, 1, 1, 1, 1, 1, 1, 1, 1, 1, 1, 1, 1, 1, 1, 1, 1, 1, 1, 1, 1, 1, 1, 1, 1, 1, 1, 1, 1, 1, 1, 1, 1, 1, 1, 1, 1, 1, 1, 2, 1, 2, 1, 1, 1, 1, 1, 1, 2, 1, 1, 2, 1, 1, 1, 1, 1, 2, 1, 1, 2, 1, 1, 1, 1, 1, 1, 1, 1, 1, 1, 1, 1, 1, 1, 1, 1, 2, 1, 1, 1, 1, 1, 1, 1, 1, 2, 1, 2, 1, 1, 1, 1, 1, 1, 1, 1, 1, 1, 2, 1, 1, 1, 1, 1, 1, 1, 1, 1, 1, 1, 1, 1, 1, 1, 1, 1, 1, 1, 1, 1, 1, 1, 1, 1, 1, 1, 1, 1, 2, 2, 1, 1, 1, 1, 1, 1, 1, 1, 1, 1, 1, 1, 1, 2, 2, 1, 1, 1, 1, 1, 1, 1, 1, 1, 1, 1, 1, 1, 1, 1, 2, 2, 1, 1, 1, 1, 2, 2, 1, 1, 1, 1, 1, 1, 1, 1, 1, 1, 1, 1, 1, 2, 1, 1, 1, 1, 1, 1, 1, 1, 1, 1, 1, 1, 1, 1, 1, 1, 1, 1, 1, 1, 1, 3, 1, 1, 1, 1, 2, 1, 2, 1, 1, 2, 1, 2, 1, 1, 1, 1, 1, 1, 1, 1, 1, 1, 1, 1, 1, 1, 1, 1, 1, 1, 1, 1, 1, 2, 1, 2, 3, 1, 2, 1, 1, 1, 1, 1, 1, 1, 1, 1, 1, 1, 1, 1, 1, 1, 1, 1, 1, 1, 1, 1, 1, 1, 1, 1, 2, 1, 1, 1, 1, 1, 1, 1, 2, 1, 1, 1, 1, 1, 1, 1, 1, 1, 2, 1, 1, 1, 1, 1, 1, 1, 1, 1, 1, 1, 2, 3, 1, 1, 1, 1, 2, 1, 1, 1, 1, 1, 2, 1, 1, 1, 1, 1, 1, 1, 2, 1, 1, 1, 1, 1, 1, 1, 1, 1, 1, 1, 1, 1, 1, 1, 1, 2, 2, 1, 1, 1, 1, 1, 1, 1, 1, 1, 1, 1, 2, 1, 1, 1, 1, 1, 1, 1, 1, 1, 1, 1, 1, 1, 1, 1, 1, 1, 1, 1, 1, 2, 2, 2, 1, 1, 2, 2, 2, 1, 1, 1, 1, 2, 1, 1, 1, 2, 1, 1, 2, 1, 1, 1, 1, 1, 1, 1, 1, 1, 1, 1, 1, 2, 2, 2, 1, 2, 1, 1, 1, 1, 2, 1, 1, 1, 1, 1, 1, 1, 1, 1, 1, 1, 1, 1, 1, 1, 1, 1, 1, 1, 1, 1, 1, 1, 1, 2, 2, 1, 1, 1, 1, 1, 1, 1, 1, 1, 1, 1, 1, 1, 1, 1, 1, 1, 1, 1, 1, 1, 1, 1, 1, 1, 1, 1, 1, 1, 1, 2, 1, 1, 1, 1, 1, 1, 1, 1, 1, 1, 1, 1, 1, 1, 1, 1, 1, 1, 1, 1, 1, 1, 1, 1, 2, 1, 2, 1, 1, 1, 1, 1, 1, 1, 1, 1, 1, 1, 1, 1, 1, 1, 1, 1, 1, 1, 1, 1, 1, 1, 1, 1, 1, 1, 1, 1, 1, 1, 1, 1, 1, 1, 1, 1, 1, 1, 1, 1, 1, 1, 1, 1, 1, 1, 1, 1, 1, 1, 1, 2, 1, 1, 2, 1, 1, 1, 1, 1, 2, 2, 1, 1, 1, 2, 1, 1, 1, 1, 1, 1, 1, 1, 1, 1, 1, 1, 1, 1, 1, 1, 1, 1, 1, 1, 1, 1, 1, 1, 1, 1, 1, 1, 1, 1, 2, 1, 1, 1, 1, 1, 1, 1, 1, 1, 1, 1, 1, 1, 1, 1, 1, 1, 1, 1, 1, 1, 1, 1, 1, 1, 1, 1, 1, 1, 1, 1, 1, 1, 1, 1, 1, 1, 1, 1, 1, 1, 1, 1, 1, 1, 1, 1, 1, 1, 1, 1, 1, 1, 1, 1, 1, 1, 1, 1, 1, 1, 1, 1, 1, 1, 1, 1, 1, 1, 1, 1, 2, 1, 1, 1, 1, 1, 1, 1, 1, 1, 1, 1, 1, 1, 1, 1, 1, 1, 1, 1, 1, 1, 1, 1, 1, 1, 1, 1, 1, 1, 1, 1, 1, 1, 2, 1, 1, 1, 1, 1, 1, 1, 1, 1, 1, 1, 1, 1, 1, 1, 1, 1, 1, 1, 1, 1, 1, 1, 1, 1, 1, 1, 1, 1, 1, 1, 1, 1, 1, 1, 1, 1, 1, 1, 1, 1, 1, 1, 1, 1, 1, 1, 1, 1, 1, 1, 1, 1, 1, 1, 1, 1, 1, 1, 1, 1, 1, 1, 1, 1, 1, 1, 1, 1, 1, 1, 1, 1, 1, 1, 1, 1, 1, 1, 1, 1, 1, 1, 1, 1, 1, 1, 1, 1, 1, 1, 1, 1, 1, 1, 1, 1, 1, 1, 1, 1, 1, 1, 1, 1, 1, 1, 1, 1, 2, 1, 1, 1, 1, 1, 1, 1, 1, 1, 1, 1, 1, 1, 1, 1, 1, 1, 1, 1, 1, 1, 1, 1, 1, 1, 1, 1, 1, 1, 1, 1, 1, 1, 1, 1, 1, 1, 2, 1, 1, 1, 1, 1, 1, 1, 1, 1, 1, 1, 1, 1, 1, 1, 1, 1, 1, 1, 1, 1, 1, 1, 2, 1, 1, 1, 1, 1, 1, 1, 1, 1, 1, 1, 1, 1, 1, 1, 1, 1, 1, 1, 1, 1, 1, 1, 1, 1, 1, 1, 1, 1, 1, 1, 1, 1, 1, 1, 1, 1, 1, 1, 1, 1, 1, 1, 1, 1, 1, 1, 1, 1, 1, 1, 1, 1, 1, 1, 1, 1, 1, 1, 1, 1, 1, 1, 1, 1, 1, 1, 1, 1, 1, 1, 1, 1, 1, 1, 1, 1, 1, 1, 1, 1, 1, 1, 1, 1, 1, 1, 1, 1, 1, 1, 1, 1, 1, 1, 1, 1, 1, 1, 1, 1, 1, 1])"
      ]
     },
     "execution_count": 32,
     "metadata": {},
     "output_type": "execute_result"
    }
   ],
   "source": [
    "index_of_movieId.values()"
   ]
  },
  {
   "cell_type": "code",
   "execution_count": 33,
   "metadata": {},
   "outputs": [
    {
     "data": {
      "text/plain": [
       "9066"
      ]
     },
     "execution_count": 33,
     "metadata": {},
     "output_type": "execute_result"
    }
   ],
   "source": [
    "len(n_items_table)"
   ]
  },
  {
   "cell_type": "code",
   "execution_count": 34,
   "metadata": {},
   "outputs": [
    {
     "data": {
      "text/html": [
       "<div>\n",
       "<style scoped>\n",
       "    .dataframe tbody tr th:only-of-type {\n",
       "        vertical-align: middle;\n",
       "    }\n",
       "\n",
       "    .dataframe tbody tr th {\n",
       "        vertical-align: top;\n",
       "    }\n",
       "\n",
       "    .dataframe thead th {\n",
       "        text-align: right;\n",
       "    }\n",
       "</style>\n",
       "<table border=\"1\" class=\"dataframe\">\n",
       "  <thead>\n",
       "    <tr style=\"text-align: right;\">\n",
       "      <th></th>\n",
       "      <th>userId</th>\n",
       "      <th>movieId</th>\n",
       "      <th>rating</th>\n",
       "      <th>timestamp</th>\n",
       "    </tr>\n",
       "  </thead>\n",
       "  <tbody>\n",
       "    <tr>\n",
       "      <td>0</td>\n",
       "      <td>1</td>\n",
       "      <td>31</td>\n",
       "      <td>2.5</td>\n",
       "      <td>1260759144</td>\n",
       "    </tr>\n",
       "    <tr>\n",
       "      <td>1</td>\n",
       "      <td>1</td>\n",
       "      <td>1029</td>\n",
       "      <td>3.0</td>\n",
       "      <td>1260759179</td>\n",
       "    </tr>\n",
       "    <tr>\n",
       "      <td>2</td>\n",
       "      <td>1</td>\n",
       "      <td>1061</td>\n",
       "      <td>3.0</td>\n",
       "      <td>1260759182</td>\n",
       "    </tr>\n",
       "    <tr>\n",
       "      <td>3</td>\n",
       "      <td>1</td>\n",
       "      <td>1129</td>\n",
       "      <td>2.0</td>\n",
       "      <td>1260759185</td>\n",
       "    </tr>\n",
       "    <tr>\n",
       "      <td>4</td>\n",
       "      <td>1</td>\n",
       "      <td>1172</td>\n",
       "      <td>4.0</td>\n",
       "      <td>1260759205</td>\n",
       "    </tr>\n",
       "    <tr>\n",
       "      <td>5</td>\n",
       "      <td>1</td>\n",
       "      <td>1263</td>\n",
       "      <td>2.0</td>\n",
       "      <td>1260759151</td>\n",
       "    </tr>\n",
       "    <tr>\n",
       "      <td>6</td>\n",
       "      <td>1</td>\n",
       "      <td>1287</td>\n",
       "      <td>2.0</td>\n",
       "      <td>1260759187</td>\n",
       "    </tr>\n",
       "    <tr>\n",
       "      <td>7</td>\n",
       "      <td>1</td>\n",
       "      <td>1293</td>\n",
       "      <td>2.0</td>\n",
       "      <td>1260759148</td>\n",
       "    </tr>\n",
       "    <tr>\n",
       "      <td>8</td>\n",
       "      <td>1</td>\n",
       "      <td>1339</td>\n",
       "      <td>3.5</td>\n",
       "      <td>1260759125</td>\n",
       "    </tr>\n",
       "    <tr>\n",
       "      <td>9</td>\n",
       "      <td>1</td>\n",
       "      <td>1343</td>\n",
       "      <td>2.0</td>\n",
       "      <td>1260759131</td>\n",
       "    </tr>\n",
       "    <tr>\n",
       "      <td>10</td>\n",
       "      <td>1</td>\n",
       "      <td>1371</td>\n",
       "      <td>2.5</td>\n",
       "      <td>1260759135</td>\n",
       "    </tr>\n",
       "    <tr>\n",
       "      <td>11</td>\n",
       "      <td>1</td>\n",
       "      <td>1405</td>\n",
       "      <td>1.0</td>\n",
       "      <td>1260759203</td>\n",
       "    </tr>\n",
       "    <tr>\n",
       "      <td>12</td>\n",
       "      <td>1</td>\n",
       "      <td>1953</td>\n",
       "      <td>4.0</td>\n",
       "      <td>1260759191</td>\n",
       "    </tr>\n",
       "    <tr>\n",
       "      <td>13</td>\n",
       "      <td>1</td>\n",
       "      <td>2105</td>\n",
       "      <td>4.0</td>\n",
       "      <td>1260759139</td>\n",
       "    </tr>\n",
       "    <tr>\n",
       "      <td>14</td>\n",
       "      <td>1</td>\n",
       "      <td>2150</td>\n",
       "      <td>3.0</td>\n",
       "      <td>1260759194</td>\n",
       "    </tr>\n",
       "    <tr>\n",
       "      <td>15</td>\n",
       "      <td>1</td>\n",
       "      <td>2193</td>\n",
       "      <td>2.0</td>\n",
       "      <td>1260759198</td>\n",
       "    </tr>\n",
       "    <tr>\n",
       "      <td>16</td>\n",
       "      <td>1</td>\n",
       "      <td>2294</td>\n",
       "      <td>2.0</td>\n",
       "      <td>1260759108</td>\n",
       "    </tr>\n",
       "    <tr>\n",
       "      <td>17</td>\n",
       "      <td>1</td>\n",
       "      <td>2455</td>\n",
       "      <td>2.5</td>\n",
       "      <td>1260759113</td>\n",
       "    </tr>\n",
       "    <tr>\n",
       "      <td>18</td>\n",
       "      <td>1</td>\n",
       "      <td>2968</td>\n",
       "      <td>1.0</td>\n",
       "      <td>1260759200</td>\n",
       "    </tr>\n",
       "    <tr>\n",
       "      <td>19</td>\n",
       "      <td>1</td>\n",
       "      <td>3671</td>\n",
       "      <td>3.0</td>\n",
       "      <td>1260759117</td>\n",
       "    </tr>\n",
       "  </tbody>\n",
       "</table>\n",
       "</div>"
      ],
      "text/plain": [
       "    userId  movieId  rating   timestamp\n",
       "0        1       31     2.5  1260759144\n",
       "1        1     1029     3.0  1260759179\n",
       "2        1     1061     3.0  1260759182\n",
       "3        1     1129     2.0  1260759185\n",
       "4        1     1172     4.0  1260759205\n",
       "5        1     1263     2.0  1260759151\n",
       "6        1     1287     2.0  1260759187\n",
       "7        1     1293     2.0  1260759148\n",
       "8        1     1339     3.5  1260759125\n",
       "9        1     1343     2.0  1260759131\n",
       "10       1     1371     2.5  1260759135\n",
       "11       1     1405     1.0  1260759203\n",
       "12       1     1953     4.0  1260759191\n",
       "13       1     2105     4.0  1260759139\n",
       "14       1     2150     3.0  1260759194\n",
       "15       1     2193     2.0  1260759198\n",
       "16       1     2294     2.0  1260759108\n",
       "17       1     2455     2.5  1260759113\n",
       "18       1     2968     1.0  1260759200\n",
       "19       1     3671     3.0  1260759117"
      ]
     },
     "execution_count": 34,
     "metadata": {},
     "output_type": "execute_result"
    }
   ],
   "source": [
    "ratings[ratings['userId'] == 1]"
   ]
  },
  {
   "cell_type": "code",
   "execution_count": 35,
   "metadata": {},
   "outputs": [],
   "source": [
    "data_matrix = np.zeros((n_users,n_items))\n",
    "\n",
    "for line in ratings.itertuples():\n",
    "    data_matrix[line[1] - 1,n_items_table.index(line[2])] = line[3]"
   ]
  },
  {
   "cell_type": "code",
   "execution_count": 36,
   "metadata": {},
   "outputs": [
    {
     "data": {
      "text/plain": [
       "(671, 9066)"
      ]
     },
     "execution_count": 36,
     "metadata": {},
     "output_type": "execute_result"
    }
   ],
   "source": [
    "data_matrix.shape"
   ]
  },
  {
   "cell_type": "code",
   "execution_count": 37,
   "metadata": {},
   "outputs": [
    {
     "name": "stdout",
     "output_type": "stream",
     "text": [
      "<class 'pandas.core.frame.DataFrame'>\n",
      "RangeIndex: 100004 entries, 0 to 100003\n",
      "Data columns (total 3 columns):\n",
      "userId     100004 non-null int64\n",
      "movieId    100004 non-null int64\n",
      "rating     100004 non-null float64\n",
      "dtypes: float64(1), int64(2)\n",
      "memory usage: 2.3 MB\n"
     ]
    }
   ],
   "source": [
    "ratings_fix = ratings.drop(['timestamp'], axis = 1)\n",
    "ratings_fix.info()"
   ]
  },
  {
   "cell_type": "code",
   "execution_count": 38,
   "metadata": {},
   "outputs": [],
   "source": [
    "class CF(object):\n",
    "    \"\"\"docstring for CF\"\"\"\n",
    "    def __init__(self, Y_data, k, dist_func = cosine_similarity, uuCF = 1):\n",
    "        self.uuCF = uuCF # user-user (1) or item-item (0) CF\n",
    "        self.Y_data = Y_data\n",
    "        self.k = k\n",
    "        self.dist_func = dist_func\n",
    "        self.Ybar_data = None\n",
    "        # number of users and items. Remember to add 1 since id starts from 0\n",
    "        self.n_users = int(np.max(self.Y_data[:, 0])) + 1 \n",
    "        self.n_items = int(np.max(self.Y_data[:, 1])) + 1\n",
    "    \n",
    "    def add(self, new_data):\n",
    "        \"\"\"\n",
    "        Update Y_data matrix when new ratings come.\n",
    "        For simplicity, suppose that there is no new user or item.\n",
    "        \"\"\"\n",
    "        self.Y_data = np.concatenate((self.Y_data, new_data), axis = 0)\n",
    "    \n",
    "    def normalize_Y(self):\n",
    "        users = self.Y_data[:, 0] # all users - first col of the Y_data\n",
    "        print(users)\n",
    "        self.Ybar_data = self.Y_data.copy()\n",
    "        self.mu = np.zeros((self.n_users,))\n",
    "        for n in range(self.n_users):\n",
    "            # row indices of rating done by user n\n",
    "            # since indices need to be integers, we need to convert\n",
    "            # ids is the index of value equal n-user_index in users-arrays \n",
    "            ids = np.where(users == n)[0].astype(np.int32)\n",
    "            print(ids)\n",
    "            # indices of all ratings associated with user n\n",
    "            #get item_id corespone with index values of user in users_arrays\n",
    "            item_ids = self.Y_data[ids, 1]\n",
    "            # and the corresponding ratings \n",
    "            ratings = self.Y_data[ids, 2]\n",
    "            # take mean\n",
    "            m = np.mean(ratings) \n",
    "            if np.isnan(m):\n",
    "                m = 0 # to avoid empty array and nan value\n",
    "            # mean value corespone with user_id    \n",
    "            self.mu[n] = m\n",
    "            # normalize\n",
    "            self.Ybar_data[ids, 2] = ratings - self.mu[n]\n",
    "\n",
    "        ################################################\n",
    "        # form the rating matrix as a sparse matrix. Sparsity is important \n",
    "        # for both memory and computing efficiency. For example, if #user = 1M, \n",
    "        # #item = 100k, then shape of the rating matrix would be (100k, 1M), \n",
    "        # you may not have enough memory to store this. Then, instead, we store \n",
    "        # nonzeros only, and, of course, their locations.\n",
    "        self.Ybar = sparse.coo_matrix((self.Ybar_data[:, 2],\n",
    "            (self.Ybar_data[:, 1], self.Ybar_data[:, 0])), (self.n_items, self.n_users))\n",
    "        self.Ybar = self.Ybar.tocsr()\n",
    "\n",
    "    def similarity(self):\n",
    "        eps = 1e-6\n",
    "        self.S = self.dist_func(self.Ybar.T, self.Ybar.T)\n",
    "    \n",
    "        \n",
    "    def refresh(self):\n",
    "        \"\"\"\n",
    "        Normalize data and calculate similarity matrix again (after\n",
    "        some few ratings added)\n",
    "        \"\"\"\n",
    "        self.normalize_Y()\n",
    "        self.similarity() \n",
    "        \n",
    "    def fit(self):\n",
    "        self.refresh()\n",
    "        \n",
    "    \n",
    "    def __pred(self, u, i, normalized = 1):\n",
    "        \"\"\" \n",
    "        predict the rating of user u for item i (normalized)\n",
    "        if you need the un\n",
    "        \"\"\"\n",
    "        # Step 1: find all users who rated i\n",
    "        ids = np.where(self.Y_data[:, 1] == i)[0].astype(np.int32)\n",
    "        # Step 2: \n",
    "        users_rated_i = (self.Y_data[ids, 0]).astype(np.int32)\n",
    "        # Step 3: find similarity btw the current user and others \n",
    "        # who already rated i\n",
    "        sim = self.S[u, users_rated_i]\n",
    "        # Step 4: find the k most similarity users\n",
    "        a = np.argsort(sim)[-self.k:] \n",
    "        # and the corresponding similarity levels\n",
    "        nearest_s = sim[a]\n",
    "        # How did each of 'near' users rated item i\n",
    "        r = self.Ybar[i, users_rated_i[a]]\n",
    "        if normalized:\n",
    "            # add a small number, for instance, 1e-8, to avoid dividing by 0\n",
    "            return (r*nearest_s)[0]/(np.abs(nearest_s).sum() + 1e-8)\n",
    "\n",
    "        return (r*nearest_s)[0]/(np.abs(nearest_s).sum() + 1e-8) + self.mu[u]\n",
    "    \n",
    "    def pred(self, u, i, normalized = 1):\n",
    "        \"\"\" \n",
    "        predict the rating of user u for item i (normalized)\n",
    "        if you need the un\n",
    "        \"\"\"\n",
    "        if self.uuCF: return self.__pred(u, i, normalized)\n",
    "        return self.__pred(i, u, normalized)\n",
    "            \n",
    "    \n",
    "    def recommend(self, u):\n",
    "        \"\"\"\n",
    "        Determine all items should be recommended for user u.\n",
    "        The decision is made based on all i such that:\n",
    "        self.pred(u, i) > 0. Suppose we are considering items which \n",
    "        have not been rated by u yet. \n",
    "        \"\"\"\n",
    "        ids = np.where(self.Y_data[:, 0] == u)[0]\n",
    "        items_rated_by_u = self.Y_data[ids, 1].tolist()              \n",
    "        recommended_items = []\n",
    "        for i in range(self.n_items):\n",
    "            if i not in items_rated_by_u:\n",
    "                rating = self.__pred(u, i)\n",
    "                if rating > 0: \n",
    "                    recommended_items.append(i)\n",
    "        \n",
    "        return recommended_items \n",
    "    \n",
    "    def recommend2(self, u):\n",
    "        \"\"\"\n",
    "        Determine all items should be recommended for user u.\n",
    "        The decision is made based on all i such that:\n",
    "        self.pred(u, i) > 0. Suppose we are considering items which \n",
    "        have not been rated by u yet. \n",
    "        \"\"\"\n",
    "        ids = np.where(self.Y_data[:, 0] == u)[0]\n",
    "        items_rated_by_u = self.Y_data[ids, 1].tolist()              \n",
    "        recommended_items = []\n",
    "    \n",
    "        for i in xrange(self.n_items):\n",
    "            if i not in items_rated_by_u:\n",
    "                rating = self.__pred(u, i)\n",
    "                if rating > 0: \n",
    "                    recommended_items.append(i)\n",
    "        \n",
    "        return recommended_items \n",
    "\n",
    "    def print_recommendation(self):\n",
    "        \"\"\"\n",
    "        print all items which should be recommended for each user \n",
    "        \"\"\"\n",
    "        print ('Recommendation: ')\n",
    "        for u in range(self.n_users):\n",
    "            recommended_items = self.recommend(u)\n",
    "            if self.uuCF:\n",
    "                print ('    Recommend item(s):', recommended_items, 'for user', u)\n",
    "            else: \n",
    "                print ('    Recommend item', u, 'for user(s) : ', recommended_items)"
   ]
  },
  {
   "cell_type": "code",
   "execution_count": 39,
   "metadata": {},
   "outputs": [
    {
     "name": "stdout",
     "output_type": "stream",
     "text": [
      "[0. 0. 0. 0. 1. 1. 1. 1. 2. 2. 2. 2. 3. 3. 3. 4. 4. 5. 5. 6. 6. 6.]\n",
      "[0 1 2 3]\n",
      "[4 5 6 7]\n",
      "[ 8  9 10 11]\n",
      "[12 13 14]\n",
      "[15 16]\n",
      "[17 18]\n",
      "[19 20 21]\n",
      "Recommendation: \n",
      "    Recommend item(s): [2] for user 0\n",
      "    Recommend item(s): [1] for user 1\n",
      "    Recommend item(s): [] for user 2\n",
      "    Recommend item(s): [4] for user 3\n",
      "    Recommend item(s): [4] for user 4\n",
      "    Recommend item(s): [0, 3, 4] for user 5\n",
      "    Recommend item(s): [1] for user 6\n"
     ]
    }
   ],
   "source": [
    "# data file \n",
    "r_cols = ['user_id', 'item_id', 'rating']\n",
    "ratings_sample = pd.read_csv('ex.dat', sep = ' ', names = r_cols, encoding='latin-1')\n",
    "Y_data = ratings_sample.values\n",
    "\n",
    "rs = CF(Y_data, k = 2, uuCF = 1)\n",
    "rs.fit()\n",
    "\n",
    "rs.print_recommendation()"
   ]
  },
  {
   "cell_type": "code",
   "execution_count": 40,
   "metadata": {},
   "outputs": [
    {
     "name": "stdout",
     "output_type": "stream",
     "text": [
      "[0. 0. 0. 0. 1. 1. 1. 1. 2. 2. 2. 2. 3. 3. 3. 4. 4. 5. 5. 6. 6. 6.]\n",
      "[0 1 2 3]\n",
      "[4 5 6 7]\n",
      "[ 8  9 10 11]\n",
      "[12 13 14]\n",
      "[15 16]\n",
      "[17 18]\n",
      "[19 20 21]\n",
      "Recommendation: \n",
      "    Recommend item 0 for user(s) :  [2]\n",
      "    Recommend item 1 for user(s) :  [1]\n",
      "    Recommend item 2 for user(s) :  []\n",
      "    Recommend item 3 for user(s) :  [4]\n",
      "    Recommend item 4 for user(s) :  [4]\n",
      "    Recommend item 5 for user(s) :  [0, 3, 4]\n",
      "    Recommend item 6 for user(s) :  [1]\n"
     ]
    }
   ],
   "source": [
    "rs = CF(Y_data, k = 2, uuCF = 0)\n",
    "rs.fit()\n",
    "\n",
    "rs.print_recommendation()"
   ]
  }
 ],
 "metadata": {
  "kernelspec": {
   "display_name": "Python 3",
   "language": "python",
   "name": "python3"
  },
  "language_info": {
   "codemirror_mode": {
    "name": "ipython",
    "version": 3
   },
   "file_extension": ".py",
   "mimetype": "text/x-python",
   "name": "python",
   "nbconvert_exporter": "python",
   "pygments_lexer": "ipython3",
   "version": "3.6.8"
  }
 },
 "nbformat": 4,
 "nbformat_minor": 2
}
