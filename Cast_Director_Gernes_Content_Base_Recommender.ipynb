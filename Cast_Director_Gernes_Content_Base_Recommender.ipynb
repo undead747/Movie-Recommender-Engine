{
 "cells": [
  {
   "cell_type": "markdown",
   "metadata": {},
   "source": [
    "## Library"
   ]
  },
  {
   "cell_type": "code",
   "execution_count": 1,
   "metadata": {},
   "outputs": [],
   "source": [
    "import os \n",
    "import nltk\n",
    "import os\n",
    "import string\n",
    "import numpy as np\n",
    "import copy\n",
    "import pandas as pd\n",
    "import pickle\n",
    "import re\n",
    "import math\n",
    "\n",
    "from collections import Counter\n",
    "# Lemmatize with POS Tag\n",
    "from sklearn.metrics.pairwise import linear_kernel"
   ]
  },
  {
   "cell_type": "code",
   "execution_count": 2,
   "metadata": {
    "scrolled": true
   },
   "outputs": [],
   "source": [
    "f = open('Store_Cast_Director_Genres_contentBased.pckl','rb')\n",
    "titles,indices = pickle.load(f)\n",
    "f.close()"
   ]
  },
  {
   "cell_type": "code",
   "execution_count": 3,
   "metadata": {},
   "outputs": [],
   "source": [
    "f = open('Store_Cast_Director_Genres_contentBased_2.pckl','rb')\n",
    "cosine_sim = pickle.load(f)\n",
    "f.close()"
   ]
  },
  {
   "cell_type": "code",
   "execution_count": 4,
   "metadata": {},
   "outputs": [],
   "source": [
    "D = np.load('count_vector_matrix.npy')"
   ]
  },
  {
   "cell_type": "markdown",
   "metadata": {},
   "source": [
    "## Count Vectorizer Using Sklearn Library"
   ]
  },
  {
   "cell_type": "code",
   "execution_count": 5,
   "metadata": {},
   "outputs": [],
   "source": [
    "def get_recommendations(title,k):\n",
    "    idx = []\n",
    "    idx.append(indices[title])\n",
    "    result = {}\n",
    "    \n",
    "    \n",
    "    for i in idx:\n",
    "        # Get the pairwise similarity scores of all movies with the movie\n",
    "        # Hàm enumerate() thêm vào một bộ đếm vào trước mỗi iterable và\n",
    "        # trả về kết quả dưới dạng đối tượng liệt kê. \n",
    "        sim_scores = list(enumerate(cosine_sim[i]))\n",
    "        \n",
    "        #Sort the movies based on the similarity scores x1: value of sim_score of movie with input movie \n",
    "        sim_scores = sorted(sim_scores, key=lambda x: x[1], reverse = True)\n",
    "        \n",
    "        # Get the scores of the 10 most similar movies\n",
    "        #(element number 0 is the movie it self)\n",
    "        sim_scores = sim_scores[1:11]\n",
    "        \n",
    "        # k0 is index of movie in dataset\n",
    "        movie_indices = [k[0] for k in sim_scores]\n",
    "        result[i,title] = movie_indices[:k]\n",
    "        \n",
    "        return result"
   ]
  },
  {
   "cell_type": "markdown",
   "metadata": {},
   "source": [
    "## From Scatch"
   ]
  },
  {
   "cell_type": "code",
   "execution_count": 6,
   "metadata": {},
   "outputs": [],
   "source": [
    "def cosine_sim_calculate(a,b):\n",
    "    cos_sim = np.dot(a,b)/(np.linalg.norm(a)*np.linalg.norm(b))\n",
    "    return cos_sim"
   ]
  },
  {
   "cell_type": "code",
   "execution_count": 7,
   "metadata": {},
   "outputs": [],
   "source": [
    "def gen_vector(id):\n",
    "    result = []\n",
    "    for i in D:\n",
    "        result.append(cosine_sim_calculate(D[id],i))\n",
    "    \n",
    "    return result"
   ]
  },
  {
   "cell_type": "code",
   "execution_count": 8,
   "metadata": {},
   "outputs": [],
   "source": [
    "def get_recommendations_ver2(title,k):\n",
    "    idx = []\n",
    "    idx.append(indices[title])\n",
    "    result = {}\n",
    "    \n",
    "    \n",
    "    for i in idx:\n",
    "        out = np.array(gen_vector(i)).argsort()[::-1]\n",
    "        result[i,title] = out[1:k]\n",
    "        \n",
    "    return result"
   ]
  },
  {
   "cell_type": "code",
   "execution_count": 10,
   "metadata": {},
   "outputs": [
    {
     "data": {
      "text/plain": [
       "{(6981,\n",
       "  'The Dark Knight'): array([8031, 6218, 6623, 2085, 7648, 4145, 3381, 8613, 7659, 1134])}"
      ]
     },
     "execution_count": 10,
     "metadata": {},
     "output_type": "execute_result"
    }
   ],
   "source": [
    "result = get_recommendations_ver2('The Dark Knight',11)\n",
    "\n",
    "result"
   ]
  },
  {
   "cell_type": "code",
   "execution_count": null,
   "metadata": {},
   "outputs": [],
   "source": []
  }
 ],
 "metadata": {
  "kernelspec": {
   "display_name": "Python 3",
   "language": "python",
   "name": "python3"
  },
  "language_info": {
   "codemirror_mode": {
    "name": "ipython",
    "version": 3
   },
   "file_extension": ".py",
   "mimetype": "text/x-python",
   "name": "python",
   "nbconvert_exporter": "python",
   "pygments_lexer": "ipython3",
   "version": "3.6.8"
  }
 },
 "nbformat": 4,
 "nbformat_minor": 2
}
