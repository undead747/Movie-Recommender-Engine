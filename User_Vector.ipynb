{
 "cells": [
  {
   "cell_type": "markdown",
   "metadata": {},
   "source": [
    "## Library"
   ]
  },
  {
   "cell_type": "code",
   "execution_count": 21,
   "metadata": {},
   "outputs": [],
   "source": [
    "import os \n",
    "import nltk\n",
    "import os\n",
    "import string\n",
    "import numpy as np\n",
    "import copy\n",
    "import pandas as pd\n",
    "import pickle\n",
    "import re\n",
    "import math\n",
    "\n",
    "from collections import Counter\n",
    "# Lemmatize with POS Tag\n",
    "from sklearn.metrics.pairwise import linear_kernel\n",
    "from sklearn.model_selection import train_test_split\n",
    "from sklearn.linear_model import Ridge\n",
    "from sklearn import linear_model\n"
   ]
  },
  {
   "cell_type": "markdown",
   "metadata": {},
   "source": [
    "## Loading Data "
   ]
  },
  {
   "cell_type": "code",
   "execution_count": 22,
   "metadata": {},
   "outputs": [],
   "source": [
    "D = np.load('tf_idf_vector_matrix.npy') # load"
   ]
  },
  {
   "cell_type": "code",
   "execution_count": 23,
   "metadata": {
    "scrolled": true
   },
   "outputs": [
    {
     "data": {
      "text/plain": [
       "(9025, 22336)"
      ]
     },
     "execution_count": 23,
     "metadata": {},
     "output_type": "execute_result"
    }
   ],
   "source": [
    "D.shape"
   ]
  },
  {
   "cell_type": "code",
   "execution_count": 24,
   "metadata": {},
   "outputs": [],
   "source": [
    "smd = pd.read_csv('../the-movies-dataset/movies_metadata_equal_ratings.csv')\n",
    "ratings = pd.read_csv('../the-movies-dataset/ratings_equal_movies_metadata.csv')\n",
    "train = pd.read_csv('../the-movies-dataset/ratings_train.csv')\n",
    "test = pd.read_csv('../the-movies-dataset/ratings_test.csv')"
   ]
  },
  {
   "cell_type": "code",
   "execution_count": 25,
   "metadata": {},
   "outputs": [
    {
     "name": "stdout",
     "output_type": "stream",
     "text": [
      "<class 'pandas.core.frame.DataFrame'>\n",
      "RangeIndex: 9025 entries, 0 to 9024\n",
      "Data columns (total 27 columns):\n",
      "index                    9025 non-null int64\n",
      "adult                    9025 non-null bool\n",
      "belongs_to_collection    1670 non-null object\n",
      "budget                   9025 non-null int64\n",
      "genres                   9025 non-null object\n",
      "homepage                 1954 non-null object\n",
      "id                       9025 non-null int64\n",
      "imdb_id                  9025 non-null object\n",
      "original_language        9025 non-null object\n",
      "original_title           9025 non-null object\n",
      "overview                 9013 non-null object\n",
      "popularity               9025 non-null float64\n",
      "poster_path              9022 non-null object\n",
      "production_companies     9025 non-null object\n",
      "production_countries     9025 non-null object\n",
      "release_date             9025 non-null object\n",
      "revenue                  9025 non-null float64\n",
      "runtime                  9025 non-null float64\n",
      "spoken_languages         9025 non-null object\n",
      "status                   9023 non-null object\n",
      "tagline                  6983 non-null object\n",
      "title                    9025 non-null object\n",
      "video                    9025 non-null bool\n",
      "vote_average             9025 non-null float64\n",
      "vote_count               9025 non-null float64\n",
      "description              9013 non-null object\n",
      "year                     9025 non-null int64\n",
      "dtypes: bool(2), float64(5), int64(4), object(16)\n",
      "memory usage: 1.7+ MB\n"
     ]
    }
   ],
   "source": [
    "smd.info()"
   ]
  },
  {
   "cell_type": "code",
   "execution_count": 26,
   "metadata": {},
   "outputs": [
    {
     "name": "stdout",
     "output_type": "stream",
     "text": [
      "<class 'pandas.core.frame.DataFrame'>\n",
      "RangeIndex: 99810 entries, 0 to 99809\n",
      "Data columns (total 5 columns):\n",
      "userId       99810 non-null int64\n",
      "id           99810 non-null float64\n",
      "rating       99810 non-null float64\n",
      "movieId      99810 non-null int64\n",
      "timestamp    99810 non-null int64\n",
      "dtypes: float64(2), int64(3)\n",
      "memory usage: 3.8 MB\n"
     ]
    }
   ],
   "source": [
    "ratings.info()"
   ]
  },
  {
   "cell_type": "code",
   "execution_count": 34,
   "metadata": {},
   "outputs": [
    {
     "data": {
      "text/html": [
       "<div>\n",
       "<style scoped>\n",
       "    .dataframe tbody tr th:only-of-type {\n",
       "        vertical-align: middle;\n",
       "    }\n",
       "\n",
       "    .dataframe tbody tr th {\n",
       "        vertical-align: top;\n",
       "    }\n",
       "\n",
       "    .dataframe thead th {\n",
       "        text-align: right;\n",
       "    }\n",
       "</style>\n",
       "<table border=\"1\" class=\"dataframe\">\n",
       "  <thead>\n",
       "    <tr style=\"text-align: right;\">\n",
       "      <th></th>\n",
       "      <th>userId</th>\n",
       "      <th>id</th>\n",
       "      <th>rating</th>\n",
       "      <th>movieId</th>\n",
       "      <th>timestamp</th>\n",
       "    </tr>\n",
       "  </thead>\n",
       "  <tbody>\n",
       "    <tr>\n",
       "      <td>0</td>\n",
       "      <td>1</td>\n",
       "      <td>152.0</td>\n",
       "      <td>2.5</td>\n",
       "      <td>1371</td>\n",
       "      <td>1260759135</td>\n",
       "    </tr>\n",
       "    <tr>\n",
       "      <td>1</td>\n",
       "      <td>1</td>\n",
       "      <td>9909.0</td>\n",
       "      <td>2.5</td>\n",
       "      <td>31</td>\n",
       "      <td>1260759144</td>\n",
       "    </tr>\n",
       "    <tr>\n",
       "      <td>2</td>\n",
       "      <td>1</td>\n",
       "      <td>847.0</td>\n",
       "      <td>2.0</td>\n",
       "      <td>2193</td>\n",
       "      <td>1260759198</td>\n",
       "    </tr>\n",
       "    <tr>\n",
       "      <td>3</td>\n",
       "      <td>1</td>\n",
       "      <td>9426.0</td>\n",
       "      <td>2.5</td>\n",
       "      <td>2455</td>\n",
       "      <td>1260759113</td>\n",
       "    </tr>\n",
       "    <tr>\n",
       "      <td>4</td>\n",
       "      <td>1</td>\n",
       "      <td>6114.0</td>\n",
       "      <td>3.5</td>\n",
       "      <td>1339</td>\n",
       "      <td>1260759125</td>\n",
       "    </tr>\n",
       "    <tr>\n",
       "      <td>...</td>\n",
       "      <td>...</td>\n",
       "      <td>...</td>\n",
       "      <td>...</td>\n",
       "      <td>...</td>\n",
       "      <td>...</td>\n",
       "    </tr>\n",
       "    <tr>\n",
       "      <td>99805</td>\n",
       "      <td>671</td>\n",
       "      <td>786.0</td>\n",
       "      <td>2.0</td>\n",
       "      <td>3897</td>\n",
       "      <td>1063503718</td>\n",
       "    </tr>\n",
       "    <tr>\n",
       "      <td>99806</td>\n",
       "      <td>671</td>\n",
       "      <td>7443.0</td>\n",
       "      <td>4.0</td>\n",
       "      <td>3751</td>\n",
       "      <td>1065111939</td>\n",
       "    </tr>\n",
       "    <tr>\n",
       "      <td>99807</td>\n",
       "      <td>671</td>\n",
       "      <td>1891.0</td>\n",
       "      <td>5.0</td>\n",
       "      <td>1196</td>\n",
       "      <td>1064890635</td>\n",
       "    </tr>\n",
       "    <tr>\n",
       "      <td>99808</td>\n",
       "      <td>671</td>\n",
       "      <td>279.0</td>\n",
       "      <td>4.0</td>\n",
       "      <td>1225</td>\n",
       "      <td>1065149143</td>\n",
       "    </tr>\n",
       "    <tr>\n",
       "      <td>99809</td>\n",
       "      <td>671</td>\n",
       "      <td>5503.0</td>\n",
       "      <td>4.0</td>\n",
       "      <td>457</td>\n",
       "      <td>1065149159</td>\n",
       "    </tr>\n",
       "  </tbody>\n",
       "</table>\n",
       "<p>99810 rows × 5 columns</p>\n",
       "</div>"
      ],
      "text/plain": [
       "       userId      id  rating  movieId   timestamp\n",
       "0           1   152.0     2.5     1371  1260759135\n",
       "1           1  9909.0     2.5       31  1260759144\n",
       "2           1   847.0     2.0     2193  1260759198\n",
       "3           1  9426.0     2.5     2455  1260759113\n",
       "4           1  6114.0     3.5     1339  1260759125\n",
       "...       ...     ...     ...      ...         ...\n",
       "99805     671   786.0     2.0     3897  1063503718\n",
       "99806     671  7443.0     4.0     3751  1065111939\n",
       "99807     671  1891.0     5.0     1196  1064890635\n",
       "99808     671   279.0     4.0     1225  1065149143\n",
       "99809     671  5503.0     4.0      457  1065149159\n",
       "\n",
       "[99810 rows x 5 columns]"
      ]
     },
     "execution_count": 34,
     "metadata": {},
     "output_type": "execute_result"
    }
   ],
   "source": [
    "ratings"
   ]
  },
  {
   "cell_type": "code",
   "execution_count": 27,
   "metadata": {},
   "outputs": [
    {
     "data": {
      "text/plain": [
       "(79848, 5)"
      ]
     },
     "execution_count": 27,
     "metadata": {},
     "output_type": "execute_result"
    }
   ],
   "source": [
    "train.shape"
   ]
  },
  {
   "cell_type": "code",
   "execution_count": 28,
   "metadata": {},
   "outputs": [
    {
     "data": {
      "text/plain": [
       "(19962, 5)"
      ]
     },
     "execution_count": 28,
     "metadata": {},
     "output_type": "execute_result"
    }
   ],
   "source": [
    "test.shape"
   ]
  },
  {
   "cell_type": "code",
   "execution_count": 47,
   "metadata": {},
   "outputs": [
    {
     "data": {
      "text/plain": [
       "671"
      ]
     },
     "execution_count": 47,
     "metadata": {},
     "output_type": "execute_result"
    }
   ],
   "source": [
    "n_users = len(ratings['userId'].unique().astype('int'))\n",
    "n_items = len(ratings['id'].unique().astype('int'))\n",
    "n_users"
   ]
  },
  {
   "cell_type": "code",
   "execution_count": 70,
   "metadata": {},
   "outputs": [
    {
     "data": {
      "text/plain": [
       "18"
      ]
     },
     "execution_count": 70,
     "metadata": {},
     "output_type": "execute_result"
    }
   ],
   "source": [
    "len(train[train['userId'] == 1])"
   ]
  },
  {
   "cell_type": "code",
   "execution_count": 71,
   "metadata": {},
   "outputs": [
    {
     "data": {
      "text/plain": [
       "2"
      ]
     },
     "execution_count": 71,
     "metadata": {},
     "output_type": "execute_result"
    }
   ],
   "source": [
    "len(test[test['userId'] == 1])"
   ]
  },
  {
   "cell_type": "code",
   "execution_count": 31,
   "metadata": {},
   "outputs": [],
   "source": [
    "ratings_train = train.values\n",
    "ratings_test = test.values"
   ]
  },
  {
   "cell_type": "code",
   "execution_count": 32,
   "metadata": {},
   "outputs": [
    {
     "data": {
      "text/plain": [
       "array([[1.00000000e+00, 1.05100000e+03, 4.00000000e+00, 1.95300000e+03,\n",
       "        1.26075919e+09],\n",
       "       [1.00000000e+00, 1.10300000e+03, 2.00000000e+00, 1.12900000e+03,\n",
       "        1.26075918e+09],\n",
       "       [1.00000000e+00, 1.17780000e+04, 2.00000000e+00, 1.26300000e+03,\n",
       "        1.26075915e+09],\n",
       "       ...,\n",
       "       [6.71000000e+02, 8.57000000e+02, 4.00000000e+00, 2.02800000e+03,\n",
       "        1.06489158e+09],\n",
       "       [6.71000000e+02, 1.01620000e+04, 4.00000000e+00, 2.35900000e+03,\n",
       "        1.06350393e+09],\n",
       "       [6.71000000e+02, 7.11000000e+02, 3.50000000e+00, 4.01900000e+03,\n",
       "        1.06511196e+09]])"
      ]
     },
     "execution_count": 32,
     "metadata": {},
     "output_type": "execute_result"
    }
   ],
   "source": [
    "ratings_train"
   ]
  },
  {
   "cell_type": "code",
   "execution_count": 38,
   "metadata": {},
   "outputs": [],
   "source": [
    "def find_movie_index(list_tmdb_id):\n",
    "    movie_indexs = []\n",
    "    for i in list_tmdb_id:\n",
    "            movie_index = smd[smd['id'] == i].first_valid_index()\n",
    "            movie_indexs.append(movie_index)\n",
    "    return movie_indexs"
   ]
  },
  {
   "cell_type": "code",
   "execution_count": 36,
   "metadata": {},
   "outputs": [
    {
     "data": {
      "text/plain": [
       "array([[1.00000000e+00, 1.05100000e+03, 4.00000000e+00, 1.95300000e+03,\n",
       "        1.26075919e+09],\n",
       "       [1.00000000e+00, 1.10300000e+03, 2.00000000e+00, 1.12900000e+03,\n",
       "        1.26075918e+09],\n",
       "       [1.00000000e+00, 1.17780000e+04, 2.00000000e+00, 1.26300000e+03,\n",
       "        1.26075915e+09],\n",
       "       ...,\n",
       "       [6.71000000e+02, 8.57000000e+02, 4.00000000e+00, 2.02800000e+03,\n",
       "        1.06489158e+09],\n",
       "       [6.71000000e+02, 1.01620000e+04, 4.00000000e+00, 2.35900000e+03,\n",
       "        1.06350393e+09],\n",
       "       [6.71000000e+02, 7.11000000e+02, 3.50000000e+00, 4.01900000e+03,\n",
       "        1.06511196e+09]])"
      ]
     },
     "execution_count": 36,
     "metadata": {},
     "output_type": "execute_result"
    }
   ],
   "source": [
    "ratings_train"
   ]
  },
  {
   "cell_type": "code",
   "execution_count": 40,
   "metadata": {},
   "outputs": [],
   "source": [
    "def get_items_rated_by_user(rate_matrix, user_id):\n",
    "    y = rate_matrix[:,0] # get all the value in user_id column\n",
    "    # need to plus 1 to user_id because after this we will \n",
    "    #start with 0 in for-loop\n",
    "    user_id = user_id + 1\n",
    "    # get list of user_id index in y which value equal input \n",
    "    # user_id\n",
    "    ids = np.where(y == user_id)[0]\n",
    "    # get list tmdb_id matching user_id \n",
    "    list_tmdb_id = rate_matrix[ids, 1]\n",
    "    item_ids = find_movie_index(list_tmdb_id)\n",
    "    \n",
    "    scores = rate_matrix[ids,2]\n",
    "    return (item_ids, scores)"
   ]
  },
  {
   "cell_type": "code",
   "execution_count": 76,
   "metadata": {},
   "outputs": [
    {
     "data": {
      "text/plain": [
       "(1, 671)"
      ]
     },
     "execution_count": 76,
     "metadata": {},
     "output_type": "execute_result"
    }
   ],
   "source": [
    "d = D.shape[1] # movie vector dimention\n",
    "W = np.zeros((d, n_users)) \n",
    "b = np.zeros((1,n_users))"
   ]
  },
  {
   "cell_type": "code",
   "execution_count": null,
   "metadata": {
    "scrolled": true
   },
   "outputs": [],
   "source": [
    "for i in range(n_users):\n",
    "        idx, scores = get_items_rated_by_user(ratings_train, i)\n",
    "        clf = Ridge(alpha=0.01, fit_intercept = True)\n",
    "        idx = np.asarray(idx)\n",
    "        Xhat = D[idx,:]\n",
    "        clf.fit(Xhat, scores)\n",
    "        W[:, i] = clf.coef_\n",
    "        b[0, i] = clf.intercept_"
   ]
  },
  {
   "cell_type": "code",
   "execution_count": null,
   "metadata": {},
   "outputs": [],
   "source": [
    "Yhat = D.dot(W) + b \n",
    "Yhat"
   ]
  },
  {
   "cell_type": "code",
   "execution_count": null,
   "metadata": {},
   "outputs": [],
   "source": [
    "ids, scores = get_items_rated_by_user(ratings_test, 3)\n",
    "ids = list(ids)\n",
    "len(ids)"
   ]
  },
  {
   "cell_type": "code",
   "execution_count": null,
   "metadata": {},
   "outputs": [],
   "source": [
    "Yhat.shape"
   ]
  },
  {
   "cell_type": "code",
   "execution_count": null,
   "metadata": {},
   "outputs": [],
   "source": [
    "for i in ids:\n",
    "    print(Yhat[i,0])"
   ]
  },
  {
   "cell_type": "code",
   "execution_count": null,
   "metadata": {},
   "outputs": [],
   "source": [
    "for i in scores:\n",
    "    print(i)"
   ]
  },
  {
   "cell_type": "code",
   "execution_count": null,
   "metadata": {},
   "outputs": [],
   "source": [
    "def evaluate(Yhat, rates, W, b):\n",
    "    se = 0\n",
    "    cnt = 0\n",
    "    for n in range(n_user):\n",
    "        ids, score_truth = get_items_rated_by_user(rates, n)\n",
    "        "
   ]
  }
 ],
 "metadata": {
  "kernelspec": {
   "display_name": "Python 3",
   "language": "python",
   "name": "python3"
  },
  "language_info": {
   "codemirror_mode": {
    "name": "ipython",
    "version": 3
   },
   "file_extension": ".py",
   "mimetype": "text/x-python",
   "name": "python",
   "nbconvert_exporter": "python",
   "pygments_lexer": "ipython3",
   "version": "3.6.8"
  }
 },
 "nbformat": 4,
 "nbformat_minor": 2
}
