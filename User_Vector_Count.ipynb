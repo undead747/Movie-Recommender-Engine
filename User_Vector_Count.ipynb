{
 "cells": [
  {
   "cell_type": "markdown",
   "metadata": {},
   "source": [
    "## Library"
   ]
  },
  {
   "cell_type": "code",
   "execution_count": 37,
   "metadata": {},
   "outputs": [],
   "source": [
    "import os \n",
    "import nltk\n",
    "import os\n",
    "import string\n",
    "import numpy as np\n",
    "import copy\n",
    "import pandas as pd\n",
    "import pickle\n",
    "import re\n",
    "import math\n",
    "import operator\n",
    "from math import sqrt\n",
    "\n",
    "from collections import Counter\n",
    "# Lemmatize with POS Tag\n",
    "from sklearn.metrics.pairwise import linear_kernel\n",
    "from sklearn.model_selection import train_test_split\n",
    "from sklearn.linear_model import Ridge\n",
    "from sklearn import linear_model\n"
   ]
  },
  {
   "cell_type": "markdown",
   "metadata": {},
   "source": [
    "## Loading Data "
   ]
  },
  {
   "cell_type": "code",
   "execution_count": 2,
   "metadata": {},
   "outputs": [],
   "source": [
    "D = np.load('count_vector_matrix.npy') # load"
   ]
  },
  {
   "cell_type": "code",
   "execution_count": 3,
   "metadata": {
    "scrolled": true
   },
   "outputs": [
    {
     "data": {
      "text/plain": [
       "(9025, 19931)"
      ]
     },
     "execution_count": 3,
     "metadata": {},
     "output_type": "execute_result"
    }
   ],
   "source": [
    "D.shape"
   ]
  },
  {
   "cell_type": "code",
   "execution_count": 4,
   "metadata": {},
   "outputs": [],
   "source": [
    "smd = pd.read_csv('../the-movies-dataset/movies_metadata_equal_ratings.csv')\n",
    "ratings = pd.read_csv('../the-movies-dataset/ratings_equal_movies_metadata.csv')\n",
    "train = pd.read_csv('../the-movies-dataset/ratings_train.csv')\n",
    "test = pd.read_csv('../the-movies-dataset/ratings_test.csv')"
   ]
  },
  {
   "cell_type": "code",
   "execution_count": 5,
   "metadata": {},
   "outputs": [
    {
     "name": "stdout",
     "output_type": "stream",
     "text": [
      "<class 'pandas.core.frame.DataFrame'>\n",
      "RangeIndex: 9025 entries, 0 to 9024\n",
      "Data columns (total 26 columns):\n",
      "adult                    9025 non-null bool\n",
      "belongs_to_collection    1670 non-null object\n",
      "budget                   9025 non-null int64\n",
      "genres                   9025 non-null object\n",
      "homepage                 1954 non-null object\n",
      "id                       9025 non-null int64\n",
      "imdb_id                  9025 non-null object\n",
      "original_language        9025 non-null object\n",
      "original_title           9025 non-null object\n",
      "overview                 9013 non-null object\n",
      "popularity               9025 non-null float64\n",
      "poster_path              9022 non-null object\n",
      "production_companies     9025 non-null object\n",
      "production_countries     9025 non-null object\n",
      "release_date             9025 non-null object\n",
      "revenue                  9025 non-null float64\n",
      "runtime                  9025 non-null float64\n",
      "spoken_languages         9025 non-null object\n",
      "status                   9023 non-null object\n",
      "tagline                  6983 non-null object\n",
      "title                    9025 non-null object\n",
      "video                    9025 non-null bool\n",
      "vote_average             9025 non-null float64\n",
      "vote_count               9025 non-null float64\n",
      "description              9013 non-null object\n",
      "year                     9025 non-null int64\n",
      "dtypes: bool(2), float64(5), int64(3), object(16)\n",
      "memory usage: 1.7+ MB\n"
     ]
    }
   ],
   "source": [
    "smd.info()"
   ]
  },
  {
   "cell_type": "code",
   "execution_count": 26,
   "metadata": {},
   "outputs": [
    {
     "data": {
      "text/plain": [
       "9025"
      ]
     },
     "execution_count": 26,
     "metadata": {},
     "output_type": "execute_result"
    }
   ],
   "source": [
    "N = len(smd)\n",
    "N"
   ]
  },
  {
   "cell_type": "code",
   "execution_count": 7,
   "metadata": {},
   "outputs": [
    {
     "name": "stdout",
     "output_type": "stream",
     "text": [
      "<class 'pandas.core.frame.DataFrame'>\n",
      "RangeIndex: 99810 entries, 0 to 99809\n",
      "Data columns (total 6 columns):\n",
      "userId        99810 non-null int64\n",
      "id            99810 non-null float64\n",
      "rating        99810 non-null float64\n",
      "movieId       99810 non-null int64\n",
      "timestamp     99810 non-null int64\n",
      "movieIndex    99810 non-null int64\n",
      "dtypes: float64(2), int64(4)\n",
      "memory usage: 4.6 MB\n"
     ]
    }
   ],
   "source": [
    "ratings.info()"
   ]
  },
  {
   "cell_type": "code",
   "execution_count": 8,
   "metadata": {},
   "outputs": [
    {
     "data": {
      "text/html": [
       "<div>\n",
       "<style scoped>\n",
       "    .dataframe tbody tr th:only-of-type {\n",
       "        vertical-align: middle;\n",
       "    }\n",
       "\n",
       "    .dataframe tbody tr th {\n",
       "        vertical-align: top;\n",
       "    }\n",
       "\n",
       "    .dataframe thead th {\n",
       "        text-align: right;\n",
       "    }\n",
       "</style>\n",
       "<table border=\"1\" class=\"dataframe\">\n",
       "  <thead>\n",
       "    <tr style=\"text-align: right;\">\n",
       "      <th></th>\n",
       "      <th>userId</th>\n",
       "      <th>id</th>\n",
       "      <th>rating</th>\n",
       "      <th>movieId</th>\n",
       "      <th>timestamp</th>\n",
       "      <th>movieIndex</th>\n",
       "    </tr>\n",
       "  </thead>\n",
       "  <tbody>\n",
       "    <tr>\n",
       "      <th>0</th>\n",
       "      <td>0</td>\n",
       "      <td>152.0</td>\n",
       "      <td>2.5</td>\n",
       "      <td>1371</td>\n",
       "      <td>1260759135</td>\n",
       "      <td>1107</td>\n",
       "    </tr>\n",
       "    <tr>\n",
       "      <th>1</th>\n",
       "      <td>0</td>\n",
       "      <td>9909.0</td>\n",
       "      <td>2.5</td>\n",
       "      <td>31</td>\n",
       "      <td>1260759144</td>\n",
       "      <td>30</td>\n",
       "    </tr>\n",
       "    <tr>\n",
       "      <th>2</th>\n",
       "      <td>0</td>\n",
       "      <td>847.0</td>\n",
       "      <td>2.0</td>\n",
       "      <td>2193</td>\n",
       "      <td>1260759198</td>\n",
       "      <td>1739</td>\n",
       "    </tr>\n",
       "    <tr>\n",
       "      <th>3</th>\n",
       "      <td>0</td>\n",
       "      <td>9426.0</td>\n",
       "      <td>2.5</td>\n",
       "      <td>2455</td>\n",
       "      <td>1260759113</td>\n",
       "      <td>1958</td>\n",
       "    </tr>\n",
       "    <tr>\n",
       "      <th>4</th>\n",
       "      <td>0</td>\n",
       "      <td>6114.0</td>\n",
       "      <td>3.5</td>\n",
       "      <td>1339</td>\n",
       "      <td>1260759125</td>\n",
       "      <td>1079</td>\n",
       "    </tr>\n",
       "    <tr>\n",
       "      <th>...</th>\n",
       "      <td>...</td>\n",
       "      <td>...</td>\n",
       "      <td>...</td>\n",
       "      <td>...</td>\n",
       "      <td>...</td>\n",
       "      <td>...</td>\n",
       "    </tr>\n",
       "    <tr>\n",
       "      <th>99805</th>\n",
       "      <td>670</td>\n",
       "      <td>786.0</td>\n",
       "      <td>2.0</td>\n",
       "      <td>3897</td>\n",
       "      <td>1063503718</td>\n",
       "      <td>3108</td>\n",
       "    </tr>\n",
       "    <tr>\n",
       "      <th>99806</th>\n",
       "      <td>670</td>\n",
       "      <td>7443.0</td>\n",
       "      <td>4.0</td>\n",
       "      <td>3751</td>\n",
       "      <td>1065111939</td>\n",
       "      <td>2995</td>\n",
       "    </tr>\n",
       "    <tr>\n",
       "      <th>99807</th>\n",
       "      <td>670</td>\n",
       "      <td>1891.0</td>\n",
       "      <td>5.0</td>\n",
       "      <td>1196</td>\n",
       "      <td>1064890635</td>\n",
       "      <td>949</td>\n",
       "    </tr>\n",
       "    <tr>\n",
       "      <th>99808</th>\n",
       "      <td>670</td>\n",
       "      <td>279.0</td>\n",
       "      <td>4.0</td>\n",
       "      <td>1225</td>\n",
       "      <td>1065149143</td>\n",
       "      <td>977</td>\n",
       "    </tr>\n",
       "    <tr>\n",
       "      <th>99809</th>\n",
       "      <td>670</td>\n",
       "      <td>5503.0</td>\n",
       "      <td>4.0</td>\n",
       "      <td>457</td>\n",
       "      <td>1065149159</td>\n",
       "      <td>406</td>\n",
       "    </tr>\n",
       "  </tbody>\n",
       "</table>\n",
       "<p>99810 rows × 6 columns</p>\n",
       "</div>"
      ],
      "text/plain": [
       "       userId      id  rating  movieId   timestamp  movieIndex\n",
       "0           0   152.0     2.5     1371  1260759135        1107\n",
       "1           0  9909.0     2.5       31  1260759144          30\n",
       "2           0   847.0     2.0     2193  1260759198        1739\n",
       "3           0  9426.0     2.5     2455  1260759113        1958\n",
       "4           0  6114.0     3.5     1339  1260759125        1079\n",
       "...       ...     ...     ...      ...         ...         ...\n",
       "99805     670   786.0     2.0     3897  1063503718        3108\n",
       "99806     670  7443.0     4.0     3751  1065111939        2995\n",
       "99807     670  1891.0     5.0     1196  1064890635         949\n",
       "99808     670   279.0     4.0     1225  1065149143         977\n",
       "99809     670  5503.0     4.0      457  1065149159         406\n",
       "\n",
       "[99810 rows x 6 columns]"
      ]
     },
     "execution_count": 8,
     "metadata": {},
     "output_type": "execute_result"
    }
   ],
   "source": [
    "ratings"
   ]
  },
  {
   "cell_type": "code",
   "execution_count": 9,
   "metadata": {},
   "outputs": [
    {
     "data": {
      "text/plain": [
       "(79848, 6)"
      ]
     },
     "execution_count": 9,
     "metadata": {},
     "output_type": "execute_result"
    }
   ],
   "source": [
    "train.shape"
   ]
  },
  {
   "cell_type": "code",
   "execution_count": 10,
   "metadata": {},
   "outputs": [
    {
     "data": {
      "text/plain": [
       "(19962, 6)"
      ]
     },
     "execution_count": 10,
     "metadata": {},
     "output_type": "execute_result"
    }
   ],
   "source": [
    "test.shape"
   ]
  },
  {
   "cell_type": "code",
   "execution_count": 11,
   "metadata": {},
   "outputs": [
    {
     "data": {
      "text/plain": [
       "671"
      ]
     },
     "execution_count": 11,
     "metadata": {},
     "output_type": "execute_result"
    }
   ],
   "source": [
    "n_users = len(ratings['userId'].unique().astype('int'))\n",
    "n_items = len(ratings['id'].unique().astype('int'))\n",
    "n_users"
   ]
  },
  {
   "cell_type": "code",
   "execution_count": 12,
   "metadata": {},
   "outputs": [
    {
     "data": {
      "text/plain": [
       "56"
      ]
     },
     "execution_count": 12,
     "metadata": {},
     "output_type": "execute_result"
    }
   ],
   "source": [
    "len(train[train['userId'] == 1])"
   ]
  },
  {
   "cell_type": "code",
   "execution_count": 13,
   "metadata": {},
   "outputs": [
    {
     "data": {
      "text/plain": [
       "19"
      ]
     },
     "execution_count": 13,
     "metadata": {},
     "output_type": "execute_result"
    }
   ],
   "source": [
    "len(test[test['userId'] == 1])"
   ]
  },
  {
   "cell_type": "code",
   "execution_count": 14,
   "metadata": {},
   "outputs": [],
   "source": [
    "ratings_train = train[['userId','id','rating','movieIndex']].values\n",
    "ratings_test = test[['userId','id','rating','movieIndex']].values"
   ]
  },
  {
   "cell_type": "code",
   "execution_count": 15,
   "metadata": {},
   "outputs": [
    {
     "data": {
      "text/plain": [
       "(79848, 4)"
      ]
     },
     "execution_count": 15,
     "metadata": {},
     "output_type": "execute_result"
    }
   ],
   "source": [
    "ratings_train.shape"
   ]
  },
  {
   "cell_type": "code",
   "execution_count": 16,
   "metadata": {},
   "outputs": [],
   "source": [
    "# this fuction return movie_index in meta_data_dataset and ratings of user  \n",
    "def get_items_rated_by_user(rate_matrix, user_id):\n",
    "    y = rate_matrix[:,0] # get all the value in user_id column\n",
    "    # get list of user_id index in y which value equal input \n",
    "    # user_id\n",
    "    ids = np.where(y == user_id)[0]\n",
    "    # get list movie_id matching user_id \n",
    "    item_ids = rate_matrix[ids, 3]\n",
    "    item_ids = [int(i) for i in item_ids]\n",
    "    \n",
    "    scores = rate_matrix[ids,2]\n",
    "    return (item_ids, scores)"
   ]
  },
  {
   "cell_type": "code",
   "execution_count": 17,
   "metadata": {},
   "outputs": [
    {
     "name": "stdout",
     "output_type": "stream",
     "text": [
      "2375\n",
      "1958\n",
      "1107\n",
      "1083\n",
      "1037\n",
      "1079\n",
      "856\n",
      "830\n",
      "1043\n",
      "1704\n",
      "1511\n",
      "2920\n",
      "1013\n",
      "1811\n",
      "1136\n"
     ]
    }
   ],
   "source": [
    "a, b = get_items_rated_by_user(ratings_train, 0)\n",
    "for i in a :\n",
    "    print(i)"
   ]
  },
  {
   "cell_type": "code",
   "execution_count": 18,
   "metadata": {},
   "outputs": [
    {
     "data": {
      "text/html": [
       "<div>\n",
       "<style scoped>\n",
       "    .dataframe tbody tr th:only-of-type {\n",
       "        vertical-align: middle;\n",
       "    }\n",
       "\n",
       "    .dataframe tbody tr th {\n",
       "        vertical-align: top;\n",
       "    }\n",
       "\n",
       "    .dataframe thead th {\n",
       "        text-align: right;\n",
       "    }\n",
       "</style>\n",
       "<table border=\"1\" class=\"dataframe\">\n",
       "  <thead>\n",
       "    <tr style=\"text-align: right;\">\n",
       "      <th></th>\n",
       "      <th>userId</th>\n",
       "      <th>id</th>\n",
       "      <th>rating</th>\n",
       "      <th>movieId</th>\n",
       "      <th>timestamp</th>\n",
       "      <th>movieIndex</th>\n",
       "    </tr>\n",
       "  </thead>\n",
       "  <tbody>\n",
       "    <tr>\n",
       "      <th>0</th>\n",
       "      <td>0</td>\n",
       "      <td>36819.0</td>\n",
       "      <td>1.0</td>\n",
       "      <td>2968</td>\n",
       "      <td>1260759200</td>\n",
       "      <td>2375</td>\n",
       "    </tr>\n",
       "    <tr>\n",
       "      <th>1</th>\n",
       "      <td>0</td>\n",
       "      <td>9426.0</td>\n",
       "      <td>2.5</td>\n",
       "      <td>2455</td>\n",
       "      <td>1260759113</td>\n",
       "      <td>1958</td>\n",
       "    </tr>\n",
       "    <tr>\n",
       "      <th>2</th>\n",
       "      <td>0</td>\n",
       "      <td>152.0</td>\n",
       "      <td>2.5</td>\n",
       "      <td>1371</td>\n",
       "      <td>1260759135</td>\n",
       "      <td>1107</td>\n",
       "    </tr>\n",
       "    <tr>\n",
       "      <th>3</th>\n",
       "      <td>0</td>\n",
       "      <td>1598.0</td>\n",
       "      <td>2.0</td>\n",
       "      <td>1343</td>\n",
       "      <td>1260759131</td>\n",
       "      <td>1083</td>\n",
       "    </tr>\n",
       "    <tr>\n",
       "      <th>4</th>\n",
       "      <td>0</td>\n",
       "      <td>665.0</td>\n",
       "      <td>2.0</td>\n",
       "      <td>1287</td>\n",
       "      <td>1260759187</td>\n",
       "      <td>1037</td>\n",
       "    </tr>\n",
       "    <tr>\n",
       "      <th>5</th>\n",
       "      <td>0</td>\n",
       "      <td>6114.0</td>\n",
       "      <td>3.5</td>\n",
       "      <td>1339</td>\n",
       "      <td>1260759125</td>\n",
       "      <td>1079</td>\n",
       "    </tr>\n",
       "    <tr>\n",
       "      <th>6</th>\n",
       "      <td>0</td>\n",
       "      <td>819.0</td>\n",
       "      <td>3.0</td>\n",
       "      <td>1061</td>\n",
       "      <td>1260759182</td>\n",
       "      <td>856</td>\n",
       "    </tr>\n",
       "    <tr>\n",
       "      <th>7</th>\n",
       "      <td>0</td>\n",
       "      <td>11360.0</td>\n",
       "      <td>3.0</td>\n",
       "      <td>1029</td>\n",
       "      <td>1260759179</td>\n",
       "      <td>830</td>\n",
       "    </tr>\n",
       "    <tr>\n",
       "      <th>8</th>\n",
       "      <td>0</td>\n",
       "      <td>783.0</td>\n",
       "      <td>2.0</td>\n",
       "      <td>1293</td>\n",
       "      <td>1260759148</td>\n",
       "      <td>1043</td>\n",
       "    </tr>\n",
       "    <tr>\n",
       "      <th>9</th>\n",
       "      <td>0</td>\n",
       "      <td>8393.0</td>\n",
       "      <td>3.0</td>\n",
       "      <td>2150</td>\n",
       "      <td>1260759194</td>\n",
       "      <td>1704</td>\n",
       "    </tr>\n",
       "    <tr>\n",
       "      <th>10</th>\n",
       "      <td>0</td>\n",
       "      <td>1051.0</td>\n",
       "      <td>4.0</td>\n",
       "      <td>1953</td>\n",
       "      <td>1260759191</td>\n",
       "      <td>1511</td>\n",
       "    </tr>\n",
       "    <tr>\n",
       "      <th>11</th>\n",
       "      <td>0</td>\n",
       "      <td>11072.0</td>\n",
       "      <td>3.0</td>\n",
       "      <td>3671</td>\n",
       "      <td>1260759117</td>\n",
       "      <td>2920</td>\n",
       "    </tr>\n",
       "    <tr>\n",
       "      <th>12</th>\n",
       "      <td>0</td>\n",
       "      <td>11778.0</td>\n",
       "      <td>2.0</td>\n",
       "      <td>1263</td>\n",
       "      <td>1260759151</td>\n",
       "      <td>1013</td>\n",
       "    </tr>\n",
       "    <tr>\n",
       "      <th>13</th>\n",
       "      <td>0</td>\n",
       "      <td>8916.0</td>\n",
       "      <td>2.0</td>\n",
       "      <td>2294</td>\n",
       "      <td>1260759108</td>\n",
       "      <td>1811</td>\n",
       "    </tr>\n",
       "    <tr>\n",
       "      <th>14</th>\n",
       "      <td>0</td>\n",
       "      <td>3179.0</td>\n",
       "      <td>1.0</td>\n",
       "      <td>1405</td>\n",
       "      <td>1260759203</td>\n",
       "      <td>1136</td>\n",
       "    </tr>\n",
       "  </tbody>\n",
       "</table>\n",
       "</div>"
      ],
      "text/plain": [
       "    userId       id  rating  movieId   timestamp  movieIndex\n",
       "0        0  36819.0     1.0     2968  1260759200        2375\n",
       "1        0   9426.0     2.5     2455  1260759113        1958\n",
       "2        0    152.0     2.5     1371  1260759135        1107\n",
       "3        0   1598.0     2.0     1343  1260759131        1083\n",
       "4        0    665.0     2.0     1287  1260759187        1037\n",
       "5        0   6114.0     3.5     1339  1260759125        1079\n",
       "6        0    819.0     3.0     1061  1260759182         856\n",
       "7        0  11360.0     3.0     1029  1260759179         830\n",
       "8        0    783.0     2.0     1293  1260759148        1043\n",
       "9        0   8393.0     3.0     2150  1260759194        1704\n",
       "10       0   1051.0     4.0     1953  1260759191        1511\n",
       "11       0  11072.0     3.0     3671  1260759117        2920\n",
       "12       0  11778.0     2.0     1263  1260759151        1013\n",
       "13       0   8916.0     2.0     2294  1260759108        1811\n",
       "14       0   3179.0     1.0     1405  1260759203        1136"
      ]
     },
     "execution_count": 18,
     "metadata": {},
     "output_type": "execute_result"
    }
   ],
   "source": [
    "train[train['userId'] == 0]"
   ]
  },
  {
   "cell_type": "code",
   "execution_count": 19,
   "metadata": {},
   "outputs": [
    {
     "data": {
      "text/plain": [
       "19931"
      ]
     },
     "execution_count": 19,
     "metadata": {},
     "output_type": "execute_result"
    }
   ],
   "source": [
    "D.shape[1]"
   ]
  },
  {
   "cell_type": "code",
   "execution_count": 20,
   "metadata": {},
   "outputs": [],
   "source": [
    "d = D.shape[1] # movie vector dimention\n",
    "W = np.zeros((d, n_users)) \n",
    "b = np.zeros((1,n_users))"
   ]
  },
  {
   "cell_type": "code",
   "execution_count": 21,
   "metadata": {
    "scrolled": true
   },
   "outputs": [],
   "source": [
    "for i in range(n_users):\n",
    "        idx, scores = get_items_rated_by_user(ratings_train, i)\n",
    "        clf = Ridge(alpha=.1, fit_intercept = True)\n",
    "        Xhat = D[idx,:]\n",
    "        clf.fit(Xhat, scores)\n",
    "        W[:, i] = clf.coef_\n",
    "        b[0, i] = clf.intercept_"
   ]
  },
  {
   "cell_type": "code",
   "execution_count": 31,
   "metadata": {},
   "outputs": [
    {
     "data": {
      "text/plain": [
       "(9025, 671)"
      ]
     },
     "execution_count": 31,
     "metadata": {},
     "output_type": "execute_result"
    }
   ],
   "source": [
    "Yhat = D.dot(W) + b \n",
    "Yhat.shape"
   ]
  },
  {
   "cell_type": "code",
   "execution_count": 33,
   "metadata": {},
   "outputs": [],
   "source": [
    "def get_list_movie_have_not_rated():\n",
    "    user_rated, score = get_items_rated_by_user(rate_matrix,userId)\n",
    "    result = []\n",
    "    for i in range(movie_count):\n",
    "         if i not in user_rated: result.append(i)\n",
    "    return (userId, result)            "
   ]
  },
  {
   "cell_type": "code",
   "execution_count": 74,
   "metadata": {},
   "outputs": [],
   "source": [
    "def get_pred_rating(rate_matrix, userId,movie_count):\n",
    "    userId, list_not_rate =  get_list_user_have_not_rated(rate_matrix, userId,movie_count)\n",
    "    result = {}\n",
    "    for i in list_not_rate:\n",
    "        result[i] = Yhat[i, userId]\n",
    "    \n",
    "    result = sorted(result.items(), key=operator.itemgetter(1),reverse=True)\n",
    "    list_movie = []\n",
    "    for i in result:\n",
    "        list_movie.append(i[0])\n",
    "    return list_movie"
   ]
  },
  {
   "cell_type": "code",
   "execution_count": 75,
   "metadata": {},
   "outputs": [],
   "source": [
    "#user_rated, score = get_items_rated_by_user(ratings_train,0)\n",
    "#pd.DataFrame(smd.iloc[user_rated])"
   ]
  },
  {
   "cell_type": "code",
   "execution_count": 78,
   "metadata": {
    "scrolled": false
   },
   "outputs": [
    {
     "data": {
      "text/html": [
       "<div>\n",
       "<style scoped>\n",
       "    .dataframe tbody tr th:only-of-type {\n",
       "        vertical-align: middle;\n",
       "    }\n",
       "\n",
       "    .dataframe tbody tr th {\n",
       "        vertical-align: top;\n",
       "    }\n",
       "\n",
       "    .dataframe thead th {\n",
       "        text-align: right;\n",
       "    }\n",
       "</style>\n",
       "<table border=\"1\" class=\"dataframe\">\n",
       "  <thead>\n",
       "    <tr style=\"text-align: right;\">\n",
       "      <th></th>\n",
       "      <th>adult</th>\n",
       "      <th>belongs_to_collection</th>\n",
       "      <th>budget</th>\n",
       "      <th>genres</th>\n",
       "      <th>homepage</th>\n",
       "      <th>id</th>\n",
       "      <th>imdb_id</th>\n",
       "      <th>original_language</th>\n",
       "      <th>original_title</th>\n",
       "      <th>overview</th>\n",
       "      <th>...</th>\n",
       "      <th>runtime</th>\n",
       "      <th>spoken_languages</th>\n",
       "      <th>status</th>\n",
       "      <th>tagline</th>\n",
       "      <th>title</th>\n",
       "      <th>video</th>\n",
       "      <th>vote_average</th>\n",
       "      <th>vote_count</th>\n",
       "      <th>description</th>\n",
       "      <th>year</th>\n",
       "    </tr>\n",
       "  </thead>\n",
       "  <tbody>\n",
       "    <tr>\n",
       "      <th>4933</th>\n",
       "      <td>False</td>\n",
       "      <td>NaN</td>\n",
       "      <td>0</td>\n",
       "      <td>['Action', 'Crime', 'Thriller']</td>\n",
       "      <td>http://www.mgm.com/#/our-titles/2024/To-Live-a...</td>\n",
       "      <td>9846</td>\n",
       "      <td>tt0090180</td>\n",
       "      <td>en</td>\n",
       "      <td>To Live and Die in L.A.</td>\n",
       "      <td>A fearless Secret Service agent will stop at n...</td>\n",
       "      <td>...</td>\n",
       "      <td>116.0</td>\n",
       "      <td>[{'iso_639_1': 'en', 'name': 'English'}, {'iso...</td>\n",
       "      <td>Released</td>\n",
       "      <td>A federal agent is dead. A killer is loose. An...</td>\n",
       "      <td>To Live and Die in L.A.</td>\n",
       "      <td>False</td>\n",
       "      <td>6.8</td>\n",
       "      <td>129.0</td>\n",
       "      <td>A fearless Secret Service agent will stop at n...</td>\n",
       "      <td>1985</td>\n",
       "    </tr>\n",
       "    <tr>\n",
       "      <th>118</th>\n",
       "      <td>False</td>\n",
       "      <td>NaN</td>\n",
       "      <td>50000000</td>\n",
       "      <td>['Action', 'Thriller', 'Mystery', 'Romance']</td>\n",
       "      <td>NaN</td>\n",
       "      <td>11863</td>\n",
       "      <td>tt0113451</td>\n",
       "      <td>en</td>\n",
       "      <td>Jade</td>\n",
       "      <td>Someone does a nasty hatchet job on a San Fran...</td>\n",
       "      <td>...</td>\n",
       "      <td>95.0</td>\n",
       "      <td>[{'iso_639_1': 'en', 'name': 'English'}]</td>\n",
       "      <td>Released</td>\n",
       "      <td>Some fantasies go too far.</td>\n",
       "      <td>Jade</td>\n",
       "      <td>False</td>\n",
       "      <td>5.1</td>\n",
       "      <td>45.0</td>\n",
       "      <td>Someone does a nasty hatchet job on a San Fran...</td>\n",
       "      <td>1995</td>\n",
       "    </tr>\n",
       "    <tr>\n",
       "      <th>4505</th>\n",
       "      <td>False</td>\n",
       "      <td>NaN</td>\n",
       "      <td>55000000</td>\n",
       "      <td>['Drama', 'Action', 'Thriller', 'Crime']</td>\n",
       "      <td>NaN</td>\n",
       "      <td>10632</td>\n",
       "      <td>tt0269347</td>\n",
       "      <td>en</td>\n",
       "      <td>The Hunted</td>\n",
       "      <td>In the wilderness of British Columbia, two hun...</td>\n",
       "      <td>...</td>\n",
       "      <td>94.0</td>\n",
       "      <td>[{'iso_639_1': 'en', 'name': 'English'}]</td>\n",
       "      <td>Released</td>\n",
       "      <td>Some men should not be found.</td>\n",
       "      <td>The Hunted</td>\n",
       "      <td>False</td>\n",
       "      <td>6.0</td>\n",
       "      <td>194.0</td>\n",
       "      <td>In the wilderness of British Columbia, two hun...</td>\n",
       "      <td>2003</td>\n",
       "    </tr>\n",
       "    <tr>\n",
       "      <th>3770</th>\n",
       "      <td>False</td>\n",
       "      <td>NaN</td>\n",
       "      <td>0</td>\n",
       "      <td>['Horror', 'Action', 'Drama', 'Mystery', 'Thri...</td>\n",
       "      <td>NaN</td>\n",
       "      <td>27958</td>\n",
       "      <td>tt0080569</td>\n",
       "      <td>en</td>\n",
       "      <td>Cruising</td>\n",
       "      <td>A serial killer brutally slays and dismembers ...</td>\n",
       "      <td>...</td>\n",
       "      <td>102.0</td>\n",
       "      <td>[{'iso_639_1': 'en', 'name': 'English'}]</td>\n",
       "      <td>Released</td>\n",
       "      <td>Al Pacino is Cruising for a killer.</td>\n",
       "      <td>Cruising</td>\n",
       "      <td>False</td>\n",
       "      <td>6.0</td>\n",
       "      <td>89.0</td>\n",
       "      <td>A serial killer brutally slays and dismembers ...</td>\n",
       "      <td>1980</td>\n",
       "    </tr>\n",
       "    <tr>\n",
       "      <th>5763</th>\n",
       "      <td>False</td>\n",
       "      <td>NaN</td>\n",
       "      <td>22000000</td>\n",
       "      <td>['Action', 'Thriller', 'Adventure']</td>\n",
       "      <td>NaN</td>\n",
       "      <td>38985</td>\n",
       "      <td>tt0076740</td>\n",
       "      <td>en</td>\n",
       "      <td>Sorcerer</td>\n",
       "      <td>Four exiled international criminals on the run...</td>\n",
       "      <td>...</td>\n",
       "      <td>121.0</td>\n",
       "      <td>[{'iso_639_1': 'en', 'name': 'English'}, {'iso...</td>\n",
       "      <td>Released</td>\n",
       "      <td>WANTED. Four men willing to drive a cargo of d...</td>\n",
       "      <td>Sorcerer</td>\n",
       "      <td>False</td>\n",
       "      <td>7.5</td>\n",
       "      <td>104.0</td>\n",
       "      <td>Four exiled international criminals on the run...</td>\n",
       "      <td>1977</td>\n",
       "    </tr>\n",
       "    <tr>\n",
       "      <th>8045</th>\n",
       "      <td>False</td>\n",
       "      <td>NaN</td>\n",
       "      <td>10000000</td>\n",
       "      <td>['Crime', 'Drama', 'Thriller']</td>\n",
       "      <td>http://killerjoethemovie.com/</td>\n",
       "      <td>73567</td>\n",
       "      <td>tt1726669</td>\n",
       "      <td>en</td>\n",
       "      <td>Killer Joe</td>\n",
       "      <td>A cop (Matthew McConaughey) who moonlights as ...</td>\n",
       "      <td>...</td>\n",
       "      <td>102.0</td>\n",
       "      <td>[{'iso_639_1': 'en', 'name': 'English'}]</td>\n",
       "      <td>Released</td>\n",
       "      <td>A Totally Deep-Fried Texas Redneck Trailer Par...</td>\n",
       "      <td>Killer Joe</td>\n",
       "      <td>False</td>\n",
       "      <td>6.4</td>\n",
       "      <td>433.0</td>\n",
       "      <td>A cop (Matthew McConaughey) who moonlights as ...</td>\n",
       "      <td>2011</td>\n",
       "    </tr>\n",
       "    <tr>\n",
       "      <th>2388</th>\n",
       "      <td>False</td>\n",
       "      <td>NaN</td>\n",
       "      <td>0</td>\n",
       "      <td>['Drama', 'Horror', 'Mystery', 'Thriller']</td>\n",
       "      <td>NaN</td>\n",
       "      <td>32043</td>\n",
       "      <td>tt0099710</td>\n",
       "      <td>en</td>\n",
       "      <td>The Guardian</td>\n",
       "      <td>The idyllic lives of Phil and Kate seem comple...</td>\n",
       "      <td>...</td>\n",
       "      <td>92.0</td>\n",
       "      <td>[{'iso_639_1': 'en', 'name': 'English'}]</td>\n",
       "      <td>Released</td>\n",
       "      <td>Tonight, while the world is asleep... an ancie...</td>\n",
       "      <td>The Guardian</td>\n",
       "      <td>False</td>\n",
       "      <td>5.3</td>\n",
       "      <td>32.0</td>\n",
       "      <td>The idyllic lives of Phil and Kate seem comple...</td>\n",
       "      <td>1990</td>\n",
       "    </tr>\n",
       "    <tr>\n",
       "      <th>1555</th>\n",
       "      <td>False</td>\n",
       "      <td>{'id': 12263, 'name': 'The Exorcist Collection...</td>\n",
       "      <td>8000000</td>\n",
       "      <td>['Drama', 'Horror', 'Thriller']</td>\n",
       "      <td>http://theexorcist.warnerbros.com/</td>\n",
       "      <td>9552</td>\n",
       "      <td>tt0070047</td>\n",
       "      <td>en</td>\n",
       "      <td>The Exorcist</td>\n",
       "      <td>12-year-old Regan MacNeil begins to adapt an e...</td>\n",
       "      <td>...</td>\n",
       "      <td>122.0</td>\n",
       "      <td>[{'iso_639_1': 'de', 'name': 'Deutsch'}, {'iso...</td>\n",
       "      <td>Released</td>\n",
       "      <td>Something almost beyond comprehension is happe...</td>\n",
       "      <td>The Exorcist</td>\n",
       "      <td>False</td>\n",
       "      <td>7.5</td>\n",
       "      <td>2046.0</td>\n",
       "      <td>12-year-old Regan MacNeil begins to adapt an e...</td>\n",
       "      <td>1973</td>\n",
       "    </tr>\n",
       "    <tr>\n",
       "      <th>7484</th>\n",
       "      <td>False</td>\n",
       "      <td>NaN</td>\n",
       "      <td>0</td>\n",
       "      <td>['Crime', 'Drama']</td>\n",
       "      <td>NaN</td>\n",
       "      <td>12219</td>\n",
       "      <td>tt0118528</td>\n",
       "      <td>en</td>\n",
       "      <td>12 Angry Men</td>\n",
       "      <td>During the trial of a man accused of his fathe...</td>\n",
       "      <td>...</td>\n",
       "      <td>117.0</td>\n",
       "      <td>[{'iso_639_1': 'en', 'name': 'English'}, {'iso...</td>\n",
       "      <td>Released</td>\n",
       "      <td>NaN</td>\n",
       "      <td>12 Angry Men</td>\n",
       "      <td>False</td>\n",
       "      <td>7.5</td>\n",
       "      <td>59.0</td>\n",
       "      <td>During the trial of a man accused of his fathe...</td>\n",
       "      <td>1997</td>\n",
       "    </tr>\n",
       "    <tr>\n",
       "      <th>374</th>\n",
       "      <td>False</td>\n",
       "      <td>NaN</td>\n",
       "      <td>0</td>\n",
       "      <td>['Drama']</td>\n",
       "      <td>NaN</td>\n",
       "      <td>19819</td>\n",
       "      <td>tt0109305</td>\n",
       "      <td>en</td>\n",
       "      <td>Blue Chips</td>\n",
       "      <td>Pete Bell, a college basketball coach is under...</td>\n",
       "      <td>...</td>\n",
       "      <td>108.0</td>\n",
       "      <td>[{'iso_639_1': 'en', 'name': 'English'}]</td>\n",
       "      <td>Released</td>\n",
       "      <td>NaN</td>\n",
       "      <td>Blue Chips</td>\n",
       "      <td>False</td>\n",
       "      <td>5.7</td>\n",
       "      <td>41.0</td>\n",
       "      <td>Pete Bell, a college basketball coach is under...</td>\n",
       "      <td>1994</td>\n",
       "    </tr>\n",
       "  </tbody>\n",
       "</table>\n",
       "<p>10 rows × 26 columns</p>\n",
       "</div>"
      ],
      "text/plain": [
       "      adult                              belongs_to_collection    budget  \\\n",
       "4933  False                                                NaN         0   \n",
       "118   False                                                NaN  50000000   \n",
       "4505  False                                                NaN  55000000   \n",
       "3770  False                                                NaN         0   \n",
       "5763  False                                                NaN  22000000   \n",
       "8045  False                                                NaN  10000000   \n",
       "2388  False                                                NaN         0   \n",
       "1555  False  {'id': 12263, 'name': 'The Exorcist Collection...   8000000   \n",
       "7484  False                                                NaN         0   \n",
       "374   False                                                NaN         0   \n",
       "\n",
       "                                                 genres  \\\n",
       "4933                    ['Action', 'Crime', 'Thriller']   \n",
       "118        ['Action', 'Thriller', 'Mystery', 'Romance']   \n",
       "4505           ['Drama', 'Action', 'Thriller', 'Crime']   \n",
       "3770  ['Horror', 'Action', 'Drama', 'Mystery', 'Thri...   \n",
       "5763                ['Action', 'Thriller', 'Adventure']   \n",
       "8045                     ['Crime', 'Drama', 'Thriller']   \n",
       "2388         ['Drama', 'Horror', 'Mystery', 'Thriller']   \n",
       "1555                    ['Drama', 'Horror', 'Thriller']   \n",
       "7484                                 ['Crime', 'Drama']   \n",
       "374                                           ['Drama']   \n",
       "\n",
       "                                               homepage     id    imdb_id  \\\n",
       "4933  http://www.mgm.com/#/our-titles/2024/To-Live-a...   9846  tt0090180   \n",
       "118                                                 NaN  11863  tt0113451   \n",
       "4505                                                NaN  10632  tt0269347   \n",
       "3770                                                NaN  27958  tt0080569   \n",
       "5763                                                NaN  38985  tt0076740   \n",
       "8045                      http://killerjoethemovie.com/  73567  tt1726669   \n",
       "2388                                                NaN  32043  tt0099710   \n",
       "1555                 http://theexorcist.warnerbros.com/   9552  tt0070047   \n",
       "7484                                                NaN  12219  tt0118528   \n",
       "374                                                 NaN  19819  tt0109305   \n",
       "\n",
       "     original_language           original_title  \\\n",
       "4933                en  To Live and Die in L.A.   \n",
       "118                 en                     Jade   \n",
       "4505                en               The Hunted   \n",
       "3770                en                 Cruising   \n",
       "5763                en                 Sorcerer   \n",
       "8045                en               Killer Joe   \n",
       "2388                en             The Guardian   \n",
       "1555                en             The Exorcist   \n",
       "7484                en             12 Angry Men   \n",
       "374                 en               Blue Chips   \n",
       "\n",
       "                                               overview  ...  runtime  \\\n",
       "4933  A fearless Secret Service agent will stop at n...  ...    116.0   \n",
       "118   Someone does a nasty hatchet job on a San Fran...  ...     95.0   \n",
       "4505  In the wilderness of British Columbia, two hun...  ...     94.0   \n",
       "3770  A serial killer brutally slays and dismembers ...  ...    102.0   \n",
       "5763  Four exiled international criminals on the run...  ...    121.0   \n",
       "8045  A cop (Matthew McConaughey) who moonlights as ...  ...    102.0   \n",
       "2388  The idyllic lives of Phil and Kate seem comple...  ...     92.0   \n",
       "1555  12-year-old Regan MacNeil begins to adapt an e...  ...    122.0   \n",
       "7484  During the trial of a man accused of his fathe...  ...    117.0   \n",
       "374   Pete Bell, a college basketball coach is under...  ...    108.0   \n",
       "\n",
       "                                       spoken_languages    status  \\\n",
       "4933  [{'iso_639_1': 'en', 'name': 'English'}, {'iso...  Released   \n",
       "118            [{'iso_639_1': 'en', 'name': 'English'}]  Released   \n",
       "4505           [{'iso_639_1': 'en', 'name': 'English'}]  Released   \n",
       "3770           [{'iso_639_1': 'en', 'name': 'English'}]  Released   \n",
       "5763  [{'iso_639_1': 'en', 'name': 'English'}, {'iso...  Released   \n",
       "8045           [{'iso_639_1': 'en', 'name': 'English'}]  Released   \n",
       "2388           [{'iso_639_1': 'en', 'name': 'English'}]  Released   \n",
       "1555  [{'iso_639_1': 'de', 'name': 'Deutsch'}, {'iso...  Released   \n",
       "7484  [{'iso_639_1': 'en', 'name': 'English'}, {'iso...  Released   \n",
       "374            [{'iso_639_1': 'en', 'name': 'English'}]  Released   \n",
       "\n",
       "                                                tagline  \\\n",
       "4933  A federal agent is dead. A killer is loose. An...   \n",
       "118                          Some fantasies go too far.   \n",
       "4505                      Some men should not be found.   \n",
       "3770                Al Pacino is Cruising for a killer.   \n",
       "5763  WANTED. Four men willing to drive a cargo of d...   \n",
       "8045  A Totally Deep-Fried Texas Redneck Trailer Par...   \n",
       "2388  Tonight, while the world is asleep... an ancie...   \n",
       "1555  Something almost beyond comprehension is happe...   \n",
       "7484                                                NaN   \n",
       "374                                                 NaN   \n",
       "\n",
       "                        title  video  vote_average vote_count  \\\n",
       "4933  To Live and Die in L.A.  False           6.8      129.0   \n",
       "118                      Jade  False           5.1       45.0   \n",
       "4505               The Hunted  False           6.0      194.0   \n",
       "3770                 Cruising  False           6.0       89.0   \n",
       "5763                 Sorcerer  False           7.5      104.0   \n",
       "8045               Killer Joe  False           6.4      433.0   \n",
       "2388             The Guardian  False           5.3       32.0   \n",
       "1555             The Exorcist  False           7.5     2046.0   \n",
       "7484             12 Angry Men  False           7.5       59.0   \n",
       "374                Blue Chips  False           5.7       41.0   \n",
       "\n",
       "                                            description  year  \n",
       "4933  A fearless Secret Service agent will stop at n...  1985  \n",
       "118   Someone does a nasty hatchet job on a San Fran...  1995  \n",
       "4505  In the wilderness of British Columbia, two hun...  2003  \n",
       "3770  A serial killer brutally slays and dismembers ...  1980  \n",
       "5763  Four exiled international criminals on the run...  1977  \n",
       "8045  A cop (Matthew McConaughey) who moonlights as ...  2011  \n",
       "2388  The idyllic lives of Phil and Kate seem comple...  1990  \n",
       "1555  12-year-old Regan MacNeil begins to adapt an e...  1973  \n",
       "7484  During the trial of a man accused of his fathe...  1997  \n",
       "374   Pete Bell, a college basketball coach is under...  1994  \n",
       "\n",
       "[10 rows x 26 columns]"
      ]
     },
     "execution_count": 78,
     "metadata": {},
     "output_type": "execute_result"
    }
   ],
   "source": [
    "result = get_pred_rating(ratings_train,0,N)\n",
    "pd.DataFrame(smd.iloc[result[0:10]])"
   ]
  },
  {
   "cell_type": "code",
   "execution_count": null,
   "metadata": {},
   "outputs": [],
   "source": [
    "n = 0\n",
    "np.set_printoptions(precision=2)\n",
    "ids, scores = get_items_rated_by_user(ratings_test, n)\n",
    "result = Yhat[ids, n]\n",
    "result"
   ]
  },
  {
   "cell_type": "code",
   "execution_count": null,
   "metadata": {},
   "outputs": [],
   "source": [
    "#test[test['userId'] == 0]"
   ]
  },
  {
   "cell_type": "code",
   "execution_count": null,
   "metadata": {},
   "outputs": [],
   "source": [
    "print(\"ratings prediction of user \",n,\" :\")\n",
    "for i in range(len(result)):\n",
    "    print(\"movie id : \",ids[i],\" - \",\"predict ratings : \",result[i],\" - \",\"true ratings : \",scores[i])"
   ]
  },
  {
   "cell_type": "code",
   "execution_count": null,
   "metadata": {},
   "outputs": [],
   "source": [
    "def evaluate(Yhat, rates, W, b):\n",
    "    se = 0\n",
    "    cnt = 0\n",
    "    \n",
    "    for n in range(n_users):\n",
    "        ids, scores_truth = get_items_rated_by_user(rates, n)\n",
    "        scores_pred = Yhat[ids, n]\n",
    "        e = scores_truth - scores_pred \n",
    "        se += (e*e).sum(axis = 0)\n",
    "        cnt += e.size \n",
    "    return sqrt(se/cnt)"
   ]
  },
  {
   "cell_type": "code",
   "execution_count": null,
   "metadata": {},
   "outputs": [],
   "source": [
    "print('RMSE for test case:', evaluate(Yhat, ratings_train, W, b))\n",
    "print('RMSE for test case:', evaluate(Yhat, ratings_test, W, b))"
   ]
  },
  {
   "cell_type": "code",
   "execution_count": null,
   "metadata": {},
   "outputs": [],
   "source": [
    "np.save('count_pred_rating.npy', Yhat)"
   ]
  },
  {
   "cell_type": "code",
   "execution_count": null,
   "metadata": {},
   "outputs": [],
   "source": []
  }
 ],
 "metadata": {
  "kernelspec": {
   "display_name": "Python 3",
   "language": "python",
   "name": "python3"
  },
  "language_info": {
   "codemirror_mode": {
    "name": "ipython",
    "version": 3
   },
   "file_extension": ".py",
   "mimetype": "text/x-python",
   "name": "python",
   "nbconvert_exporter": "python",
   "pygments_lexer": "ipython3",
   "version": "3.6.8"
  }
 },
 "nbformat": 4,
 "nbformat_minor": 2
}
