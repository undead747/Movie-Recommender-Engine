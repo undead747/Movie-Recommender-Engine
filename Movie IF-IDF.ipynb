{
 "cells": [
  {
   "cell_type": "markdown",
   "metadata": {},
   "source": [
    "# Movies Imformation - Retrieval  "
   ]
  },
  {
   "cell_type": "markdown",
   "metadata": {},
   "source": [
    "## Librarys"
   ]
  },
  {
   "cell_type": "code",
   "execution_count": 1,
   "metadata": {},
   "outputs": [],
   "source": [
    "import os \n",
    "import nltk\n",
    "import os\n",
    "import string\n",
    "import numpy as np\n",
    "import copy\n",
    "import pandas as pd\n",
    "import pickle\n",
    "import re\n",
    "import math\n",
    "\n",
    "from nltk.corpus import stopwords\n",
    "from nltk.tokenize import word_tokenize\n",
    "from nltk.stem import PorterStemmer\n",
    "from collections import Counter\n",
    "from num2words import num2words\n",
    "from nltk.stem import WordNetLemmatizer\n",
    "# Lemmatize with POS Tag\n",
    "from nltk.corpus import wordnet\n",
    "from num2words import num2words\n",
    "from sklearn.metrics.pairwise import linear_kernel\n",
    "\n",
    "title = \"stories\"\n",
    "alpha = 0.3"
   ]
  },
  {
   "cell_type": "markdown",
   "metadata": {},
   "source": [
    "## Preprocessing"
   ]
  },
  {
   "cell_type": "markdown",
   "metadata": {},
   "source": [
    "### Lowercase"
   ]
  },
  {
   "cell_type": "code",
   "execution_count": 2,
   "metadata": {},
   "outputs": [],
   "source": [
    "def convert_lower_case(data):\n",
    "    return np.char.lower(data)"
   ]
  },
  {
   "cell_type": "markdown",
   "metadata": {},
   "source": [
    "### Stopwords"
   ]
  },
  {
   "cell_type": "code",
   "execution_count": 3,
   "metadata": {},
   "outputs": [],
   "source": [
    "# Stop words are the most commonly occurring words which don’t give any\n",
    "# additional value to the document vector. in-fact removing these will\n",
    "# increase computation and space efficiency. "
   ]
  },
  {
   "cell_type": "code",
   "execution_count": 4,
   "metadata": {},
   "outputs": [
    {
     "name": "stdout",
     "output_type": "stream",
     "text": [
      "['i', 'me', 'my', 'myself', 'we', 'our', 'ours', 'ourselves', 'you', \"you're\", \"you've\", \"you'll\", \"you'd\", 'your', 'yours', 'yourself', 'yourselves', 'he', 'him', 'his', 'himself', 'she', \"she's\", 'her', 'hers', 'herself', 'it', \"it's\", 'its', 'itself', 'they', 'them', 'their', 'theirs', 'themselves', 'what', 'which', 'who', 'whom', 'this', 'that', \"that'll\", 'these', 'those', 'am', 'is', 'are', 'was', 'were', 'be', 'been', 'being', 'have', 'has', 'had', 'having', 'do', 'does', 'did', 'doing', 'a', 'an', 'the', 'and', 'but', 'if', 'or', 'because', 'as', 'until', 'while', 'of', 'at', 'by', 'for', 'with', 'about', 'against', 'between', 'into', 'through', 'during', 'before', 'after', 'above', 'below', 'to', 'from', 'up', 'down', 'in', 'out', 'on', 'off', 'over', 'under', 'again', 'further', 'then', 'once', 'here', 'there', 'when', 'where', 'why', 'how', 'all', 'any', 'both', 'each', 'few', 'more', 'most', 'other', 'some', 'such', 'no', 'nor', 'not', 'only', 'own', 'same', 'so', 'than', 'too', 'very', 's', 't', 'can', 'will', 'just', 'don', \"don't\", 'should', \"should've\", 'now', 'd', 'll', 'm', 'o', 're', 've', 'y', 'ain', 'aren', \"aren't\", 'couldn', \"couldn't\", 'didn', \"didn't\", 'doesn', \"doesn't\", 'hadn', \"hadn't\", 'hasn', \"hasn't\", 'haven', \"haven't\", 'isn', \"isn't\", 'ma', 'mightn', \"mightn't\", 'mustn', \"mustn't\", 'needn', \"needn't\", 'shan', \"shan't\", 'shouldn', \"shouldn't\", 'wasn', \"wasn't\", 'weren', \"weren't\", 'won', \"won't\", 'wouldn', \"wouldn't\"]\n"
     ]
    }
   ],
   "source": [
    "print(stopwords.words('english'))"
   ]
  },
  {
   "cell_type": "code",
   "execution_count": 5,
   "metadata": {},
   "outputs": [],
   "source": [
    "def remove_stop_words(data):\n",
    "    new_text = \"\"\n",
    "    stop_words = stopwords.words('english')\n",
    "    words = word_tokenize(str(data))\n",
    "\n",
    "    for word in words:\n",
    "        if word not in stop_words and len(word) > 1:\n",
    "            new_text = new_text + \" \" + word\n",
    "        \n",
    "    return new_text        "
   ]
  },
  {
   "cell_type": "markdown",
   "metadata": {},
   "source": [
    "### Punctuation"
   ]
  },
  {
   "cell_type": "code",
   "execution_count": 6,
   "metadata": {},
   "outputs": [],
   "source": [
    "# (Punctuation - dấu chấm câu)are the unnecessary symbols that are in\n",
    "# our corpus documents, we should be little careful with what we are \n",
    "# doing with this. There might be few problems such as U.S — us \n",
    "# “United Stated” being converted to “us” after the preprocessing. \n",
    "# hyphen and should usually be dealt little carefully. but for this \n",
    "# problem statement we are just going to remove these"
   ]
  },
  {
   "cell_type": "code",
   "execution_count": 7,
   "metadata": {},
   "outputs": [],
   "source": [
    "def remove_punctuation(data):\n",
    "    symbols = \"!\\\"#$%&()*+-./:;<=>?@[\\]^_`{|}~\\n\"\n",
    "    for i in range(len(symbols)):\n",
    "        data = np.char.replace(data, symbols[i], ' ')\n",
    "        data = np.char.replace(data, \"  \", \" \")\n",
    "    data = np.char.replace(data, ',', '')\n",
    "    return data"
   ]
  },
  {
   "cell_type": "code",
   "execution_count": 8,
   "metadata": {},
   "outputs": [],
   "source": [
    "def remove_apostrophe(data):\n",
    "    return np.char.replace(data, \"'\", \"\")"
   ]
  },
  {
   "cell_type": "markdown",
   "metadata": {},
   "source": [
    "### Steamming"
   ]
  },
  {
   "cell_type": "code",
   "execution_count": 9,
   "metadata": {},
   "outputs": [],
   "source": [
    "def stemming(data):\n",
    "    new_text = \"\"\n",
    "    words = word_tokenize(str(data))\n",
    "    stemmer = PorterStemmer()\n",
    "    \n",
    "    for word in words:\n",
    "        new_text = new_text + \" \" + stemmer.stem(word)\n",
    "    return new_text"
   ]
  },
  {
   "cell_type": "code",
   "execution_count": 10,
   "metadata": {},
   "outputs": [
    {
     "data": {
      "text/plain": [
       "' the stripe bat are hang on their feet for best'"
      ]
     },
     "execution_count": 10,
     "metadata": {},
     "output_type": "execute_result"
    }
   ],
   "source": [
    "data = \"The striped bats are hanging on their feet for best\"\n",
    "stemming(data)"
   ]
  },
  {
   "cell_type": "markdown",
   "metadata": {},
   "source": [
    "### Lemmatizer words"
   ]
  },
  {
   "cell_type": "markdown",
   "metadata": {},
   "source": [
    "#### Get word pos "
   ]
  },
  {
   "cell_type": "code",
   "execution_count": 11,
   "metadata": {},
   "outputs": [
    {
     "data": {
      "text/plain": [
       "[('i', 'JJ'), ('play', 'VBP'), ('so', 'RB'), ('well', 'RB')]"
      ]
     },
     "execution_count": 11,
     "metadata": {},
     "output_type": "execute_result"
    }
   ],
   "source": [
    "s = \"i play so well\"\n",
    "nltk.pos_tag(s.split())"
   ]
  },
  {
   "cell_type": "code",
   "execution_count": 12,
   "metadata": {},
   "outputs": [
    {
     "data": {
      "text/plain": [
       "[('i', 'JJ'), ('play', 'VBP'), ('game', 'NN')]"
      ]
     },
     "execution_count": 12,
     "metadata": {},
     "output_type": "execute_result"
    }
   ],
   "source": [
    "s = \"i play game\"\n",
    "nltk.pos_tag(word_tokenize(s))"
   ]
  },
  {
   "cell_type": "code",
   "execution_count": 13,
   "metadata": {},
   "outputs": [],
   "source": [
    "def get_wordnet_pos(word):\n",
    "\n",
    "    tag = nltk.pos_tag([word])[0][1][0].upper()\n",
    "    \n",
    "    tag_dict = {\"J\": wordnet.ADJ,\n",
    "                \"N\": wordnet.NOUN,\n",
    "                \"V\": wordnet.VERB,\n",
    "                \"R\": wordnet.ADV}\n",
    "\n",
    "    return tag_dict.get(tag, wordnet.NOUN)"
   ]
  },
  {
   "cell_type": "markdown",
   "metadata": {},
   "source": [
    "#### Lemmatizer words"
   ]
  },
  {
   "cell_type": "code",
   "execution_count": 14,
   "metadata": {},
   "outputs": [],
   "source": [
    "def lemmatizer_words(data):\n",
    "    new_text = \"\"\n",
    "    lemmatizer = WordNetLemmatizer()\n",
    "    words = word_tokenize(str(data))\n",
    "   \n",
    "    lemmatizer_text = [lemmatizer.lemmatize(w, get_wordnet_pos(w)) for w in words]\n",
    "\n",
    "    for word in lemmatizer_text:\n",
    "        new_text = new_text + \" \" + word\n",
    "    return  new_text"
   ]
  },
  {
   "cell_type": "code",
   "execution_count": 15,
   "metadata": {},
   "outputs": [
    {
     "data": {
      "text/plain": [
       "' The strip bat be hang on their foot for best'"
      ]
     },
     "execution_count": 15,
     "metadata": {},
     "output_type": "execute_result"
    }
   ],
   "source": [
    "data = \"The striped bats are hanging on their feet for best\"\n",
    "data\n",
    "lemmatizer_words(data)"
   ]
  },
  {
   "cell_type": "markdown",
   "metadata": {},
   "source": [
    "### Convert Number "
   ]
  },
  {
   "cell_type": "code",
   "execution_count": 16,
   "metadata": {},
   "outputs": [],
   "source": [
    "def convert_numbers(data):\n",
    "    tokens = word_tokenize(str(data))\n",
    "    new_text = \"\"\n",
    "    for w in tokens:\n",
    "        try:\n",
    "            w = num2words(int(w))\n",
    "        except:\n",
    "            a = 0\n",
    "        new_text = new_text + \" \" + w\n",
    "    new_text = np.char.replace(new_text, \"-\", \" \")\n",
    "    return new_text"
   ]
  },
  {
   "cell_type": "code",
   "execution_count": 17,
   "metadata": {},
   "outputs": [
    {
     "data": {
      "text/plain": [
       "array(' one hundred and twenty three', dtype='<U29')"
      ]
     },
     "execution_count": 17,
     "metadata": {},
     "output_type": "execute_result"
    }
   ],
   "source": [
    "data = \"123\"\n",
    "convert_numbers(data)"
   ]
  },
  {
   "cell_type": "markdown",
   "metadata": {},
   "source": [
    "### Combine all Preprocess step"
   ]
  },
  {
   "cell_type": "code",
   "execution_count": 18,
   "metadata": {},
   "outputs": [],
   "source": [
    "def preprocess(data):\n",
    "    data = convert_lower_case(data)\n",
    "    data = remove_punctuation(data) #remove comma seperately\n",
    "    data = remove_stop_words(data)\n",
    "    data = remove_apostrophe(data)\n",
    "    data = convert_numbers(data)\n",
    "    data = lemmatizer_words(data)\n",
    "    data = stemming(data)\n",
    "    \n",
    "    data = remove_punctuation(data)\n",
    "    data = convert_numbers(data)\n",
    "    data = lemmatizer_words(data)\n",
    "    data = stemming(data) #needed again as we need to stem the words\n",
    "    data = remove_punctuation(data) #needed again as num2word is giving few hypens and commas fourty-one\n",
    "    data = remove_stop_words(data) #needed again as num2word is giving stop words 101 - one hundred and one\n",
    "    return data"
   ]
  },
  {
   "cell_type": "markdown",
   "metadata": {},
   "source": [
    "## Extracting Data"
   ]
  },
  {
   "cell_type": "code",
   "execution_count": 19,
   "metadata": {},
   "outputs": [],
   "source": [
    "links_small = pd.read_csv('./the-movies-dataset/links_small.csv')\n",
    "links_small = links_small[links_small['tmdbId'].notnull()]['tmdbId'].astype('int')"
   ]
  },
  {
   "cell_type": "code",
   "execution_count": 20,
   "metadata": {},
   "outputs": [
    {
     "data": {
      "text/plain": [
       "0       862\n",
       "1      8844\n",
       "2     15602\n",
       "3     31357\n",
       "4     11862\n",
       "5       949\n",
       "6     11860\n",
       "7     45325\n",
       "8      9091\n",
       "9       710\n",
       "10     9087\n",
       "11    12110\n",
       "12    21032\n",
       "13    10858\n",
       "14     1408\n",
       "15      524\n",
       "16     4584\n",
       "17        5\n",
       "18     9273\n",
       "19    11517\n",
       "Name: tmdbId, dtype: int64"
      ]
     },
     "execution_count": 20,
     "metadata": {},
     "output_type": "execute_result"
    }
   ],
   "source": [
    "links_small[:20]"
   ]
  },
  {
   "cell_type": "code",
   "execution_count": 21,
   "metadata": {},
   "outputs": [
    {
     "name": "stderr",
     "output_type": "stream",
     "text": [
      "/home/minhdeptrai/.local/lib/python3.6/site-packages/IPython/core/interactiveshell.py:3058: DtypeWarning: Columns (10) have mixed types. Specify dtype option on import or set low_memory=False.\n",
      "  interactivity=interactivity, compiler=compiler, result=result)\n"
     ]
    }
   ],
   "source": [
    "md = pd.read_csv('./the-movies-dataset/movies_metadata.csv')"
   ]
  },
  {
   "cell_type": "code",
   "execution_count": 22,
   "metadata": {},
   "outputs": [],
   "source": [
    "md = md.drop([19730,29503,35587])"
   ]
  },
  {
   "cell_type": "code",
   "execution_count": 23,
   "metadata": {},
   "outputs": [],
   "source": [
    "md['id'] = md['id'].astype('int')"
   ]
  },
  {
   "cell_type": "code",
   "execution_count": 24,
   "metadata": {},
   "outputs": [],
   "source": [
    "smd = md[md['id'].isin(links_small)]"
   ]
  },
  {
   "cell_type": "code",
   "execution_count": 25,
   "metadata": {},
   "outputs": [],
   "source": [
    "N = len(smd)"
   ]
  },
  {
   "cell_type": "code",
   "execution_count": 26,
   "metadata": {},
   "outputs": [
    {
     "data": {
      "text/html": [
       "<div>\n",
       "<style scoped>\n",
       "    .dataframe tbody tr th:only-of-type {\n",
       "        vertical-align: middle;\n",
       "    }\n",
       "\n",
       "    .dataframe tbody tr th {\n",
       "        vertical-align: top;\n",
       "    }\n",
       "\n",
       "    .dataframe thead th {\n",
       "        text-align: right;\n",
       "    }\n",
       "</style>\n",
       "<table border=\"1\" class=\"dataframe\">\n",
       "  <thead>\n",
       "    <tr style=\"text-align: right;\">\n",
       "      <th></th>\n",
       "      <th>adult</th>\n",
       "      <th>belongs_to_collection</th>\n",
       "      <th>budget</th>\n",
       "      <th>genres</th>\n",
       "      <th>homepage</th>\n",
       "      <th>id</th>\n",
       "      <th>imdb_id</th>\n",
       "      <th>original_language</th>\n",
       "      <th>original_title</th>\n",
       "      <th>overview</th>\n",
       "      <th>...</th>\n",
       "      <th>release_date</th>\n",
       "      <th>revenue</th>\n",
       "      <th>runtime</th>\n",
       "      <th>spoken_languages</th>\n",
       "      <th>status</th>\n",
       "      <th>tagline</th>\n",
       "      <th>title</th>\n",
       "      <th>video</th>\n",
       "      <th>vote_average</th>\n",
       "      <th>vote_count</th>\n",
       "    </tr>\n",
       "  </thead>\n",
       "  <tbody>\n",
       "    <tr>\n",
       "      <td>0</td>\n",
       "      <td>False</td>\n",
       "      <td>{'id': 10194, 'name': 'Toy Story Collection', ...</td>\n",
       "      <td>30000000</td>\n",
       "      <td>[{'id': 16, 'name': 'Animation'}, {'id': 35, '...</td>\n",
       "      <td>http://toystory.disney.com/toy-story</td>\n",
       "      <td>862</td>\n",
       "      <td>tt0114709</td>\n",
       "      <td>en</td>\n",
       "      <td>Toy Story</td>\n",
       "      <td>Led by Woody, Andy's toys live happily in his ...</td>\n",
       "      <td>...</td>\n",
       "      <td>1995-10-30</td>\n",
       "      <td>373554033.0</td>\n",
       "      <td>81.0</td>\n",
       "      <td>[{'iso_639_1': 'en', 'name': 'English'}]</td>\n",
       "      <td>Released</td>\n",
       "      <td>NaN</td>\n",
       "      <td>Toy Story</td>\n",
       "      <td>False</td>\n",
       "      <td>7.7</td>\n",
       "      <td>5415.0</td>\n",
       "    </tr>\n",
       "    <tr>\n",
       "      <td>1</td>\n",
       "      <td>False</td>\n",
       "      <td>NaN</td>\n",
       "      <td>65000000</td>\n",
       "      <td>[{'id': 12, 'name': 'Adventure'}, {'id': 14, '...</td>\n",
       "      <td>NaN</td>\n",
       "      <td>8844</td>\n",
       "      <td>tt0113497</td>\n",
       "      <td>en</td>\n",
       "      <td>Jumanji</td>\n",
       "      <td>When siblings Judy and Peter discover an encha...</td>\n",
       "      <td>...</td>\n",
       "      <td>1995-12-15</td>\n",
       "      <td>262797249.0</td>\n",
       "      <td>104.0</td>\n",
       "      <td>[{'iso_639_1': 'en', 'name': 'English'}, {'iso...</td>\n",
       "      <td>Released</td>\n",
       "      <td>Roll the dice and unleash the excitement!</td>\n",
       "      <td>Jumanji</td>\n",
       "      <td>False</td>\n",
       "      <td>6.9</td>\n",
       "      <td>2413.0</td>\n",
       "    </tr>\n",
       "    <tr>\n",
       "      <td>2</td>\n",
       "      <td>False</td>\n",
       "      <td>{'id': 119050, 'name': 'Grumpy Old Men Collect...</td>\n",
       "      <td>0</td>\n",
       "      <td>[{'id': 10749, 'name': 'Romance'}, {'id': 35, ...</td>\n",
       "      <td>NaN</td>\n",
       "      <td>15602</td>\n",
       "      <td>tt0113228</td>\n",
       "      <td>en</td>\n",
       "      <td>Grumpier Old Men</td>\n",
       "      <td>A family wedding reignites the ancient feud be...</td>\n",
       "      <td>...</td>\n",
       "      <td>1995-12-22</td>\n",
       "      <td>0.0</td>\n",
       "      <td>101.0</td>\n",
       "      <td>[{'iso_639_1': 'en', 'name': 'English'}]</td>\n",
       "      <td>Released</td>\n",
       "      <td>Still Yelling. Still Fighting. Still Ready for...</td>\n",
       "      <td>Grumpier Old Men</td>\n",
       "      <td>False</td>\n",
       "      <td>6.5</td>\n",
       "      <td>92.0</td>\n",
       "    </tr>\n",
       "    <tr>\n",
       "      <td>3</td>\n",
       "      <td>False</td>\n",
       "      <td>NaN</td>\n",
       "      <td>16000000</td>\n",
       "      <td>[{'id': 35, 'name': 'Comedy'}, {'id': 18, 'nam...</td>\n",
       "      <td>NaN</td>\n",
       "      <td>31357</td>\n",
       "      <td>tt0114885</td>\n",
       "      <td>en</td>\n",
       "      <td>Waiting to Exhale</td>\n",
       "      <td>Cheated on, mistreated and stepped on, the wom...</td>\n",
       "      <td>...</td>\n",
       "      <td>1995-12-22</td>\n",
       "      <td>81452156.0</td>\n",
       "      <td>127.0</td>\n",
       "      <td>[{'iso_639_1': 'en', 'name': 'English'}]</td>\n",
       "      <td>Released</td>\n",
       "      <td>Friends are the people who let you be yourself...</td>\n",
       "      <td>Waiting to Exhale</td>\n",
       "      <td>False</td>\n",
       "      <td>6.1</td>\n",
       "      <td>34.0</td>\n",
       "    </tr>\n",
       "    <tr>\n",
       "      <td>4</td>\n",
       "      <td>False</td>\n",
       "      <td>{'id': 96871, 'name': 'Father of the Bride Col...</td>\n",
       "      <td>0</td>\n",
       "      <td>[{'id': 35, 'name': 'Comedy'}]</td>\n",
       "      <td>NaN</td>\n",
       "      <td>11862</td>\n",
       "      <td>tt0113041</td>\n",
       "      <td>en</td>\n",
       "      <td>Father of the Bride Part II</td>\n",
       "      <td>Just when George Banks has recovered from his ...</td>\n",
       "      <td>...</td>\n",
       "      <td>1995-02-10</td>\n",
       "      <td>76578911.0</td>\n",
       "      <td>106.0</td>\n",
       "      <td>[{'iso_639_1': 'en', 'name': 'English'}]</td>\n",
       "      <td>Released</td>\n",
       "      <td>Just When His World Is Back To Normal... He's ...</td>\n",
       "      <td>Father of the Bride Part II</td>\n",
       "      <td>False</td>\n",
       "      <td>5.7</td>\n",
       "      <td>173.0</td>\n",
       "    </tr>\n",
       "    <tr>\n",
       "      <td>5</td>\n",
       "      <td>False</td>\n",
       "      <td>NaN</td>\n",
       "      <td>60000000</td>\n",
       "      <td>[{'id': 28, 'name': 'Action'}, {'id': 80, 'nam...</td>\n",
       "      <td>NaN</td>\n",
       "      <td>949</td>\n",
       "      <td>tt0113277</td>\n",
       "      <td>en</td>\n",
       "      <td>Heat</td>\n",
       "      <td>Obsessive master thief, Neil McCauley leads a ...</td>\n",
       "      <td>...</td>\n",
       "      <td>1995-12-15</td>\n",
       "      <td>187436818.0</td>\n",
       "      <td>170.0</td>\n",
       "      <td>[{'iso_639_1': 'en', 'name': 'English'}, {'iso...</td>\n",
       "      <td>Released</td>\n",
       "      <td>A Los Angeles Crime Saga</td>\n",
       "      <td>Heat</td>\n",
       "      <td>False</td>\n",
       "      <td>7.7</td>\n",
       "      <td>1886.0</td>\n",
       "    </tr>\n",
       "    <tr>\n",
       "      <td>6</td>\n",
       "      <td>False</td>\n",
       "      <td>NaN</td>\n",
       "      <td>58000000</td>\n",
       "      <td>[{'id': 35, 'name': 'Comedy'}, {'id': 10749, '...</td>\n",
       "      <td>NaN</td>\n",
       "      <td>11860</td>\n",
       "      <td>tt0114319</td>\n",
       "      <td>en</td>\n",
       "      <td>Sabrina</td>\n",
       "      <td>An ugly duckling having undergone a remarkable...</td>\n",
       "      <td>...</td>\n",
       "      <td>1995-12-15</td>\n",
       "      <td>0.0</td>\n",
       "      <td>127.0</td>\n",
       "      <td>[{'iso_639_1': 'fr', 'name': 'Français'}, {'is...</td>\n",
       "      <td>Released</td>\n",
       "      <td>You are cordially invited to the most surprisi...</td>\n",
       "      <td>Sabrina</td>\n",
       "      <td>False</td>\n",
       "      <td>6.2</td>\n",
       "      <td>141.0</td>\n",
       "    </tr>\n",
       "    <tr>\n",
       "      <td>7</td>\n",
       "      <td>False</td>\n",
       "      <td>NaN</td>\n",
       "      <td>0</td>\n",
       "      <td>[{'id': 28, 'name': 'Action'}, {'id': 12, 'nam...</td>\n",
       "      <td>NaN</td>\n",
       "      <td>45325</td>\n",
       "      <td>tt0112302</td>\n",
       "      <td>en</td>\n",
       "      <td>Tom and Huck</td>\n",
       "      <td>A mischievous young boy, Tom Sawyer, witnesses...</td>\n",
       "      <td>...</td>\n",
       "      <td>1995-12-22</td>\n",
       "      <td>0.0</td>\n",
       "      <td>97.0</td>\n",
       "      <td>[{'iso_639_1': 'en', 'name': 'English'}, {'iso...</td>\n",
       "      <td>Released</td>\n",
       "      <td>The Original Bad Boys.</td>\n",
       "      <td>Tom and Huck</td>\n",
       "      <td>False</td>\n",
       "      <td>5.4</td>\n",
       "      <td>45.0</td>\n",
       "    </tr>\n",
       "    <tr>\n",
       "      <td>8</td>\n",
       "      <td>False</td>\n",
       "      <td>NaN</td>\n",
       "      <td>35000000</td>\n",
       "      <td>[{'id': 28, 'name': 'Action'}, {'id': 12, 'nam...</td>\n",
       "      <td>NaN</td>\n",
       "      <td>9091</td>\n",
       "      <td>tt0114576</td>\n",
       "      <td>en</td>\n",
       "      <td>Sudden Death</td>\n",
       "      <td>International action superstar Jean Claude Van...</td>\n",
       "      <td>...</td>\n",
       "      <td>1995-12-22</td>\n",
       "      <td>64350171.0</td>\n",
       "      <td>106.0</td>\n",
       "      <td>[{'iso_639_1': 'en', 'name': 'English'}]</td>\n",
       "      <td>Released</td>\n",
       "      <td>Terror goes into overtime.</td>\n",
       "      <td>Sudden Death</td>\n",
       "      <td>False</td>\n",
       "      <td>5.5</td>\n",
       "      <td>174.0</td>\n",
       "    </tr>\n",
       "    <tr>\n",
       "      <td>9</td>\n",
       "      <td>False</td>\n",
       "      <td>{'id': 645, 'name': 'James Bond Collection', '...</td>\n",
       "      <td>58000000</td>\n",
       "      <td>[{'id': 12, 'name': 'Adventure'}, {'id': 28, '...</td>\n",
       "      <td>http://www.mgm.com/view/movie/757/Goldeneye/</td>\n",
       "      <td>710</td>\n",
       "      <td>tt0113189</td>\n",
       "      <td>en</td>\n",
       "      <td>GoldenEye</td>\n",
       "      <td>James Bond must unmask the mysterious head of ...</td>\n",
       "      <td>...</td>\n",
       "      <td>1995-11-16</td>\n",
       "      <td>352194034.0</td>\n",
       "      <td>130.0</td>\n",
       "      <td>[{'iso_639_1': 'en', 'name': 'English'}, {'iso...</td>\n",
       "      <td>Released</td>\n",
       "      <td>No limits. No fears. No substitutes.</td>\n",
       "      <td>GoldenEye</td>\n",
       "      <td>False</td>\n",
       "      <td>6.6</td>\n",
       "      <td>1194.0</td>\n",
       "    </tr>\n",
       "    <tr>\n",
       "      <td>10</td>\n",
       "      <td>False</td>\n",
       "      <td>NaN</td>\n",
       "      <td>62000000</td>\n",
       "      <td>[{'id': 35, 'name': 'Comedy'}, {'id': 18, 'nam...</td>\n",
       "      <td>NaN</td>\n",
       "      <td>9087</td>\n",
       "      <td>tt0112346</td>\n",
       "      <td>en</td>\n",
       "      <td>The American President</td>\n",
       "      <td>Widowed U.S. president Andrew Shepherd, one of...</td>\n",
       "      <td>...</td>\n",
       "      <td>1995-11-17</td>\n",
       "      <td>107879496.0</td>\n",
       "      <td>106.0</td>\n",
       "      <td>[{'iso_639_1': 'en', 'name': 'English'}]</td>\n",
       "      <td>Released</td>\n",
       "      <td>Why can't the most powerful man in the world h...</td>\n",
       "      <td>The American President</td>\n",
       "      <td>False</td>\n",
       "      <td>6.5</td>\n",
       "      <td>199.0</td>\n",
       "    </tr>\n",
       "    <tr>\n",
       "      <td>11</td>\n",
       "      <td>False</td>\n",
       "      <td>NaN</td>\n",
       "      <td>0</td>\n",
       "      <td>[{'id': 35, 'name': 'Comedy'}, {'id': 27, 'nam...</td>\n",
       "      <td>NaN</td>\n",
       "      <td>12110</td>\n",
       "      <td>tt0112896</td>\n",
       "      <td>en</td>\n",
       "      <td>Dracula: Dead and Loving It</td>\n",
       "      <td>When a lawyer shows up at the vampire's doorst...</td>\n",
       "      <td>...</td>\n",
       "      <td>1995-12-22</td>\n",
       "      <td>0.0</td>\n",
       "      <td>88.0</td>\n",
       "      <td>[{'iso_639_1': 'en', 'name': 'English'}, {'iso...</td>\n",
       "      <td>Released</td>\n",
       "      <td>NaN</td>\n",
       "      <td>Dracula: Dead and Loving It</td>\n",
       "      <td>False</td>\n",
       "      <td>5.7</td>\n",
       "      <td>210.0</td>\n",
       "    </tr>\n",
       "    <tr>\n",
       "      <td>12</td>\n",
       "      <td>False</td>\n",
       "      <td>{'id': 117693, 'name': 'Balto Collection', 'po...</td>\n",
       "      <td>0</td>\n",
       "      <td>[{'id': 10751, 'name': 'Family'}, {'id': 16, '...</td>\n",
       "      <td>NaN</td>\n",
       "      <td>21032</td>\n",
       "      <td>tt0112453</td>\n",
       "      <td>en</td>\n",
       "      <td>Balto</td>\n",
       "      <td>An outcast half-wolf risks his life to prevent...</td>\n",
       "      <td>...</td>\n",
       "      <td>1995-12-22</td>\n",
       "      <td>11348324.0</td>\n",
       "      <td>78.0</td>\n",
       "      <td>[{'iso_639_1': 'en', 'name': 'English'}]</td>\n",
       "      <td>Released</td>\n",
       "      <td>Part Dog. Part Wolf. All Hero.</td>\n",
       "      <td>Balto</td>\n",
       "      <td>False</td>\n",
       "      <td>7.1</td>\n",
       "      <td>423.0</td>\n",
       "    </tr>\n",
       "    <tr>\n",
       "      <td>13</td>\n",
       "      <td>False</td>\n",
       "      <td>NaN</td>\n",
       "      <td>44000000</td>\n",
       "      <td>[{'id': 36, 'name': 'History'}, {'id': 18, 'na...</td>\n",
       "      <td>NaN</td>\n",
       "      <td>10858</td>\n",
       "      <td>tt0113987</td>\n",
       "      <td>en</td>\n",
       "      <td>Nixon</td>\n",
       "      <td>An all-star cast powers this epic look at Amer...</td>\n",
       "      <td>...</td>\n",
       "      <td>1995-12-22</td>\n",
       "      <td>13681765.0</td>\n",
       "      <td>192.0</td>\n",
       "      <td>[{'iso_639_1': 'en', 'name': 'English'}]</td>\n",
       "      <td>Released</td>\n",
       "      <td>Triumphant in Victory, Bitter in Defeat. He Ch...</td>\n",
       "      <td>Nixon</td>\n",
       "      <td>False</td>\n",
       "      <td>7.1</td>\n",
       "      <td>72.0</td>\n",
       "    </tr>\n",
       "    <tr>\n",
       "      <td>14</td>\n",
       "      <td>False</td>\n",
       "      <td>NaN</td>\n",
       "      <td>98000000</td>\n",
       "      <td>[{'id': 28, 'name': 'Action'}, {'id': 12, 'nam...</td>\n",
       "      <td>NaN</td>\n",
       "      <td>1408</td>\n",
       "      <td>tt0112760</td>\n",
       "      <td>en</td>\n",
       "      <td>Cutthroat Island</td>\n",
       "      <td>Morgan Adams and her slave, William Shaw, are ...</td>\n",
       "      <td>...</td>\n",
       "      <td>1995-12-22</td>\n",
       "      <td>10017322.0</td>\n",
       "      <td>119.0</td>\n",
       "      <td>[{'iso_639_1': 'en', 'name': 'English'}, {'iso...</td>\n",
       "      <td>Released</td>\n",
       "      <td>The Course Has Been Set. There Is No Turning B...</td>\n",
       "      <td>Cutthroat Island</td>\n",
       "      <td>False</td>\n",
       "      <td>5.7</td>\n",
       "      <td>137.0</td>\n",
       "    </tr>\n",
       "    <tr>\n",
       "      <td>15</td>\n",
       "      <td>False</td>\n",
       "      <td>NaN</td>\n",
       "      <td>52000000</td>\n",
       "      <td>[{'id': 18, 'name': 'Drama'}, {'id': 80, 'name...</td>\n",
       "      <td>NaN</td>\n",
       "      <td>524</td>\n",
       "      <td>tt0112641</td>\n",
       "      <td>en</td>\n",
       "      <td>Casino</td>\n",
       "      <td>The life of the gambling paradise – Las Vegas ...</td>\n",
       "      <td>...</td>\n",
       "      <td>1995-11-22</td>\n",
       "      <td>116112375.0</td>\n",
       "      <td>178.0</td>\n",
       "      <td>[{'iso_639_1': 'en', 'name': 'English'}]</td>\n",
       "      <td>Released</td>\n",
       "      <td>No one stays at the top forever.</td>\n",
       "      <td>Casino</td>\n",
       "      <td>False</td>\n",
       "      <td>7.8</td>\n",
       "      <td>1343.0</td>\n",
       "    </tr>\n",
       "    <tr>\n",
       "      <td>16</td>\n",
       "      <td>False</td>\n",
       "      <td>NaN</td>\n",
       "      <td>16500000</td>\n",
       "      <td>[{'id': 18, 'name': 'Drama'}, {'id': 10749, 'n...</td>\n",
       "      <td>NaN</td>\n",
       "      <td>4584</td>\n",
       "      <td>tt0114388</td>\n",
       "      <td>en</td>\n",
       "      <td>Sense and Sensibility</td>\n",
       "      <td>Rich Mr. Dashwood dies, leaving his second wif...</td>\n",
       "      <td>...</td>\n",
       "      <td>1995-12-13</td>\n",
       "      <td>135000000.0</td>\n",
       "      <td>136.0</td>\n",
       "      <td>[{'iso_639_1': 'en', 'name': 'English'}]</td>\n",
       "      <td>Released</td>\n",
       "      <td>Lose your heart and come to your senses.</td>\n",
       "      <td>Sense and Sensibility</td>\n",
       "      <td>False</td>\n",
       "      <td>7.2</td>\n",
       "      <td>364.0</td>\n",
       "    </tr>\n",
       "    <tr>\n",
       "      <td>17</td>\n",
       "      <td>False</td>\n",
       "      <td>NaN</td>\n",
       "      <td>4000000</td>\n",
       "      <td>[{'id': 80, 'name': 'Crime'}, {'id': 35, 'name...</td>\n",
       "      <td>NaN</td>\n",
       "      <td>5</td>\n",
       "      <td>tt0113101</td>\n",
       "      <td>en</td>\n",
       "      <td>Four Rooms</td>\n",
       "      <td>It's Ted the Bellhop's first night on the job....</td>\n",
       "      <td>...</td>\n",
       "      <td>1995-12-09</td>\n",
       "      <td>4300000.0</td>\n",
       "      <td>98.0</td>\n",
       "      <td>[{'iso_639_1': 'en', 'name': 'English'}]</td>\n",
       "      <td>Released</td>\n",
       "      <td>Twelve outrageous guests. Four scandalous requ...</td>\n",
       "      <td>Four Rooms</td>\n",
       "      <td>False</td>\n",
       "      <td>6.5</td>\n",
       "      <td>539.0</td>\n",
       "    </tr>\n",
       "    <tr>\n",
       "      <td>18</td>\n",
       "      <td>False</td>\n",
       "      <td>{'id': 3167, 'name': 'Ace Ventura Collection',...</td>\n",
       "      <td>30000000</td>\n",
       "      <td>[{'id': 80, 'name': 'Crime'}, {'id': 35, 'name...</td>\n",
       "      <td>NaN</td>\n",
       "      <td>9273</td>\n",
       "      <td>tt0112281</td>\n",
       "      <td>en</td>\n",
       "      <td>Ace Ventura: When Nature Calls</td>\n",
       "      <td>Summoned from an ashram in Tibet, Ace finds hi...</td>\n",
       "      <td>...</td>\n",
       "      <td>1995-11-10</td>\n",
       "      <td>212385533.0</td>\n",
       "      <td>90.0</td>\n",
       "      <td>[{'iso_639_1': 'en', 'name': 'English'}]</td>\n",
       "      <td>Released</td>\n",
       "      <td>New animals. New adventures. Same hair.</td>\n",
       "      <td>Ace Ventura: When Nature Calls</td>\n",
       "      <td>False</td>\n",
       "      <td>6.1</td>\n",
       "      <td>1128.0</td>\n",
       "    </tr>\n",
       "    <tr>\n",
       "      <td>19</td>\n",
       "      <td>False</td>\n",
       "      <td>NaN</td>\n",
       "      <td>60000000</td>\n",
       "      <td>[{'id': 28, 'name': 'Action'}, {'id': 35, 'nam...</td>\n",
       "      <td>NaN</td>\n",
       "      <td>11517</td>\n",
       "      <td>tt0113845</td>\n",
       "      <td>en</td>\n",
       "      <td>Money Train</td>\n",
       "      <td>A vengeful New York transit cop decides to ste...</td>\n",
       "      <td>...</td>\n",
       "      <td>1995-11-21</td>\n",
       "      <td>35431113.0</td>\n",
       "      <td>103.0</td>\n",
       "      <td>[{'iso_639_1': 'en', 'name': 'English'}]</td>\n",
       "      <td>Released</td>\n",
       "      <td>Get on, or GET OUT THE WAY!</td>\n",
       "      <td>Money Train</td>\n",
       "      <td>False</td>\n",
       "      <td>5.4</td>\n",
       "      <td>224.0</td>\n",
       "    </tr>\n",
       "  </tbody>\n",
       "</table>\n",
       "<p>20 rows × 24 columns</p>\n",
       "</div>"
      ],
      "text/plain": [
       "    adult                              belongs_to_collection    budget  \\\n",
       "0   False  {'id': 10194, 'name': 'Toy Story Collection', ...  30000000   \n",
       "1   False                                                NaN  65000000   \n",
       "2   False  {'id': 119050, 'name': 'Grumpy Old Men Collect...         0   \n",
       "3   False                                                NaN  16000000   \n",
       "4   False  {'id': 96871, 'name': 'Father of the Bride Col...         0   \n",
       "5   False                                                NaN  60000000   \n",
       "6   False                                                NaN  58000000   \n",
       "7   False                                                NaN         0   \n",
       "8   False                                                NaN  35000000   \n",
       "9   False  {'id': 645, 'name': 'James Bond Collection', '...  58000000   \n",
       "10  False                                                NaN  62000000   \n",
       "11  False                                                NaN         0   \n",
       "12  False  {'id': 117693, 'name': 'Balto Collection', 'po...         0   \n",
       "13  False                                                NaN  44000000   \n",
       "14  False                                                NaN  98000000   \n",
       "15  False                                                NaN  52000000   \n",
       "16  False                                                NaN  16500000   \n",
       "17  False                                                NaN   4000000   \n",
       "18  False  {'id': 3167, 'name': 'Ace Ventura Collection',...  30000000   \n",
       "19  False                                                NaN  60000000   \n",
       "\n",
       "                                               genres  \\\n",
       "0   [{'id': 16, 'name': 'Animation'}, {'id': 35, '...   \n",
       "1   [{'id': 12, 'name': 'Adventure'}, {'id': 14, '...   \n",
       "2   [{'id': 10749, 'name': 'Romance'}, {'id': 35, ...   \n",
       "3   [{'id': 35, 'name': 'Comedy'}, {'id': 18, 'nam...   \n",
       "4                      [{'id': 35, 'name': 'Comedy'}]   \n",
       "5   [{'id': 28, 'name': 'Action'}, {'id': 80, 'nam...   \n",
       "6   [{'id': 35, 'name': 'Comedy'}, {'id': 10749, '...   \n",
       "7   [{'id': 28, 'name': 'Action'}, {'id': 12, 'nam...   \n",
       "8   [{'id': 28, 'name': 'Action'}, {'id': 12, 'nam...   \n",
       "9   [{'id': 12, 'name': 'Adventure'}, {'id': 28, '...   \n",
       "10  [{'id': 35, 'name': 'Comedy'}, {'id': 18, 'nam...   \n",
       "11  [{'id': 35, 'name': 'Comedy'}, {'id': 27, 'nam...   \n",
       "12  [{'id': 10751, 'name': 'Family'}, {'id': 16, '...   \n",
       "13  [{'id': 36, 'name': 'History'}, {'id': 18, 'na...   \n",
       "14  [{'id': 28, 'name': 'Action'}, {'id': 12, 'nam...   \n",
       "15  [{'id': 18, 'name': 'Drama'}, {'id': 80, 'name...   \n",
       "16  [{'id': 18, 'name': 'Drama'}, {'id': 10749, 'n...   \n",
       "17  [{'id': 80, 'name': 'Crime'}, {'id': 35, 'name...   \n",
       "18  [{'id': 80, 'name': 'Crime'}, {'id': 35, 'name...   \n",
       "19  [{'id': 28, 'name': 'Action'}, {'id': 35, 'nam...   \n",
       "\n",
       "                                        homepage     id    imdb_id  \\\n",
       "0           http://toystory.disney.com/toy-story    862  tt0114709   \n",
       "1                                            NaN   8844  tt0113497   \n",
       "2                                            NaN  15602  tt0113228   \n",
       "3                                            NaN  31357  tt0114885   \n",
       "4                                            NaN  11862  tt0113041   \n",
       "5                                            NaN    949  tt0113277   \n",
       "6                                            NaN  11860  tt0114319   \n",
       "7                                            NaN  45325  tt0112302   \n",
       "8                                            NaN   9091  tt0114576   \n",
       "9   http://www.mgm.com/view/movie/757/Goldeneye/    710  tt0113189   \n",
       "10                                           NaN   9087  tt0112346   \n",
       "11                                           NaN  12110  tt0112896   \n",
       "12                                           NaN  21032  tt0112453   \n",
       "13                                           NaN  10858  tt0113987   \n",
       "14                                           NaN   1408  tt0112760   \n",
       "15                                           NaN    524  tt0112641   \n",
       "16                                           NaN   4584  tt0114388   \n",
       "17                                           NaN      5  tt0113101   \n",
       "18                                           NaN   9273  tt0112281   \n",
       "19                                           NaN  11517  tt0113845   \n",
       "\n",
       "   original_language                  original_title  \\\n",
       "0                 en                       Toy Story   \n",
       "1                 en                         Jumanji   \n",
       "2                 en                Grumpier Old Men   \n",
       "3                 en               Waiting to Exhale   \n",
       "4                 en     Father of the Bride Part II   \n",
       "5                 en                            Heat   \n",
       "6                 en                         Sabrina   \n",
       "7                 en                    Tom and Huck   \n",
       "8                 en                    Sudden Death   \n",
       "9                 en                       GoldenEye   \n",
       "10                en          The American President   \n",
       "11                en     Dracula: Dead and Loving It   \n",
       "12                en                           Balto   \n",
       "13                en                           Nixon   \n",
       "14                en                Cutthroat Island   \n",
       "15                en                          Casino   \n",
       "16                en           Sense and Sensibility   \n",
       "17                en                      Four Rooms   \n",
       "18                en  Ace Ventura: When Nature Calls   \n",
       "19                en                     Money Train   \n",
       "\n",
       "                                             overview  ... release_date  \\\n",
       "0   Led by Woody, Andy's toys live happily in his ...  ...   1995-10-30   \n",
       "1   When siblings Judy and Peter discover an encha...  ...   1995-12-15   \n",
       "2   A family wedding reignites the ancient feud be...  ...   1995-12-22   \n",
       "3   Cheated on, mistreated and stepped on, the wom...  ...   1995-12-22   \n",
       "4   Just when George Banks has recovered from his ...  ...   1995-02-10   \n",
       "5   Obsessive master thief, Neil McCauley leads a ...  ...   1995-12-15   \n",
       "6   An ugly duckling having undergone a remarkable...  ...   1995-12-15   \n",
       "7   A mischievous young boy, Tom Sawyer, witnesses...  ...   1995-12-22   \n",
       "8   International action superstar Jean Claude Van...  ...   1995-12-22   \n",
       "9   James Bond must unmask the mysterious head of ...  ...   1995-11-16   \n",
       "10  Widowed U.S. president Andrew Shepherd, one of...  ...   1995-11-17   \n",
       "11  When a lawyer shows up at the vampire's doorst...  ...   1995-12-22   \n",
       "12  An outcast half-wolf risks his life to prevent...  ...   1995-12-22   \n",
       "13  An all-star cast powers this epic look at Amer...  ...   1995-12-22   \n",
       "14  Morgan Adams and her slave, William Shaw, are ...  ...   1995-12-22   \n",
       "15  The life of the gambling paradise – Las Vegas ...  ...   1995-11-22   \n",
       "16  Rich Mr. Dashwood dies, leaving his second wif...  ...   1995-12-13   \n",
       "17  It's Ted the Bellhop's first night on the job....  ...   1995-12-09   \n",
       "18  Summoned from an ashram in Tibet, Ace finds hi...  ...   1995-11-10   \n",
       "19  A vengeful New York transit cop decides to ste...  ...   1995-11-21   \n",
       "\n",
       "        revenue runtime                                   spoken_languages  \\\n",
       "0   373554033.0    81.0           [{'iso_639_1': 'en', 'name': 'English'}]   \n",
       "1   262797249.0   104.0  [{'iso_639_1': 'en', 'name': 'English'}, {'iso...   \n",
       "2           0.0   101.0           [{'iso_639_1': 'en', 'name': 'English'}]   \n",
       "3    81452156.0   127.0           [{'iso_639_1': 'en', 'name': 'English'}]   \n",
       "4    76578911.0   106.0           [{'iso_639_1': 'en', 'name': 'English'}]   \n",
       "5   187436818.0   170.0  [{'iso_639_1': 'en', 'name': 'English'}, {'iso...   \n",
       "6           0.0   127.0  [{'iso_639_1': 'fr', 'name': 'Français'}, {'is...   \n",
       "7           0.0    97.0  [{'iso_639_1': 'en', 'name': 'English'}, {'iso...   \n",
       "8    64350171.0   106.0           [{'iso_639_1': 'en', 'name': 'English'}]   \n",
       "9   352194034.0   130.0  [{'iso_639_1': 'en', 'name': 'English'}, {'iso...   \n",
       "10  107879496.0   106.0           [{'iso_639_1': 'en', 'name': 'English'}]   \n",
       "11          0.0    88.0  [{'iso_639_1': 'en', 'name': 'English'}, {'iso...   \n",
       "12   11348324.0    78.0           [{'iso_639_1': 'en', 'name': 'English'}]   \n",
       "13   13681765.0   192.0           [{'iso_639_1': 'en', 'name': 'English'}]   \n",
       "14   10017322.0   119.0  [{'iso_639_1': 'en', 'name': 'English'}, {'iso...   \n",
       "15  116112375.0   178.0           [{'iso_639_1': 'en', 'name': 'English'}]   \n",
       "16  135000000.0   136.0           [{'iso_639_1': 'en', 'name': 'English'}]   \n",
       "17    4300000.0    98.0           [{'iso_639_1': 'en', 'name': 'English'}]   \n",
       "18  212385533.0    90.0           [{'iso_639_1': 'en', 'name': 'English'}]   \n",
       "19   35431113.0   103.0           [{'iso_639_1': 'en', 'name': 'English'}]   \n",
       "\n",
       "      status                                            tagline  \\\n",
       "0   Released                                                NaN   \n",
       "1   Released          Roll the dice and unleash the excitement!   \n",
       "2   Released  Still Yelling. Still Fighting. Still Ready for...   \n",
       "3   Released  Friends are the people who let you be yourself...   \n",
       "4   Released  Just When His World Is Back To Normal... He's ...   \n",
       "5   Released                           A Los Angeles Crime Saga   \n",
       "6   Released  You are cordially invited to the most surprisi...   \n",
       "7   Released                             The Original Bad Boys.   \n",
       "8   Released                         Terror goes into overtime.   \n",
       "9   Released               No limits. No fears. No substitutes.   \n",
       "10  Released  Why can't the most powerful man in the world h...   \n",
       "11  Released                                                NaN   \n",
       "12  Released                     Part Dog. Part Wolf. All Hero.   \n",
       "13  Released  Triumphant in Victory, Bitter in Defeat. He Ch...   \n",
       "14  Released  The Course Has Been Set. There Is No Turning B...   \n",
       "15  Released                   No one stays at the top forever.   \n",
       "16  Released           Lose your heart and come to your senses.   \n",
       "17  Released  Twelve outrageous guests. Four scandalous requ...   \n",
       "18  Released            New animals. New adventures. Same hair.   \n",
       "19  Released                        Get on, or GET OUT THE WAY!   \n",
       "\n",
       "                             title  video vote_average vote_count  \n",
       "0                        Toy Story  False          7.7     5415.0  \n",
       "1                          Jumanji  False          6.9     2413.0  \n",
       "2                 Grumpier Old Men  False          6.5       92.0  \n",
       "3                Waiting to Exhale  False          6.1       34.0  \n",
       "4      Father of the Bride Part II  False          5.7      173.0  \n",
       "5                             Heat  False          7.7     1886.0  \n",
       "6                          Sabrina  False          6.2      141.0  \n",
       "7                     Tom and Huck  False          5.4       45.0  \n",
       "8                     Sudden Death  False          5.5      174.0  \n",
       "9                        GoldenEye  False          6.6     1194.0  \n",
       "10          The American President  False          6.5      199.0  \n",
       "11     Dracula: Dead and Loving It  False          5.7      210.0  \n",
       "12                           Balto  False          7.1      423.0  \n",
       "13                           Nixon  False          7.1       72.0  \n",
       "14                Cutthroat Island  False          5.7      137.0  \n",
       "15                          Casino  False          7.8     1343.0  \n",
       "16           Sense and Sensibility  False          7.2      364.0  \n",
       "17                      Four Rooms  False          6.5      539.0  \n",
       "18  Ace Ventura: When Nature Calls  False          6.1     1128.0  \n",
       "19                     Money Train  False          5.4      224.0  \n",
       "\n",
       "[20 rows x 24 columns]"
      ]
     },
     "execution_count": 26,
     "metadata": {},
     "output_type": "execute_result"
    }
   ],
   "source": [
    "smd[:20]"
   ]
  },
  {
   "cell_type": "code",
   "execution_count": 27,
   "metadata": {},
   "outputs": [
    {
     "name": "stderr",
     "output_type": "stream",
     "text": [
      "/home/minhdeptrai/.local/lib/python3.6/site-packages/ipykernel_launcher.py:1: SettingWithCopyWarning: \n",
      "A value is trying to be set on a copy of a slice from a DataFrame.\n",
      "Try using .loc[row_indexer,col_indexer] = value instead\n",
      "\n",
      "See the caveats in the documentation: http://pandas.pydata.org/pandas-docs/stable/user_guide/indexing.html#returning-a-view-versus-a-copy\n",
      "  \"\"\"Entry point for launching an IPython kernel.\n"
     ]
    }
   ],
   "source": [
    "smd['tagline'] = smd['tagline'].fillna('')"
   ]
  },
  {
   "cell_type": "code",
   "execution_count": 28,
   "metadata": {},
   "outputs": [
    {
     "data": {
      "text/plain": [
       "0                                                      \n",
       "1             Roll the dice and unleash the excitement!\n",
       "2     Still Yelling. Still Fighting. Still Ready for...\n",
       "3     Friends are the people who let you be yourself...\n",
       "4     Just When His World Is Back To Normal... He's ...\n",
       "5                              A Los Angeles Crime Saga\n",
       "6     You are cordially invited to the most surprisi...\n",
       "7                                The Original Bad Boys.\n",
       "8                            Terror goes into overtime.\n",
       "9                  No limits. No fears. No substitutes.\n",
       "10    Why can't the most powerful man in the world h...\n",
       "11                                                     \n",
       "12                       Part Dog. Part Wolf. All Hero.\n",
       "13    Triumphant in Victory, Bitter in Defeat. He Ch...\n",
       "14    The Course Has Been Set. There Is No Turning B...\n",
       "15                     No one stays at the top forever.\n",
       "16             Lose your heart and come to your senses.\n",
       "17    Twelve outrageous guests. Four scandalous requ...\n",
       "18              New animals. New adventures. Same hair.\n",
       "19                          Get on, or GET OUT THE WAY!\n",
       "Name: tagline, dtype: object"
      ]
     },
     "execution_count": 28,
     "metadata": {},
     "output_type": "execute_result"
    }
   ],
   "source": [
    "smd['tagline'][:20]"
   ]
  },
  {
   "cell_type": "code",
   "execution_count": 29,
   "metadata": {},
   "outputs": [
    {
     "name": "stderr",
     "output_type": "stream",
     "text": [
      "/home/minhdeptrai/.local/lib/python3.6/site-packages/ipykernel_launcher.py:1: SettingWithCopyWarning: \n",
      "A value is trying to be set on a copy of a slice from a DataFrame.\n",
      "Try using .loc[row_indexer,col_indexer] = value instead\n",
      "\n",
      "See the caveats in the documentation: http://pandas.pydata.org/pandas-docs/stable/user_guide/indexing.html#returning-a-view-versus-a-copy\n",
      "  \"\"\"Entry point for launching an IPython kernel.\n"
     ]
    }
   ],
   "source": [
    "smd['overview'] =smd['overview'].fillna('')"
   ]
  },
  {
   "cell_type": "code",
   "execution_count": 30,
   "metadata": {},
   "outputs": [
    {
     "name": "stderr",
     "output_type": "stream",
     "text": [
      "/home/minhdeptrai/.local/lib/python3.6/site-packages/ipykernel_launcher.py:1: SettingWithCopyWarning: \n",
      "A value is trying to be set on a copy of a slice from a DataFrame.\n",
      "Try using .loc[row_indexer,col_indexer] = value instead\n",
      "\n",
      "See the caveats in the documentation: http://pandas.pydata.org/pandas-docs/stable/user_guide/indexing.html#returning-a-view-versus-a-copy\n",
      "  \"\"\"Entry point for launching an IPython kernel.\n"
     ]
    }
   ],
   "source": [
    "smd['description'] = smd['overview'] + smd['tagline']"
   ]
  },
  {
   "cell_type": "code",
   "execution_count": 31,
   "metadata": {},
   "outputs": [
    {
     "data": {
      "text/plain": [
       "0                          Toy Story\n",
       "1                            Jumanji\n",
       "2                   Grumpier Old Men\n",
       "3                  Waiting to Exhale\n",
       "4        Father of the Bride Part II\n",
       "5                               Heat\n",
       "6                            Sabrina\n",
       "7                       Tom and Huck\n",
       "8                       Sudden Death\n",
       "9                          GoldenEye\n",
       "10            The American President\n",
       "11       Dracula: Dead and Loving It\n",
       "12                             Balto\n",
       "13                             Nixon\n",
       "14                  Cutthroat Island\n",
       "15                            Casino\n",
       "16             Sense and Sensibility\n",
       "17                        Four Rooms\n",
       "18    Ace Ventura: When Nature Calls\n",
       "19                       Money Train\n",
       "Name: title, dtype: object"
      ]
     },
     "execution_count": 31,
     "metadata": {},
     "output_type": "execute_result"
    }
   ],
   "source": [
    "smd['title'][:20]"
   ]
  },
  {
   "cell_type": "markdown",
   "metadata": {},
   "source": [
    "### Word tokenize data "
   ]
  },
  {
   "cell_type": "code",
   "execution_count": 32,
   "metadata": {},
   "outputs": [],
   "source": [
    "processed_text = []\n",
    "processed_title = []\n",
    "\n",
    "for index, row in smd.iterrows():\n",
    "    description = row['description']\n",
    "    title = row['title']   \n",
    "    processed_text.append(word_tokenize(str(preprocess(description))))\n",
    "    processed_title.append(word_tokenize(str(preprocess(title))))"
   ]
  },
  {
   "cell_type": "code",
   "execution_count": 33,
   "metadata": {},
   "outputs": [
    {
     "data": {
      "text/plain": [
       "[['lead',\n",
       "  'woodi',\n",
       "  'andi',\n",
       "  'toy',\n",
       "  'live',\n",
       "  'happili',\n",
       "  'room',\n",
       "  'andi',\n",
       "  'birthday',\n",
       "  'bring',\n",
       "  'buzz',\n",
       "  'lightyear',\n",
       "  'onto',\n",
       "  'scene',\n",
       "  'afraid',\n",
       "  'lose',\n",
       "  'place',\n",
       "  'andi',\n",
       "  'heart',\n",
       "  'woodi',\n",
       "  'plot',\n",
       "  'buzz',\n",
       "  'circumst',\n",
       "  'separ',\n",
       "  'buzz',\n",
       "  'woodi',\n",
       "  'owner',\n",
       "  'duo',\n",
       "  'eventu',\n",
       "  'learn',\n",
       "  'put',\n",
       "  'asid',\n",
       "  'differ']]"
      ]
     },
     "execution_count": 33,
     "metadata": {},
     "output_type": "execute_result"
    }
   ],
   "source": [
    "processed_text[:1]"
   ]
  },
  {
   "cell_type": "code",
   "execution_count": 34,
   "metadata": {},
   "outputs": [
    {
     "data": {
      "text/plain": [
       "[['toy', 'stori'],\n",
       " ['jumanji'],\n",
       " ['grumpier', 'old', 'men'],\n",
       " ['wait', 'exhal'],\n",
       " ['father', 'bride', 'part', 'ii'],\n",
       " ['heat'],\n",
       " ['sabrina'],\n",
       " ['tom', 'huck'],\n",
       " ['sudden', 'death'],\n",
       " ['goldeney']]"
      ]
     },
     "execution_count": 34,
     "metadata": {},
     "output_type": "execute_result"
    }
   ],
   "source": [
    "processed_title[:10]"
   ]
  },
  {
   "cell_type": "markdown",
   "metadata": {},
   "source": [
    "## Create Corpus Bag "
   ]
  },
  {
   "cell_type": "code",
   "execution_count": 35,
   "metadata": {},
   "outputs": [],
   "source": [
    "# Mục đích là để tạo ra một bộ từ điển liệt kê tất cả các các từ và danh sách các bộ phim có sự xuất hiện của nó \n",
    "\n",
    "\n",
    "DF = {}\n",
    "\n",
    "for i in range(N):\n",
    "    tokens = processed_text[i]\n",
    "    for w in tokens:\n",
    "        try:\n",
    "            DF[w].add(i)\n",
    "        except:\n",
    "            DF[w] = {i} #Trừ khi trong DF[w] có tồn tại i\n",
    "    \n",
    "    tokens = processed_title[i]\n",
    "    for w in tokens:\n",
    "        try:\n",
    "            DF[w].add(i)\n",
    "        except:\n",
    "            DF[w] = {i}\n"
   ]
  },
  {
   "cell_type": "code",
   "execution_count": 36,
   "metadata": {},
   "outputs": [],
   "source": [
    "# tính tần xuất xuất hiện của từ đó trên toàn bộ danh sách bộ phim \n",
    "for i in DF:\n",
    "    DF[i] = len(DF[i])"
   ]
  },
  {
   "cell_type": "code",
   "execution_count": 37,
   "metadata": {},
   "outputs": [
    {
     "data": {
      "text/plain": [
       "22406"
      ]
     },
     "execution_count": 37,
     "metadata": {},
     "output_type": "execute_result"
    }
   ],
   "source": [
    "total_vocab_size = len(DF)\n",
    "total_vocab_size"
   ]
  },
  {
   "cell_type": "code",
   "execution_count": 38,
   "metadata": {},
   "outputs": [
    {
     "data": {
      "text/plain": [
       "['lead',\n",
       " 'woodi',\n",
       " 'andi',\n",
       " 'toy',\n",
       " 'live',\n",
       " 'happili',\n",
       " 'room',\n",
       " 'birthday',\n",
       " 'bring',\n",
       " 'buzz']"
      ]
     },
     "execution_count": 38,
     "metadata": {},
     "output_type": "execute_result"
    }
   ],
   "source": [
    "total_vocab = [x for x in DF]\n",
    "total_vocab[:10]"
   ]
  },
  {
   "cell_type": "code",
   "execution_count": 39,
   "metadata": {},
   "outputs": [],
   "source": [
    "def doc_freq(word):\n",
    "    c = 0\n",
    "    try:\n",
    "        c = DF[word]\n",
    "    except:\n",
    "        pass\n",
    "    return c"
   ]
  },
  {
   "cell_type": "markdown",
   "metadata": {},
   "source": [
    "## Calcualte DF-IDF"
   ]
  },
  {
   "cell_type": "markdown",
   "metadata": {},
   "source": [
    "### Calcalate DF-IDF from description"
   ]
  },
  {
   "cell_type": "code",
   "execution_count": 40,
   "metadata": {},
   "outputs": [],
   "source": [
    "doc  = 0\n",
    "tf_idf = {}\n",
    "\n",
    "for i in range(N):\n",
    "    \n",
    "    tokens = processed_text[i]\n",
    "    \n",
    "    # counting frequence the number of word in a document\n",
    "    counter = Counter(tokens + processed_title[i])\n",
    "    words_count = len(tokens + processed_title[i])\n",
    "    \n",
    "    for token in np.unique(tokens):\n",
    "        tf = counter[token]/words_count\n",
    "        df = doc_freq(token)\n",
    "        idf = np.log((N)/(df + 1))\n",
    "        \n",
    "        tf_idf[doc, token] = tf*idf\n",
    "    \n",
    "    doc += 1  "
   ]
  },
  {
   "cell_type": "markdown",
   "metadata": {},
   "source": [
    "### Calcalate DF-IDF from title"
   ]
  },
  {
   "cell_type": "code",
   "execution_count": 41,
   "metadata": {},
   "outputs": [],
   "source": [
    "tf_idf_title = {}\n",
    "doc = 0\n",
    "\n",
    "for i in range(N):\n",
    "    \n",
    "    tokens = processed_title[i]\n",
    "    counter = Counter(tokens + processed_text[i])\n",
    "    words_count = len (tokens + processed_text[i])\n",
    "    \n",
    "    for token in np.unique(tokens):\n",
    "        tf = counter[token]/words_count\n",
    "        df = doc_freq(token)\n",
    "        idf = np.log(N/(df + 1))\n",
    "        \n",
    "        tf_idf_title[doc, token] = tf*idf\n",
    "    doc += 1 "
   ]
  },
  {
   "cell_type": "code",
   "execution_count": 42,
   "metadata": {},
   "outputs": [
    {
     "data": {
      "text/plain": [
       "0.3325761674487064"
      ]
     },
     "execution_count": 42,
     "metadata": {},
     "output_type": "execute_result"
    }
   ],
   "source": [
    "tf_idf_title[(0,\"toy\")]"
   ]
  },
  {
   "cell_type": "code",
   "execution_count": 43,
   "metadata": {},
   "outputs": [
    {
     "data": {
      "text/plain": [
       "0.3325761674487064"
      ]
     },
     "execution_count": 43,
     "metadata": {},
     "output_type": "execute_result"
    }
   ],
   "source": [
    "tf_idf[(0,\"toy\")]"
   ]
  },
  {
   "cell_type": "markdown",
   "metadata": {},
   "source": [
    "### Merging the TF-IDF according to weights"
   ]
  },
  {
   "cell_type": "code",
   "execution_count": 44,
   "metadata": {},
   "outputs": [],
   "source": [
    "#TF-IDF(document) = TF-IDF(body) * alpha + TF-IDF(title) * (1-alpha)"
   ]
  },
  {
   "cell_type": "code",
   "execution_count": 45,
   "metadata": {},
   "outputs": [],
   "source": [
    "tf_idf_text = tf_idf \n",
    "\n",
    "for i in tf_idf:\n",
    "    tf_idf[i] *= alpha\n",
    "\n",
    "for i in tf_idf_title:\n",
    "    tf_idf_title[i] *= (1 - alpha)"
   ]
  },
  {
   "cell_type": "code",
   "execution_count": 46,
   "metadata": {},
   "outputs": [],
   "source": [
    "# shitty code\n",
    "# thực ra nó lặp trên tf_idf nếu thằng nào mà có mặt trên cả title và body thì if_idf của nó tính bằng body và\n",
    "# title đều như nhau.\n",
    "# nếu 1 thằng word nào đó mà không có mặt trên tf_idf_title thì tf_idf_title[i] không tồn tại => safe, nó sẽ có \n",
    "# giá trị bằng tf_idf trên body nhân với alpha"
   ]
  },
  {
   "cell_type": "code",
   "execution_count": 47,
   "metadata": {},
   "outputs": [
    {
     "data": {
      "text/plain": [
       "0.33257616744870633"
      ]
     },
     "execution_count": 47,
     "metadata": {},
     "output_type": "execute_result"
    }
   ],
   "source": [
    "for i in tf_idf_title:\n",
    "    if i in tf_idf: tf_idf[i] = tf_idf[i] + tf_idf_title[i]\n",
    "    else : tf_idf[i] = tf_idf_title[i]\n",
    "\n",
    "tf_idf[(0,\"toy\")]"
   ]
  },
  {
   "cell_type": "markdown",
   "metadata": {},
   "source": [
    "### Mathching score method "
   ]
  },
  {
   "cell_type": "code",
   "execution_count": 48,
   "metadata": {},
   "outputs": [],
   "source": [
    "# ý tưởng của mathching score là tìm tất cả các ký tự giống nhau giữa từng đoạn văn bản và query rồi tính tổng\n",
    "# giá trị của các ký tự đó (đối với mỗi đoạn văn bản một) rồi lập list xếp theo giá trị query_weights\n",
    "\n",
    "def matching_score(query):\n",
    "    preprocessed_query = preprocess(query)\n",
    "    tokens = word_tokenize(str(preprocessed_query))\n",
    "    \n",
    "    print(\"Matching score\")\n",
    "    print(\"\\n Query:\", query)\n",
    "    print(\"\")\n",
    "    print(tokens)\n",
    "    \n",
    "    query_weights = {}\n",
    "    \n",
    "    for key in tf_idf:\n",
    "        if key[1] in tokens:\n",
    "            try: \n",
    "                query_weights[key[0]] += tf_idf[key]\n",
    "            except:\n",
    "                query_weights[key[0]] = tf_idf[key]\n",
    "    \n",
    "    query_weights = sorted(query_weights.items(), key=lambda x: x[1], reverse =True)\n",
    "    \n",
    "    \n",
    "    print(\"\")\n",
    "    \n",
    "    l = []\n",
    "    \n",
    "    for i in query_weights[:10]:\n",
    "         print(smd.iloc[i[0]]['title']) "
   ]
  },
  {
   "cell_type": "code",
   "execution_count": 49,
   "metadata": {},
   "outputs": [
    {
     "name": "stdout",
     "output_type": "stream",
     "text": [
      "Matching score\n",
      "\n",
      " Query: The Dark Knight\n",
      "\n",
      "['dark', 'knight']\n",
      "\n",
      "Last Knights\n",
      "Dark Water\n",
      "The Seeker: The Dark Is Rising\n",
      "The Dark Knight Rises\n",
      "The Hollywood Knights\n",
      "A Knight's Tale\n",
      "Tales from the Crypt: Demon Knight\n",
      "Thor: The Dark World\n",
      "A Shot in the Dark\n",
      "Dark Habits\n"
     ]
    }
   ],
   "source": [
    "matching_score(\"The Dark Knight\")"
   ]
  },
  {
   "cell_type": "code",
   "execution_count": 50,
   "metadata": {},
   "outputs": [
    {
     "data": {
      "text/html": [
       "<div>\n",
       "<style scoped>\n",
       "    .dataframe tbody tr th:only-of-type {\n",
       "        vertical-align: middle;\n",
       "    }\n",
       "\n",
       "    .dataframe tbody tr th {\n",
       "        vertical-align: top;\n",
       "    }\n",
       "\n",
       "    .dataframe thead th {\n",
       "        text-align: right;\n",
       "    }\n",
       "</style>\n",
       "<table border=\"1\" class=\"dataframe\">\n",
       "  <thead>\n",
       "    <tr style=\"text-align: right;\">\n",
       "      <th></th>\n",
       "      <th>adult</th>\n",
       "      <th>belongs_to_collection</th>\n",
       "      <th>budget</th>\n",
       "      <th>genres</th>\n",
       "      <th>homepage</th>\n",
       "      <th>id</th>\n",
       "      <th>imdb_id</th>\n",
       "      <th>original_language</th>\n",
       "      <th>original_title</th>\n",
       "      <th>overview</th>\n",
       "      <th>...</th>\n",
       "      <th>revenue</th>\n",
       "      <th>runtime</th>\n",
       "      <th>spoken_languages</th>\n",
       "      <th>status</th>\n",
       "      <th>tagline</th>\n",
       "      <th>title</th>\n",
       "      <th>video</th>\n",
       "      <th>vote_average</th>\n",
       "      <th>vote_count</th>\n",
       "      <th>description</th>\n",
       "    </tr>\n",
       "  </thead>\n",
       "  <tbody>\n",
       "    <tr>\n",
       "      <td>12481</td>\n",
       "      <td>False</td>\n",
       "      <td>{'id': 263, 'name': 'The Dark Knight Collectio...</td>\n",
       "      <td>185000000</td>\n",
       "      <td>[{'id': 18, 'name': 'Drama'}, {'id': 28, 'name...</td>\n",
       "      <td>http://thedarkknight.warnerbros.com/dvdsite/</td>\n",
       "      <td>155</td>\n",
       "      <td>tt0468569</td>\n",
       "      <td>en</td>\n",
       "      <td>The Dark Knight</td>\n",
       "      <td>Batman raises the stakes in his war on crime. ...</td>\n",
       "      <td>...</td>\n",
       "      <td>1.004558e+09</td>\n",
       "      <td>152.0</td>\n",
       "      <td>[{'iso_639_1': 'en', 'name': 'English'}, {'iso...</td>\n",
       "      <td>Released</td>\n",
       "      <td>Why So Serious?</td>\n",
       "      <td>The Dark Knight</td>\n",
       "      <td>False</td>\n",
       "      <td>8.3</td>\n",
       "      <td>12269.0</td>\n",
       "      <td>Batman raises the stakes in his war on crime. ...</td>\n",
       "    </tr>\n",
       "  </tbody>\n",
       "</table>\n",
       "<p>1 rows × 25 columns</p>\n",
       "</div>"
      ],
      "text/plain": [
       "       adult                              belongs_to_collection     budget  \\\n",
       "12481  False  {'id': 263, 'name': 'The Dark Knight Collectio...  185000000   \n",
       "\n",
       "                                                  genres  \\\n",
       "12481  [{'id': 18, 'name': 'Drama'}, {'id': 28, 'name...   \n",
       "\n",
       "                                           homepage   id    imdb_id  \\\n",
       "12481  http://thedarkknight.warnerbros.com/dvdsite/  155  tt0468569   \n",
       "\n",
       "      original_language   original_title  \\\n",
       "12481                en  The Dark Knight   \n",
       "\n",
       "                                                overview  ...       revenue  \\\n",
       "12481  Batman raises the stakes in his war on crime. ...  ...  1.004558e+09   \n",
       "\n",
       "      runtime                                   spoken_languages    status  \\\n",
       "12481   152.0  [{'iso_639_1': 'en', 'name': 'English'}, {'iso...  Released   \n",
       "\n",
       "               tagline            title  video vote_average vote_count  \\\n",
       "12481  Why So Serious?  The Dark Knight  False          8.3    12269.0   \n",
       "\n",
       "                                             description  \n",
       "12481  Batman raises the stakes in his war on crime. ...  \n",
       "\n",
       "[1 rows x 25 columns]"
      ]
     },
     "execution_count": 50,
     "metadata": {},
     "output_type": "execute_result"
    }
   ],
   "source": [
    "smd[smd['title'] == \"The Dark Knight\"]"
   ]
  },
  {
   "cell_type": "markdown",
   "metadata": {},
   "source": [
    "### TF Cosine Similarity Ranking"
   ]
  },
  {
   "cell_type": "code",
   "execution_count": 51,
   "metadata": {},
   "outputs": [],
   "source": [
    "# hàm tính đố tương đồng giữa 2 vector \n",
    "def cosine_sim(a,b):\n",
    "    cos_sim = np.dot(a,b)/(np.linalg.norm(a)*np.linalg.norm(b))\n",
    "    return cos_sim"
   ]
  },
  {
   "cell_type": "markdown",
   "metadata": {},
   "source": [
    "#### Vectorizing tf-idf"
   ]
  },
  {
   "cell_type": "code",
   "execution_count": 52,
   "metadata": {},
   "outputs": [],
   "source": [
    "# lập danh sách các vector \n",
    "# ma trận D ban đầu có giá trị toàn bằng 0, sau đó chúng ta sẽ duyệt tf_idf và trám các giá trị có tồn tại vào D\n",
    "D = np.zeros((N, total_vocab_size))\n",
    "for i in tf_idf:\n",
    "    try:\n",
    "        ind = total_vocab.index(i[1]) # vị trí của từ trong vocabolary \n",
    "        D[i[0]][ind] = tf_idf[i] \n",
    "    except:\n",
    "            pass"
   ]
  },
  {
   "cell_type": "code",
   "execution_count": 53,
   "metadata": {},
   "outputs": [
    {
     "data": {
      "text/plain": [
       "array([[0.0247831 , 0.15612165, 0.14610684, ..., 0.        , 0.        ,\n",
       "        0.        ],\n",
       "       [0.        , 0.        , 0.        , ..., 0.        , 0.        ,\n",
       "        0.        ],\n",
       "       [0.        , 0.        , 0.        , ..., 0.        , 0.        ,\n",
       "        0.        ],\n",
       "       ...,\n",
       "       [0.        , 0.        , 0.        , ..., 0.        , 0.        ,\n",
       "        0.        ],\n",
       "       [0.        , 0.        , 0.        , ..., 0.        , 0.        ,\n",
       "        0.        ],\n",
       "       [0.        , 0.        , 0.        , ..., 0.        , 0.        ,\n",
       "        0.        ]])"
      ]
     },
     "execution_count": 53,
     "metadata": {},
     "output_type": "execute_result"
    }
   ],
   "source": [
    "D"
   ]
  },
  {
   "cell_type": "code",
   "execution_count": 54,
   "metadata": {},
   "outputs": [],
   "source": [
    "# tạo vector từ query, nếu từ nào không xuất hiện thì tần suất xuất hiện của nó bằng 0\n",
    "def gen_vector(tokens):\n",
    "    \n",
    "    Q = np.zeros(total_vocab_size)\n",
    "    \n",
    "    counter = Counter(tokens)\n",
    "    words_count = len(tokens)\n",
    "    \n",
    "    \n",
    "    for token in np.unique(tokens):\n",
    "        tf = counter[token]/words_count\n",
    "        df = doc_freq(token)\n",
    "        idf = math.log(N/(df + 1))\n",
    "        \n",
    "        try:\n",
    "            ind = total_vocab.index(token)\n",
    "            Q[ind] = tf*idf\n",
    "        except:\n",
    "            pass\n",
    "    \n",
    "    return Q"
   ]
  },
  {
   "cell_type": "code",
   "execution_count": 55,
   "metadata": {},
   "outputs": [],
   "source": [
    "#query = \"Dark night\"\n",
    "\n",
    "#preprocessed_query = preprocess(query)\n",
    "#tokens = word_tokenize(str(preprocessed_query))\n",
    "#array =  gen_vector(tokens)\n",
    "\n",
    "#for i in array: \n",
    "#    print(i)"
   ]
  },
  {
   "cell_type": "code",
   "execution_count": 56,
   "metadata": {},
   "outputs": [],
   "source": [
    "def cosine_similarity(k, query):\n",
    "    print(\"Cosine Similarity\")\n",
    "    preprocessed_query = preprocess(query)\n",
    "    tokens = word_tokenize(str(preprocessed_query))\n",
    "    \n",
    "    print(\"\\n Query:\", query)\n",
    "    print(\"\")\n",
    "    print(tokens)\n",
    "    \n",
    "    d_cosines = []\n",
    "    \n",
    "    query_vector = gen_vector(tokens)\n",
    "    \n",
    "    for d in D:\n",
    "        d_cosines.append(cosine_sim(query_vector, d))\n",
    "    \n",
    "    out = np.array(d_cosines).argsort()[-k:][::-1]\n",
    "    \n",
    "    print(\"\")\n",
    "    \n",
    "    for i in out:\n",
    "       print(smd.iloc[i]['title']) \n",
    "    \n",
    "    "
   ]
  },
  {
   "cell_type": "code",
   "execution_count": 57,
   "metadata": {},
   "outputs": [
    {
     "name": "stdout",
     "output_type": "stream",
     "text": [
      "Cosine Similarity\n",
      "\n",
      " Query: The Dark Knight\n",
      "\n",
      "['dark', 'knight']\n",
      "\n",
      "The Dark Knight Rises\n",
      "Last Knights\n",
      "The Hollywood Knights\n",
      "A Knight's Tale\n",
      "Dark Water\n",
      "The Dark Knight\n",
      "The Seeker: The Dark Is Rising\n",
      "Black Knight\n",
      "Knight and Day\n",
      "Dark Water\n"
     ]
    }
   ],
   "source": [
    "Q = cosine_similarity(10, \"The Dark Knight\")"
   ]
  },
  {
   "cell_type": "code",
   "execution_count": 58,
   "metadata": {},
   "outputs": [
    {
     "name": "stdout",
     "output_type": "stream",
     "text": [
      "Cosine Similarity\n",
      "\n",
      " Query: The Godfather\n",
      "\n",
      "['godfath']\n",
      "\n",
      "The Godfather: Part III\n",
      "Tokyo Godfathers\n",
      "The Godfather\n",
      "The Godfather: Part II\n",
      "Bright Eyes\n",
      "Things to Do in Denver When You're Dead\n",
      "Free Enterprise\n",
      "The Freshman\n",
      "Jane Austen's Mafia!\n",
      "Cinderfella\n"
     ]
    }
   ],
   "source": [
    "Q = cosine_similarity(10, \"The Godfather\")"
   ]
  },
  {
   "cell_type": "code",
   "execution_count": 59,
   "metadata": {},
   "outputs": [
    {
     "name": "stdout",
     "output_type": "stream",
     "text": [
      "Cosine Similarity\n",
      "\n",
      " Query: wanted\n",
      "\n",
      "['want']\n",
      "\n",
      "All I Want For Christmas\n",
      "Wanted\n",
      "A Most Wanted Man\n",
      "Madagascar 3: Europe's Most Wanted\n",
      "Wilbur Wants to Kill Himself\n",
      "What Women Want\n",
      "The Interview\n",
      "The Pelican Brief\n",
      "Music Box\n",
      "Everything You Always Wanted to Know About Sex *But Were Afraid to Ask\n"
     ]
    }
   ],
   "source": [
    "Q = cosine_similarity(10, \"wanted\")"
   ]
  },
  {
   "cell_type": "code",
   "execution_count": 60,
   "metadata": {},
   "outputs": [],
   "source": [
    "cosine_sim = linear_kernel(D, D)"
   ]
  },
  {
   "cell_type": "code",
   "execution_count": 61,
   "metadata": {},
   "outputs": [
    {
     "data": {
      "text/plain": [
       "array([0.22474677, 0.0016116 , 0.        , ..., 0.        , 0.00033573,\n",
       "       0.        ])"
      ]
     },
     "execution_count": 61,
     "metadata": {},
     "output_type": "execute_result"
    }
   ],
   "source": [
    "cosine_sim[0]"
   ]
  },
  {
   "cell_type": "code",
   "execution_count": 62,
   "metadata": {},
   "outputs": [],
   "source": [
    "smd = smd.reset_index()\n",
    "titles = smd['title']\n",
    "indices = pd.Series(smd.index, index=smd['title'])"
   ]
  },
  {
   "cell_type": "code",
   "execution_count": 63,
   "metadata": {},
   "outputs": [],
   "source": [
    "def get_recommendations(title):\n",
    "    idx = indices[title]\n",
    "    sim_scores = list(enumerate(cosine_sim[idx]))\n",
    "    sim_scores = sorted(sim_scores, key=lambda x: x[1], reverse=True)\n",
    "    sim_scores = sim_scores[1:31]\n",
    "    movie_indices = [i[0] for i in sim_scores]\n",
    "    return titles.iloc[movie_indices]"
   ]
  },
  {
   "cell_type": "code",
   "execution_count": 64,
   "metadata": {},
   "outputs": [
    {
     "data": {
      "text/plain": [
       "973         The Godfather: Part II\n",
       "7760                 Henry's Crime\n",
       "1582       The Godfather: Part III\n",
       "9046    Michael Jackson's Thriller\n",
       "9017        Manson Family Vacation\n",
       "3031               The Five Senses\n",
       "5461              Tokyo Godfathers\n",
       "1871                 Godzilla 1985\n",
       "3531          Camille Claudel 1915\n",
       "8574          Camille Claudel 1915\n",
       "Name: title, dtype: object"
      ]
     },
     "execution_count": 64,
     "metadata": {},
     "output_type": "execute_result"
    }
   ],
   "source": [
    "get_recommendations('The Godfather').head(10)"
   ]
  },
  {
   "cell_type": "code",
   "execution_count": 65,
   "metadata": {},
   "outputs": [
    {
     "data": {
      "text/plain": [
       "6900                            The Dark Knight\n",
       "1113                             Batman Returns\n",
       "7565                 Batman: Under the Red Hood\n",
       "7931                      The Dark Knight Rises\n",
       "8840                               Last Knights\n",
       "8165    Batman: The Dark Knight Returns, Part 1\n",
       "2579               Batman: Mask of the Phantasm\n",
       "6144                              Batman Begins\n",
       "524                                      Batman\n",
       "132                              Batman Forever\n",
       "Name: title, dtype: object"
      ]
     },
     "execution_count": 65,
     "metadata": {},
     "output_type": "execute_result"
    }
   ],
   "source": [
    "get_recommendations('The Dark Knight').head(10)"
   ]
  },
  {
   "cell_type": "code",
   "execution_count": null,
   "metadata": {},
   "outputs": [],
   "source": []
  }
 ],
 "metadata": {
  "kernelspec": {
   "display_name": "Python 3",
   "language": "python",
   "name": "python3"
  },
  "language_info": {
   "codemirror_mode": {
    "name": "ipython",
    "version": 3
   },
   "file_extension": ".py",
   "mimetype": "text/x-python",
   "name": "python",
   "nbconvert_exporter": "python",
   "pygments_lexer": "ipython3",
   "version": "3.6.8"
  }
 },
 "nbformat": 4,
 "nbformat_minor": 2
}
