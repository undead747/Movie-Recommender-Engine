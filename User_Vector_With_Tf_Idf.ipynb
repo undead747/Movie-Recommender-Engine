{
 "cells": [
  {
   "cell_type": "markdown",
   "metadata": {},
   "source": [
    "## Library"
   ]
  },
  {
   "cell_type": "code",
   "execution_count": 1,
   "metadata": {},
   "outputs": [],
   "source": [
    "import os \n",
    "import nltk\n",
    "import os\n",
    "import string\n",
    "import numpy as np\n",
    "import copy\n",
    "import pandas as pd\n",
    "import pickle\n",
    "import re\n",
    "import math\n",
    "from math import sqrt\n",
    "import pickle \n",
    "\n",
    "from collections import Counter\n",
    "from sklearn.metrics.pairwise import linear_kernel\n",
    "from sklearn.model_selection import train_test_split\n",
    "from sklearn.linear_model import Ridge\n",
    "from sklearn import linear_model\n",
    "from sklearn.linear_model import LinearRegression\n",
    "\n"
   ]
  },
  {
   "cell_type": "markdown",
   "metadata": {},
   "source": [
    "## Loading Data "
   ]
  },
  {
   "cell_type": "code",
   "execution_count": 2,
   "metadata": {},
   "outputs": [],
   "source": [
    "D = np.load('tf_idf_vector_matrix.npy') # load"
   ]
  },
  {
   "cell_type": "code",
   "execution_count": 3,
   "metadata": {
    "scrolled": true
   },
   "outputs": [
    {
     "data": {
      "text/plain": [
       "(9025, 22336)"
      ]
     },
     "execution_count": 3,
     "metadata": {},
     "output_type": "execute_result"
    }
   ],
   "source": [
    "D.shape"
   ]
  },
  {
   "cell_type": "code",
   "execution_count": 4,
   "metadata": {},
   "outputs": [],
   "source": [
    "smd = pd.read_csv('../the-movies-dataset/movies_metadata_equal_ratings.csv')\n",
    "ratings = pd.read_csv('../the-movies-dataset/ratings_equal_movies_metadata.csv')\n",
    "train = pd.read_csv('../the-movies-dataset/ratings_train.csv')\n",
    "test = pd.read_csv('../the-movies-dataset/ratings_test.csv')"
   ]
  },
  {
   "cell_type": "code",
   "execution_count": 5,
   "metadata": {},
   "outputs": [
    {
     "name": "stdout",
     "output_type": "stream",
     "text": [
      "<class 'pandas.core.frame.DataFrame'>\n",
      "RangeIndex: 9025 entries, 0 to 9024\n",
      "Data columns (total 26 columns):\n",
      "adult                    9025 non-null bool\n",
      "belongs_to_collection    1670 non-null object\n",
      "budget                   9025 non-null int64\n",
      "genres                   9025 non-null object\n",
      "homepage                 1954 non-null object\n",
      "id                       9025 non-null int64\n",
      "imdb_id                  9025 non-null object\n",
      "original_language        9025 non-null object\n",
      "original_title           9025 non-null object\n",
      "overview                 9013 non-null object\n",
      "popularity               9025 non-null float64\n",
      "poster_path              9022 non-null object\n",
      "production_companies     9025 non-null object\n",
      "production_countries     9025 non-null object\n",
      "release_date             9025 non-null object\n",
      "revenue                  9025 non-null float64\n",
      "runtime                  9025 non-null float64\n",
      "spoken_languages         9025 non-null object\n",
      "status                   9023 non-null object\n",
      "tagline                  6983 non-null object\n",
      "title                    9025 non-null object\n",
      "video                    9025 non-null bool\n",
      "vote_average             9025 non-null float64\n",
      "vote_count               9025 non-null float64\n",
      "description              9013 non-null object\n",
      "year                     9025 non-null int64\n",
      "dtypes: bool(2), float64(5), int64(3), object(16)\n",
      "memory usage: 1.7+ MB\n"
     ]
    }
   ],
   "source": [
    "smd.info()"
   ]
  },
  {
   "cell_type": "code",
   "execution_count": 6,
   "metadata": {},
   "outputs": [
    {
     "data": {
      "text/html": [
       "<div>\n",
       "<style scoped>\n",
       "    .dataframe tbody tr th:only-of-type {\n",
       "        vertical-align: middle;\n",
       "    }\n",
       "\n",
       "    .dataframe tbody tr th {\n",
       "        vertical-align: top;\n",
       "    }\n",
       "\n",
       "    .dataframe thead th {\n",
       "        text-align: right;\n",
       "    }\n",
       "</style>\n",
       "<table border=\"1\" class=\"dataframe\">\n",
       "  <thead>\n",
       "    <tr style=\"text-align: right;\">\n",
       "      <th></th>\n",
       "      <th>adult</th>\n",
       "      <th>belongs_to_collection</th>\n",
       "      <th>budget</th>\n",
       "      <th>genres</th>\n",
       "      <th>homepage</th>\n",
       "      <th>id</th>\n",
       "      <th>imdb_id</th>\n",
       "      <th>original_language</th>\n",
       "      <th>original_title</th>\n",
       "      <th>overview</th>\n",
       "      <th>...</th>\n",
       "      <th>runtime</th>\n",
       "      <th>spoken_languages</th>\n",
       "      <th>status</th>\n",
       "      <th>tagline</th>\n",
       "      <th>title</th>\n",
       "      <th>video</th>\n",
       "      <th>vote_average</th>\n",
       "      <th>vote_count</th>\n",
       "      <th>description</th>\n",
       "      <th>year</th>\n",
       "    </tr>\n",
       "  </thead>\n",
       "  <tbody>\n",
       "    <tr>\n",
       "      <th>0</th>\n",
       "      <td>False</td>\n",
       "      <td>{'id': 10194, 'name': 'Toy Story Collection', ...</td>\n",
       "      <td>30000000</td>\n",
       "      <td>['Animation', 'Comedy', 'Family']</td>\n",
       "      <td>http://toystory.disney.com/toy-story</td>\n",
       "      <td>862</td>\n",
       "      <td>tt0114709</td>\n",
       "      <td>en</td>\n",
       "      <td>Toy Story</td>\n",
       "      <td>Led by Woody, Andy's toys live happily in his ...</td>\n",
       "      <td>...</td>\n",
       "      <td>81.0</td>\n",
       "      <td>[{'iso_639_1': 'en', 'name': 'English'}]</td>\n",
       "      <td>Released</td>\n",
       "      <td>NaN</td>\n",
       "      <td>Toy Story</td>\n",
       "      <td>False</td>\n",
       "      <td>7.7</td>\n",
       "      <td>5415.0</td>\n",
       "      <td>Led by Woody, Andy's toys live happily in his ...</td>\n",
       "      <td>1995</td>\n",
       "    </tr>\n",
       "    <tr>\n",
       "      <th>1</th>\n",
       "      <td>False</td>\n",
       "      <td>NaN</td>\n",
       "      <td>65000000</td>\n",
       "      <td>['Adventure', 'Fantasy', 'Family']</td>\n",
       "      <td>NaN</td>\n",
       "      <td>8844</td>\n",
       "      <td>tt0113497</td>\n",
       "      <td>en</td>\n",
       "      <td>Jumanji</td>\n",
       "      <td>When siblings Judy and Peter discover an encha...</td>\n",
       "      <td>...</td>\n",
       "      <td>104.0</td>\n",
       "      <td>[{'iso_639_1': 'en', 'name': 'English'}, {'iso...</td>\n",
       "      <td>Released</td>\n",
       "      <td>Roll the dice and unleash the excitement!</td>\n",
       "      <td>Jumanji</td>\n",
       "      <td>False</td>\n",
       "      <td>6.9</td>\n",
       "      <td>2413.0</td>\n",
       "      <td>When siblings Judy and Peter discover an encha...</td>\n",
       "      <td>1995</td>\n",
       "    </tr>\n",
       "    <tr>\n",
       "      <th>2</th>\n",
       "      <td>False</td>\n",
       "      <td>{'id': 119050, 'name': 'Grumpy Old Men Collect...</td>\n",
       "      <td>0</td>\n",
       "      <td>['Romance', 'Comedy']</td>\n",
       "      <td>NaN</td>\n",
       "      <td>15602</td>\n",
       "      <td>tt0113228</td>\n",
       "      <td>en</td>\n",
       "      <td>Grumpier Old Men</td>\n",
       "      <td>A family wedding reignites the ancient feud be...</td>\n",
       "      <td>...</td>\n",
       "      <td>101.0</td>\n",
       "      <td>[{'iso_639_1': 'en', 'name': 'English'}]</td>\n",
       "      <td>Released</td>\n",
       "      <td>Still Yelling. Still Fighting. Still Ready for...</td>\n",
       "      <td>Grumpier Old Men</td>\n",
       "      <td>False</td>\n",
       "      <td>6.5</td>\n",
       "      <td>92.0</td>\n",
       "      <td>A family wedding reignites the ancient feud be...</td>\n",
       "      <td>1995</td>\n",
       "    </tr>\n",
       "    <tr>\n",
       "      <th>3</th>\n",
       "      <td>False</td>\n",
       "      <td>NaN</td>\n",
       "      <td>16000000</td>\n",
       "      <td>['Comedy', 'Drama', 'Romance']</td>\n",
       "      <td>NaN</td>\n",
       "      <td>31357</td>\n",
       "      <td>tt0114885</td>\n",
       "      <td>en</td>\n",
       "      <td>Waiting to Exhale</td>\n",
       "      <td>Cheated on, mistreated and stepped on, the wom...</td>\n",
       "      <td>...</td>\n",
       "      <td>127.0</td>\n",
       "      <td>[{'iso_639_1': 'en', 'name': 'English'}]</td>\n",
       "      <td>Released</td>\n",
       "      <td>Friends are the people who let you be yourself...</td>\n",
       "      <td>Waiting to Exhale</td>\n",
       "      <td>False</td>\n",
       "      <td>6.1</td>\n",
       "      <td>34.0</td>\n",
       "      <td>Cheated on, mistreated and stepped on, the wom...</td>\n",
       "      <td>1995</td>\n",
       "    </tr>\n",
       "    <tr>\n",
       "      <th>4</th>\n",
       "      <td>False</td>\n",
       "      <td>{'id': 96871, 'name': 'Father of the Bride Col...</td>\n",
       "      <td>0</td>\n",
       "      <td>['Comedy']</td>\n",
       "      <td>NaN</td>\n",
       "      <td>11862</td>\n",
       "      <td>tt0113041</td>\n",
       "      <td>en</td>\n",
       "      <td>Father of the Bride Part II</td>\n",
       "      <td>Just when George Banks has recovered from his ...</td>\n",
       "      <td>...</td>\n",
       "      <td>106.0</td>\n",
       "      <td>[{'iso_639_1': 'en', 'name': 'English'}]</td>\n",
       "      <td>Released</td>\n",
       "      <td>Just When His World Is Back To Normal... He's ...</td>\n",
       "      <td>Father of the Bride Part II</td>\n",
       "      <td>False</td>\n",
       "      <td>5.7</td>\n",
       "      <td>173.0</td>\n",
       "      <td>Just when George Banks has recovered from his ...</td>\n",
       "      <td>1995</td>\n",
       "    </tr>\n",
       "    <tr>\n",
       "      <th>...</th>\n",
       "      <td>...</td>\n",
       "      <td>...</td>\n",
       "      <td>...</td>\n",
       "      <td>...</td>\n",
       "      <td>...</td>\n",
       "      <td>...</td>\n",
       "      <td>...</td>\n",
       "      <td>...</td>\n",
       "      <td>...</td>\n",
       "      <td>...</td>\n",
       "      <td>...</td>\n",
       "      <td>...</td>\n",
       "      <td>...</td>\n",
       "      <td>...</td>\n",
       "      <td>...</td>\n",
       "      <td>...</td>\n",
       "      <td>...</td>\n",
       "      <td>...</td>\n",
       "      <td>...</td>\n",
       "      <td>...</td>\n",
       "      <td>...</td>\n",
       "    </tr>\n",
       "    <tr>\n",
       "      <th>9020</th>\n",
       "      <td>False</td>\n",
       "      <td>{'id': 286023, 'name': 'Sharknado Collection',...</td>\n",
       "      <td>0</td>\n",
       "      <td>['Comedy', 'Horror', 'Science Fiction']</td>\n",
       "      <td>http://www.syfy.com/sharknado4</td>\n",
       "      <td>390989</td>\n",
       "      <td>tt4831420</td>\n",
       "      <td>en</td>\n",
       "      <td>Sharknado 4: The 4th Awakens</td>\n",
       "      <td>The new installment of the Sharknado franchise...</td>\n",
       "      <td>...</td>\n",
       "      <td>85.0</td>\n",
       "      <td>[{'iso_639_1': 'en', 'name': 'English'}]</td>\n",
       "      <td>Released</td>\n",
       "      <td>What happens in Vegas, stays in Vegas. Unless ...</td>\n",
       "      <td>Sharknado 4: The 4th Awakens</td>\n",
       "      <td>False</td>\n",
       "      <td>4.3</td>\n",
       "      <td>88.0</td>\n",
       "      <td>The new installment of the Sharknado franchise...</td>\n",
       "      <td>2016</td>\n",
       "    </tr>\n",
       "    <tr>\n",
       "      <th>9021</th>\n",
       "      <td>False</td>\n",
       "      <td>NaN</td>\n",
       "      <td>8000000</td>\n",
       "      <td>['Drama']</td>\n",
       "      <td>NaN</td>\n",
       "      <td>159550</td>\n",
       "      <td>tt0255313</td>\n",
       "      <td>en</td>\n",
       "      <td>The Last Brickmaker in America</td>\n",
       "      <td>A man must cope with the loss of his wife and ...</td>\n",
       "      <td>...</td>\n",
       "      <td>85.0</td>\n",
       "      <td>[]</td>\n",
       "      <td>Released</td>\n",
       "      <td>NaN</td>\n",
       "      <td>The Last Brickmaker in America</td>\n",
       "      <td>False</td>\n",
       "      <td>7.0</td>\n",
       "      <td>1.0</td>\n",
       "      <td>A man must cope with the loss of his wife and ...</td>\n",
       "      <td>2001</td>\n",
       "    </tr>\n",
       "    <tr>\n",
       "      <th>9022</th>\n",
       "      <td>False</td>\n",
       "      <td>NaN</td>\n",
       "      <td>1000000</td>\n",
       "      <td>['Thriller', 'Romance']</td>\n",
       "      <td>NaN</td>\n",
       "      <td>392572</td>\n",
       "      <td>tt5165344</td>\n",
       "      <td>hi</td>\n",
       "      <td>रुस्तम</td>\n",
       "      <td>Rustom Pavri, an honourable officer of the Ind...</td>\n",
       "      <td>...</td>\n",
       "      <td>150.0</td>\n",
       "      <td>[{'iso_639_1': 'hi', 'name': 'हिन्दी'}]</td>\n",
       "      <td>Released</td>\n",
       "      <td>Decorated Officer. Devoted Family Man. Defendi...</td>\n",
       "      <td>Rustom</td>\n",
       "      <td>False</td>\n",
       "      <td>7.3</td>\n",
       "      <td>25.0</td>\n",
       "      <td>Rustom Pavri, an honourable officer of the Ind...</td>\n",
       "      <td>2016</td>\n",
       "    </tr>\n",
       "    <tr>\n",
       "      <th>9023</th>\n",
       "      <td>False</td>\n",
       "      <td>NaN</td>\n",
       "      <td>15050000</td>\n",
       "      <td>['Adventure', 'Drama', 'History', 'Romance']</td>\n",
       "      <td>NaN</td>\n",
       "      <td>402672</td>\n",
       "      <td>tt3859980</td>\n",
       "      <td>hi</td>\n",
       "      <td>Mohenjo Daro</td>\n",
       "      <td>Village lad Sarman is drawn to big, bad Mohenj...</td>\n",
       "      <td>...</td>\n",
       "      <td>155.0</td>\n",
       "      <td>[{'iso_639_1': 'hi', 'name': 'हिन्दी'}]</td>\n",
       "      <td>Released</td>\n",
       "      <td>NaN</td>\n",
       "      <td>Mohenjo Daro</td>\n",
       "      <td>False</td>\n",
       "      <td>6.7</td>\n",
       "      <td>26.0</td>\n",
       "      <td>Village lad Sarman is drawn to big, bad Mohenj...</td>\n",
       "      <td>2016</td>\n",
       "    </tr>\n",
       "    <tr>\n",
       "      <th>9024</th>\n",
       "      <td>False</td>\n",
       "      <td>NaN</td>\n",
       "      <td>0</td>\n",
       "      <td>['Documentary', 'Music']</td>\n",
       "      <td>http://www.thebeatlesliveproject.com/</td>\n",
       "      <td>391698</td>\n",
       "      <td>tt2531318</td>\n",
       "      <td>en</td>\n",
       "      <td>The Beatles: Eight Days a Week - The Touring Y...</td>\n",
       "      <td>The band stormed Europe in 1963, and, in 1964,...</td>\n",
       "      <td>...</td>\n",
       "      <td>99.0</td>\n",
       "      <td>[{'iso_639_1': 'en', 'name': 'English'}]</td>\n",
       "      <td>Released</td>\n",
       "      <td>The band you know. The story you don't.</td>\n",
       "      <td>The Beatles: Eight Days a Week - The Touring Y...</td>\n",
       "      <td>False</td>\n",
       "      <td>7.6</td>\n",
       "      <td>92.0</td>\n",
       "      <td>The band stormed Europe in 1963, and, in 1964,...</td>\n",
       "      <td>2016</td>\n",
       "    </tr>\n",
       "  </tbody>\n",
       "</table>\n",
       "<p>9025 rows × 26 columns</p>\n",
       "</div>"
      ],
      "text/plain": [
       "      adult                              belongs_to_collection    budget  \\\n",
       "0     False  {'id': 10194, 'name': 'Toy Story Collection', ...  30000000   \n",
       "1     False                                                NaN  65000000   \n",
       "2     False  {'id': 119050, 'name': 'Grumpy Old Men Collect...         0   \n",
       "3     False                                                NaN  16000000   \n",
       "4     False  {'id': 96871, 'name': 'Father of the Bride Col...         0   \n",
       "...     ...                                                ...       ...   \n",
       "9020  False  {'id': 286023, 'name': 'Sharknado Collection',...         0   \n",
       "9021  False                                                NaN   8000000   \n",
       "9022  False                                                NaN   1000000   \n",
       "9023  False                                                NaN  15050000   \n",
       "9024  False                                                NaN         0   \n",
       "\n",
       "                                            genres  \\\n",
       "0                ['Animation', 'Comedy', 'Family']   \n",
       "1               ['Adventure', 'Fantasy', 'Family']   \n",
       "2                            ['Romance', 'Comedy']   \n",
       "3                   ['Comedy', 'Drama', 'Romance']   \n",
       "4                                       ['Comedy']   \n",
       "...                                            ...   \n",
       "9020       ['Comedy', 'Horror', 'Science Fiction']   \n",
       "9021                                     ['Drama']   \n",
       "9022                       ['Thriller', 'Romance']   \n",
       "9023  ['Adventure', 'Drama', 'History', 'Romance']   \n",
       "9024                      ['Documentary', 'Music']   \n",
       "\n",
       "                                   homepage      id    imdb_id  \\\n",
       "0      http://toystory.disney.com/toy-story     862  tt0114709   \n",
       "1                                       NaN    8844  tt0113497   \n",
       "2                                       NaN   15602  tt0113228   \n",
       "3                                       NaN   31357  tt0114885   \n",
       "4                                       NaN   11862  tt0113041   \n",
       "...                                     ...     ...        ...   \n",
       "9020         http://www.syfy.com/sharknado4  390989  tt4831420   \n",
       "9021                                    NaN  159550  tt0255313   \n",
       "9022                                    NaN  392572  tt5165344   \n",
       "9023                                    NaN  402672  tt3859980   \n",
       "9024  http://www.thebeatlesliveproject.com/  391698  tt2531318   \n",
       "\n",
       "     original_language                                     original_title  \\\n",
       "0                   en                                          Toy Story   \n",
       "1                   en                                            Jumanji   \n",
       "2                   en                                   Grumpier Old Men   \n",
       "3                   en                                  Waiting to Exhale   \n",
       "4                   en                        Father of the Bride Part II   \n",
       "...                ...                                                ...   \n",
       "9020                en                       Sharknado 4: The 4th Awakens   \n",
       "9021                en                     The Last Brickmaker in America   \n",
       "9022                hi                                             रुस्तम   \n",
       "9023                hi                                       Mohenjo Daro   \n",
       "9024                en  The Beatles: Eight Days a Week - The Touring Y...   \n",
       "\n",
       "                                               overview  ...  runtime  \\\n",
       "0     Led by Woody, Andy's toys live happily in his ...  ...     81.0   \n",
       "1     When siblings Judy and Peter discover an encha...  ...    104.0   \n",
       "2     A family wedding reignites the ancient feud be...  ...    101.0   \n",
       "3     Cheated on, mistreated and stepped on, the wom...  ...    127.0   \n",
       "4     Just when George Banks has recovered from his ...  ...    106.0   \n",
       "...                                                 ...  ...      ...   \n",
       "9020  The new installment of the Sharknado franchise...  ...     85.0   \n",
       "9021  A man must cope with the loss of his wife and ...  ...     85.0   \n",
       "9022  Rustom Pavri, an honourable officer of the Ind...  ...    150.0   \n",
       "9023  Village lad Sarman is drawn to big, bad Mohenj...  ...    155.0   \n",
       "9024  The band stormed Europe in 1963, and, in 1964,...  ...     99.0   \n",
       "\n",
       "                                       spoken_languages    status  \\\n",
       "0              [{'iso_639_1': 'en', 'name': 'English'}]  Released   \n",
       "1     [{'iso_639_1': 'en', 'name': 'English'}, {'iso...  Released   \n",
       "2              [{'iso_639_1': 'en', 'name': 'English'}]  Released   \n",
       "3              [{'iso_639_1': 'en', 'name': 'English'}]  Released   \n",
       "4              [{'iso_639_1': 'en', 'name': 'English'}]  Released   \n",
       "...                                                 ...       ...   \n",
       "9020           [{'iso_639_1': 'en', 'name': 'English'}]  Released   \n",
       "9021                                                 []  Released   \n",
       "9022            [{'iso_639_1': 'hi', 'name': 'हिन्दी'}]  Released   \n",
       "9023            [{'iso_639_1': 'hi', 'name': 'हिन्दी'}]  Released   \n",
       "9024           [{'iso_639_1': 'en', 'name': 'English'}]  Released   \n",
       "\n",
       "                                                tagline  \\\n",
       "0                                                   NaN   \n",
       "1             Roll the dice and unleash the excitement!   \n",
       "2     Still Yelling. Still Fighting. Still Ready for...   \n",
       "3     Friends are the people who let you be yourself...   \n",
       "4     Just When His World Is Back To Normal... He's ...   \n",
       "...                                                 ...   \n",
       "9020  What happens in Vegas, stays in Vegas. Unless ...   \n",
       "9021                                                NaN   \n",
       "9022  Decorated Officer. Devoted Family Man. Defendi...   \n",
       "9023                                                NaN   \n",
       "9024            The band you know. The story you don't.   \n",
       "\n",
       "                                                  title  video  vote_average  \\\n",
       "0                                             Toy Story  False           7.7   \n",
       "1                                               Jumanji  False           6.9   \n",
       "2                                      Grumpier Old Men  False           6.5   \n",
       "3                                     Waiting to Exhale  False           6.1   \n",
       "4                           Father of the Bride Part II  False           5.7   \n",
       "...                                                 ...    ...           ...   \n",
       "9020                       Sharknado 4: The 4th Awakens  False           4.3   \n",
       "9021                     The Last Brickmaker in America  False           7.0   \n",
       "9022                                             Rustom  False           7.3   \n",
       "9023                                       Mohenjo Daro  False           6.7   \n",
       "9024  The Beatles: Eight Days a Week - The Touring Y...  False           7.6   \n",
       "\n",
       "     vote_count                                        description  year  \n",
       "0        5415.0  Led by Woody, Andy's toys live happily in his ...  1995  \n",
       "1        2413.0  When siblings Judy and Peter discover an encha...  1995  \n",
       "2          92.0  A family wedding reignites the ancient feud be...  1995  \n",
       "3          34.0  Cheated on, mistreated and stepped on, the wom...  1995  \n",
       "4         173.0  Just when George Banks has recovered from his ...  1995  \n",
       "...         ...                                                ...   ...  \n",
       "9020       88.0  The new installment of the Sharknado franchise...  2016  \n",
       "9021        1.0  A man must cope with the loss of his wife and ...  2001  \n",
       "9022       25.0  Rustom Pavri, an honourable officer of the Ind...  2016  \n",
       "9023       26.0  Village lad Sarman is drawn to big, bad Mohenj...  2016  \n",
       "9024       92.0  The band stormed Europe in 1963, and, in 1964,...  2016  \n",
       "\n",
       "[9025 rows x 26 columns]"
      ]
     },
     "execution_count": 6,
     "metadata": {},
     "output_type": "execute_result"
    }
   ],
   "source": [
    "smd"
   ]
  },
  {
   "cell_type": "code",
   "execution_count": 7,
   "metadata": {},
   "outputs": [
    {
     "name": "stdout",
     "output_type": "stream",
     "text": [
      "<class 'pandas.core.frame.DataFrame'>\n",
      "RangeIndex: 99810 entries, 0 to 99809\n",
      "Data columns (total 6 columns):\n",
      "userId        99810 non-null int64\n",
      "id            99810 non-null float64\n",
      "rating        99810 non-null float64\n",
      "movieId       99810 non-null int64\n",
      "timestamp     99810 non-null int64\n",
      "movieIndex    99810 non-null int64\n",
      "dtypes: float64(2), int64(4)\n",
      "memory usage: 4.6 MB\n"
     ]
    }
   ],
   "source": [
    "ratings.info()"
   ]
  },
  {
   "cell_type": "code",
   "execution_count": 8,
   "metadata": {},
   "outputs": [
    {
     "data": {
      "text/html": [
       "<div>\n",
       "<style scoped>\n",
       "    .dataframe tbody tr th:only-of-type {\n",
       "        vertical-align: middle;\n",
       "    }\n",
       "\n",
       "    .dataframe tbody tr th {\n",
       "        vertical-align: top;\n",
       "    }\n",
       "\n",
       "    .dataframe thead th {\n",
       "        text-align: right;\n",
       "    }\n",
       "</style>\n",
       "<table border=\"1\" class=\"dataframe\">\n",
       "  <thead>\n",
       "    <tr style=\"text-align: right;\">\n",
       "      <th></th>\n",
       "      <th>userId</th>\n",
       "      <th>id</th>\n",
       "      <th>rating</th>\n",
       "      <th>movieId</th>\n",
       "      <th>timestamp</th>\n",
       "      <th>movieIndex</th>\n",
       "    </tr>\n",
       "  </thead>\n",
       "  <tbody>\n",
       "    <tr>\n",
       "      <th>0</th>\n",
       "      <td>0</td>\n",
       "      <td>152.0</td>\n",
       "      <td>2.5</td>\n",
       "      <td>1371</td>\n",
       "      <td>1260759135</td>\n",
       "      <td>1107</td>\n",
       "    </tr>\n",
       "    <tr>\n",
       "      <th>1</th>\n",
       "      <td>0</td>\n",
       "      <td>9909.0</td>\n",
       "      <td>2.5</td>\n",
       "      <td>31</td>\n",
       "      <td>1260759144</td>\n",
       "      <td>30</td>\n",
       "    </tr>\n",
       "    <tr>\n",
       "      <th>2</th>\n",
       "      <td>0</td>\n",
       "      <td>847.0</td>\n",
       "      <td>2.0</td>\n",
       "      <td>2193</td>\n",
       "      <td>1260759198</td>\n",
       "      <td>1739</td>\n",
       "    </tr>\n",
       "    <tr>\n",
       "      <th>3</th>\n",
       "      <td>0</td>\n",
       "      <td>9426.0</td>\n",
       "      <td>2.5</td>\n",
       "      <td>2455</td>\n",
       "      <td>1260759113</td>\n",
       "      <td>1958</td>\n",
       "    </tr>\n",
       "    <tr>\n",
       "      <th>4</th>\n",
       "      <td>0</td>\n",
       "      <td>6114.0</td>\n",
       "      <td>3.5</td>\n",
       "      <td>1339</td>\n",
       "      <td>1260759125</td>\n",
       "      <td>1079</td>\n",
       "    </tr>\n",
       "    <tr>\n",
       "      <th>...</th>\n",
       "      <td>...</td>\n",
       "      <td>...</td>\n",
       "      <td>...</td>\n",
       "      <td>...</td>\n",
       "      <td>...</td>\n",
       "      <td>...</td>\n",
       "    </tr>\n",
       "    <tr>\n",
       "      <th>99805</th>\n",
       "      <td>670</td>\n",
       "      <td>786.0</td>\n",
       "      <td>2.0</td>\n",
       "      <td>3897</td>\n",
       "      <td>1063503718</td>\n",
       "      <td>3108</td>\n",
       "    </tr>\n",
       "    <tr>\n",
       "      <th>99806</th>\n",
       "      <td>670</td>\n",
       "      <td>7443.0</td>\n",
       "      <td>4.0</td>\n",
       "      <td>3751</td>\n",
       "      <td>1065111939</td>\n",
       "      <td>2995</td>\n",
       "    </tr>\n",
       "    <tr>\n",
       "      <th>99807</th>\n",
       "      <td>670</td>\n",
       "      <td>1891.0</td>\n",
       "      <td>5.0</td>\n",
       "      <td>1196</td>\n",
       "      <td>1064890635</td>\n",
       "      <td>949</td>\n",
       "    </tr>\n",
       "    <tr>\n",
       "      <th>99808</th>\n",
       "      <td>670</td>\n",
       "      <td>279.0</td>\n",
       "      <td>4.0</td>\n",
       "      <td>1225</td>\n",
       "      <td>1065149143</td>\n",
       "      <td>977</td>\n",
       "    </tr>\n",
       "    <tr>\n",
       "      <th>99809</th>\n",
       "      <td>670</td>\n",
       "      <td>5503.0</td>\n",
       "      <td>4.0</td>\n",
       "      <td>457</td>\n",
       "      <td>1065149159</td>\n",
       "      <td>406</td>\n",
       "    </tr>\n",
       "  </tbody>\n",
       "</table>\n",
       "<p>99810 rows × 6 columns</p>\n",
       "</div>"
      ],
      "text/plain": [
       "       userId      id  rating  movieId   timestamp  movieIndex\n",
       "0           0   152.0     2.5     1371  1260759135        1107\n",
       "1           0  9909.0     2.5       31  1260759144          30\n",
       "2           0   847.0     2.0     2193  1260759198        1739\n",
       "3           0  9426.0     2.5     2455  1260759113        1958\n",
       "4           0  6114.0     3.5     1339  1260759125        1079\n",
       "...       ...     ...     ...      ...         ...         ...\n",
       "99805     670   786.0     2.0     3897  1063503718        3108\n",
       "99806     670  7443.0     4.0     3751  1065111939        2995\n",
       "99807     670  1891.0     5.0     1196  1064890635         949\n",
       "99808     670   279.0     4.0     1225  1065149143         977\n",
       "99809     670  5503.0     4.0      457  1065149159         406\n",
       "\n",
       "[99810 rows x 6 columns]"
      ]
     },
     "execution_count": 8,
     "metadata": {},
     "output_type": "execute_result"
    }
   ],
   "source": [
    "ratings"
   ]
  },
  {
   "cell_type": "code",
   "execution_count": 9,
   "metadata": {},
   "outputs": [
    {
     "data": {
      "text/plain": [
       "(79848, 6)"
      ]
     },
     "execution_count": 9,
     "metadata": {},
     "output_type": "execute_result"
    }
   ],
   "source": [
    "train.shape"
   ]
  },
  {
   "cell_type": "code",
   "execution_count": 10,
   "metadata": {},
   "outputs": [
    {
     "data": {
      "text/plain": [
       "(19962, 6)"
      ]
     },
     "execution_count": 10,
     "metadata": {},
     "output_type": "execute_result"
    }
   ],
   "source": [
    "test.shape"
   ]
  },
  {
   "cell_type": "code",
   "execution_count": 11,
   "metadata": {},
   "outputs": [
    {
     "data": {
      "text/plain": [
       "671"
      ]
     },
     "execution_count": 11,
     "metadata": {},
     "output_type": "execute_result"
    }
   ],
   "source": [
    "n_users = len(ratings['userId'].unique().astype('int'))\n",
    "n_items = len(ratings['id'].unique().astype('int'))\n",
    "n_users"
   ]
  },
  {
   "cell_type": "code",
   "execution_count": 12,
   "metadata": {},
   "outputs": [
    {
     "data": {
      "text/plain": [
       "56"
      ]
     },
     "execution_count": 12,
     "metadata": {},
     "output_type": "execute_result"
    }
   ],
   "source": [
    "len(train[train['userId'] == 1])"
   ]
  },
  {
   "cell_type": "code",
   "execution_count": 13,
   "metadata": {},
   "outputs": [
    {
     "data": {
      "text/plain": [
       "19"
      ]
     },
     "execution_count": 13,
     "metadata": {},
     "output_type": "execute_result"
    }
   ],
   "source": [
    "len(test[test['userId'] == 1])"
   ]
  },
  {
   "cell_type": "code",
   "execution_count": 14,
   "metadata": {},
   "outputs": [],
   "source": [
    "ratings_train = train[['userId','id','rating','movieIndex']].values\n",
    "ratings_test = test[['userId','id','rating','movieIndex']].values"
   ]
  },
  {
   "cell_type": "code",
   "execution_count": 15,
   "metadata": {},
   "outputs": [
    {
     "data": {
      "text/plain": [
       "(79848, 4)"
      ]
     },
     "execution_count": 15,
     "metadata": {},
     "output_type": "execute_result"
    }
   ],
   "source": [
    "ratings_train.shape"
   ]
  },
  {
   "cell_type": "code",
   "execution_count": 16,
   "metadata": {},
   "outputs": [
    {
     "data": {
      "text/plain": [
       "(19962, 4)"
      ]
     },
     "execution_count": 16,
     "metadata": {},
     "output_type": "execute_result"
    }
   ],
   "source": [
    "ratings_test.shape"
   ]
  },
  {
   "cell_type": "code",
   "execution_count": 17,
   "metadata": {},
   "outputs": [],
   "source": [
    "# this fuction return movie_index in meta_data_dataset and ratings of user  \n",
    "def get_items_rated_by_user(rate_matrix, user_id):\n",
    "    y = rate_matrix[:,0] # get all the value in user_id column\n",
    "    # get list of user_id index in y which value equal input \n",
    "    # user_id\n",
    "    ids = np.where(y == user_id)[0]\n",
    "    # get list movie_id matching user_id \n",
    "    item_ids = rate_matrix[ids, 3]\n",
    "    item_ids = [int(i) for i in item_ids]\n",
    "    \n",
    "    scores = rate_matrix[ids,2]\n",
    "    return (item_ids, scores)"
   ]
  },
  {
   "cell_type": "code",
   "execution_count": 18,
   "metadata": {},
   "outputs": [],
   "source": [
    "#a, b = get_items_rated_by_user(ratings_train, 670)\n",
    "#for i in a:\n",
    "#    print(i)"
   ]
  },
  {
   "cell_type": "code",
   "execution_count": 19,
   "metadata": {},
   "outputs": [
    {
     "data": {
      "text/plain": [
       "(9025, 22336)"
      ]
     },
     "execution_count": 19,
     "metadata": {},
     "output_type": "execute_result"
    }
   ],
   "source": [
    "D.shape"
   ]
  },
  {
   "cell_type": "code",
   "execution_count": 20,
   "metadata": {},
   "outputs": [],
   "source": [
    "d = D.shape[1] # movie vector dimention\n",
    "W = np.zeros((d, n_users)) \n",
    "b = np.zeros((1,n_users))"
   ]
  },
  {
   "cell_type": "code",
   "execution_count": 21,
   "metadata": {
    "scrolled": true
   },
   "outputs": [],
   "source": [
    "for i in range(n_users):\n",
    "        idx, scores = get_items_rated_by_user(ratings_train, i)\n",
    "        clf = Ridge(alpha=1.0, random_state=241)\n",
    "        #idx = np.asarray(idx)\n",
    "        Xhat = D[idx,:]\n",
    "        \n",
    "        clf.fit(Xhat, scores)\n",
    "        W[:, i] = clf.coef_\n",
    "        b[0, i] = clf.intercept_"
   ]
  },
  {
   "cell_type": "code",
   "execution_count": 22,
   "metadata": {},
   "outputs": [
    {
     "data": {
      "text/plain": [
       "array([[ 0.        ,  0.03023679,  0.01808287, ..., -0.00677314,\n",
       "         0.03899125,  0.02888918],\n",
       "       [ 0.        ,  0.        ,  0.        , ...,  0.        ,\n",
       "        -0.02827725,  0.20555655],\n",
       "       [ 0.        ,  0.        ,  0.05487934, ..., -0.06578338,\n",
       "         0.07093938,  0.19235286],\n",
       "       ...,\n",
       "       [ 0.        ,  0.        ,  0.        , ...,  0.        ,\n",
       "         0.        ,  0.        ],\n",
       "       [ 0.        ,  0.        ,  0.        , ...,  0.        ,\n",
       "         0.        ,  0.        ],\n",
       "       [ 0.        ,  0.        ,  0.        , ...,  0.        ,\n",
       "         0.        ,  0.        ]])"
      ]
     },
     "execution_count": 22,
     "metadata": {},
     "output_type": "execute_result"
    }
   ],
   "source": [
    "W"
   ]
  },
  {
   "cell_type": "code",
   "execution_count": 23,
   "metadata": {},
   "outputs": [
    {
     "data": {
      "text/plain": [
       "(9025, 671)"
      ]
     },
     "execution_count": 23,
     "metadata": {},
     "output_type": "execute_result"
    }
   ],
   "source": [
    "Yhat = D.dot(W) + b\n",
    "Yhat.shape"
   ]
  },
  {
   "cell_type": "code",
   "execution_count": 24,
   "metadata": {},
   "outputs": [
    {
     "data": {
      "text/plain": [
       "numpy.ndarray"
      ]
     },
     "execution_count": 24,
     "metadata": {},
     "output_type": "execute_result"
    }
   ],
   "source": [
    "type(Yhat)"
   ]
  },
  {
   "cell_type": "code",
   "execution_count": 25,
   "metadata": {},
   "outputs": [],
   "source": [
    "n = 0\n",
    "ids, scores = get_items_rated_by_user(ratings_test, n)\n",
    "result = Yhat[ids, n]"
   ]
  },
  {
   "cell_type": "code",
   "execution_count": 26,
   "metadata": {},
   "outputs": [
    {
     "name": "stdout",
     "output_type": "stream",
     "text": [
      "ratings prediction of user  0  :\n",
      "movie index :  30  -  predict ratings :  2.426854460256589  -  true ratings :  2.5\n",
      "movie index :  1739  -  predict ratings :  2.423113389081579  -  true ratings :  2.0\n",
      "movie index :  1661  -  predict ratings :  2.4192961861067674  -  true ratings :  4.0\n",
      "movie index :  927  -  predict ratings :  2.4315037074263337  -  true ratings :  4.0\n",
      "movie index :  903  -  predict ratings :  2.421217296468647  -  true ratings :  2.0\n"
     ]
    }
   ],
   "source": [
    "print(\"ratings prediction of user \",n,\" :\")\n",
    "for i in range(len(result)):\n",
    "    print(\"movie index : \",ids[i],\" - \",\"predict ratings : \",result[i],\" - \",\"true ratings : \",scores[i])"
   ]
  },
  {
   "cell_type": "code",
   "execution_count": 27,
   "metadata": {},
   "outputs": [],
   "source": [
    "#train[train['userId'] == 0]"
   ]
  },
  {
   "cell_type": "code",
   "execution_count": 28,
   "metadata": {},
   "outputs": [],
   "source": [
    "def evaluate(Yhat, rates, W, b):\n",
    "    se = 0\n",
    "    cnt = 0\n",
    "    for n in range(n_users):\n",
    "        ids, scores_truth = get_items_rated_by_user(rates, n)\n",
    "        scores_pred = Yhat[ids, n]\n",
    "        e = scores_truth - scores_pred \n",
    "        se += (e*e).sum(axis = 0)\n",
    "        cnt += e.size \n",
    "    return sqrt(se/cnt)"
   ]
  },
  {
   "cell_type": "code",
   "execution_count": 29,
   "metadata": {},
   "outputs": [
    {
     "name": "stdout",
     "output_type": "stream",
     "text": [
      "RMSE for train case: 0.7666285240992233\n",
      "RMSE for test case: 0.953144781499417\n"
     ]
    }
   ],
   "source": [
    "print('RMSE for train case:', evaluate(Yhat, ratings_train, W, b))\n",
    "print('RMSE for test case:', evaluate(Yhat, ratings_test, W, b))"
   ]
  },
  {
   "cell_type": "code",
   "execution_count": 30,
   "metadata": {},
   "outputs": [
    {
     "data": {
      "text/html": [
       "<div>\n",
       "<style scoped>\n",
       "    .dataframe tbody tr th:only-of-type {\n",
       "        vertical-align: middle;\n",
       "    }\n",
       "\n",
       "    .dataframe tbody tr th {\n",
       "        vertical-align: top;\n",
       "    }\n",
       "\n",
       "    .dataframe thead th {\n",
       "        text-align: right;\n",
       "    }\n",
       "</style>\n",
       "<table border=\"1\" class=\"dataframe\">\n",
       "  <thead>\n",
       "    <tr style=\"text-align: right;\">\n",
       "      <th></th>\n",
       "      <th>userId</th>\n",
       "      <th>id</th>\n",
       "      <th>rating</th>\n",
       "      <th>movieId</th>\n",
       "      <th>timestamp</th>\n",
       "      <th>movieIndex</th>\n",
       "    </tr>\n",
       "  </thead>\n",
       "  <tbody>\n",
       "    <tr>\n",
       "      <th>0</th>\n",
       "      <td>0</td>\n",
       "      <td>9909.0</td>\n",
       "      <td>2.5</td>\n",
       "      <td>31</td>\n",
       "      <td>1260759144</td>\n",
       "      <td>30</td>\n",
       "    </tr>\n",
       "    <tr>\n",
       "      <th>1</th>\n",
       "      <td>0</td>\n",
       "      <td>847.0</td>\n",
       "      <td>2.0</td>\n",
       "      <td>2193</td>\n",
       "      <td>1260759198</td>\n",
       "      <td>1739</td>\n",
       "    </tr>\n",
       "    <tr>\n",
       "      <th>2</th>\n",
       "      <td>0</td>\n",
       "      <td>97.0</td>\n",
       "      <td>4.0</td>\n",
       "      <td>2105</td>\n",
       "      <td>1260759139</td>\n",
       "      <td>1661</td>\n",
       "    </tr>\n",
       "    <tr>\n",
       "      <th>3</th>\n",
       "      <td>0</td>\n",
       "      <td>11216.0</td>\n",
       "      <td>4.0</td>\n",
       "      <td>1172</td>\n",
       "      <td>1260759205</td>\n",
       "      <td>927</td>\n",
       "    </tr>\n",
       "    <tr>\n",
       "      <th>4</th>\n",
       "      <td>0</td>\n",
       "      <td>1103.0</td>\n",
       "      <td>2.0</td>\n",
       "      <td>1129</td>\n",
       "      <td>1260759185</td>\n",
       "      <td>903</td>\n",
       "    </tr>\n",
       "    <tr>\n",
       "      <th>...</th>\n",
       "      <td>...</td>\n",
       "      <td>...</td>\n",
       "      <td>...</td>\n",
       "      <td>...</td>\n",
       "      <td>...</td>\n",
       "      <td>...</td>\n",
       "    </tr>\n",
       "    <tr>\n",
       "      <th>19957</th>\n",
       "      <td>670</td>\n",
       "      <td>11310.0</td>\n",
       "      <td>2.5</td>\n",
       "      <td>432</td>\n",
       "      <td>1063503739</td>\n",
       "      <td>381</td>\n",
       "    </tr>\n",
       "    <tr>\n",
       "      <th>19958</th>\n",
       "      <td>670</td>\n",
       "      <td>712.0</td>\n",
       "      <td>3.0</td>\n",
       "      <td>357</td>\n",
       "      <td>1063503998</td>\n",
       "      <td>322</td>\n",
       "    </tr>\n",
       "    <tr>\n",
       "      <th>19959</th>\n",
       "      <td>670</td>\n",
       "      <td>630.0</td>\n",
       "      <td>4.0</td>\n",
       "      <td>919</td>\n",
       "      <td>1065149458</td>\n",
       "      <td>737</td>\n",
       "    </tr>\n",
       "    <tr>\n",
       "      <th>19960</th>\n",
       "      <td>670</td>\n",
       "      <td>687.0</td>\n",
       "      <td>4.0</td>\n",
       "      <td>36</td>\n",
       "      <td>1065149314</td>\n",
       "      <td>34</td>\n",
       "    </tr>\n",
       "    <tr>\n",
       "      <th>19961</th>\n",
       "      <td>670</td>\n",
       "      <td>530.0</td>\n",
       "      <td>3.0</td>\n",
       "      <td>1223</td>\n",
       "      <td>1064891236</td>\n",
       "      <td>975</td>\n",
       "    </tr>\n",
       "  </tbody>\n",
       "</table>\n",
       "<p>19962 rows × 6 columns</p>\n",
       "</div>"
      ],
      "text/plain": [
       "       userId       id  rating  movieId   timestamp  movieIndex\n",
       "0           0   9909.0     2.5       31  1260759144          30\n",
       "1           0    847.0     2.0     2193  1260759198        1739\n",
       "2           0     97.0     4.0     2105  1260759139        1661\n",
       "3           0  11216.0     4.0     1172  1260759205         927\n",
       "4           0   1103.0     2.0     1129  1260759185         903\n",
       "...       ...      ...     ...      ...         ...         ...\n",
       "19957     670  11310.0     2.5      432  1063503739         381\n",
       "19958     670    712.0     3.0      357  1063503998         322\n",
       "19959     670    630.0     4.0      919  1065149458         737\n",
       "19960     670    687.0     4.0       36  1065149314          34\n",
       "19961     670    530.0     3.0     1223  1064891236         975\n",
       "\n",
       "[19962 rows x 6 columns]"
      ]
     },
     "execution_count": 30,
     "metadata": {},
     "output_type": "execute_result"
    }
   ],
   "source": [
    "test"
   ]
  },
  {
   "cell_type": "code",
   "execution_count": 31,
   "metadata": {},
   "outputs": [],
   "source": [
    "np.save('tf_idf_pred_rating.npy', Yhat)"
   ]
  },
  {
   "cell_type": "code",
   "execution_count": 32,
   "metadata": {},
   "outputs": [],
   "source": [
    "predict_rating = []\n",
    "for n in range(n_users):\n",
    "    ids, scores_truth = get_items_rated_by_user(ratings_test, n)\n",
    "    for i in ids:\n",
    "        scores_pred = Yhat[i, n]\n",
    "        predict_rating.append(scores_pred)           \n",
    "        \n"
   ]
  },
  {
   "cell_type": "code",
   "execution_count": 36,
   "metadata": {},
   "outputs": [],
   "source": [
    "f = open('tf_idf_pred_rating.pckl', 'wb')\n",
    "pickle.dump(predict_rating, f)\n",
    "f.close()"
   ]
  },
  {
   "cell_type": "code",
   "execution_count": 33,
   "metadata": {},
   "outputs": [],
   "source": [
    "test['TF-IDF pred'] = predict_rating"
   ]
  },
  {
   "cell_type": "code",
   "execution_count": 34,
   "metadata": {},
   "outputs": [
    {
     "data": {
      "text/html": [
       "<div>\n",
       "<style scoped>\n",
       "    .dataframe tbody tr th:only-of-type {\n",
       "        vertical-align: middle;\n",
       "    }\n",
       "\n",
       "    .dataframe tbody tr th {\n",
       "        vertical-align: top;\n",
       "    }\n",
       "\n",
       "    .dataframe thead th {\n",
       "        text-align: right;\n",
       "    }\n",
       "</style>\n",
       "<table border=\"1\" class=\"dataframe\">\n",
       "  <thead>\n",
       "    <tr style=\"text-align: right;\">\n",
       "      <th></th>\n",
       "      <th>userId</th>\n",
       "      <th>id</th>\n",
       "      <th>rating</th>\n",
       "      <th>movieId</th>\n",
       "      <th>timestamp</th>\n",
       "      <th>movieIndex</th>\n",
       "      <th>TF-IDF pred</th>\n",
       "    </tr>\n",
       "  </thead>\n",
       "  <tbody>\n",
       "    <tr>\n",
       "      <th>0</th>\n",
       "      <td>0</td>\n",
       "      <td>9909.0</td>\n",
       "      <td>2.5</td>\n",
       "      <td>31</td>\n",
       "      <td>1260759144</td>\n",
       "      <td>30</td>\n",
       "      <td>2.426854</td>\n",
       "    </tr>\n",
       "    <tr>\n",
       "      <th>1</th>\n",
       "      <td>0</td>\n",
       "      <td>847.0</td>\n",
       "      <td>2.0</td>\n",
       "      <td>2193</td>\n",
       "      <td>1260759198</td>\n",
       "      <td>1739</td>\n",
       "      <td>2.423113</td>\n",
       "    </tr>\n",
       "    <tr>\n",
       "      <th>2</th>\n",
       "      <td>0</td>\n",
       "      <td>97.0</td>\n",
       "      <td>4.0</td>\n",
       "      <td>2105</td>\n",
       "      <td>1260759139</td>\n",
       "      <td>1661</td>\n",
       "      <td>2.419296</td>\n",
       "    </tr>\n",
       "    <tr>\n",
       "      <th>3</th>\n",
       "      <td>0</td>\n",
       "      <td>11216.0</td>\n",
       "      <td>4.0</td>\n",
       "      <td>1172</td>\n",
       "      <td>1260759205</td>\n",
       "      <td>927</td>\n",
       "      <td>2.431504</td>\n",
       "    </tr>\n",
       "    <tr>\n",
       "      <th>4</th>\n",
       "      <td>0</td>\n",
       "      <td>1103.0</td>\n",
       "      <td>2.0</td>\n",
       "      <td>1129</td>\n",
       "      <td>1260759185</td>\n",
       "      <td>903</td>\n",
       "      <td>2.421217</td>\n",
       "    </tr>\n",
       "    <tr>\n",
       "      <th>...</th>\n",
       "      <td>...</td>\n",
       "      <td>...</td>\n",
       "      <td>...</td>\n",
       "      <td>...</td>\n",
       "      <td>...</td>\n",
       "      <td>...</td>\n",
       "      <td>...</td>\n",
       "    </tr>\n",
       "    <tr>\n",
       "      <th>19957</th>\n",
       "      <td>670</td>\n",
       "      <td>11310.0</td>\n",
       "      <td>2.5</td>\n",
       "      <td>432</td>\n",
       "      <td>1063503739</td>\n",
       "      <td>381</td>\n",
       "      <td>3.872884</td>\n",
       "    </tr>\n",
       "    <tr>\n",
       "      <th>19958</th>\n",
       "      <td>670</td>\n",
       "      <td>712.0</td>\n",
       "      <td>3.0</td>\n",
       "      <td>357</td>\n",
       "      <td>1063503998</td>\n",
       "      <td>322</td>\n",
       "      <td>3.845205</td>\n",
       "    </tr>\n",
       "    <tr>\n",
       "      <th>19959</th>\n",
       "      <td>670</td>\n",
       "      <td>630.0</td>\n",
       "      <td>4.0</td>\n",
       "      <td>919</td>\n",
       "      <td>1065149458</td>\n",
       "      <td>737</td>\n",
       "      <td>3.941357</td>\n",
       "    </tr>\n",
       "    <tr>\n",
       "      <th>19960</th>\n",
       "      <td>670</td>\n",
       "      <td>687.0</td>\n",
       "      <td>4.0</td>\n",
       "      <td>36</td>\n",
       "      <td>1065149314</td>\n",
       "      <td>34</td>\n",
       "      <td>3.878385</td>\n",
       "    </tr>\n",
       "    <tr>\n",
       "      <th>19961</th>\n",
       "      <td>670</td>\n",
       "      <td>530.0</td>\n",
       "      <td>3.0</td>\n",
       "      <td>1223</td>\n",
       "      <td>1064891236</td>\n",
       "      <td>975</td>\n",
       "      <td>3.902813</td>\n",
       "    </tr>\n",
       "  </tbody>\n",
       "</table>\n",
       "<p>19962 rows × 7 columns</p>\n",
       "</div>"
      ],
      "text/plain": [
       "       userId       id  rating  movieId   timestamp  movieIndex  TF-IDF pred\n",
       "0           0   9909.0     2.5       31  1260759144          30     2.426854\n",
       "1           0    847.0     2.0     2193  1260759198        1739     2.423113\n",
       "2           0     97.0     4.0     2105  1260759139        1661     2.419296\n",
       "3           0  11216.0     4.0     1172  1260759205         927     2.431504\n",
       "4           0   1103.0     2.0     1129  1260759185         903     2.421217\n",
       "...       ...      ...     ...      ...         ...         ...          ...\n",
       "19957     670  11310.0     2.5      432  1063503739         381     3.872884\n",
       "19958     670    712.0     3.0      357  1063503998         322     3.845205\n",
       "19959     670    630.0     4.0      919  1065149458         737     3.941357\n",
       "19960     670    687.0     4.0       36  1065149314          34     3.878385\n",
       "19961     670    530.0     3.0     1223  1064891236         975     3.902813\n",
       "\n",
       "[19962 rows x 7 columns]"
      ]
     },
     "execution_count": 34,
     "metadata": {},
     "output_type": "execute_result"
    }
   ],
   "source": [
    "test"
   ]
  },
  {
   "cell_type": "code",
   "execution_count": 35,
   "metadata": {},
   "outputs": [
    {
     "data": {
      "text/plain": [
       "3.8728841163963232"
      ]
     },
     "execution_count": 35,
     "metadata": {},
     "output_type": "execute_result"
    }
   ],
   "source": [
    "Yhat[381,670]"
   ]
  },
  {
   "cell_type": "code",
   "execution_count": null,
   "metadata": {},
   "outputs": [],
   "source": []
  }
 ],
 "metadata": {
  "kernelspec": {
   "display_name": "Python 3",
   "language": "python",
   "name": "python3"
  },
  "language_info": {
   "codemirror_mode": {
    "name": "ipython",
    "version": 3
   },
   "file_extension": ".py",
   "mimetype": "text/x-python",
   "name": "python",
   "nbconvert_exporter": "python",
   "pygments_lexer": "ipython3",
   "version": "3.6.8"
  }
 },
 "nbformat": 4,
 "nbformat_minor": 2
}
